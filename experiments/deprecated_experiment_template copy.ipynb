{
 "cells": [
  {
   "attachments": {},
   "cell_type": "markdown",
   "metadata": {},
   "source": [
    "# Experimental Template\n",
    "The following notebook acts as a template for experiments. The one step not included is the data cleaning phase!\n",
    "<br />\n",
    "<br />\n",
    "I have put FIXME tags next to the areas that you will need to address.\n",
    "<br />\n",
    "<br />\n",
    "If you are curious to know more about how the code works, look at the `helper_functions.py` file."
   ]
  },
  {
   "attachments": {},
   "cell_type": "markdown",
   "metadata": {},
   "source": [
    "## Imports and Setup"
   ]
  },
  {
   "cell_type": "code",
   "execution_count": 1,
   "metadata": {},
   "outputs": [],
   "source": [
    "from helper_functions import pd, os, shutil\n",
    "from helper_functions import convert_samples_to_binary, get_column_data_types, print_library_versions, add_id_column"
   ]
  },
  {
   "cell_type": "code",
   "execution_count": 2,
   "metadata": {},
   "outputs": [
    {
     "name": "stdout",
     "output_type": "stream",
     "text": [
      "pandas version:           1.4.1\n",
      "matplotlib version:       3.5.1\n",
      "numpy version:            1.18.5\n",
      "bitstring version:        3.1.9\n",
      "joblib version:           1.1.0\n",
      "PIL version:              8.2.0\n"
     ]
    }
   ],
   "source": [
    "print_library_versions()"
   ]
  },
  {
   "attachments": {},
   "cell_type": "markdown",
   "metadata": {},
   "source": [
    "## Data Loading and Cleaning"
   ]
  },
  {
   "cell_type": "code",
   "execution_count": 3,
   "metadata": {},
   "outputs": [],
   "source": [
    "# FIXME - update the filename to point to your dataset\n",
    "filename = '/mnt/sda1/iris.csv'\n",
    "df = pd.read_csv(filename)"
   ]
  },
  {
   "cell_type": "code",
   "execution_count": 4,
   "metadata": {},
   "outputs": [
    {
     "data": {
      "text/html": [
       "<div>\n",
       "<style scoped>\n",
       "    .dataframe tbody tr th:only-of-type {\n",
       "        vertical-align: middle;\n",
       "    }\n",
       "\n",
       "    .dataframe tbody tr th {\n",
       "        vertical-align: top;\n",
       "    }\n",
       "\n",
       "    .dataframe thead th {\n",
       "        text-align: right;\n",
       "    }\n",
       "</style>\n",
       "<table border=\"1\" class=\"dataframe\">\n",
       "  <thead>\n",
       "    <tr style=\"text-align: right;\">\n",
       "      <th></th>\n",
       "      <th>Id</th>\n",
       "      <th>SepalLengthCm</th>\n",
       "      <th>SepalWidthCm</th>\n",
       "      <th>PetalLengthCm</th>\n",
       "      <th>PetalWidthCm</th>\n",
       "      <th>Species</th>\n",
       "    </tr>\n",
       "  </thead>\n",
       "  <tbody>\n",
       "    <tr>\n",
       "      <th>0</th>\n",
       "      <td>1</td>\n",
       "      <td>5.1</td>\n",
       "      <td>3.5</td>\n",
       "      <td>1.4</td>\n",
       "      <td>0.2</td>\n",
       "      <td>Iris-setosa</td>\n",
       "    </tr>\n",
       "    <tr>\n",
       "      <th>1</th>\n",
       "      <td>2</td>\n",
       "      <td>4.9</td>\n",
       "      <td>3.0</td>\n",
       "      <td>1.4</td>\n",
       "      <td>0.2</td>\n",
       "      <td>Iris-setosa</td>\n",
       "    </tr>\n",
       "    <tr>\n",
       "      <th>2</th>\n",
       "      <td>3</td>\n",
       "      <td>4.7</td>\n",
       "      <td>3.2</td>\n",
       "      <td>1.3</td>\n",
       "      <td>0.2</td>\n",
       "      <td>Iris-setosa</td>\n",
       "    </tr>\n",
       "    <tr>\n",
       "      <th>3</th>\n",
       "      <td>4</td>\n",
       "      <td>4.6</td>\n",
       "      <td>3.1</td>\n",
       "      <td>1.5</td>\n",
       "      <td>0.2</td>\n",
       "      <td>Iris-setosa</td>\n",
       "    </tr>\n",
       "    <tr>\n",
       "      <th>4</th>\n",
       "      <td>5</td>\n",
       "      <td>5.0</td>\n",
       "      <td>3.6</td>\n",
       "      <td>1.4</td>\n",
       "      <td>0.2</td>\n",
       "      <td>Iris-setosa</td>\n",
       "    </tr>\n",
       "  </tbody>\n",
       "</table>\n",
       "</div>"
      ],
      "text/plain": [
       "   Id  SepalLengthCm  SepalWidthCm  PetalLengthCm  PetalWidthCm      Species\n",
       "0   1            5.1           3.5            1.4           0.2  Iris-setosa\n",
       "1   2            4.9           3.0            1.4           0.2  Iris-setosa\n",
       "2   3            4.7           3.2            1.3           0.2  Iris-setosa\n",
       "3   4            4.6           3.1            1.5           0.2  Iris-setosa\n",
       "4   5            5.0           3.6            1.4           0.2  Iris-setosa"
      ]
     },
     "execution_count": 4,
     "metadata": {},
     "output_type": "execute_result"
    }
   ],
   "source": [
    "df.head()"
   ]
  },
  {
   "cell_type": "code",
   "execution_count": 5,
   "metadata": {},
   "outputs": [
    {
     "name": "stdout",
     "output_type": "stream",
     "text": [
      "<class 'pandas.core.frame.DataFrame'>\n",
      "RangeIndex: 150 entries, 0 to 149\n",
      "Data columns (total 6 columns):\n",
      " #   Column         Non-Null Count  Dtype  \n",
      "---  ------         --------------  -----  \n",
      " 0   Id             150 non-null    int64  \n",
      " 1   SepalLengthCm  150 non-null    float64\n",
      " 2   SepalWidthCm   150 non-null    float64\n",
      " 3   PetalLengthCm  150 non-null    float64\n",
      " 4   PetalWidthCm   150 non-null    float64\n",
      " 5   Species        150 non-null    object \n",
      "dtypes: float64(4), int64(1), object(1)\n",
      "memory usage: 7.2+ KB\n"
     ]
    }
   ],
   "source": [
    "df.info()"
   ]
  },
  {
   "attachments": {},
   "cell_type": "markdown",
   "metadata": {},
   "source": [
    "# NOTE:\n",
    "The following code segments are specific to my dataset. This is where you will need to perform your own data cleaning!!!\n",
    "<br />\n",
    "<br />\n",
    "This will be the most difficult/time intensive aspect."
   ]
  },
  {
   "cell_type": "code",
   "execution_count": 6,
   "metadata": {},
   "outputs": [
    {
     "data": {
      "text/html": [
       "<div>\n",
       "<style scoped>\n",
       "    .dataframe tbody tr th:only-of-type {\n",
       "        vertical-align: middle;\n",
       "    }\n",
       "\n",
       "    .dataframe tbody tr th {\n",
       "        vertical-align: top;\n",
       "    }\n",
       "\n",
       "    .dataframe thead th {\n",
       "        text-align: right;\n",
       "    }\n",
       "</style>\n",
       "<table border=\"1\" class=\"dataframe\">\n",
       "  <thead>\n",
       "    <tr style=\"text-align: right;\">\n",
       "      <th></th>\n",
       "      <th>Id</th>\n",
       "      <th>SepalLengthCm</th>\n",
       "      <th>SepalWidthCm</th>\n",
       "      <th>PetalLengthCm</th>\n",
       "      <th>PetalWidthCm</th>\n",
       "      <th>Species</th>\n",
       "    </tr>\n",
       "  </thead>\n",
       "  <tbody>\n",
       "    <tr>\n",
       "      <th>0</th>\n",
       "      <td>1-setosa</td>\n",
       "      <td>5.1</td>\n",
       "      <td>3.5</td>\n",
       "      <td>1.4</td>\n",
       "      <td>0.2</td>\n",
       "      <td>Iris-setosa</td>\n",
       "    </tr>\n",
       "    <tr>\n",
       "      <th>1</th>\n",
       "      <td>2-setosa</td>\n",
       "      <td>4.9</td>\n",
       "      <td>3.0</td>\n",
       "      <td>1.4</td>\n",
       "      <td>0.2</td>\n",
       "      <td>Iris-setosa</td>\n",
       "    </tr>\n",
       "    <tr>\n",
       "      <th>2</th>\n",
       "      <td>3-setosa</td>\n",
       "      <td>4.7</td>\n",
       "      <td>3.2</td>\n",
       "      <td>1.3</td>\n",
       "      <td>0.2</td>\n",
       "      <td>Iris-setosa</td>\n",
       "    </tr>\n",
       "    <tr>\n",
       "      <th>3</th>\n",
       "      <td>4-setosa</td>\n",
       "      <td>4.6</td>\n",
       "      <td>3.1</td>\n",
       "      <td>1.5</td>\n",
       "      <td>0.2</td>\n",
       "      <td>Iris-setosa</td>\n",
       "    </tr>\n",
       "    <tr>\n",
       "      <th>4</th>\n",
       "      <td>5-setosa</td>\n",
       "      <td>5.0</td>\n",
       "      <td>3.6</td>\n",
       "      <td>1.4</td>\n",
       "      <td>0.2</td>\n",
       "      <td>Iris-setosa</td>\n",
       "    </tr>\n",
       "    <tr>\n",
       "      <th>...</th>\n",
       "      <td>...</td>\n",
       "      <td>...</td>\n",
       "      <td>...</td>\n",
       "      <td>...</td>\n",
       "      <td>...</td>\n",
       "      <td>...</td>\n",
       "    </tr>\n",
       "    <tr>\n",
       "      <th>145</th>\n",
       "      <td>46-virginica</td>\n",
       "      <td>6.7</td>\n",
       "      <td>3.0</td>\n",
       "      <td>5.2</td>\n",
       "      <td>2.3</td>\n",
       "      <td>Iris-virginica</td>\n",
       "    </tr>\n",
       "    <tr>\n",
       "      <th>146</th>\n",
       "      <td>47-virginica</td>\n",
       "      <td>6.3</td>\n",
       "      <td>2.5</td>\n",
       "      <td>5.0</td>\n",
       "      <td>1.9</td>\n",
       "      <td>Iris-virginica</td>\n",
       "    </tr>\n",
       "    <tr>\n",
       "      <th>147</th>\n",
       "      <td>48-virginica</td>\n",
       "      <td>6.5</td>\n",
       "      <td>3.0</td>\n",
       "      <td>5.2</td>\n",
       "      <td>2.0</td>\n",
       "      <td>Iris-virginica</td>\n",
       "    </tr>\n",
       "    <tr>\n",
       "      <th>148</th>\n",
       "      <td>49-virginica</td>\n",
       "      <td>6.2</td>\n",
       "      <td>3.4</td>\n",
       "      <td>5.4</td>\n",
       "      <td>2.3</td>\n",
       "      <td>Iris-virginica</td>\n",
       "    </tr>\n",
       "    <tr>\n",
       "      <th>149</th>\n",
       "      <td>50-virginica</td>\n",
       "      <td>5.9</td>\n",
       "      <td>3.0</td>\n",
       "      <td>5.1</td>\n",
       "      <td>1.8</td>\n",
       "      <td>Iris-virginica</td>\n",
       "    </tr>\n",
       "  </tbody>\n",
       "</table>\n",
       "<p>150 rows × 6 columns</p>\n",
       "</div>"
      ],
      "text/plain": [
       "               Id  SepalLengthCm  SepalWidthCm  PetalLengthCm  PetalWidthCm  \\\n",
       "0        1-setosa            5.1           3.5            1.4           0.2   \n",
       "1        2-setosa            4.9           3.0            1.4           0.2   \n",
       "2        3-setosa            4.7           3.2            1.3           0.2   \n",
       "3        4-setosa            4.6           3.1            1.5           0.2   \n",
       "4        5-setosa            5.0           3.6            1.4           0.2   \n",
       "..            ...            ...           ...            ...           ...   \n",
       "145  46-virginica            6.7           3.0            5.2           2.3   \n",
       "146  47-virginica            6.3           2.5            5.0           1.9   \n",
       "147  48-virginica            6.5           3.0            5.2           2.0   \n",
       "148  49-virginica            6.2           3.4            5.4           2.3   \n",
       "149  50-virginica            5.9           3.0            5.1           1.8   \n",
       "\n",
       "            Species  \n",
       "0       Iris-setosa  \n",
       "1       Iris-setosa  \n",
       "2       Iris-setosa  \n",
       "3       Iris-setosa  \n",
       "4       Iris-setosa  \n",
       "..              ...  \n",
       "145  Iris-virginica  \n",
       "146  Iris-virginica  \n",
       "147  Iris-virginica  \n",
       "148  Iris-virginica  \n",
       "149  Iris-virginica  \n",
       "\n",
       "[150 rows x 6 columns]"
      ]
     },
     "execution_count": 6,
     "metadata": {},
     "output_type": "execute_result"
    }
   ],
   "source": [
    "# FIXME - change the value 'species' to match the 'y' value of your dataset\n",
    "# This function will give your dataframe an 'id' column which will be used to identify the samples in the dataset\n",
    "df = add_id_column(df, 'Species')\n",
    "df"
   ]
  },
  {
   "cell_type": "code",
   "execution_count": 7,
   "metadata": {},
   "outputs": [],
   "source": [
    "# FIXME - Perform any data cleaning or preprocessing steps here"
   ]
  },
  {
   "cell_type": "code",
   "execution_count": 8,
   "metadata": {},
   "outputs": [
    {
     "name": "stdout",
     "output_type": "stream",
     "text": [
      "x (150, 4)\n",
      "Y (150,)\n",
      "This value should be True: True\n"
     ]
    }
   ],
   "source": [
    "# FIXME - get the correct values in x and Y for your dataset\n",
    "x = df.drop(['Species', 'Id'], axis=1)\n",
    "Y = df['Species']\n",
    "print(f\"x {x.shape}\")\n",
    "print(f\"Y {Y.shape}\")\n",
    "print(f\"This value should be True: {x.shape[0] == Y.shape[0]}\")"
   ]
  },
  {
   "attachments": {},
   "cell_type": "markdown",
   "metadata": {},
   "source": [
    "## Image Generation"
   ]
  },
  {
   "cell_type": "code",
   "execution_count": 9,
   "metadata": {},
   "outputs": [
    {
     "name": "stdout",
     "output_type": "stream",
     "text": [
      "[0, 0, 0, 0]\n"
     ]
    }
   ],
   "source": [
    "# FIXME - update the image directory to point to a directory where you want the images to be saved. Create a folder there.\n",
    "# Change any other constants you want to change\n",
    "image_directory = \"/mnt/sda1/image-results-iris\"\n",
    "feature_types = get_column_data_types(x)\n",
    "precision = 64\n",
    "one = 128\n",
    "zero = 0\n",
    "n_jobs = -1\n",
    "# For feature_types, 0 = float, 1 = int, 2 = bool\n",
    "print(feature_types)"
   ]
  },
  {
   "cell_type": "code",
   "execution_count": 10,
   "metadata": {},
   "outputs": [],
   "source": [
    "convert_samples_to_binary(x, df[\"Id\"], image_directory, precision, one, zero, n_jobs, feature_types)"
   ]
  },
  {
   "attachments": {},
   "cell_type": "markdown",
   "metadata": {},
   "source": [
    "## Place Folders into the Correct Categories"
   ]
  },
  {
   "cell_type": "code",
   "execution_count": 11,
   "metadata": {},
   "outputs": [],
   "source": [
    "dirs = Y.unique().tolist()\n",
    "if not os.path.exists(image_directory + '/data'):\n",
    "    os.mkdir(image_directory + '/data')\n",
    "new_dir = image_directory + '/data/'\n",
    "if not os.path.exists(new_dir+'Train/'):\n",
    "    os.mkdir(new_dir+'Train/')\n",
    "if not os.path.exists(new_dir+'Validation/'):\n",
    "    os.mkdir(new_dir+'Validation/')\n",
    "for i in dirs:\n",
    "    i = str(i).split('-')[1]\n",
    "    if not os.path.exists(new_dir+'Train/'+i):\n",
    "        os.mkdir(new_dir+'Train/'+i)\n",
    "    if not os.path.exists(new_dir+'Validation/'+i):\n",
    "        os.mkdir(new_dir+'Validation/'+i)"
   ]
  },
  {
   "attachments": {},
   "cell_type": "markdown",
   "metadata": {},
   "source": [
    "### Place pictures into the correct folder"
   ]
  },
  {
   "cell_type": "code",
   "execution_count": 12,
   "metadata": {},
   "outputs": [
    {
     "name": "stdout",
     "output_type": "stream",
     "text": [
      "150\n",
      "{'setosa': 50, 'versicolor': 50, 'virginica': 50}\n"
     ]
    }
   ],
   "source": [
    "total_images = 0\n",
    "type_counts = {value.split(\"-\")[1]: 0 for value in dirs}\n",
    "for file in os.listdir(image_directory):\n",
    "    try:\n",
    "        dir = file.split(\"-\")[1].split(\".\")[0]\n",
    "    except:\n",
    "        continue\n",
    "    type_counts[dir]+=1\n",
    "    shutil.move(f\"{image_directory}/{file}\", f\"{new_dir}Train/{dir}/{file}\")\n",
    "    total_images += 1\n",
    "print(total_images)\n",
    "print(type_counts)"
   ]
  },
  {
   "attachments": {},
   "cell_type": "markdown",
   "metadata": {},
   "source": [
    "### Place 20% of the data into the test folder"
   ]
  },
  {
   "cell_type": "code",
   "execution_count": 13,
   "metadata": {},
   "outputs": [],
   "source": [
    "import random\n",
    "for dir in os.listdir(new_dir+\"Train/\"):\n",
    "    images_to_move = int(type_counts[dir] * 0.2)\n",
    "    # select images_to_move random images from the directory\n",
    "    for _ in range(images_to_move):\n",
    "        image = random.choice(os.listdir(f\"{new_dir}Train/{dir}\"))\n",
    "        shutil.move(f\"{new_dir}Train/{dir}/{image}\", f\"{new_dir}Validation/{dir}/{image}\")"
   ]
  },
  {
   "attachments": {},
   "cell_type": "markdown",
   "metadata": {},
   "source": [
    "## Train ResNet50"
   ]
  },
  {
   "attachments": {},
   "cell_type": "markdown",
   "metadata": {},
   "source": [
    "### Once experiments are running, view the live updates on TensorBoard\n",
    "Run the command `tensorboard --logdir=[your log directory]` in the terminal. \n",
    "<br />\n",
    "<br />\n",
    "Then, open a browser and navigate to `localhost:6006`.\n",
    "<br />\n",
    "<br />\n",
    "![TensorBoard](./tensorboard.png)"
   ]
  },
  {
   "cell_type": "code",
   "execution_count": 1,
   "metadata": {},
   "outputs": [
    {
     "name": "stderr",
     "output_type": "stream",
     "text": [
      "2023-03-02 20:17:00.507577: I tensorflow/stream_executor/platform/default/dso_loader.cc:49] Successfully opened dynamic library libcudart.so.10.1\n"
     ]
    }
   ],
   "source": [
    "from resnet import print_dl_versions, train_resnet_model_k_fold, evaluate_on_test_data"
   ]
  },
  {
   "cell_type": "code",
   "execution_count": 2,
   "metadata": {},
   "outputs": [],
   "source": [
    "# FIXME - update the values below to match your dataset\n",
    "img_size = 64\n",
    "target_size = (img_size,img_size)\n",
    "num_classes = 3\n",
    "batch_size = 32\n",
    "num_folds = 3\n",
    "number_of_epochs = 50"
   ]
  },
  {
   "cell_type": "code",
   "execution_count": 4,
   "metadata": {},
   "outputs": [
    {
     "name": "stderr",
     "output_type": "stream",
     "text": [
      "2023-03-02 20:17:16.808451: I tensorflow/compiler/jit/xla_cpu_device.cc:41] Not creating XLA devices, tf_xla_enable_xla_devices not set\n",
      "2023-03-02 20:17:16.809210: I tensorflow/stream_executor/platform/default/dso_loader.cc:49] Successfully opened dynamic library libcuda.so.1\n",
      "2023-03-02 20:17:16.843275: I tensorflow/stream_executor/cuda/cuda_gpu_executor.cc:941] successful NUMA node read from SysFS had negative value (-1), but there must be at least one NUMA node, so returning NUMA node zero\n",
      "2023-03-02 20:17:16.844050: I tensorflow/core/common_runtime/gpu/gpu_device.cc:1720] Found device 0 with properties: \n",
      "pciBusID: 0000:01:00.0 name: NVIDIA GeForce GTX 1080 computeCapability: 6.1\n",
      "coreClock: 1.7715GHz coreCount: 20 deviceMemorySize: 7.92GiB deviceMemoryBandwidth: 298.32GiB/s\n",
      "2023-03-02 20:17:16.844076: I tensorflow/stream_executor/platform/default/dso_loader.cc:49] Successfully opened dynamic library libcudart.so.10.1\n",
      "2023-03-02 20:17:16.845430: I tensorflow/stream_executor/platform/default/dso_loader.cc:49] Successfully opened dynamic library libcublas.so.10\n",
      "2023-03-02 20:17:16.845460: I tensorflow/stream_executor/platform/default/dso_loader.cc:49] Successfully opened dynamic library libcublasLt.so.10\n",
      "2023-03-02 20:17:16.846644: I tensorflow/stream_executor/platform/default/dso_loader.cc:49] Successfully opened dynamic library libcufft.so.10\n",
      "2023-03-02 20:17:16.846858: I tensorflow/stream_executor/platform/default/dso_loader.cc:49] Successfully opened dynamic library libcurand.so.10\n",
      "2023-03-02 20:17:16.848398: I tensorflow/stream_executor/platform/default/dso_loader.cc:49] Successfully opened dynamic library libcusolver.so.10\n",
      "2023-03-02 20:17:16.849166: I tensorflow/stream_executor/platform/default/dso_loader.cc:49] Successfully opened dynamic library libcusparse.so.10\n",
      "2023-03-02 20:17:16.852017: I tensorflow/stream_executor/platform/default/dso_loader.cc:49] Successfully opened dynamic library libcudnn.so.7\n",
      "2023-03-02 20:17:16.852162: I tensorflow/stream_executor/cuda/cuda_gpu_executor.cc:941] successful NUMA node read from SysFS had negative value (-1), but there must be at least one NUMA node, so returning NUMA node zero\n",
      "2023-03-02 20:17:16.852520: I tensorflow/stream_executor/cuda/cuda_gpu_executor.cc:941] successful NUMA node read from SysFS had negative value (-1), but there must be at least one NUMA node, so returning NUMA node zero\n",
      "2023-03-02 20:17:16.852771: I tensorflow/core/common_runtime/gpu/gpu_device.cc:1862] Adding visible gpu devices: 0\n",
      "2023-03-02 20:17:16.853153: I tensorflow/core/platform/cpu_feature_guard.cc:142] This TensorFlow binary is optimized with oneAPI Deep Neural Network Library (oneDNN) to use the following CPU instructions in performance-critical operations:  SSE4.1 SSE4.2 AVX AVX2 FMA\n",
      "To enable them in other operations, rebuild TensorFlow with the appropriate compiler flags.\n",
      "2023-03-02 20:17:16.853539: I tensorflow/compiler/jit/xla_gpu_device.cc:99] Not creating XLA devices, tf_xla_enable_xla_devices not set\n",
      "2023-03-02 20:17:16.853628: I tensorflow/stream_executor/cuda/cuda_gpu_executor.cc:941] successful NUMA node read from SysFS had negative value (-1), but there must be at least one NUMA node, so returning NUMA node zero\n",
      "2023-03-02 20:17:16.853908: I tensorflow/core/common_runtime/gpu/gpu_device.cc:1720] Found device 0 with properties: \n",
      "pciBusID: 0000:01:00.0 name: NVIDIA GeForce GTX 1080 computeCapability: 6.1\n",
      "coreClock: 1.7715GHz coreCount: 20 deviceMemorySize: 7.92GiB deviceMemoryBandwidth: 298.32GiB/s\n",
      "2023-03-02 20:17:16.853938: I tensorflow/stream_executor/platform/default/dso_loader.cc:49] Successfully opened dynamic library libcudart.so.10.1\n",
      "2023-03-02 20:17:16.853963: I tensorflow/stream_executor/platform/default/dso_loader.cc:49] Successfully opened dynamic library libcublas.so.10\n",
      "2023-03-02 20:17:16.853979: I tensorflow/stream_executor/platform/default/dso_loader.cc:49] Successfully opened dynamic library libcublasLt.so.10\n",
      "2023-03-02 20:17:16.853993: I tensorflow/stream_executor/platform/default/dso_loader.cc:49] Successfully opened dynamic library libcufft.so.10\n",
      "2023-03-02 20:17:16.854019: I tensorflow/stream_executor/platform/default/dso_loader.cc:49] Successfully opened dynamic library libcurand.so.10\n",
      "2023-03-02 20:17:16.854032: I tensorflow/stream_executor/platform/default/dso_loader.cc:49] Successfully opened dynamic library libcusolver.so.10\n",
      "2023-03-02 20:17:16.854044: I tensorflow/stream_executor/platform/default/dso_loader.cc:49] Successfully opened dynamic library libcusparse.so.10\n",
      "2023-03-02 20:17:16.854056: I tensorflow/stream_executor/platform/default/dso_loader.cc:49] Successfully opened dynamic library libcudnn.so.7\n",
      "2023-03-02 20:17:16.854108: I tensorflow/stream_executor/cuda/cuda_gpu_executor.cc:941] successful NUMA node read from SysFS had negative value (-1), but there must be at least one NUMA node, so returning NUMA node zero\n",
      "2023-03-02 20:17:16.854399: I tensorflow/stream_executor/cuda/cuda_gpu_executor.cc:941] successful NUMA node read from SysFS had negative value (-1), but there must be at least one NUMA node, so returning NUMA node zero\n",
      "2023-03-02 20:17:16.855667: I tensorflow/core/common_runtime/gpu/gpu_device.cc:1862] Adding visible gpu devices: 0\n",
      "2023-03-02 20:17:16.855694: I tensorflow/stream_executor/platform/default/dso_loader.cc:49] Successfully opened dynamic library libcudart.so.10.1\n",
      "2023-03-02 20:17:17.264174: I tensorflow/core/common_runtime/gpu/gpu_device.cc:1261] Device interconnect StreamExecutor with strength 1 edge matrix:\n",
      "2023-03-02 20:17:17.264210: I tensorflow/core/common_runtime/gpu/gpu_device.cc:1267]      0 \n",
      "2023-03-02 20:17:17.264219: I tensorflow/core/common_runtime/gpu/gpu_device.cc:1280] 0:   N \n",
      "2023-03-02 20:17:17.264418: I tensorflow/stream_executor/cuda/cuda_gpu_executor.cc:941] successful NUMA node read from SysFS had negative value (-1), but there must be at least one NUMA node, so returning NUMA node zero\n",
      "2023-03-02 20:17:17.264771: I tensorflow/stream_executor/cuda/cuda_gpu_executor.cc:941] successful NUMA node read from SysFS had negative value (-1), but there must be at least one NUMA node, so returning NUMA node zero\n",
      "2023-03-02 20:17:17.265049: I tensorflow/stream_executor/cuda/cuda_gpu_executor.cc:941] successful NUMA node read from SysFS had negative value (-1), but there must be at least one NUMA node, so returning NUMA node zero\n",
      "2023-03-02 20:17:17.265291: I tensorflow/core/common_runtime/gpu/gpu_device.cc:1406] Created TensorFlow device (/job:localhost/replica:0/task:0/device:GPU:0 with 6721 MB memory) -> physical GPU (device: 0, name: NVIDIA GeForce GTX 1080, pci bus id: 0000:01:00.0, compute capability: 6.1)\n"
     ]
    },
    {
     "name": "stdout",
     "output_type": "stream",
     "text": [
      "Fold:  0\n",
      "Found 96 images belonging to 3 classes.\n",
      "Found 24 images belonging to 3 classes.\n"
     ]
    },
    {
     "name": "stderr",
     "output_type": "stream",
     "text": [
      "2023-03-02 20:17:18.238329: I tensorflow/core/profiler/lib/profiler_session.cc:136] Profiler session initializing.\n",
      "2023-03-02 20:17:18.238352: I tensorflow/core/profiler/lib/profiler_session.cc:155] Profiler session started.\n",
      "2023-03-02 20:17:18.238371: I tensorflow/core/profiler/internal/gpu/cupti_tracer.cc:1365] Profiler found 1 GPUs\n",
      "2023-03-02 20:17:18.238918: I tensorflow/stream_executor/platform/default/dso_loader.cc:49] Successfully opened dynamic library libcupti.so.10.1\n",
      "2023-03-02 20:17:18.308612: I tensorflow/core/profiler/lib/profiler_session.cc:172] Profiler session tear down.\n",
      "2023-03-02 20:17:18.308701: I tensorflow/core/profiler/internal/gpu/cupti_tracer.cc:1487] CUPTI activity buffer flushed\n",
      "2023-03-02 20:17:18.457576: I tensorflow/compiler/mlir/mlir_graph_optimization_pass.cc:116] None of the MLIR optimization passes are enabled (registered 2)\n",
      "2023-03-02 20:17:18.474127: I tensorflow/core/platform/profile_utils/cpu_utils.cc:112] CPU Frequency: 4200000000 Hz\n"
     ]
    },
    {
     "name": "stdout",
     "output_type": "stream",
     "text": [
      "Epoch 1/50\n"
     ]
    },
    {
     "name": "stderr",
     "output_type": "stream",
     "text": [
      "2023-03-02 20:17:22.473107: I tensorflow/stream_executor/platform/default/dso_loader.cc:49] Successfully opened dynamic library libcublas.so.10\n",
      "2023-03-02 20:17:22.616649: I tensorflow/stream_executor/platform/default/dso_loader.cc:49] Successfully opened dynamic library libcudnn.so.7\n",
      "2023-03-02 20:17:23.218283: W tensorflow/stream_executor/gpu/asm_compiler.cc:63] Running ptxas --version returned 256\n",
      "2023-03-02 20:17:23.274308: W tensorflow/stream_executor/gpu/redzone_allocator.cc:314] Internal: ptxas exited with non-zero error code 256, output: \n",
      "Relying on driver to perform ptx compilation. \n",
      "Modify $PATH to customize ptxas location.\n",
      "This message will be only logged once.\n"
     ]
    },
    {
     "name": "stdout",
     "output_type": "stream",
     "text": [
      "2/3 [===================>..........] - ETA: 0s - loss: 1.2711 - acc: 0.3281 - f1_m: 0.3186 - precision_m: 0.4051 - recall_m: 0.2656 - auc: 0.5646 - false_negatives: 35.0000 - false_positives: 20.0000 - true_negatives: 76.0000 - true_positives: 13.0000 - mean_absolute_error: 0.4241 - mean_squared_error: 0.2547 "
     ]
    },
    {
     "name": "stderr",
     "output_type": "stream",
     "text": [
      "2023-03-02 20:18:02.821074: I tensorflow/core/profiler/lib/profiler_session.cc:136] Profiler session initializing.\n",
      "2023-03-02 20:18:02.821111: I tensorflow/core/profiler/lib/profiler_session.cc:155] Profiler session started.\n",
      "2023-03-02 20:18:02.880520: I tensorflow/core/profiler/lib/profiler_session.cc:71] Profiler session collecting data.\n"
     ]
    },
    {
     "name": "stdout",
     "output_type": "stream",
     "text": [
      "3/3 [==============================] - ETA: 0s - loss: 1.3063 - acc: 0.3264 - f1_m: 0.3176 - precision_m: 0.3922 - recall_m: 0.2708 - auc: 0.5650 - false_negatives: 46.3333 - false_positives: 29.3333 - true_negatives: 98.6667 - true_positives: 17.6667 - mean_absolute_error: 0.4236 - mean_squared_error: 0.2606"
     ]
    },
    {
     "name": "stderr",
     "output_type": "stream",
     "text": [
      "2023-03-02 20:18:02.882052: I tensorflow/core/profiler/internal/gpu/cupti_tracer.cc:1487] CUPTI activity buffer flushed\n",
      "2023-03-02 20:18:02.889705: I tensorflow/core/profiler/internal/gpu/cupti_collector.cc:228]  GpuTracer has collected 1740 callback api events and 1688 activity events. \n",
      "2023-03-02 20:18:02.919719: I tensorflow/core/profiler/lib/profiler_session.cc:172] Profiler session tear down.\n",
      "2023-03-02 20:18:02.949296: I tensorflow/core/profiler/rpc/client/save_profile.cc:137] Creating directory: /mnt/sda1/image-results-iris/results/tb_logs/train/plugins/profile/2023_03_02_20_18_02\n",
      "2023-03-02 20:18:02.971672: I tensorflow/core/profiler/rpc/client/save_profile.cc:143] Dumped gzipped tool data for trace.json.gz to /mnt/sda1/image-results-iris/results/tb_logs/train/plugins/profile/2023_03_02_20_18_02/drake-pc.trace.json.gz\n",
      "2023-03-02 20:18:03.022471: I tensorflow/core/profiler/rpc/client/save_profile.cc:137] Creating directory: /mnt/sda1/image-results-iris/results/tb_logs/train/plugins/profile/2023_03_02_20_18_02\n",
      "2023-03-02 20:18:03.027350: I tensorflow/core/profiler/rpc/client/save_profile.cc:143] Dumped gzipped tool data for memory_profile.json.gz to /mnt/sda1/image-results-iris/results/tb_logs/train/plugins/profile/2023_03_02_20_18_02/drake-pc.memory_profile.json.gz\n",
      "2023-03-02 20:18:03.029884: I tensorflow/core/profiler/rpc/client/capture_profile.cc:251] Creating directory: /mnt/sda1/image-results-iris/results/tb_logs/train/plugins/profile/2023_03_02_20_18_02Dumped tool data for xplane.pb to /mnt/sda1/image-results-iris/results/tb_logs/train/plugins/profile/2023_03_02_20_18_02/drake-pc.xplane.pb\n",
      "Dumped tool data for overview_page.pb to /mnt/sda1/image-results-iris/results/tb_logs/train/plugins/profile/2023_03_02_20_18_02/drake-pc.overview_page.pb\n",
      "Dumped tool data for input_pipeline.pb to /mnt/sda1/image-results-iris/results/tb_logs/train/plugins/profile/2023_03_02_20_18_02/drake-pc.input_pipeline.pb\n",
      "Dumped tool data for tensorflow_stats.pb to /mnt/sda1/image-results-iris/results/tb_logs/train/plugins/profile/2023_03_02_20_18_02/drake-pc.tensorflow_stats.pb\n",
      "Dumped tool data for kernel_stats.pb to /mnt/sda1/image-results-iris/results/tb_logs/train/plugins/profile/2023_03_02_20_18_02/drake-pc.kernel_stats.pb\n",
      "\n"
     ]
    },
    {
     "name": "stdout",
     "output_type": "stream",
     "text": [
      "3/3 [==============================] - 62s 9s/step - loss: 1.3239 - acc: 0.3255 - f1_m: 0.3172 - precision_m: 0.3858 - recall_m: 0.2734 - auc: 0.5652 - false_negatives: 52.0000 - false_positives: 34.0000 - true_negatives: 110.0000 - true_positives: 20.0000 - mean_absolute_error: 0.4234 - mean_squared_error: 0.2635 - val_loss: 6.3496 - val_acc: 0.3333 - val_f1_m: 0.3333 - val_precision_m: 0.3333 - val_recall_m: 0.3333 - val_auc: 0.5243 - val_false_negatives: 16.0000 - val_false_positives: 16.0000 - val_true_negatives: 32.0000 - val_true_positives: 8.0000 - val_mean_absolute_error: 0.4327 - val_mean_squared_error: 0.3879\n",
      "\n",
      "Epoch 00001: val_acc improved from -inf to 0.33333, saving model to /mnt/sda1/image-results-iris/results/fold0-resnet50v2-saved-model-01-val_acc-0.33.hdf5\n",
      "Epoch 2/50\n",
      "3/3 [==============================] - 0s 86ms/step - loss: 0.6147 - acc: 0.7461 - f1_m: 0.7350 - precision_m: 0.7730 - recall_m: 0.7005 - auc: 0.9050 - false_negatives: 22.0000 - false_positives: 15.2500 - true_negatives: 128.7500 - true_positives: 50.0000 - mean_absolute_error: 0.2164 - mean_squared_error: 0.1173 - val_loss: 3.5498 - val_acc: 0.2917 - val_f1_m: 0.2917 - val_precision_m: 0.2917 - val_recall_m: 0.2917 - val_auc: 0.5534 - val_false_negatives: 17.0000 - val_false_positives: 17.0000 - val_true_negatives: 31.0000 - val_true_positives: 7.0000 - val_mean_absolute_error: 0.4582 - val_mean_squared_error: 0.4072\n",
      "\n",
      "Epoch 00002: val_acc did not improve from 0.33333\n",
      "Epoch 3/50\n",
      "3/3 [==============================] - 0s 83ms/step - loss: 0.4620 - acc: 0.8242 - f1_m: 0.8024 - precision_m: 0.8177 - recall_m: 0.7878 - auc: 0.9490 - false_negatives: 16.0000 - false_positives: 13.2500 - true_negatives: 130.7500 - true_positives: 56.0000 - mean_absolute_error: 0.1384 - mean_squared_error: 0.0853 - val_loss: 1.6361 - val_acc: 0.5417 - val_f1_m: 0.5417 - val_precision_m: 0.5417 - val_recall_m: 0.5417 - val_auc: 0.7973 - val_false_negatives: 11.0000 - val_false_positives: 11.0000 - val_true_negatives: 37.0000 - val_true_positives: 13.0000 - val_mean_absolute_error: 0.2876 - val_mean_squared_error: 0.2412\n",
      "\n",
      "Epoch 00003: val_acc improved from 0.33333 to 0.54167, saving model to /mnt/sda1/image-results-iris/results/fold0-resnet50v2-saved-model-03-val_acc-0.54.hdf5\n",
      "Epoch 4/50\n",
      "3/3 [==============================] - 0s 79ms/step - loss: 0.2893 - acc: 0.9583 - f1_m: 0.9507 - precision_m: 0.9575 - recall_m: 0.9440 - auc: 0.9825 - false_negatives: 4.5000 - false_positives: 3.2500 - true_negatives: 140.7500 - true_positives: 67.5000 - mean_absolute_error: 0.0706 - mean_squared_error: 0.0371 - val_loss: 2.0559 - val_acc: 0.7083 - val_f1_m: 0.7234 - val_precision_m: 0.7391 - val_recall_m: 0.7083 - val_auc: 0.7943 - val_false_negatives: 7.0000 - val_false_positives: 6.0000 - val_true_negatives: 42.0000 - val_true_positives: 17.0000 - val_mean_absolute_error: 0.2234 - val_mean_squared_error: 0.1912\n",
      "\n",
      "Epoch 00004: val_acc improved from 0.54167 to 0.70833, saving model to /mnt/sda1/image-results-iris/results/fold0-resnet50v2-saved-model-04-val_acc-0.71.hdf5\n",
      "Epoch 5/50\n",
      "3/3 [==============================] - 0s 81ms/step - loss: 0.1582 - acc: 0.9596 - f1_m: 0.9596 - precision_m: 0.9596 - recall_m: 0.9596 - auc: 0.9884 - false_negatives: 3.0000 - false_positives: 3.0000 - true_negatives: 141.0000 - true_positives: 69.0000 - mean_absolute_error: 0.0419 - mean_squared_error: 0.0228 - val_loss: 2.0079 - val_acc: 0.6250 - val_f1_m: 0.5957 - val_precision_m: 0.6087 - val_recall_m: 0.5833 - val_auc: 0.7860 - val_false_negatives: 10.0000 - val_false_positives: 9.0000 - val_true_negatives: 39.0000 - val_true_positives: 14.0000 - val_mean_absolute_error: 0.2574 - val_mean_squared_error: 0.2116\n",
      "\n",
      "Epoch 00005: val_acc did not improve from 0.70833\n",
      "Epoch 6/50\n",
      "3/3 [==============================] - 0s 78ms/step - loss: 0.2692 - acc: 0.9362 - f1_m: 0.9362 - precision_m: 0.9362 - recall_m: 0.9362 - auc: 0.9758 - false_negatives: 4.7500 - false_positives: 4.7500 - true_negatives: 139.2500 - true_positives: 67.2500 - mean_absolute_error: 0.0625 - mean_squared_error: 0.0374 - val_loss: 2.6208 - val_acc: 0.4583 - val_f1_m: 0.4583 - val_precision_m: 0.4583 - val_recall_m: 0.4583 - val_auc: 0.7092 - val_false_negatives: 13.0000 - val_false_positives: 13.0000 - val_true_negatives: 35.0000 - val_true_positives: 11.0000 - val_mean_absolute_error: 0.3381 - val_mean_squared_error: 0.2994\n",
      "\n",
      "Epoch 00006: val_acc did not improve from 0.70833\n",
      "Epoch 7/50\n",
      "3/3 [==============================] - 0s 80ms/step - loss: 0.1027 - acc: 0.9518 - f1_m: 0.9518 - precision_m: 0.9518 - recall_m: 0.9518 - auc: 0.9979 - false_negatives: 3.2500 - false_positives: 3.2500 - true_negatives: 140.7500 - true_positives: 68.7500 - mean_absolute_error: 0.0418 - mean_squared_error: 0.0216 - val_loss: 5.3739 - val_acc: 0.3750 - val_f1_m: 0.3750 - val_precision_m: 0.3750 - val_recall_m: 0.3750 - val_auc: 0.5747 - val_false_negatives: 15.0000 - val_false_positives: 15.0000 - val_true_negatives: 33.0000 - val_true_positives: 9.0000 - val_mean_absolute_error: 0.4151 - val_mean_squared_error: 0.3951\n",
      "\n",
      "Epoch 00007: val_acc did not improve from 0.70833\n",
      "Epoch 8/50\n",
      "3/3 [==============================] - 0s 76ms/step - loss: 0.1273 - acc: 0.9505 - f1_m: 0.9505 - precision_m: 0.9505 - recall_m: 0.9505 - auc: 0.9954 - false_negatives: 3.5000 - false_positives: 3.5000 - true_negatives: 140.5000 - true_positives: 68.5000 - mean_absolute_error: 0.0496 - mean_squared_error: 0.0233 - val_loss: 7.4810 - val_acc: 0.3750 - val_f1_m: 0.3750 - val_precision_m: 0.3750 - val_recall_m: 0.3750 - val_auc: 0.5156 - val_false_negatives: 15.0000 - val_false_positives: 15.0000 - val_true_negatives: 33.0000 - val_true_positives: 9.0000 - val_mean_absolute_error: 0.4167 - val_mean_squared_error: 0.3965\n",
      "\n",
      "Epoch 00008: val_acc did not improve from 0.70833\n",
      "Epoch 9/50\n",
      "3/3 [==============================] - 0s 74ms/step - loss: 0.0506 - acc: 0.9779 - f1_m: 0.9779 - precision_m: 0.9779 - recall_m: 0.9779 - auc: 0.9995 - false_negatives: 1.5000 - false_positives: 1.5000 - true_negatives: 142.5000 - true_positives: 70.5000 - mean_absolute_error: 0.0227 - mean_squared_error: 0.0095 - val_loss: 6.3240 - val_acc: 0.3750 - val_f1_m: 0.3750 - val_precision_m: 0.3750 - val_recall_m: 0.3750 - val_auc: 0.5252 - val_false_negatives: 15.0000 - val_false_positives: 15.0000 - val_true_negatives: 33.0000 - val_true_positives: 9.0000 - val_mean_absolute_error: 0.4163 - val_mean_squared_error: 0.3931\n",
      "\n",
      "Epoch 00009: val_acc did not improve from 0.70833\n",
      "Epoch 10/50\n",
      "3/3 [==============================] - 0s 76ms/step - loss: 0.1170 - acc: 0.9609 - f1_m: 0.9609 - precision_m: 0.9609 - recall_m: 0.9609 - auc: 0.9958 - false_negatives: 2.5000 - false_positives: 2.5000 - true_negatives: 141.5000 - true_positives: 69.5000 - mean_absolute_error: 0.0363 - mean_squared_error: 0.0214 - val_loss: 5.7957 - val_acc: 0.3750 - val_f1_m: 0.3750 - val_precision_m: 0.3750 - val_recall_m: 0.3750 - val_auc: 0.5560 - val_false_negatives: 15.0000 - val_false_positives: 15.0000 - val_true_negatives: 33.0000 - val_true_positives: 9.0000 - val_mean_absolute_error: 0.4117 - val_mean_squared_error: 0.3980\n",
      "\n",
      "Epoch 00010: val_acc did not improve from 0.70833\n",
      "Epoch 11/50\n",
      "3/3 [==============================] - 0s 77ms/step - loss: 0.0788 - acc: 0.9779 - f1_m: 0.9779 - precision_m: 0.9779 - recall_m: 0.9779 - auc: 0.9984 - false_negatives: 1.5000 - false_positives: 1.5000 - true_negatives: 142.5000 - true_positives: 70.5000 - mean_absolute_error: 0.0319 - mean_squared_error: 0.0146 - val_loss: 5.5626 - val_acc: 0.3750 - val_f1_m: 0.3750 - val_precision_m: 0.3750 - val_recall_m: 0.3750 - val_auc: 0.5638 - val_false_negatives: 15.0000 - val_false_positives: 15.0000 - val_true_negatives: 33.0000 - val_true_positives: 9.0000 - val_mean_absolute_error: 0.4041 - val_mean_squared_error: 0.3843\n",
      "\n",
      "Epoch 00011: val_acc did not improve from 0.70833\n",
      "Epoch 12/50\n",
      "3/3 [==============================] - 0s 77ms/step - loss: 0.1271 - acc: 0.9661 - f1_m: 0.9661 - precision_m: 0.9661 - recall_m: 0.9661 - auc: 0.9944 - false_negatives: 2.0000 - false_positives: 2.0000 - true_negatives: 142.0000 - true_positives: 70.0000 - mean_absolute_error: 0.0427 - mean_squared_error: 0.0216 - val_loss: 5.3647 - val_acc: 0.4167 - val_f1_m: 0.4255 - val_precision_m: 0.4348 - val_recall_m: 0.4167 - val_auc: 0.5794 - val_false_negatives: 14.0000 - val_false_positives: 13.0000 - val_true_negatives: 35.0000 - val_true_positives: 10.0000 - val_mean_absolute_error: 0.3877 - val_mean_squared_error: 0.3592\n",
      "\n",
      "Epoch 00012: val_acc did not improve from 0.70833\n",
      "Epoch 13/50\n",
      "3/3 [==============================] - 0s 77ms/step - loss: 0.0513 - acc: 0.9831 - f1_m: 0.9831 - precision_m: 0.9831 - recall_m: 0.9831 - auc: 0.9993 - false_negatives: 1.0000 - false_positives: 1.0000 - true_negatives: 143.0000 - true_positives: 71.0000 - mean_absolute_error: 0.0224 - mean_squared_error: 0.0096 - val_loss: 4.6366 - val_acc: 0.5000 - val_f1_m: 0.4681 - val_precision_m: 0.4783 - val_recall_m: 0.4583 - val_auc: 0.6124 - val_false_negatives: 13.0000 - val_false_positives: 12.0000 - val_true_negatives: 36.0000 - val_true_positives: 11.0000 - val_mean_absolute_error: 0.3546 - val_mean_squared_error: 0.3223\n",
      "\n",
      "Epoch 00013: val_acc did not improve from 0.70833\n",
      "Epoch 14/50\n",
      "3/3 [==============================] - 0s 86ms/step - loss: 0.0438 - acc: 1.0000 - f1_m: 1.0000 - precision_m: 1.0000 - recall_m: 1.0000 - auc: 1.0000 - false_negatives: 0.0000e+00 - false_positives: 0.0000e+00 - true_negatives: 144.0000 - true_positives: 72.0000 - mean_absolute_error: 0.0244 - mean_squared_error: 0.0064 - val_loss: 3.9089 - val_acc: 0.5417 - val_f1_m: 0.5217 - val_precision_m: 0.5455 - val_recall_m: 0.5000 - val_auc: 0.6493 - val_false_negatives: 12.0000 - val_false_positives: 10.0000 - val_true_negatives: 38.0000 - val_true_positives: 12.0000 - val_mean_absolute_error: 0.3335 - val_mean_squared_error: 0.2952\n",
      "\n",
      "Epoch 00014: val_acc did not improve from 0.70833\n",
      "Epoch 15/50\n",
      "3/3 [==============================] - 0s 77ms/step - loss: 0.0349 - acc: 0.9857 - f1_m: 0.9857 - precision_m: 0.9857 - recall_m: 0.9857 - auc: 0.9996 - false_negatives: 1.2500 - false_positives: 1.2500 - true_negatives: 142.7500 - true_positives: 70.7500 - mean_absolute_error: 0.0152 - mean_squared_error: 0.0065 - val_loss: 3.3873 - val_acc: 0.5417 - val_f1_m: 0.5417 - val_precision_m: 0.5417 - val_recall_m: 0.5417 - val_auc: 0.6823 - val_false_negatives: 11.0000 - val_false_positives: 11.0000 - val_true_negatives: 37.0000 - val_true_positives: 13.0000 - val_mean_absolute_error: 0.3035 - val_mean_squared_error: 0.2657\n",
      "\n",
      "Epoch 00015: val_acc did not improve from 0.70833\n",
      "Epoch 16/50\n",
      "3/3 [==============================] - 0s 80ms/step - loss: 0.1695 - acc: 0.9557 - f1_m: 0.9557 - precision_m: 0.9557 - recall_m: 0.9557 - auc: 0.9821 - false_negatives: 3.0000 - false_positives: 3.0000 - true_negatives: 141.0000 - true_positives: 69.0000 - mean_absolute_error: 0.0440 - mean_squared_error: 0.0250 - val_loss: 2.9883 - val_acc: 0.5833 - val_f1_m: 0.5833 - val_precision_m: 0.5833 - val_recall_m: 0.5833 - val_auc: 0.7057 - val_false_negatives: 10.0000 - val_false_positives: 10.0000 - val_true_negatives: 38.0000 - val_true_positives: 14.0000 - val_mean_absolute_error: 0.2790 - val_mean_squared_error: 0.2471\n",
      "\n",
      "Epoch 00016: val_acc did not improve from 0.70833\n",
      "Epoch 17/50\n",
      "3/3 [==============================] - 0s 76ms/step - loss: 0.0406 - acc: 0.9831 - f1_m: 0.9831 - precision_m: 0.9831 - recall_m: 0.9831 - auc: 0.9998 - false_negatives: 1.0000 - false_positives: 1.0000 - true_negatives: 143.0000 - true_positives: 71.0000 - mean_absolute_error: 0.0202 - mean_squared_error: 0.0072 - val_loss: 2.6048 - val_acc: 0.5833 - val_f1_m: 0.5957 - val_precision_m: 0.6087 - val_recall_m: 0.5833 - val_auc: 0.7257 - val_false_negatives: 10.0000 - val_false_positives: 9.0000 - val_true_negatives: 39.0000 - val_true_positives: 14.0000 - val_mean_absolute_error: 0.2724 - val_mean_squared_error: 0.2341\n",
      "\n",
      "Epoch 00017: val_acc did not improve from 0.70833\n",
      "Epoch 18/50\n",
      "3/3 [==============================] - 0s 80ms/step - loss: 0.0689 - acc: 0.9740 - f1_m: 0.9740 - precision_m: 0.9740 - recall_m: 0.9740 - auc: 0.9986 - false_negatives: 1.7500 - false_positives: 1.7500 - true_negatives: 142.2500 - true_positives: 70.2500 - mean_absolute_error: 0.0285 - mean_squared_error: 0.0139 - val_loss: 2.3503 - val_acc: 0.6250 - val_f1_m: 0.6250 - val_precision_m: 0.6250 - val_recall_m: 0.6250 - val_auc: 0.7352 - val_false_negatives: 9.0000 - val_false_positives: 9.0000 - val_true_negatives: 39.0000 - val_true_positives: 15.0000 - val_mean_absolute_error: 0.2668 - val_mean_squared_error: 0.2295\n",
      "\n",
      "Epoch 00018: val_acc did not improve from 0.70833\n",
      "Epoch 19/50\n",
      "3/3 [==============================] - 0s 78ms/step - loss: 0.0854 - acc: 0.9688 - f1_m: 0.9687 - precision_m: 0.9688 - recall_m: 0.9688 - auc: 0.9980 - false_negatives: 2.2500 - false_positives: 2.2500 - true_negatives: 141.7500 - true_positives: 69.7500 - mean_absolute_error: 0.0358 - mean_squared_error: 0.0152 - val_loss: 2.1623 - val_acc: 0.6250 - val_f1_m: 0.5957 - val_precision_m: 0.6087 - val_recall_m: 0.5833 - val_auc: 0.7648 - val_false_negatives: 10.0000 - val_false_positives: 9.0000 - val_true_negatives: 39.0000 - val_true_positives: 14.0000 - val_mean_absolute_error: 0.2613 - val_mean_squared_error: 0.2273\n",
      "\n",
      "Epoch 00019: val_acc did not improve from 0.70833\n",
      "Epoch 20/50\n",
      "3/3 [==============================] - 0s 76ms/step - loss: 0.0332 - acc: 0.9909 - f1_m: 0.9906 - precision_m: 1.0000 - recall_m: 0.9818 - auc: 0.9999 - false_negatives: 1.5000 - false_positives: 0.0000e+00 - true_negatives: 144.0000 - true_positives: 70.5000 - mean_absolute_error: 0.0179 - mean_squared_error: 0.0050 - val_loss: 1.9914 - val_acc: 0.6250 - val_f1_m: 0.6087 - val_precision_m: 0.6364 - val_recall_m: 0.5833 - val_auc: 0.7995 - val_false_negatives: 10.0000 - val_false_positives: 8.0000 - val_true_negatives: 40.0000 - val_true_positives: 14.0000 - val_mean_absolute_error: 0.2543 - val_mean_squared_error: 0.2182\n",
      "\n",
      "Epoch 00020: val_acc did not improve from 0.70833\n",
      "Epoch 21/50\n",
      "3/3 [==============================] - 0s 78ms/step - loss: 0.0267 - acc: 0.9896 - f1_m: 0.9896 - precision_m: 0.9896 - recall_m: 0.9896 - auc: 0.9999 - false_negatives: 1.0000 - false_positives: 1.0000 - true_negatives: 143.0000 - true_positives: 71.0000 - mean_absolute_error: 0.0148 - mean_squared_error: 0.0035 - val_loss: 1.8102 - val_acc: 0.6667 - val_f1_m: 0.6383 - val_precision_m: 0.6522 - val_recall_m: 0.6250 - val_auc: 0.8134 - val_false_negatives: 9.0000 - val_false_positives: 8.0000 - val_true_negatives: 40.0000 - val_true_positives: 15.0000 - val_mean_absolute_error: 0.2422 - val_mean_squared_error: 0.2036\n",
      "\n",
      "Epoch 00021: val_acc did not improve from 0.70833\n",
      "Epoch 22/50\n",
      "3/3 [==============================] - 0s 80ms/step - loss: 0.1408 - acc: 0.9570 - f1_m: 0.9570 - precision_m: 0.9570 - recall_m: 0.9570 - auc: 0.9923 - false_negatives: 2.7500 - false_positives: 2.7500 - true_negatives: 141.2500 - true_positives: 69.2500 - mean_absolute_error: 0.0384 - mean_squared_error: 0.0199 - val_loss: 1.6989 - val_acc: 0.6667 - val_f1_m: 0.6667 - val_precision_m: 0.6667 - val_recall_m: 0.6667 - val_auc: 0.8333 - val_false_negatives: 8.0000 - val_false_positives: 8.0000 - val_true_negatives: 40.0000 - val_true_positives: 16.0000 - val_mean_absolute_error: 0.2378 - val_mean_squared_error: 0.1986\n",
      "\n",
      "Epoch 00022: val_acc did not improve from 0.70833\n",
      "Fold:  1\n",
      "Found 96 images belonging to 3 classes.\n",
      "Found 24 images belonging to 3 classes.\n"
     ]
    },
    {
     "name": "stderr",
     "output_type": "stream",
     "text": [
      "2023-03-02 20:18:27.257311: I tensorflow/core/profiler/lib/profiler_session.cc:136] Profiler session initializing.\n",
      "2023-03-02 20:18:27.257343: I tensorflow/core/profiler/lib/profiler_session.cc:155] Profiler session started.\n",
      "2023-03-02 20:18:27.257461: I tensorflow/core/profiler/lib/profiler_session.cc:172] Profiler session tear down.\n",
      "2023-03-02 20:18:27.257526: I tensorflow/core/profiler/internal/gpu/cupti_tracer.cc:1487] CUPTI activity buffer flushed\n"
     ]
    },
    {
     "name": "stdout",
     "output_type": "stream",
     "text": [
      "Epoch 1/50\n",
      "2/3 [===================>..........] - ETA: 0s - loss: 1.5400 - acc: 0.2656 - f1_m: 0.2651 - precision_m: 0.3052 - recall_m: 0.2344 - auc_1: 0.4794 - false_negatives_1: 37.0000 - false_positives_1: 25.5000 - true_negatives_1: 70.5000 - true_positives_1: 11.0000 - mean_absolute_error: 0.4557 - mean_squared_error: 0.2881"
     ]
    },
    {
     "name": "stderr",
     "output_type": "stream",
     "text": [
      "2023-03-02 20:18:31.225214: I tensorflow/core/profiler/lib/profiler_session.cc:136] Profiler session initializing.\n",
      "2023-03-02 20:18:31.225239: I tensorflow/core/profiler/lib/profiler_session.cc:155] Profiler session started.\n"
     ]
    },
    {
     "name": "stdout",
     "output_type": "stream",
     "text": [
      "3/3 [==============================] - ETA: 0s - loss: 1.5064 - acc: 0.2986 - f1_m: 0.2847 - precision_m: 0.3308 - recall_m: 0.2500 - auc_1: 0.4973 - false_negatives_1: 47.6667 - false_positives_1: 31.6667 - true_negatives_1: 96.3333 - true_positives_1: 16.3333 - mean_absolute_error: 0.4475 - mean_squared_error: 0.2820"
     ]
    },
    {
     "name": "stderr",
     "output_type": "stream",
     "text": [
      "2023-03-02 20:18:31.613852: I tensorflow/core/profiler/lib/profiler_session.cc:71] Profiler session collecting data.\n",
      "2023-03-02 20:18:31.618143: I tensorflow/core/profiler/internal/gpu/cupti_tracer.cc:1487] CUPTI activity buffer flushed\n",
      "2023-03-02 20:18:31.628963: I tensorflow/core/profiler/internal/gpu/cupti_collector.cc:228]  GpuTracer has collected 1740 callback api events and 1688 activity events. \n",
      "2023-03-02 20:18:31.667309: I tensorflow/core/profiler/lib/profiler_session.cc:172] Profiler session tear down.\n",
      "2023-03-02 20:18:31.701172: I tensorflow/core/profiler/rpc/client/save_profile.cc:137] Creating directory: /mnt/sda1/image-results-iris/results/tb_logs/train/plugins/profile/2023_03_02_20_18_31\n",
      "2023-03-02 20:18:31.723676: I tensorflow/core/profiler/rpc/client/save_profile.cc:143] Dumped gzipped tool data for trace.json.gz to /mnt/sda1/image-results-iris/results/tb_logs/train/plugins/profile/2023_03_02_20_18_31/drake-pc.trace.json.gz\n",
      "2023-03-02 20:18:31.788824: I tensorflow/core/profiler/rpc/client/save_profile.cc:137] Creating directory: /mnt/sda1/image-results-iris/results/tb_logs/train/plugins/profile/2023_03_02_20_18_31\n",
      "2023-03-02 20:18:31.794627: I tensorflow/core/profiler/rpc/client/save_profile.cc:143] Dumped gzipped tool data for memory_profile.json.gz to /mnt/sda1/image-results-iris/results/tb_logs/train/plugins/profile/2023_03_02_20_18_31/drake-pc.memory_profile.json.gz\n",
      "2023-03-02 20:18:31.797811: I tensorflow/core/profiler/rpc/client/capture_profile.cc:251] Creating directory: /mnt/sda1/image-results-iris/results/tb_logs/train/plugins/profile/2023_03_02_20_18_31Dumped tool data for xplane.pb to /mnt/sda1/image-results-iris/results/tb_logs/train/plugins/profile/2023_03_02_20_18_31/drake-pc.xplane.pb\n",
      "Dumped tool data for overview_page.pb to /mnt/sda1/image-results-iris/results/tb_logs/train/plugins/profile/2023_03_02_20_18_31/drake-pc.overview_page.pb\n",
      "Dumped tool data for input_pipeline.pb to /mnt/sda1/image-results-iris/results/tb_logs/train/plugins/profile/2023_03_02_20_18_31/drake-pc.input_pipeline.pb\n",
      "Dumped tool data for tensorflow_stats.pb to /mnt/sda1/image-results-iris/results/tb_logs/train/plugins/profile/2023_03_02_20_18_31/drake-pc.tensorflow_stats.pb\n",
      "Dumped tool data for kernel_stats.pb to /mnt/sda1/image-results-iris/results/tb_logs/train/plugins/profile/2023_03_02_20_18_31/drake-pc.kernel_stats.pb\n",
      "\n"
     ]
    },
    {
     "name": "stdout",
     "output_type": "stream",
     "text": [
      "3/3 [==============================] - 6s 880ms/step - loss: 1.4895 - acc: 0.3151 - f1_m: 0.2945 - precision_m: 0.3436 - recall_m: 0.2578 - auc_1: 0.5063 - false_negatives_1: 53.0000 - false_positives_1: 34.7500 - true_negatives_1: 109.2500 - true_positives_1: 19.0000 - mean_absolute_error: 0.4434 - mean_squared_error: 0.2789 - val_loss: 4.3832 - val_acc: 0.3333 - val_f1_m: 0.3333 - val_precision_m: 0.3333 - val_recall_m: 0.3333 - val_auc_1: 0.5213 - val_false_negatives_1: 16.0000 - val_false_positives_1: 16.0000 - val_true_negatives_1: 32.0000 - val_true_positives_1: 8.0000 - val_mean_absolute_error: 0.4370 - val_mean_squared_error: 0.3936\n",
      "\n",
      "Epoch 00001: val_acc improved from -inf to 0.33333, saving model to /mnt/sda1/image-results-iris/results/fold1-resnet50v2-saved-model-01-val_acc-0.33.hdf5\n",
      "Epoch 2/50\n",
      "3/3 [==============================] - 0s 85ms/step - loss: 0.8466 - acc: 0.6406 - f1_m: 0.6382 - precision_m: 0.7074 - recall_m: 0.5820 - auc_1: 0.8297 - false_negatives_1: 28.7500 - false_positives_1: 16.2500 - true_negatives_1: 127.7500 - true_positives_1: 43.2500 - mean_absolute_error: 0.2724 - mean_squared_error: 0.1567 - val_loss: 7.5364 - val_acc: 0.4583 - val_f1_m: 0.4583 - val_precision_m: 0.4583 - val_recall_m: 0.4583 - val_auc_1: 0.6337 - val_false_negatives_1: 13.0000 - val_false_positives_1: 13.0000 - val_true_negatives_1: 35.0000 - val_true_positives_1: 11.0000 - val_mean_absolute_error: 0.3619 - val_mean_squared_error: 0.3240\n",
      "\n",
      "Epoch 00002: val_acc improved from 0.33333 to 0.45833, saving model to /mnt/sda1/image-results-iris/results/fold1-resnet50v2-saved-model-02-val_acc-0.46.hdf5\n",
      "Epoch 3/50\n",
      "2/3 [===================>..........] - ETA: 0s - loss: 0.7783 - acc: 0.8672 - f1_m: 0.8407 - precision_m: 0.8625 - recall_m: 0.8203 - auc_1: 0.9300 - false_negatives_1: 9.0000 - false_positives_1: 7.0000 - true_negatives_1: 89.0000 - true_positives_1: 39.0000 - mean_absolute_error: 0.1626 - mean_squared_error: 0.0852WARNING:tensorflow:Callback method `on_train_batch_end` is slow compared to the batch time (batch time: 0.0543s vs `on_train_batch_end` time: 0.0812s). Check your callbacks.\n",
      "3/3 [==============================] - 0s 84ms/step - loss: 0.8234 - acc: 0.8451 - f1_m: 0.8249 - precision_m: 0.8451 - recall_m: 0.8060 - auc_1: 0.9267 - false_negatives_1: 14.5000 - false_positives_1: 11.5000 - true_negatives_1: 132.5000 - true_positives_1: 57.5000 - mean_absolute_error: 0.1610 - mean_squared_error: 0.0883 - val_loss: 7.6805 - val_acc: 0.5417 - val_f1_m: 0.5417 - val_precision_m: 0.5417 - val_recall_m: 0.5417 - val_auc_1: 0.6771 - val_false_negatives_1: 11.0000 - val_false_positives_1: 11.0000 - val_true_negatives_1: 37.0000 - val_true_positives_1: 13.0000 - val_mean_absolute_error: 0.3068 - val_mean_squared_error: 0.3045\n",
      "\n",
      "Epoch 00003: val_acc improved from 0.45833 to 0.54167, saving model to /mnt/sda1/image-results-iris/results/fold1-resnet50v2-saved-model-03-val_acc-0.54.hdf5\n",
      "Epoch 4/50\n",
      "3/3 [==============================] - 0s 87ms/step - loss: 0.2879 - acc: 0.9154 - f1_m: 0.9060 - precision_m: 0.9137 - recall_m: 0.8984 - auc_1: 0.9774 - false_negatives_1: 7.0000 - false_positives_1: 6.0000 - true_negatives_1: 138.0000 - true_positives_1: 65.0000 - mean_absolute_error: 0.0983 - mean_squared_error: 0.0499 - val_loss: 7.2826 - val_acc: 0.6250 - val_f1_m: 0.6250 - val_precision_m: 0.6250 - val_recall_m: 0.6250 - val_auc_1: 0.7183 - val_false_negatives_1: 9.0000 - val_false_positives_1: 9.0000 - val_true_negatives_1: 39.0000 - val_true_positives_1: 15.0000 - val_mean_absolute_error: 0.2544 - val_mean_squared_error: 0.2431\n",
      "\n",
      "Epoch 00004: val_acc improved from 0.54167 to 0.62500, saving model to /mnt/sda1/image-results-iris/results/fold1-resnet50v2-saved-model-04-val_acc-0.62.hdf5\n",
      "Epoch 5/50\n",
      "3/3 [==============================] - 0s 82ms/step - loss: 0.3259 - acc: 0.9245 - f1_m: 0.9245 - precision_m: 0.9245 - recall_m: 0.9245 - auc_1: 0.9779 - false_negatives_1: 5.2500 - false_positives_1: 5.2500 - true_negatives_1: 138.7500 - true_positives_1: 66.7500 - mean_absolute_error: 0.0675 - mean_squared_error: 0.0343 - val_loss: 5.6413 - val_acc: 0.5417 - val_f1_m: 0.5417 - val_precision_m: 0.5417 - val_recall_m: 0.5417 - val_auc_1: 0.6884 - val_false_negatives_1: 11.0000 - val_false_positives_1: 11.0000 - val_true_negatives_1: 37.0000 - val_true_positives_1: 13.0000 - val_mean_absolute_error: 0.3035 - val_mean_squared_error: 0.2930\n",
      "\n",
      "Epoch 00005: val_acc did not improve from 0.62500\n",
      "Epoch 6/50\n",
      "3/3 [==============================] - 0s 81ms/step - loss: 0.1257 - acc: 0.9831 - f1_m: 0.9831 - precision_m: 0.9831 - recall_m: 0.9831 - auc_1: 0.9919 - false_negatives_1: 1.0000 - false_positives_1: 1.0000 - true_negatives_1: 143.0000 - true_positives_1: 71.0000 - mean_absolute_error: 0.0373 - mean_squared_error: 0.0163 - val_loss: 4.2099 - val_acc: 0.5000 - val_f1_m: 0.5000 - val_precision_m: 0.5000 - val_recall_m: 0.5000 - val_auc_1: 0.7023 - val_false_negatives_1: 12.0000 - val_false_positives_1: 12.0000 - val_true_negatives_1: 36.0000 - val_true_positives_1: 12.0000 - val_mean_absolute_error: 0.3093 - val_mean_squared_error: 0.2927\n",
      "\n",
      "Epoch 00006: val_acc did not improve from 0.62500\n",
      "Epoch 7/50\n",
      "3/3 [==============================] - 0s 81ms/step - loss: 0.0318 - acc: 0.9909 - f1_m: 0.9909 - precision_m: 0.9909 - recall_m: 0.9909 - auc_1: 0.9999 - false_negatives_1: 0.7500 - false_positives_1: 0.7500 - true_negatives_1: 143.2500 - true_positives_1: 71.2500 - mean_absolute_error: 0.0159 - mean_squared_error: 0.0054 - val_loss: 2.7781 - val_acc: 0.5000 - val_f1_m: 0.5000 - val_precision_m: 0.5000 - val_recall_m: 0.5000 - val_auc_1: 0.7522 - val_false_negatives_1: 12.0000 - val_false_positives_1: 12.0000 - val_true_negatives_1: 36.0000 - val_true_positives_1: 12.0000 - val_mean_absolute_error: 0.3033 - val_mean_squared_error: 0.2728\n",
      "\n",
      "Epoch 00007: val_acc did not improve from 0.62500\n",
      "Epoch 8/50\n",
      "3/3 [==============================] - 0s 82ms/step - loss: 0.0421 - acc: 0.9948 - f1_m: 0.9948 - precision_m: 0.9948 - recall_m: 0.9948 - auc_1: 0.9990 - false_negatives_1: 0.5000 - false_positives_1: 0.5000 - true_negatives_1: 143.5000 - true_positives_1: 71.5000 - mean_absolute_error: 0.0154 - mean_squared_error: 0.0055 - val_loss: 1.9002 - val_acc: 0.5833 - val_f1_m: 0.5957 - val_precision_m: 0.6087 - val_recall_m: 0.5833 - val_auc_1: 0.7925 - val_false_negatives_1: 10.0000 - val_false_positives_1: 9.0000 - val_true_negatives_1: 39.0000 - val_true_positives_1: 14.0000 - val_mean_absolute_error: 0.2690 - val_mean_squared_error: 0.2286\n",
      "\n",
      "Epoch 00008: val_acc did not improve from 0.62500\n",
      "Epoch 9/50\n",
      "3/3 [==============================] - 0s 82ms/step - loss: 0.1972 - acc: 0.9440 - f1_m: 0.9440 - precision_m: 0.9440 - recall_m: 0.9440 - auc_1: 0.9834 - false_negatives_1: 3.5000 - false_positives_1: 3.5000 - true_negatives_1: 140.5000 - true_positives_1: 68.5000 - mean_absolute_error: 0.0390 - mean_squared_error: 0.0261 - val_loss: 1.5901 - val_acc: 0.7083 - val_f1_m: 0.7234 - val_precision_m: 0.7391 - val_recall_m: 0.7083 - val_auc_1: 0.8377 - val_false_negatives_1: 7.0000 - val_false_positives_1: 6.0000 - val_true_negatives_1: 42.0000 - val_true_positives_1: 17.0000 - val_mean_absolute_error: 0.2212 - val_mean_squared_error: 0.1755\n",
      "\n",
      "Epoch 00009: val_acc improved from 0.62500 to 0.70833, saving model to /mnt/sda1/image-results-iris/results/fold1-resnet50v2-saved-model-09-val_acc-0.71.hdf5\n",
      "Epoch 10/50\n",
      "3/3 [==============================] - 0s 83ms/step - loss: 0.0472 - acc: 0.9818 - f1_m: 0.9818 - precision_m: 0.9818 - recall_m: 0.9818 - auc_1: 0.9995 - false_negatives_1: 1.5000 - false_positives_1: 1.5000 - true_negatives_1: 142.5000 - true_positives_1: 70.5000 - mean_absolute_error: 0.0189 - mean_squared_error: 0.0091 - val_loss: 1.1639 - val_acc: 0.7500 - val_f1_m: 0.7500 - val_precision_m: 0.7500 - val_recall_m: 0.7500 - val_auc_1: 0.9097 - val_false_negatives_1: 6.0000 - val_false_positives_1: 6.0000 - val_true_negatives_1: 42.0000 - val_true_positives_1: 18.0000 - val_mean_absolute_error: 0.1660 - val_mean_squared_error: 0.1165\n",
      "\n",
      "Epoch 00010: val_acc improved from 0.70833 to 0.75000, saving model to /mnt/sda1/image-results-iris/results/fold1-resnet50v2-saved-model-10-val_acc-0.75.hdf5\n",
      "Epoch 11/50\n",
      "3/3 [==============================] - 0s 82ms/step - loss: 0.0471 - acc: 0.9818 - f1_m: 0.9818 - precision_m: 0.9818 - recall_m: 0.9818 - auc_1: 0.9994 - false_negatives_1: 1.5000 - false_positives_1: 1.5000 - true_negatives_1: 142.5000 - true_positives_1: 70.5000 - mean_absolute_error: 0.0165 - mean_squared_error: 0.0086 - val_loss: 0.9600 - val_acc: 0.8333 - val_f1_m: 0.8333 - val_precision_m: 0.8333 - val_recall_m: 0.8333 - val_auc_1: 0.9297 - val_false_negatives_1: 4.0000 - val_false_positives_1: 4.0000 - val_true_negatives_1: 44.0000 - val_true_positives_1: 20.0000 - val_mean_absolute_error: 0.1345 - val_mean_squared_error: 0.0953\n",
      "\n",
      "Epoch 00011: val_acc improved from 0.75000 to 0.83333, saving model to /mnt/sda1/image-results-iris/results/fold1-resnet50v2-saved-model-11-val_acc-0.83.hdf5\n",
      "Epoch 12/50\n",
      "3/3 [==============================] - 0s 75ms/step - loss: 0.0344 - acc: 0.9948 - f1_m: 0.9948 - precision_m: 0.9948 - recall_m: 0.9948 - auc_1: 0.9992 - false_negatives_1: 0.5000 - false_positives_1: 0.5000 - true_negatives_1: 143.5000 - true_positives_1: 71.5000 - mean_absolute_error: 0.0085 - mean_squared_error: 0.0037 - val_loss: 0.9022 - val_acc: 0.8333 - val_f1_m: 0.8085 - val_precision_m: 0.8261 - val_recall_m: 0.7917 - val_auc_1: 0.9375 - val_false_negatives_1: 5.0000 - val_false_positives_1: 4.0000 - val_true_negatives_1: 44.0000 - val_true_positives_1: 19.0000 - val_mean_absolute_error: 0.1285 - val_mean_squared_error: 0.0967\n",
      "\n",
      "Epoch 00012: val_acc did not improve from 0.83333\n",
      "Fold:  2\n",
      "Found 96 images belonging to 3 classes.\n",
      "Found 24 images belonging to 3 classes.\n"
     ]
    },
    {
     "name": "stderr",
     "output_type": "stream",
     "text": [
      "2023-03-02 20:18:39.686874: I tensorflow/core/profiler/lib/profiler_session.cc:136] Profiler session initializing.\n",
      "2023-03-02 20:18:39.686900: I tensorflow/core/profiler/lib/profiler_session.cc:155] Profiler session started.\n",
      "2023-03-02 20:18:39.687003: I tensorflow/core/profiler/lib/profiler_session.cc:172] Profiler session tear down.\n",
      "2023-03-02 20:18:39.687066: I tensorflow/core/profiler/internal/gpu/cupti_tracer.cc:1487] CUPTI activity buffer flushed\n"
     ]
    },
    {
     "name": "stdout",
     "output_type": "stream",
     "text": [
      "Epoch 1/50\n",
      "2/3 [===================>..........] - ETA: 0s - loss: 1.3538 - acc: 0.4141 - f1_m: 0.3526 - precision_m: 0.4051 - recall_m: 0.3125 - auc_2: 0.5888 - false_negatives_2: 33.0000 - false_positives_2: 22.5000 - true_negatives_2: 73.5000 - true_positives_2: 15.0000 - mean_absolute_error: 0.4131 - mean_squared_error: 0.2544"
     ]
    },
    {
     "name": "stderr",
     "output_type": "stream",
     "text": [
      "2023-03-02 20:18:43.747555: I tensorflow/core/profiler/lib/profiler_session.cc:136] Profiler session initializing.\n",
      "2023-03-02 20:18:43.747582: I tensorflow/core/profiler/lib/profiler_session.cc:155] Profiler session started.\n"
     ]
    },
    {
     "name": "stdout",
     "output_type": "stream",
     "text": [
      "3/3 [==============================] - ETA: 0s - loss: 1.3670 - acc: 0.4080 - f1_m: 0.3552 - precision_m: 0.4131 - recall_m: 0.3125 - auc_2: 0.5808 - false_negatives_2: 44.0000 - false_positives_2: 28.6667 - true_negatives_2: 99.3333 - true_positives_2: 20.0000 - mean_absolute_error: 0.4138 - mean_squared_error: 0.2560"
     ]
    },
    {
     "name": "stderr",
     "output_type": "stream",
     "text": [
      "2023-03-02 20:18:44.139056: I tensorflow/core/profiler/lib/profiler_session.cc:71] Profiler session collecting data.\n",
      "2023-03-02 20:18:44.141756: I tensorflow/core/profiler/internal/gpu/cupti_tracer.cc:1487] CUPTI activity buffer flushed\n",
      "2023-03-02 20:18:44.154864: I tensorflow/core/profiler/internal/gpu/cupti_collector.cc:228]  GpuTracer has collected 1740 callback api events and 1688 activity events. \n",
      "2023-03-02 20:18:44.189887: I tensorflow/core/profiler/lib/profiler_session.cc:172] Profiler session tear down.\n",
      "2023-03-02 20:18:44.221805: I tensorflow/core/profiler/rpc/client/save_profile.cc:137] Creating directory: /mnt/sda1/image-results-iris/results/tb_logs/train/plugins/profile/2023_03_02_20_18_44\n",
      "2023-03-02 20:18:44.245767: I tensorflow/core/profiler/rpc/client/save_profile.cc:143] Dumped gzipped tool data for trace.json.gz to /mnt/sda1/image-results-iris/results/tb_logs/train/plugins/profile/2023_03_02_20_18_44/drake-pc.trace.json.gz\n",
      "2023-03-02 20:18:44.314967: I tensorflow/core/profiler/rpc/client/save_profile.cc:137] Creating directory: /mnt/sda1/image-results-iris/results/tb_logs/train/plugins/profile/2023_03_02_20_18_44\n",
      "2023-03-02 20:18:44.320378: I tensorflow/core/profiler/rpc/client/save_profile.cc:143] Dumped gzipped tool data for memory_profile.json.gz to /mnt/sda1/image-results-iris/results/tb_logs/train/plugins/profile/2023_03_02_20_18_44/drake-pc.memory_profile.json.gz\n",
      "2023-03-02 20:18:44.322706: I tensorflow/core/profiler/rpc/client/capture_profile.cc:251] Creating directory: /mnt/sda1/image-results-iris/results/tb_logs/train/plugins/profile/2023_03_02_20_18_44Dumped tool data for xplane.pb to /mnt/sda1/image-results-iris/results/tb_logs/train/plugins/profile/2023_03_02_20_18_44/drake-pc.xplane.pb\n",
      "Dumped tool data for overview_page.pb to /mnt/sda1/image-results-iris/results/tb_logs/train/plugins/profile/2023_03_02_20_18_44/drake-pc.overview_page.pb\n",
      "Dumped tool data for input_pipeline.pb to /mnt/sda1/image-results-iris/results/tb_logs/train/plugins/profile/2023_03_02_20_18_44/drake-pc.input_pipeline.pb\n",
      "Dumped tool data for tensorflow_stats.pb to /mnt/sda1/image-results-iris/results/tb_logs/train/plugins/profile/2023_03_02_20_18_44/drake-pc.tensorflow_stats.pb\n",
      "Dumped tool data for kernel_stats.pb to /mnt/sda1/image-results-iris/results/tb_logs/train/plugins/profile/2023_03_02_20_18_44/drake-pc.kernel_stats.pb\n",
      "\n"
     ]
    },
    {
     "name": "stdout",
     "output_type": "stream",
     "text": [
      "3/3 [==============================] - 6s 926ms/step - loss: 1.3736 - acc: 0.4049 - f1_m: 0.3564 - precision_m: 0.4171 - recall_m: 0.3125 - auc_2: 0.5768 - false_negatives_2: 49.5000 - false_positives_2: 31.7500 - true_negatives_2: 112.2500 - true_positives_2: 22.5000 - mean_absolute_error: 0.4142 - mean_squared_error: 0.2568 - val_loss: 14.1022 - val_acc: 0.3333 - val_f1_m: 0.3333 - val_precision_m: 0.3333 - val_recall_m: 0.3333 - val_auc_2: 0.5000 - val_false_negatives_2: 16.0000 - val_false_positives_2: 16.0000 - val_true_negatives_2: 32.0000 - val_true_positives_2: 8.0000 - val_mean_absolute_error: 0.4444 - val_mean_squared_error: 0.4444\n",
      "\n",
      "Epoch 00001: val_acc improved from -inf to 0.33333, saving model to /mnt/sda1/image-results-iris/results/fold2-resnet50v2-saved-model-01-val_acc-0.33.hdf5\n",
      "Epoch 2/50\n",
      "3/3 [==============================] - 0s 82ms/step - loss: 0.9136 - acc: 0.6758 - f1_m: 0.6769 - precision_m: 0.7331 - recall_m: 0.6302 - auc_2: 0.8262 - false_negatives_2: 26.5000 - false_positives_2: 16.7500 - true_negatives_2: 127.2500 - true_positives_2: 45.5000 - mean_absolute_error: 0.2724 - mean_squared_error: 0.1530 - val_loss: 6.4372 - val_acc: 0.5000 - val_f1_m: 0.5000 - val_precision_m: 0.5000 - val_recall_m: 0.5000 - val_auc_2: 0.6411 - val_false_negatives_2: 12.0000 - val_false_positives_2: 12.0000 - val_true_negatives_2: 36.0000 - val_true_positives_2: 12.0000 - val_mean_absolute_error: 0.3418 - val_mean_squared_error: 0.2745\n",
      "\n",
      "Epoch 00002: val_acc improved from 0.33333 to 0.50000, saving model to /mnt/sda1/image-results-iris/results/fold2-resnet50v2-saved-model-02-val_acc-0.50.hdf5\n",
      "Epoch 3/50\n",
      "2/3 [===================>..........] - ETA: 0s - loss: 0.4728 - acc: 0.7656 - f1_m: 0.7837 - precision_m: 0.8309 - recall_m: 0.7422 - auc_2: 0.9461 - false_negatives_2: 13.0000 - false_positives_2: 8.5000 - true_negatives_2: 87.5000 - true_positives_2: 35.0000 - mean_absolute_error: 0.1613 - mean_squared_error: 0.0851WARNING:tensorflow:Callback method `on_train_batch_end` is slow compared to the batch time (batch time: 0.0529s vs `on_train_batch_end` time: 0.0836s). Check your callbacks.\n",
      "3/3 [==============================] - 0s 82ms/step - loss: 0.5917 - acc: 0.7109 - f1_m: 0.7185 - precision_m: 0.7580 - recall_m: 0.6836 - auc_2: 0.9159 - false_negatives_2: 24.5000 - false_positives_2: 18.2500 - true_negatives_2: 125.7500 - true_positives_2: 47.5000 - mean_absolute_error: 0.1905 - mean_squared_error: 0.1087 - val_loss: 3.9798 - val_acc: 0.4583 - val_f1_m: 0.4583 - val_precision_m: 0.4583 - val_recall_m: 0.4583 - val_auc_2: 0.6671 - val_false_negatives_2: 13.0000 - val_false_positives_2: 13.0000 - val_true_negatives_2: 35.0000 - val_true_positives_2: 11.0000 - val_mean_absolute_error: 0.3350 - val_mean_squared_error: 0.2659\n",
      "\n",
      "Epoch 00003: val_acc did not improve from 0.50000\n",
      "Epoch 4/50\n",
      "3/3 [==============================] - 0s 82ms/step - loss: 0.2911 - acc: 0.8763 - f1_m: 0.8626 - precision_m: 0.8904 - recall_m: 0.8372 - auc_2: 0.9746 - false_negatives_2: 11.0000 - false_positives_2: 7.0000 - true_negatives_2: 137.0000 - true_positives_2: 61.0000 - mean_absolute_error: 0.1199 - mean_squared_error: 0.0589 - val_loss: 4.0103 - val_acc: 0.4167 - val_f1_m: 0.4167 - val_precision_m: 0.4167 - val_recall_m: 0.4167 - val_auc_2: 0.5803 - val_false_negatives_2: 14.0000 - val_false_positives_2: 14.0000 - val_true_negatives_2: 34.0000 - val_true_positives_2: 10.0000 - val_mean_absolute_error: 0.4093 - val_mean_squared_error: 0.3833\n",
      "\n",
      "Epoch 00004: val_acc did not improve from 0.50000\n",
      "Epoch 5/50\n",
      "3/3 [==============================] - 0s 81ms/step - loss: 0.3001 - acc: 0.8893 - f1_m: 0.8893 - precision_m: 0.8893 - recall_m: 0.8893 - auc_2: 0.9768 - false_negatives_2: 7.7500 - false_positives_2: 7.7500 - true_negatives_2: 136.2500 - true_positives_2: 64.2500 - mean_absolute_error: 0.0867 - mean_squared_error: 0.0538 - val_loss: 3.3603 - val_acc: 0.3333 - val_f1_m: 0.3333 - val_precision_m: 0.3333 - val_recall_m: 0.3333 - val_auc_2: 0.6020 - val_false_negatives_2: 16.0000 - val_false_positives_2: 16.0000 - val_true_negatives_2: 32.0000 - val_true_positives_2: 8.0000 - val_mean_absolute_error: 0.4206 - val_mean_squared_error: 0.3842\n",
      "\n",
      "Epoch 00005: val_acc did not improve from 0.50000\n",
      "Epoch 6/50\n",
      "3/3 [==============================] - 0s 83ms/step - loss: 0.2696 - acc: 0.9466 - f1_m: 0.9375 - precision_m: 0.9455 - recall_m: 0.9297 - auc_2: 0.9727 - false_negatives_2: 4.7500 - false_positives_2: 3.7500 - true_negatives_2: 140.2500 - true_positives_2: 67.2500 - mean_absolute_error: 0.0607 - mean_squared_error: 0.0380 - val_loss: 3.4276 - val_acc: 0.4167 - val_f1_m: 0.3478 - val_precision_m: 0.3636 - val_recall_m: 0.3333 - val_auc_2: 0.5981 - val_false_negatives_2: 16.0000 - val_false_positives_2: 14.0000 - val_true_negatives_2: 34.0000 - val_true_positives_2: 8.0000 - val_mean_absolute_error: 0.4010 - val_mean_squared_error: 0.3569\n",
      "\n",
      "Epoch 00006: val_acc did not improve from 0.50000\n",
      "Epoch 7/50\n",
      "3/3 [==============================] - 0s 79ms/step - loss: 0.0955 - acc: 0.9688 - f1_m: 0.9687 - precision_m: 0.9688 - recall_m: 0.9688 - auc_2: 0.9977 - false_negatives_2: 2.2500 - false_positives_2: 2.2500 - true_negatives_2: 141.7500 - true_positives_2: 69.7500 - mean_absolute_error: 0.0409 - mean_squared_error: 0.0185 - val_loss: 3.1389 - val_acc: 0.5000 - val_f1_m: 0.5106 - val_precision_m: 0.5217 - val_recall_m: 0.5000 - val_auc_2: 0.6745 - val_false_negatives_2: 12.0000 - val_false_positives_2: 11.0000 - val_true_negatives_2: 37.0000 - val_true_positives_2: 12.0000 - val_mean_absolute_error: 0.3452 - val_mean_squared_error: 0.3085\n",
      "\n",
      "Epoch 00007: val_acc did not improve from 0.50000\n",
      "Epoch 8/50\n",
      "3/3 [==============================] - 0s 80ms/step - loss: 0.0650 - acc: 0.9857 - f1_m: 0.9857 - precision_m: 0.9857 - recall_m: 0.9857 - auc_2: 0.9993 - false_negatives_2: 1.2500 - false_positives_2: 1.2500 - true_negatives_2: 142.7500 - true_positives_2: 70.7500 - mean_absolute_error: 0.0321 - mean_squared_error: 0.0104 - val_loss: 2.8988 - val_acc: 0.5417 - val_f1_m: 0.5217 - val_precision_m: 0.5455 - val_recall_m: 0.5000 - val_auc_2: 0.7044 - val_false_negatives_2: 12.0000 - val_false_positives_2: 10.0000 - val_true_negatives_2: 38.0000 - val_true_positives_2: 12.0000 - val_mean_absolute_error: 0.3143 - val_mean_squared_error: 0.2812\n",
      "\n",
      "Epoch 00008: val_acc improved from 0.50000 to 0.54167, saving model to /mnt/sda1/image-results-iris/results/fold2-resnet50v2-saved-model-08-val_acc-0.54.hdf5\n",
      "Epoch 9/50\n",
      "3/3 [==============================] - 0s 86ms/step - loss: 0.0612 - acc: 0.9857 - f1_m: 0.9857 - precision_m: 0.9857 - recall_m: 0.9857 - auc_2: 0.9985 - false_negatives_2: 1.2500 - false_positives_2: 1.2500 - true_negatives_2: 142.7500 - true_positives_2: 70.7500 - mean_absolute_error: 0.0184 - mean_squared_error: 0.0095 - val_loss: 2.3328 - val_acc: 0.5417 - val_f1_m: 0.5532 - val_precision_m: 0.5652 - val_recall_m: 0.5417 - val_auc_2: 0.7396 - val_false_negatives_2: 11.0000 - val_false_positives_2: 10.0000 - val_true_negatives_2: 38.0000 - val_true_positives_2: 13.0000 - val_mean_absolute_error: 0.2894 - val_mean_squared_error: 0.2480\n",
      "\n",
      "Epoch 00009: val_acc did not improve from 0.54167\n",
      "Epoch 10/50\n",
      "3/3 [==============================] - 0s 84ms/step - loss: 0.0428 - acc: 0.9779 - f1_m: 0.9779 - precision_m: 0.9779 - recall_m: 0.9779 - auc_2: 0.9996 - false_negatives_2: 1.5000 - false_positives_2: 1.5000 - true_negatives_2: 142.5000 - true_positives_2: 70.5000 - mean_absolute_error: 0.0186 - mean_squared_error: 0.0088 - val_loss: 1.6011 - val_acc: 0.6667 - val_f1_m: 0.6667 - val_precision_m: 0.6667 - val_recall_m: 0.6667 - val_auc_2: 0.8099 - val_false_negatives_2: 8.0000 - val_false_positives_2: 8.0000 - val_true_negatives_2: 40.0000 - val_true_positives_2: 16.0000 - val_mean_absolute_error: 0.2281 - val_mean_squared_error: 0.1938\n",
      "\n",
      "Epoch 00010: val_acc improved from 0.54167 to 0.66667, saving model to /mnt/sda1/image-results-iris/results/fold2-resnet50v2-saved-model-10-val_acc-0.67.hdf5\n",
      "Epoch 11/50\n",
      "3/3 [==============================] - 0s 84ms/step - loss: 0.0136 - acc: 1.0000 - f1_m: 1.0000 - precision_m: 1.0000 - recall_m: 1.0000 - auc_2: 1.0000 - false_negatives_2: 0.0000e+00 - false_positives_2: 0.0000e+00 - true_negatives_2: 144.0000 - true_positives_2: 72.0000 - mean_absolute_error: 0.0080 - mean_squared_error: 0.0017 - val_loss: 1.1237 - val_acc: 0.6667 - val_f1_m: 0.6667 - val_precision_m: 0.6667 - val_recall_m: 0.6667 - val_auc_2: 0.8854 - val_false_negatives_2: 8.0000 - val_false_positives_2: 8.0000 - val_true_negatives_2: 40.0000 - val_true_positives_2: 16.0000 - val_mean_absolute_error: 0.1962 - val_mean_squared_error: 0.1638\n",
      "\n",
      "Epoch 00011: val_acc did not improve from 0.66667\n",
      "Epoch 12/50\n",
      "3/3 [==============================] - 0s 79ms/step - loss: 0.0116 - acc: 1.0000 - f1_m: 1.0000 - precision_m: 1.0000 - recall_m: 1.0000 - auc_2: 1.0000 - false_negatives_2: 0.0000e+00 - false_positives_2: 0.0000e+00 - true_negatives_2: 144.0000 - true_positives_2: 72.0000 - mean_absolute_error: 0.0068 - mean_squared_error: 0.0013 - val_loss: 0.7041 - val_acc: 0.7500 - val_f1_m: 0.7660 - val_precision_m: 0.7826 - val_recall_m: 0.7500 - val_auc_2: 0.9206 - val_false_negatives_2: 6.0000 - val_false_positives_2: 5.0000 - val_true_negatives_2: 43.0000 - val_true_positives_2: 18.0000 - val_mean_absolute_error: 0.1672 - val_mean_squared_error: 0.1224\n",
      "\n",
      "Epoch 00012: val_acc improved from 0.66667 to 0.75000, saving model to /mnt/sda1/image-results-iris/results/fold2-resnet50v2-saved-model-12-val_acc-0.75.hdf5\n",
      "Epoch 13/50\n",
      "3/3 [==============================] - 0s 83ms/step - loss: 0.0061 - acc: 1.0000 - f1_m: 1.0000 - precision_m: 1.0000 - recall_m: 1.0000 - auc_2: 1.0000 - false_negatives_2: 0.0000e+00 - false_positives_2: 0.0000e+00 - true_negatives_2: 144.0000 - true_positives_2: 72.0000 - mean_absolute_error: 0.0036 - mean_squared_error: 5.9536e-04 - val_loss: 0.4726 - val_acc: 0.7917 - val_f1_m: 0.7917 - val_precision_m: 0.7917 - val_recall_m: 0.7917 - val_auc_2: 0.9583 - val_false_negatives_2: 5.0000 - val_false_positives_2: 5.0000 - val_true_negatives_2: 43.0000 - val_true_positives_2: 19.0000 - val_mean_absolute_error: 0.1393 - val_mean_squared_error: 0.0980\n",
      "\n",
      "Epoch 00013: val_acc improved from 0.75000 to 0.79167, saving model to /mnt/sda1/image-results-iris/results/fold2-resnet50v2-saved-model-13-val_acc-0.79.hdf5\n",
      "Epoch 14/50\n",
      "3/3 [==============================] - 0s 82ms/step - loss: 0.0181 - acc: 0.9948 - f1_m: 0.9948 - precision_m: 0.9948 - recall_m: 0.9948 - auc_2: 0.9999 - false_negatives_2: 0.5000 - false_positives_2: 0.5000 - true_negatives_2: 143.5000 - true_positives_2: 71.5000 - mean_absolute_error: 0.0055 - mean_squared_error: 0.0032 - val_loss: 0.3481 - val_acc: 0.7500 - val_f1_m: 0.7500 - val_precision_m: 0.7500 - val_recall_m: 0.7500 - val_auc_2: 0.9670 - val_false_negatives_2: 6.0000 - val_false_positives_2: 6.0000 - val_true_negatives_2: 42.0000 - val_true_positives_2: 18.0000 - val_mean_absolute_error: 0.1276 - val_mean_squared_error: 0.0817\n",
      "\n",
      "Epoch 00014: val_acc did not improve from 0.79167\n",
      "Epoch 15/50\n",
      "3/3 [==============================] - 0s 83ms/step - loss: 0.0349 - acc: 0.9909 - f1_m: 0.9909 - precision_m: 0.9909 - recall_m: 0.9909 - auc_2: 0.9995 - false_negatives_2: 0.7500 - false_positives_2: 0.7500 - true_negatives_2: 143.2500 - true_positives_2: 71.2500 - mean_absolute_error: 0.0081 - mean_squared_error: 0.0058 - val_loss: 0.3048 - val_acc: 0.7917 - val_f1_m: 0.8085 - val_precision_m: 0.8261 - val_recall_m: 0.7917 - val_auc_2: 0.9688 - val_false_negatives_2: 5.0000 - val_false_positives_2: 4.0000 - val_true_negatives_2: 44.0000 - val_true_positives_2: 19.0000 - val_mean_absolute_error: 0.1218 - val_mean_squared_error: 0.0694\n",
      "\n",
      "Epoch 00015: val_acc did not improve from 0.79167\n",
      "Epoch 16/50\n",
      "3/3 [==============================] - 0s 83ms/step - loss: 0.0085 - acc: 0.9948 - f1_m: 0.9948 - precision_m: 0.9948 - recall_m: 0.9948 - auc_2: 1.0000 - false_negatives_2: 0.5000 - false_positives_2: 0.5000 - true_negatives_2: 143.5000 - true_positives_2: 71.5000 - mean_absolute_error: 0.0045 - mean_squared_error: 0.0014 - val_loss: 0.2958 - val_acc: 0.8333 - val_f1_m: 0.8511 - val_precision_m: 0.8696 - val_recall_m: 0.8333 - val_auc_2: 0.9757 - val_false_negatives_2: 4.0000 - val_false_positives_2: 3.0000 - val_true_negatives_2: 45.0000 - val_true_positives_2: 20.0000 - val_mean_absolute_error: 0.1134 - val_mean_squared_error: 0.0642\n",
      "\n",
      "Epoch 00016: val_acc improved from 0.79167 to 0.83333, saving model to /mnt/sda1/image-results-iris/results/fold2-resnet50v2-saved-model-16-val_acc-0.83.hdf5\n",
      "Epoch 17/50\n",
      "3/3 [==============================] - 0s 89ms/step - loss: 0.0052 - acc: 1.0000 - f1_m: 1.0000 - precision_m: 1.0000 - recall_m: 1.0000 - auc_2: 1.0000 - false_negatives_2: 0.0000e+00 - false_positives_2: 0.0000e+00 - true_negatives_2: 144.0000 - true_positives_2: 72.0000 - mean_absolute_error: 0.0033 - mean_squared_error: 1.9679e-04 - val_loss: 0.2952 - val_acc: 0.8333 - val_f1_m: 0.8333 - val_precision_m: 0.8333 - val_recall_m: 0.8333 - val_auc_2: 0.9757 - val_false_negatives_2: 4.0000 - val_false_positives_2: 4.0000 - val_true_negatives_2: 44.0000 - val_true_positives_2: 20.0000 - val_mean_absolute_error: 0.1093 - val_mean_squared_error: 0.0652\n",
      "\n",
      "Epoch 00017: val_acc did not improve from 0.83333\n",
      "Epoch 18/50\n",
      "3/3 [==============================] - 0s 83ms/step - loss: 0.0734 - acc: 0.9740 - f1_m: 0.9740 - precision_m: 0.9740 - recall_m: 0.9740 - auc_2: 0.9986 - false_negatives_2: 1.7500 - false_positives_2: 1.7500 - true_negatives_2: 142.2500 - true_positives_2: 70.2500 - mean_absolute_error: 0.0191 - mean_squared_error: 0.0131 - val_loss: 0.2568 - val_acc: 0.8333 - val_f1_m: 0.8333 - val_precision_m: 0.8333 - val_recall_m: 0.8333 - val_auc_2: 0.9826 - val_false_negatives_2: 4.0000 - val_false_positives_2: 4.0000 - val_true_negatives_2: 44.0000 - val_true_positives_2: 20.0000 - val_mean_absolute_error: 0.0995 - val_mean_squared_error: 0.0606\n",
      "\n",
      "Epoch 00018: val_acc did not improve from 0.83333\n",
      "Epoch 19/50\n",
      "3/3 [==============================] - 0s 91ms/step - loss: 0.0095 - acc: 1.0000 - f1_m: 1.0000 - precision_m: 1.0000 - recall_m: 1.0000 - auc_2: 1.0000 - false_negatives_2: 0.0000e+00 - false_positives_2: 0.0000e+00 - true_negatives_2: 144.0000 - true_positives_2: 72.0000 - mean_absolute_error: 0.0059 - mean_squared_error: 6.7438e-04 - val_loss: 0.2425 - val_acc: 0.8333 - val_f1_m: 0.8333 - val_precision_m: 0.8333 - val_recall_m: 0.8333 - val_auc_2: 0.9831 - val_false_negatives_2: 4.0000 - val_false_positives_2: 4.0000 - val_true_negatives_2: 44.0000 - val_true_positives_2: 20.0000 - val_mean_absolute_error: 0.0959 - val_mean_squared_error: 0.0576\n",
      "\n",
      "Epoch 00019: val_acc did not improve from 0.83333\n",
      "Epoch 20/50\n",
      "3/3 [==============================] - 0s 81ms/step - loss: 0.0275 - acc: 0.9857 - f1_m: 0.9857 - precision_m: 0.9857 - recall_m: 0.9857 - auc_2: 0.9999 - false_negatives_2: 1.2500 - false_positives_2: 1.2500 - true_negatives_2: 142.7500 - true_positives_2: 70.7500 - mean_absolute_error: 0.0105 - mean_squared_error: 0.0061 - val_loss: 0.1763 - val_acc: 0.9167 - val_f1_m: 0.9167 - val_precision_m: 0.9167 - val_recall_m: 0.9167 - val_auc_2: 0.9900 - val_false_negatives_2: 2.0000 - val_false_positives_2: 2.0000 - val_true_negatives_2: 46.0000 - val_true_positives_2: 22.0000 - val_mean_absolute_error: 0.0758 - val_mean_squared_error: 0.0396\n",
      "\n",
      "Epoch 00020: val_acc improved from 0.83333 to 0.91667, saving model to /mnt/sda1/image-results-iris/results/fold2-resnet50v2-saved-model-20-val_acc-0.92.hdf5\n",
      "Epoch 21/50\n",
      "3/3 [==============================] - 0s 85ms/step - loss: 0.0064 - acc: 0.9948 - f1_m: 0.9948 - precision_m: 0.9948 - recall_m: 0.9948 - auc_2: 1.0000 - false_negatives_2: 0.5000 - false_positives_2: 0.5000 - true_negatives_2: 143.5000 - true_positives_2: 71.5000 - mean_absolute_error: 0.0033 - mean_squared_error: 0.0012 - val_loss: 0.1458 - val_acc: 0.9167 - val_f1_m: 0.9167 - val_precision_m: 0.9167 - val_recall_m: 0.9167 - val_auc_2: 0.9922 - val_false_negatives_2: 2.0000 - val_false_positives_2: 2.0000 - val_true_negatives_2: 46.0000 - val_true_positives_2: 22.0000 - val_mean_absolute_error: 0.0692 - val_mean_squared_error: 0.0322\n",
      "\n",
      "Epoch 00021: val_acc did not improve from 0.91667\n",
      "Epoch 22/50\n",
      "3/3 [==============================] - 0s 83ms/step - loss: 0.0082 - acc: 1.0000 - f1_m: 1.0000 - precision_m: 1.0000 - recall_m: 1.0000 - auc_2: 1.0000 - false_negatives_2: 0.0000e+00 - false_positives_2: 0.0000e+00 - true_negatives_2: 144.0000 - true_positives_2: 72.0000 - mean_absolute_error: 0.0049 - mean_squared_error: 9.1260e-04 - val_loss: 0.1356 - val_acc: 0.9167 - val_f1_m: 0.9167 - val_precision_m: 0.9167 - val_recall_m: 0.9167 - val_auc_2: 0.9948 - val_false_negatives_2: 2.0000 - val_false_positives_2: 2.0000 - val_true_negatives_2: 46.0000 - val_true_positives_2: 22.0000 - val_mean_absolute_error: 0.0622 - val_mean_squared_error: 0.0300\n",
      "\n",
      "Epoch 00022: val_acc did not improve from 0.91667\n",
      "Best model results: val_acc: 0.9166666865348816, val_loss: 0.1355724334716797\n"
     ]
    }
   ],
   "source": [
    "best_model = train_resnet_model_k_fold(num_classes, img_size, f\"{new_dir}/Train/\", number_of_epochs, f\"{image_directory}/results/\", num_folds, batch_size)"
   ]
  },
  {
   "attachments": {},
   "cell_type": "markdown",
   "metadata": {},
   "source": [
    "## Evaluate Performance on Test Data"
   ]
  },
  {
   "cell_type": "code",
   "execution_count": 5,
   "metadata": {},
   "outputs": [
    {
     "name": "stdout",
     "output_type": "stream",
     "text": [
      "Found 54 images belonging to 3 classes.\n",
      "2/2 [==============================] - 19s 18s/step - loss: 0.5577 - acc: 0.8719 - recall_m: 0.8712 - auc_3: 0.9402 - false_negatives_3: 6.0000 - false_positives_3: 6.0000 - true_negatives_3: 87.3333 - true_positives_3: 40.6667 - mean_absolute_error: 0.1086 - mean_squared_error: 0.0802\n",
      "[0.5954808592796326, 0.8703703880310059, 0.8693181872367859, 0.935442328453064, 7.0, 7.0, 101.0, 47.0, 0.10876356065273285, 0.08314419537782669]\n"
     ]
    }
   ],
   "source": [
    "evaluate_on_test_data(f\"{image_directory}/results/best_model.h5\", f\"{new_dir}Validation/\", img_size, batch_size)"
   ]
  },
  {
   "cell_type": "code",
   "execution_count": null,
   "metadata": {},
   "outputs": [],
   "source": []
  }
 ],
 "metadata": {
  "kernelspec": {
   "display_name": "keras_gpu",
   "language": "python",
   "name": "python3"
  },
  "language_info": {
   "codemirror_mode": {
    "name": "ipython",
    "version": 3
   },
   "file_extension": ".py",
   "mimetype": "text/x-python",
   "name": "python",
   "nbconvert_exporter": "python",
   "pygments_lexer": "ipython3",
   "version": "3.9.13"
  },
  "orig_nbformat": 4,
  "vscode": {
   "interpreter": {
    "hash": "01b43af51fd77f9f473dc8138d7466027ddf88d382b9cdd9bb3068aee8377522"
   }
  }
 },
 "nbformat": 4,
 "nbformat_minor": 2
}
