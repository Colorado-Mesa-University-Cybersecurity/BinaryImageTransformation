{
 "cells": [
  {
   "attachments": {},
   "cell_type": "markdown",
   "metadata": {},
   "source": [
    "# Experimental Template\n",
    "The following notebook acts as a template for experiments. The one step not included is the data cleaning phase!\n",
    "<br />\n",
    "<br />\n",
    "I have put FIXME tags next to the areas that you will need to address.\n",
    "<br />\n",
    "<br />\n",
    "If you are curious to know more about how the code works, look at the `helper_functions.py` file."
   ]
  },
  {
   "attachments": {},
   "cell_type": "markdown",
   "metadata": {},
   "source": [
    "## Imports and Setup"
   ]
  },
  {
   "cell_type": "code",
   "execution_count": 15,
   "metadata": {},
   "outputs": [],
   "source": [
    "from helper_functions import pd, os, shutil\n",
    "from helper_functions import convert_samples_to_binary, get_column_data_types, print_library_versions, add_id_column"
   ]
  },
  {
   "cell_type": "code",
   "execution_count": 16,
   "metadata": {},
   "outputs": [
    {
     "name": "stdout",
     "output_type": "stream",
     "text": [
      "pandas version:           1.4.1\n",
      "matplotlib version:       3.5.1\n",
      "numpy version:            1.18.5\n",
      "bitstring version:        3.1.9\n",
      "joblib version:           1.1.0\n",
      "PIL version:              8.2.0\n"
     ]
    }
   ],
   "source": [
    "print_library_versions()"
   ]
  },
  {
   "attachments": {},
   "cell_type": "markdown",
   "metadata": {},
   "source": [
    "## Data Loading and Cleaning"
   ]
  },
  {
   "cell_type": "code",
   "execution_count": 17,
   "metadata": {},
   "outputs": [],
   "source": [
    "# FIXME - update the filename to point to your dataset\n",
    "filename = '/mnt/sda1/iris.csv'\n",
    "df = pd.read_csv(filename)"
   ]
  },
  {
   "cell_type": "code",
   "execution_count": 18,
   "metadata": {},
   "outputs": [
    {
     "data": {
      "text/html": [
       "<div>\n",
       "<style scoped>\n",
       "    .dataframe tbody tr th:only-of-type {\n",
       "        vertical-align: middle;\n",
       "    }\n",
       "\n",
       "    .dataframe tbody tr th {\n",
       "        vertical-align: top;\n",
       "    }\n",
       "\n",
       "    .dataframe thead th {\n",
       "        text-align: right;\n",
       "    }\n",
       "</style>\n",
       "<table border=\"1\" class=\"dataframe\">\n",
       "  <thead>\n",
       "    <tr style=\"text-align: right;\">\n",
       "      <th></th>\n",
       "      <th>Id</th>\n",
       "      <th>SepalLengthCm</th>\n",
       "      <th>SepalWidthCm</th>\n",
       "      <th>PetalLengthCm</th>\n",
       "      <th>PetalWidthCm</th>\n",
       "      <th>Species</th>\n",
       "    </tr>\n",
       "  </thead>\n",
       "  <tbody>\n",
       "    <tr>\n",
       "      <th>0</th>\n",
       "      <td>1</td>\n",
       "      <td>5.1</td>\n",
       "      <td>3.5</td>\n",
       "      <td>1.4</td>\n",
       "      <td>0.2</td>\n",
       "      <td>Iris-setosa</td>\n",
       "    </tr>\n",
       "    <tr>\n",
       "      <th>1</th>\n",
       "      <td>2</td>\n",
       "      <td>4.9</td>\n",
       "      <td>3.0</td>\n",
       "      <td>1.4</td>\n",
       "      <td>0.2</td>\n",
       "      <td>Iris-setosa</td>\n",
       "    </tr>\n",
       "    <tr>\n",
       "      <th>2</th>\n",
       "      <td>3</td>\n",
       "      <td>4.7</td>\n",
       "      <td>3.2</td>\n",
       "      <td>1.3</td>\n",
       "      <td>0.2</td>\n",
       "      <td>Iris-setosa</td>\n",
       "    </tr>\n",
       "    <tr>\n",
       "      <th>3</th>\n",
       "      <td>4</td>\n",
       "      <td>4.6</td>\n",
       "      <td>3.1</td>\n",
       "      <td>1.5</td>\n",
       "      <td>0.2</td>\n",
       "      <td>Iris-setosa</td>\n",
       "    </tr>\n",
       "    <tr>\n",
       "      <th>4</th>\n",
       "      <td>5</td>\n",
       "      <td>5.0</td>\n",
       "      <td>3.6</td>\n",
       "      <td>1.4</td>\n",
       "      <td>0.2</td>\n",
       "      <td>Iris-setosa</td>\n",
       "    </tr>\n",
       "  </tbody>\n",
       "</table>\n",
       "</div>"
      ],
      "text/plain": [
       "   Id  SepalLengthCm  SepalWidthCm  PetalLengthCm  PetalWidthCm      Species\n",
       "0   1            5.1           3.5            1.4           0.2  Iris-setosa\n",
       "1   2            4.9           3.0            1.4           0.2  Iris-setosa\n",
       "2   3            4.7           3.2            1.3           0.2  Iris-setosa\n",
       "3   4            4.6           3.1            1.5           0.2  Iris-setosa\n",
       "4   5            5.0           3.6            1.4           0.2  Iris-setosa"
      ]
     },
     "execution_count": 18,
     "metadata": {},
     "output_type": "execute_result"
    }
   ],
   "source": [
    "df.head()"
   ]
  },
  {
   "cell_type": "code",
   "execution_count": 19,
   "metadata": {},
   "outputs": [
    {
     "name": "stdout",
     "output_type": "stream",
     "text": [
      "<class 'pandas.core.frame.DataFrame'>\n",
      "RangeIndex: 150 entries, 0 to 149\n",
      "Data columns (total 6 columns):\n",
      " #   Column         Non-Null Count  Dtype  \n",
      "---  ------         --------------  -----  \n",
      " 0   Id             150 non-null    int64  \n",
      " 1   SepalLengthCm  150 non-null    float64\n",
      " 2   SepalWidthCm   150 non-null    float64\n",
      " 3   PetalLengthCm  150 non-null    float64\n",
      " 4   PetalWidthCm   150 non-null    float64\n",
      " 5   Species        150 non-null    object \n",
      "dtypes: float64(4), int64(1), object(1)\n",
      "memory usage: 7.2+ KB\n"
     ]
    }
   ],
   "source": [
    "df.info()"
   ]
  },
  {
   "attachments": {},
   "cell_type": "markdown",
   "metadata": {},
   "source": [
    "# NOTE:\n",
    "The following code segments are specific to my dataset. This is where you will need to perform your own data cleaning!!!\n",
    "<br />\n",
    "<br />\n",
    "This will be the most difficult/time intensive aspect."
   ]
  },
  {
   "cell_type": "code",
   "execution_count": 20,
   "metadata": {},
   "outputs": [
    {
     "data": {
      "text/html": [
       "<div>\n",
       "<style scoped>\n",
       "    .dataframe tbody tr th:only-of-type {\n",
       "        vertical-align: middle;\n",
       "    }\n",
       "\n",
       "    .dataframe tbody tr th {\n",
       "        vertical-align: top;\n",
       "    }\n",
       "\n",
       "    .dataframe thead th {\n",
       "        text-align: right;\n",
       "    }\n",
       "</style>\n",
       "<table border=\"1\" class=\"dataframe\">\n",
       "  <thead>\n",
       "    <tr style=\"text-align: right;\">\n",
       "      <th></th>\n",
       "      <th>Id</th>\n",
       "      <th>SepalLengthCm</th>\n",
       "      <th>SepalWidthCm</th>\n",
       "      <th>PetalLengthCm</th>\n",
       "      <th>PetalWidthCm</th>\n",
       "      <th>Species</th>\n",
       "    </tr>\n",
       "  </thead>\n",
       "  <tbody>\n",
       "    <tr>\n",
       "      <th>0</th>\n",
       "      <td>1-setosa</td>\n",
       "      <td>5.1</td>\n",
       "      <td>3.5</td>\n",
       "      <td>1.4</td>\n",
       "      <td>0.2</td>\n",
       "      <td>Iris-setosa</td>\n",
       "    </tr>\n",
       "    <tr>\n",
       "      <th>1</th>\n",
       "      <td>2-setosa</td>\n",
       "      <td>4.9</td>\n",
       "      <td>3.0</td>\n",
       "      <td>1.4</td>\n",
       "      <td>0.2</td>\n",
       "      <td>Iris-setosa</td>\n",
       "    </tr>\n",
       "    <tr>\n",
       "      <th>2</th>\n",
       "      <td>3-setosa</td>\n",
       "      <td>4.7</td>\n",
       "      <td>3.2</td>\n",
       "      <td>1.3</td>\n",
       "      <td>0.2</td>\n",
       "      <td>Iris-setosa</td>\n",
       "    </tr>\n",
       "    <tr>\n",
       "      <th>3</th>\n",
       "      <td>4-setosa</td>\n",
       "      <td>4.6</td>\n",
       "      <td>3.1</td>\n",
       "      <td>1.5</td>\n",
       "      <td>0.2</td>\n",
       "      <td>Iris-setosa</td>\n",
       "    </tr>\n",
       "    <tr>\n",
       "      <th>4</th>\n",
       "      <td>5-setosa</td>\n",
       "      <td>5.0</td>\n",
       "      <td>3.6</td>\n",
       "      <td>1.4</td>\n",
       "      <td>0.2</td>\n",
       "      <td>Iris-setosa</td>\n",
       "    </tr>\n",
       "    <tr>\n",
       "      <th>...</th>\n",
       "      <td>...</td>\n",
       "      <td>...</td>\n",
       "      <td>...</td>\n",
       "      <td>...</td>\n",
       "      <td>...</td>\n",
       "      <td>...</td>\n",
       "    </tr>\n",
       "    <tr>\n",
       "      <th>145</th>\n",
       "      <td>46-virginica</td>\n",
       "      <td>6.7</td>\n",
       "      <td>3.0</td>\n",
       "      <td>5.2</td>\n",
       "      <td>2.3</td>\n",
       "      <td>Iris-virginica</td>\n",
       "    </tr>\n",
       "    <tr>\n",
       "      <th>146</th>\n",
       "      <td>47-virginica</td>\n",
       "      <td>6.3</td>\n",
       "      <td>2.5</td>\n",
       "      <td>5.0</td>\n",
       "      <td>1.9</td>\n",
       "      <td>Iris-virginica</td>\n",
       "    </tr>\n",
       "    <tr>\n",
       "      <th>147</th>\n",
       "      <td>48-virginica</td>\n",
       "      <td>6.5</td>\n",
       "      <td>3.0</td>\n",
       "      <td>5.2</td>\n",
       "      <td>2.0</td>\n",
       "      <td>Iris-virginica</td>\n",
       "    </tr>\n",
       "    <tr>\n",
       "      <th>148</th>\n",
       "      <td>49-virginica</td>\n",
       "      <td>6.2</td>\n",
       "      <td>3.4</td>\n",
       "      <td>5.4</td>\n",
       "      <td>2.3</td>\n",
       "      <td>Iris-virginica</td>\n",
       "    </tr>\n",
       "    <tr>\n",
       "      <th>149</th>\n",
       "      <td>50-virginica</td>\n",
       "      <td>5.9</td>\n",
       "      <td>3.0</td>\n",
       "      <td>5.1</td>\n",
       "      <td>1.8</td>\n",
       "      <td>Iris-virginica</td>\n",
       "    </tr>\n",
       "  </tbody>\n",
       "</table>\n",
       "<p>150 rows × 6 columns</p>\n",
       "</div>"
      ],
      "text/plain": [
       "               Id  SepalLengthCm  SepalWidthCm  PetalLengthCm  PetalWidthCm  \\\n",
       "0        1-setosa            5.1           3.5            1.4           0.2   \n",
       "1        2-setosa            4.9           3.0            1.4           0.2   \n",
       "2        3-setosa            4.7           3.2            1.3           0.2   \n",
       "3        4-setosa            4.6           3.1            1.5           0.2   \n",
       "4        5-setosa            5.0           3.6            1.4           0.2   \n",
       "..            ...            ...           ...            ...           ...   \n",
       "145  46-virginica            6.7           3.0            5.2           2.3   \n",
       "146  47-virginica            6.3           2.5            5.0           1.9   \n",
       "147  48-virginica            6.5           3.0            5.2           2.0   \n",
       "148  49-virginica            6.2           3.4            5.4           2.3   \n",
       "149  50-virginica            5.9           3.0            5.1           1.8   \n",
       "\n",
       "            Species  \n",
       "0       Iris-setosa  \n",
       "1       Iris-setosa  \n",
       "2       Iris-setosa  \n",
       "3       Iris-setosa  \n",
       "4       Iris-setosa  \n",
       "..              ...  \n",
       "145  Iris-virginica  \n",
       "146  Iris-virginica  \n",
       "147  Iris-virginica  \n",
       "148  Iris-virginica  \n",
       "149  Iris-virginica  \n",
       "\n",
       "[150 rows x 6 columns]"
      ]
     },
     "execution_count": 20,
     "metadata": {},
     "output_type": "execute_result"
    }
   ],
   "source": [
    "# FIXME - change the value 'species' to match the 'y' value of your dataset\n",
    "# This function will give your dataframe an 'id' column which will be used to identify the samples in the dataset\n",
    "df = add_id_column(df, 'Species')\n",
    "df"
   ]
  },
  {
   "cell_type": "code",
   "execution_count": 21,
   "metadata": {},
   "outputs": [],
   "source": [
    "# FIXME - Perform any data cleaning or preprocessing steps here"
   ]
  },
  {
   "cell_type": "code",
   "execution_count": 22,
   "metadata": {},
   "outputs": [
    {
     "name": "stdout",
     "output_type": "stream",
     "text": [
      "x (150, 4)\n",
      "Y (150,)\n",
      "This value should be True: True\n"
     ]
    }
   ],
   "source": [
    "# FIXME - get the correct values in x and Y for your dataset\n",
    "x = df.drop(['Species', 'Id'], axis=1)\n",
    "Y = df['Species']\n",
    "print(f\"x {x.shape}\")\n",
    "print(f\"Y {Y.shape}\")\n",
    "print(f\"This value should be True: {x.shape[0] == Y.shape[0]}\")"
   ]
  },
  {
   "attachments": {},
   "cell_type": "markdown",
   "metadata": {},
   "source": [
    "## Image Generation"
   ]
  },
  {
   "cell_type": "code",
   "execution_count": 23,
   "metadata": {},
   "outputs": [
    {
     "name": "stdout",
     "output_type": "stream",
     "text": [
      "[0, 0, 0, 0]\n"
     ]
    }
   ],
   "source": [
    "# FIXME - update the image directory to point to a directory where you want the images to be saved. Create a folder there.\n",
    "# Change any other constants you want to change\n",
    "image_directory = \"/mnt/sda1/image-results-iris\"\n",
    "feature_types = get_column_data_types(x)\n",
    "precision = 64\n",
    "one = 128\n",
    "zero = 0\n",
    "n_jobs = -1\n",
    "# For feature_types, 0 = float, 1 = int, 2 = bool\n",
    "print(feature_types)"
   ]
  },
  {
   "cell_type": "code",
   "execution_count": 24,
   "metadata": {},
   "outputs": [],
   "source": [
    "convert_samples_to_binary(x, df[\"Id\"], image_directory, precision, one, zero, n_jobs, feature_types)"
   ]
  },
  {
   "attachments": {},
   "cell_type": "markdown",
   "metadata": {},
   "source": [
    "## Place Folders into the Correct Categories"
   ]
  },
  {
   "cell_type": "code",
   "execution_count": 25,
   "metadata": {},
   "outputs": [],
   "source": [
    "dirs = Y.unique().tolist()\n",
    "if not os.path.exists(image_directory + '/data'):\n",
    "    os.mkdir(image_directory + '/data')\n",
    "new_dir = image_directory + '/data/'\n",
    "if not os.path.exists(new_dir+'Train/'):\n",
    "    os.mkdir(new_dir+'Train/')\n",
    "for i in dirs:\n",
    "    i = str(i).split('-')[1]\n",
    "    if not os.path.exists(new_dir+'Train/'+i):\n",
    "        os.mkdir(new_dir+'Train/'+i)"
   ]
  },
  {
   "attachments": {},
   "cell_type": "markdown",
   "metadata": {},
   "source": [
    "### Place pictures into the correct folder"
   ]
  },
  {
   "cell_type": "code",
   "execution_count": 26,
   "metadata": {},
   "outputs": [
    {
     "name": "stdout",
     "output_type": "stream",
     "text": [
      "150\n",
      "{'setosa': 50, 'versicolor': 50, 'virginica': 50}\n"
     ]
    }
   ],
   "source": [
    "total_images = 0\n",
    "type_counts = {value.split(\"-\")[1]: 0 for value in dirs}\n",
    "for file in os.listdir(image_directory):\n",
    "    try:\n",
    "        dir = file.split(\"-\")[1].split(\".\")[0]\n",
    "    except:\n",
    "        continue\n",
    "    type_counts[dir]+=1\n",
    "    shutil.move(f\"{image_directory}/{file}\", f\"{new_dir}Train/{dir}/{file}\")\n",
    "    total_images += 1\n",
    "print(total_images)\n",
    "print(type_counts)"
   ]
  },
  {
   "attachments": {},
   "cell_type": "markdown",
   "metadata": {},
   "source": [
    "## Train ResNet50"
   ]
  },
  {
   "attachments": {},
   "cell_type": "markdown",
   "metadata": {},
   "source": [
    "### Once experiments are running, view the live updates on TensorBoard\n",
    "Run the command `tensorboard --logdir=[your log directory]` in the terminal. \n",
    "<br />\n",
    "<br />\n",
    "Then, open a browser and navigate to `localhost:6006`.\n",
    "<br />\n",
    "<br />\n",
    "![TensorBoard](./tensorboard.png)"
   ]
  },
  {
   "cell_type": "code",
   "execution_count": 1,
   "metadata": {},
   "outputs": [
    {
     "name": "stderr",
     "output_type": "stream",
     "text": [
      "2023-03-05 16:04:27.646662: I tensorflow/stream_executor/platform/default/dso_loader.cc:49] Successfully opened dynamic library libcudart.so.10.1\n"
     ]
    }
   ],
   "source": [
    "from resnet import print_dl_versions, train_resnet_model_k_fold, evaluate_on_test_data, plot_metrics"
   ]
  },
  {
   "cell_type": "code",
   "execution_count": 2,
   "metadata": {},
   "outputs": [],
   "source": [
    "# FIXME - update the values below to match your dataset\n",
    "img_size = 64\n",
    "target_size = (img_size,img_size)\n",
    "# Number of classification types\n",
    "num_classes = 3\n",
    "# Number of samples to run through the model before updating the weights\n",
    "# Higher batch size means more memory is required and training will be faster. Maybe use 64 for larger datasets\n",
    "batch_size = 32\n",
    "# Number of times to run through the entire dataset\n",
    "# Depending on the size of your dataset, you may want to increase/decrease this number\n",
    "num_folds = 5\n",
    "number_of_epochs = 100"
   ]
  },
  {
   "cell_type": "code",
   "execution_count": 4,
   "metadata": {},
   "outputs": [
    {
     "name": "stderr",
     "output_type": "stream",
     "text": [
      "2023-03-05 16:04:30.202384: I tensorflow/compiler/jit/xla_cpu_device.cc:41] Not creating XLA devices, tf_xla_enable_xla_devices not set\n",
      "2023-03-05 16:04:30.203219: I tensorflow/stream_executor/platform/default/dso_loader.cc:49] Successfully opened dynamic library libcuda.so.1\n",
      "2023-03-05 16:04:30.233424: I tensorflow/stream_executor/cuda/cuda_gpu_executor.cc:941] successful NUMA node read from SysFS had negative value (-1), but there must be at least one NUMA node, so returning NUMA node zero\n",
      "2023-03-05 16:04:30.233822: I tensorflow/core/common_runtime/gpu/gpu_device.cc:1720] Found device 0 with properties: \n",
      "pciBusID: 0000:01:00.0 name: NVIDIA GeForce GTX 1080 computeCapability: 6.1\n",
      "coreClock: 1.7715GHz coreCount: 20 deviceMemorySize: 7.92GiB deviceMemoryBandwidth: 298.32GiB/s\n",
      "2023-03-05 16:04:30.233864: I tensorflow/stream_executor/platform/default/dso_loader.cc:49] Successfully opened dynamic library libcudart.so.10.1\n",
      "2023-03-05 16:04:30.235765: I tensorflow/stream_executor/platform/default/dso_loader.cc:49] Successfully opened dynamic library libcublas.so.10\n",
      "2023-03-05 16:04:30.235853: I tensorflow/stream_executor/platform/default/dso_loader.cc:49] Successfully opened dynamic library libcublasLt.so.10\n",
      "2023-03-05 16:04:30.237393: I tensorflow/stream_executor/platform/default/dso_loader.cc:49] Successfully opened dynamic library libcufft.so.10\n",
      "2023-03-05 16:04:30.237730: I tensorflow/stream_executor/platform/default/dso_loader.cc:49] Successfully opened dynamic library libcurand.so.10\n",
      "2023-03-05 16:04:30.239545: I tensorflow/stream_executor/platform/default/dso_loader.cc:49] Successfully opened dynamic library libcusolver.so.10\n",
      "2023-03-05 16:04:30.240618: I tensorflow/stream_executor/platform/default/dso_loader.cc:49] Successfully opened dynamic library libcusparse.so.10\n",
      "2023-03-05 16:04:30.244511: I tensorflow/stream_executor/platform/default/dso_loader.cc:49] Successfully opened dynamic library libcudnn.so.7\n",
      "2023-03-05 16:04:30.244699: I tensorflow/stream_executor/cuda/cuda_gpu_executor.cc:941] successful NUMA node read from SysFS had negative value (-1), but there must be at least one NUMA node, so returning NUMA node zero\n",
      "2023-03-05 16:04:30.245167: I tensorflow/stream_executor/cuda/cuda_gpu_executor.cc:941] successful NUMA node read from SysFS had negative value (-1), but there must be at least one NUMA node, so returning NUMA node zero\n",
      "2023-03-05 16:04:30.245499: I tensorflow/core/common_runtime/gpu/gpu_device.cc:1862] Adding visible gpu devices: 0\n",
      "2023-03-05 16:04:30.246298: I tensorflow/core/platform/cpu_feature_guard.cc:142] This TensorFlow binary is optimized with oneAPI Deep Neural Network Library (oneDNN) to use the following CPU instructions in performance-critical operations:  SSE4.1 SSE4.2 AVX AVX2 FMA\n",
      "To enable them in other operations, rebuild TensorFlow with the appropriate compiler flags.\n",
      "2023-03-05 16:04:30.246584: I tensorflow/compiler/jit/xla_gpu_device.cc:99] Not creating XLA devices, tf_xla_enable_xla_devices not set\n",
      "2023-03-05 16:04:30.246738: I tensorflow/stream_executor/cuda/cuda_gpu_executor.cc:941] successful NUMA node read from SysFS had negative value (-1), but there must be at least one NUMA node, so returning NUMA node zero\n",
      "2023-03-05 16:04:30.247014: I tensorflow/core/common_runtime/gpu/gpu_device.cc:1720] Found device 0 with properties: \n",
      "pciBusID: 0000:01:00.0 name: NVIDIA GeForce GTX 1080 computeCapability: 6.1\n",
      "coreClock: 1.7715GHz coreCount: 20 deviceMemorySize: 7.92GiB deviceMemoryBandwidth: 298.32GiB/s\n",
      "2023-03-05 16:04:30.247044: I tensorflow/stream_executor/platform/default/dso_loader.cc:49] Successfully opened dynamic library libcudart.so.10.1\n",
      "2023-03-05 16:04:30.247073: I tensorflow/stream_executor/platform/default/dso_loader.cc:49] Successfully opened dynamic library libcublas.so.10\n",
      "2023-03-05 16:04:30.247089: I tensorflow/stream_executor/platform/default/dso_loader.cc:49] Successfully opened dynamic library libcublasLt.so.10\n",
      "2023-03-05 16:04:30.247104: I tensorflow/stream_executor/platform/default/dso_loader.cc:49] Successfully opened dynamic library libcufft.so.10\n",
      "2023-03-05 16:04:30.247119: I tensorflow/stream_executor/platform/default/dso_loader.cc:49] Successfully opened dynamic library libcurand.so.10\n",
      "2023-03-05 16:04:30.247134: I tensorflow/stream_executor/platform/default/dso_loader.cc:49] Successfully opened dynamic library libcusolver.so.10\n",
      "2023-03-05 16:04:30.247149: I tensorflow/stream_executor/platform/default/dso_loader.cc:49] Successfully opened dynamic library libcusparse.so.10\n",
      "2023-03-05 16:04:30.247164: I tensorflow/stream_executor/platform/default/dso_loader.cc:49] Successfully opened dynamic library libcudnn.so.7\n",
      "2023-03-05 16:04:30.247230: I tensorflow/stream_executor/cuda/cuda_gpu_executor.cc:941] successful NUMA node read from SysFS had negative value (-1), but there must be at least one NUMA node, so returning NUMA node zero\n",
      "2023-03-05 16:04:30.247514: I tensorflow/stream_executor/cuda/cuda_gpu_executor.cc:941] successful NUMA node read from SysFS had negative value (-1), but there must be at least one NUMA node, so returning NUMA node zero\n",
      "2023-03-05 16:04:30.247748: I tensorflow/core/common_runtime/gpu/gpu_device.cc:1862] Adding visible gpu devices: 0\n",
      "2023-03-05 16:04:30.247777: I tensorflow/stream_executor/platform/default/dso_loader.cc:49] Successfully opened dynamic library libcudart.so.10.1\n",
      "2023-03-05 16:04:30.661324: I tensorflow/core/common_runtime/gpu/gpu_device.cc:1261] Device interconnect StreamExecutor with strength 1 edge matrix:\n",
      "2023-03-05 16:04:30.661348: I tensorflow/core/common_runtime/gpu/gpu_device.cc:1267]      0 \n",
      "2023-03-05 16:04:30.661354: I tensorflow/core/common_runtime/gpu/gpu_device.cc:1280] 0:   N \n",
      "2023-03-05 16:04:30.661524: I tensorflow/stream_executor/cuda/cuda_gpu_executor.cc:941] successful NUMA node read from SysFS had negative value (-1), but there must be at least one NUMA node, so returning NUMA node zero\n",
      "2023-03-05 16:04:30.661836: I tensorflow/stream_executor/cuda/cuda_gpu_executor.cc:941] successful NUMA node read from SysFS had negative value (-1), but there must be at least one NUMA node, so returning NUMA node zero\n",
      "2023-03-05 16:04:30.662107: I tensorflow/stream_executor/cuda/cuda_gpu_executor.cc:941] successful NUMA node read from SysFS had negative value (-1), but there must be at least one NUMA node, so returning NUMA node zero\n",
      "2023-03-05 16:04:30.662350: I tensorflow/core/common_runtime/gpu/gpu_device.cc:1406] Created TensorFlow device (/job:localhost/replica:0/task:0/device:GPU:0 with 6872 MB memory) -> physical GPU (device: 0, name: NVIDIA GeForce GTX 1080, pci bus id: 0000:01:00.0, compute capability: 6.1)\n"
     ]
    },
    {
     "name": "stdout",
     "output_type": "stream",
     "text": [
      "Fold:  0\n",
      "Found 120 images belonging to 3 classes.\n",
      "Found 30 images belonging to 3 classes.\n"
     ]
    },
    {
     "name": "stderr",
     "output_type": "stream",
     "text": [
      "2023-03-05 16:04:31.813439: I tensorflow/core/profiler/lib/profiler_session.cc:136] Profiler session initializing.\n",
      "2023-03-05 16:04:31.813464: I tensorflow/core/profiler/lib/profiler_session.cc:155] Profiler session started.\n",
      "2023-03-05 16:04:31.813492: I tensorflow/core/profiler/internal/gpu/cupti_tracer.cc:1365] Profiler found 1 GPUs\n",
      "2023-03-05 16:04:31.814034: I tensorflow/stream_executor/platform/default/dso_loader.cc:49] Successfully opened dynamic library libcupti.so.10.1\n",
      "2023-03-05 16:04:31.881904: I tensorflow/core/profiler/lib/profiler_session.cc:172] Profiler session tear down.\n",
      "2023-03-05 16:04:31.882012: I tensorflow/core/profiler/internal/gpu/cupti_tracer.cc:1487] CUPTI activity buffer flushed\n",
      "2023-03-05 16:04:31.969739: I tensorflow/compiler/mlir/mlir_graph_optimization_pass.cc:116] None of the MLIR optimization passes are enabled (registered 2)\n",
      "2023-03-05 16:04:31.988010: I tensorflow/core/platform/profile_utils/cpu_utils.cc:112] CPU Frequency: 4200000000 Hz\n"
     ]
    },
    {
     "name": "stdout",
     "output_type": "stream",
     "text": [
      "Epoch 1/100\n"
     ]
    },
    {
     "name": "stderr",
     "output_type": "stream",
     "text": [
      "2023-03-05 16:04:35.962597: I tensorflow/stream_executor/platform/default/dso_loader.cc:49] Successfully opened dynamic library libcublas.so.10\n",
      "2023-03-05 16:04:36.117443: I tensorflow/stream_executor/platform/default/dso_loader.cc:49] Successfully opened dynamic library libcudnn.so.7\n",
      "2023-03-05 16:04:36.687417: W tensorflow/stream_executor/gpu/asm_compiler.cc:63] Running ptxas --version returned 256\n",
      "2023-03-05 16:04:36.738172: W tensorflow/stream_executor/gpu/redzone_allocator.cc:314] Internal: ptxas exited with non-zero error code 256, output: \n",
      "Relying on driver to perform ptx compilation. \n",
      "Modify $PATH to customize ptxas location.\n",
      "This message will be only logged once.\n"
     ]
    },
    {
     "name": "stdout",
     "output_type": "stream",
     "text": [
      "1/4 [======>.......................] - ETA: 2:04 - loss: 1.4933 - acc: 0.2812 - f1_m: 0.2222 - precision_m: 0.2727 - recall_m: 0.1875 - auc: 0.4968 - false_negatives: 26.0000 - false_positives: 16.0000 - true_negatives: 48.0000 - true_positives: 6.0000 - mean_absolute_error: 0.4526 - mean_squared_error: 0.2891"
     ]
    },
    {
     "name": "stderr",
     "output_type": "stream",
     "text": [
      "2023-03-05 16:05:13.765252: I tensorflow/core/profiler/lib/profiler_session.cc:136] Profiler session initializing.\n",
      "2023-03-05 16:05:13.765284: I tensorflow/core/profiler/lib/profiler_session.cc:155] Profiler session started.\n"
     ]
    },
    {
     "name": "stdout",
     "output_type": "stream",
     "text": [
      "4/4 [==============================] - ETA: 0s - loss: 1.4207 - acc: 0.3158 - f1_m: 0.2708 - precision_m: 0.3398 - recall_m: 0.2257 - auc: 0.5201 - false_negatives: 56.0000 - false_positives: 31.5000 - true_negatives: 116.5000 - true_positives: 18.0000 - mean_absolute_error: 0.4370 - mean_squared_error: 0.2748"
     ]
    },
    {
     "name": "stderr",
     "output_type": "stream",
     "text": [
      "2023-03-05 16:05:50.020519: I tensorflow/core/profiler/lib/profiler_session.cc:71] Profiler session collecting data.\n",
      "2023-03-05 16:05:50.024996: I tensorflow/core/profiler/internal/gpu/cupti_tracer.cc:1487] CUPTI activity buffer flushed\n",
      "2023-03-05 16:05:50.036043: I tensorflow/core/profiler/internal/gpu/cupti_collector.cc:228]  GpuTracer has collected 5816 callback api events and 5165 activity events. \n",
      "2023-03-05 16:05:50.102757: I tensorflow/core/profiler/lib/profiler_session.cc:172] Profiler session tear down.\n",
      "2023-03-05 16:05:50.166096: I tensorflow/core/profiler/rpc/client/save_profile.cc:137] Creating directory: /mnt/sda1/image-results-iris/results/tb_logs/train/plugins/profile/2023_03_05_16_05_50\n",
      "2023-03-05 16:05:50.208627: I tensorflow/core/profiler/rpc/client/save_profile.cc:143] Dumped gzipped tool data for trace.json.gz to /mnt/sda1/image-results-iris/results/tb_logs/train/plugins/profile/2023_03_05_16_05_50/drake-pc.trace.json.gz\n",
      "2023-03-05 16:05:50.282269: I tensorflow/core/profiler/rpc/client/save_profile.cc:137] Creating directory: /mnt/sda1/image-results-iris/results/tb_logs/train/plugins/profile/2023_03_05_16_05_50\n",
      "2023-03-05 16:05:50.287127: I tensorflow/core/profiler/rpc/client/save_profile.cc:143] Dumped gzipped tool data for memory_profile.json.gz to /mnt/sda1/image-results-iris/results/tb_logs/train/plugins/profile/2023_03_05_16_05_50/drake-pc.memory_profile.json.gz\n",
      "2023-03-05 16:05:50.290187: I tensorflow/core/profiler/rpc/client/capture_profile.cc:251] Creating directory: /mnt/sda1/image-results-iris/results/tb_logs/train/plugins/profile/2023_03_05_16_05_50Dumped tool data for xplane.pb to /mnt/sda1/image-results-iris/results/tb_logs/train/plugins/profile/2023_03_05_16_05_50/drake-pc.xplane.pb\n",
      "Dumped tool data for overview_page.pb to /mnt/sda1/image-results-iris/results/tb_logs/train/plugins/profile/2023_03_05_16_05_50/drake-pc.overview_page.pb\n",
      "Dumped tool data for input_pipeline.pb to /mnt/sda1/image-results-iris/results/tb_logs/train/plugins/profile/2023_03_05_16_05_50/drake-pc.input_pipeline.pb\n",
      "Dumped tool data for tensorflow_stats.pb to /mnt/sda1/image-results-iris/results/tb_logs/train/plugins/profile/2023_03_05_16_05_50/drake-pc.tensorflow_stats.pb\n",
      "Dumped tool data for kernel_stats.pb to /mnt/sda1/image-results-iris/results/tb_logs/train/plugins/profile/2023_03_05_16_05_50/drake-pc.kernel_stats.pb\n",
      "\n"
     ]
    },
    {
     "name": "stdout",
     "output_type": "stream",
     "text": [
      "4/4 [==============================] - 94s 18s/step - loss: 1.4041 - acc: 0.3260 - f1_m: 0.2813 - precision_m: 0.3522 - recall_m: 0.2347 - auc: 0.5299 - false_negatives: 62.2000 - false_positives: 34.8000 - true_negatives: 131.6000 - true_positives: 21.0000 - mean_absolute_error: 0.4325 - mean_squared_error: 0.2714 - val_loss: 5.3515 - val_acc: 0.3333 - val_f1_m: 0.3333 - val_precision_m: 0.3333 - val_recall_m: 0.3333 - val_auc: 0.5214 - val_false_negatives: 20.0000 - val_false_positives: 20.0000 - val_true_negatives: 40.0000 - val_true_positives: 10.0000 - val_mean_absolute_error: 0.4207 - val_mean_squared_error: 0.3867\n",
      "\n",
      "Epoch 00001: val_acc improved from -inf to 0.33333, saving model to /mnt/sda1/image-results-iris/results/fold0-resnet50v2-saved-model-01-val_acc-0.33.hdf5\n",
      "Epoch 2/100\n",
      "4/4 [==============================] - 0s 76ms/step - loss: 0.9866 - acc: 0.6477 - f1_m: 0.6576 - precision_m: 0.7211 - recall_m: 0.6049 - auc: 0.8261 - false_negatives: 34.2000 - false_positives: 21.4000 - true_negatives: 145.0000 - true_positives: 49.0000 - mean_absolute_error: 0.2708 - mean_squared_error: 0.1618 - val_loss: 13.4402 - val_acc: 0.3333 - val_f1_m: 0.3333 - val_precision_m: 0.3333 - val_recall_m: 0.3333 - val_auc: 0.4861 - val_false_negatives: 20.0000 - val_false_positives: 20.0000 - val_true_negatives: 40.0000 - val_true_positives: 10.0000 - val_mean_absolute_error: 0.4539 - val_mean_squared_error: 0.4450\n",
      "\n",
      "Epoch 00002: val_acc did not improve from 0.33333\n",
      "Epoch 3/100\n",
      "4/4 [==============================] - 0s 70ms/step - loss: 0.9680 - acc: 0.7438 - f1_m: 0.7437 - precision_m: 0.7438 - recall_m: 0.7438 - auc: 0.8795 - false_negatives: 21.8000 - false_positives: 21.8000 - true_negatives: 151.0000 - true_positives: 64.6000 - mean_absolute_error: 0.1907 - mean_squared_error: 0.1351 - val_loss: 10.4800 - val_acc: 0.4000 - val_f1_m: 0.4000 - val_precision_m: 0.4000 - val_recall_m: 0.4000 - val_auc: 0.5500 - val_false_negatives: 18.0000 - val_false_positives: 18.0000 - val_true_negatives: 42.0000 - val_true_positives: 12.0000 - val_mean_absolute_error: 0.4000 - val_mean_squared_error: 0.3999\n",
      "\n",
      "Epoch 00003: val_acc improved from 0.33333 to 0.40000, saving model to /mnt/sda1/image-results-iris/results/fold0-resnet50v2-saved-model-03-val_acc-0.40.hdf5\n",
      "Epoch 4/100\n",
      "4/4 [==============================] - 0s 75ms/step - loss: 0.5591 - acc: 0.7610 - f1_m: 0.7291 - precision_m: 0.7556 - recall_m: 0.7087 - auc: 0.9267 - false_negatives: 25.2000 - false_positives: 18.4000 - true_negatives: 148.0000 - true_positives: 58.0000 - mean_absolute_error: 0.1838 - mean_squared_error: 0.1171 - val_loss: 18.3004 - val_acc: 0.4000 - val_f1_m: 0.4000 - val_precision_m: 0.4000 - val_recall_m: 0.4000 - val_auc: 0.5386 - val_false_negatives: 18.0000 - val_false_positives: 18.0000 - val_true_negatives: 42.0000 - val_true_positives: 12.0000 - val_mean_absolute_error: 0.4002 - val_mean_squared_error: 0.3998\n",
      "\n",
      "Epoch 00004: val_acc did not improve from 0.40000\n",
      "Epoch 5/100\n",
      "4/4 [==============================] - 0s 72ms/step - loss: 0.2604 - acc: 0.8602 - f1_m: 0.8638 - precision_m: 0.8750 - recall_m: 0.8531 - auc: 0.9847 - false_negatives: 12.6000 - false_positives: 9.8000 - true_negatives: 153.4000 - true_positives: 69.0000 - mean_absolute_error: 0.1207 - mean_squared_error: 0.0534 - val_loss: 12.3886 - val_acc: 0.4000 - val_f1_m: 0.4000 - val_precision_m: 0.4000 - val_recall_m: 0.4000 - val_auc: 0.5386 - val_false_negatives: 18.0000 - val_false_positives: 18.0000 - val_true_negatives: 42.0000 - val_true_positives: 12.0000 - val_mean_absolute_error: 0.4006 - val_mean_squared_error: 0.3949\n",
      "\n",
      "Epoch 00005: val_acc did not improve from 0.40000\n",
      "Epoch 6/100\n",
      "4/4 [==============================] - 0s 71ms/step - loss: 0.2508 - acc: 0.8865 - f1_m: 0.8854 - precision_m: 0.8854 - recall_m: 0.8854 - auc: 0.9816 - false_negatives: 9.2000 - false_positives: 9.2000 - true_negatives: 154.0000 - true_positives: 72.4000 - mean_absolute_error: 0.0994 - mean_squared_error: 0.0483 - val_loss: 7.0725 - val_acc: 0.4000 - val_f1_m: 0.4000 - val_precision_m: 0.4000 - val_recall_m: 0.4000 - val_auc: 0.6025 - val_false_negatives: 18.0000 - val_false_positives: 18.0000 - val_true_negatives: 42.0000 - val_true_positives: 12.0000 - val_mean_absolute_error: 0.3969 - val_mean_squared_error: 0.3854\n",
      "\n",
      "Epoch 00006: val_acc did not improve from 0.40000\n",
      "Epoch 7/100\n",
      "4/4 [==============================] - 0s 68ms/step - loss: 0.1735 - acc: 0.9308 - f1_m: 0.9392 - precision_m: 0.9464 - recall_m: 0.9323 - auc: 0.9938 - false_negatives: 5.8000 - false_positives: 4.8000 - true_negatives: 168.0000 - true_positives: 80.6000 - mean_absolute_error: 0.0871 - mean_squared_error: 0.0334 - val_loss: 5.0883 - val_acc: 0.5000 - val_f1_m: 0.5000 - val_precision_m: 0.5000 - val_recall_m: 0.5000 - val_auc: 0.7097 - val_false_negatives: 15.0000 - val_false_positives: 15.0000 - val_true_negatives: 45.0000 - val_true_positives: 15.0000 - val_mean_absolute_error: 0.3094 - val_mean_squared_error: 0.2872\n",
      "\n",
      "Epoch 00007: val_acc improved from 0.40000 to 0.50000, saving model to /mnt/sda1/image-results-iris/results/fold0-resnet50v2-saved-model-07-val_acc-0.50.hdf5\n",
      "Epoch 8/100\n",
      "4/4 [==============================] - 0s 70ms/step - loss: 0.1568 - acc: 0.9474 - f1_m: 0.9448 - precision_m: 0.9448 - recall_m: 0.9448 - auc: 0.9955 - false_negatives: 4.8000 - false_positives: 4.8000 - true_negatives: 164.8000 - true_positives: 80.0000 - mean_absolute_error: 0.0803 - mean_squared_error: 0.0313 - val_loss: 3.3058 - val_acc: 0.6000 - val_f1_m: 0.6000 - val_precision_m: 0.6000 - val_recall_m: 0.6000 - val_auc: 0.7969 - val_false_negatives: 12.0000 - val_false_positives: 12.0000 - val_true_negatives: 48.0000 - val_true_positives: 18.0000 - val_mean_absolute_error: 0.2458 - val_mean_squared_error: 0.2027\n",
      "\n",
      "Epoch 00008: val_acc improved from 0.50000 to 0.60000, saving model to /mnt/sda1/image-results-iris/results/fold0-resnet50v2-saved-model-08-val_acc-0.60.hdf5\n",
      "Epoch 9/100\n",
      "4/4 [==============================] - 0s 71ms/step - loss: 0.1279 - acc: 0.9323 - f1_m: 0.9400 - precision_m: 0.9495 - recall_m: 0.9309 - auc: 0.9971 - false_negatives: 5.4000 - false_positives: 4.4000 - true_negatives: 158.8000 - true_positives: 76.2000 - mean_absolute_error: 0.0676 - mean_squared_error: 0.0237 - val_loss: 2.5345 - val_acc: 0.7000 - val_f1_m: 0.7000 - val_precision_m: 0.7000 - val_recall_m: 0.7000 - val_auc: 0.8450 - val_false_negatives: 9.0000 - val_false_positives: 9.0000 - val_true_negatives: 51.0000 - val_true_positives: 21.0000 - val_mean_absolute_error: 0.1930 - val_mean_squared_error: 0.1553\n",
      "\n",
      "Epoch 00009: val_acc improved from 0.60000 to 0.70000, saving model to /mnt/sda1/image-results-iris/results/fold0-resnet50v2-saved-model-09-val_acc-0.70.hdf5\n",
      "Epoch 10/100\n",
      "4/4 [==============================] - 0s 69ms/step - loss: 0.1604 - acc: 0.9731 - f1_m: 0.9744 - precision_m: 0.9771 - recall_m: 0.9719 - auc: 0.9978 - false_negatives: 2.4000 - false_positives: 1.8000 - true_negatives: 171.0000 - true_positives: 84.0000 - mean_absolute_error: 0.0856 - mean_squared_error: 0.0283 - val_loss: 2.0378 - val_acc: 0.7333 - val_f1_m: 0.7333 - val_precision_m: 0.7333 - val_recall_m: 0.7333 - val_auc: 0.8553 - val_false_negatives: 8.0000 - val_false_positives: 8.0000 - val_true_negatives: 52.0000 - val_true_positives: 22.0000 - val_mean_absolute_error: 0.1671 - val_mean_squared_error: 0.1348\n",
      "\n",
      "Epoch 00010: val_acc improved from 0.70000 to 0.73333, saving model to /mnt/sda1/image-results-iris/results/fold0-resnet50v2-saved-model-10-val_acc-0.73.hdf5\n",
      "Epoch 11/100\n",
      "4/4 [==============================] - 0s 69ms/step - loss: 0.1395 - acc: 0.9168 - f1_m: 0.9135 - precision_m: 0.9135 - recall_m: 0.9135 - auc: 0.9960 - false_negatives: 6.0000 - false_positives: 6.0000 - true_negatives: 157.2000 - true_positives: 75.6000 - mean_absolute_error: 0.0726 - mean_squared_error: 0.0262 - val_loss: 1.6086 - val_acc: 0.8000 - val_f1_m: 0.8000 - val_precision_m: 0.8000 - val_recall_m: 0.8000 - val_auc: 0.8633 - val_false_negatives: 6.0000 - val_false_positives: 6.0000 - val_true_negatives: 54.0000 - val_true_positives: 24.0000 - val_mean_absolute_error: 0.1553 - val_mean_squared_error: 0.1238\n",
      "\n",
      "Epoch 00011: val_acc improved from 0.73333 to 0.80000, saving model to /mnt/sda1/image-results-iris/results/fold0-resnet50v2-saved-model-11-val_acc-0.80.hdf5\n",
      "Epoch 12/100\n",
      "4/4 [==============================] - 0s 69ms/step - loss: 0.1536 - acc: 0.9474 - f1_m: 0.9448 - precision_m: 0.9448 - recall_m: 0.9448 - auc: 0.9967 - false_negatives: 4.8000 - false_positives: 4.8000 - true_negatives: 164.8000 - true_positives: 80.0000 - mean_absolute_error: 0.0806 - mean_squared_error: 0.0279 - val_loss: 1.1912 - val_acc: 0.8000 - val_f1_m: 0.8000 - val_precision_m: 0.8000 - val_recall_m: 0.8000 - val_auc: 0.9097 - val_false_negatives: 6.0000 - val_false_positives: 6.0000 - val_true_negatives: 54.0000 - val_true_positives: 24.0000 - val_mean_absolute_error: 0.1427 - val_mean_squared_error: 0.1085\n",
      "\n",
      "Epoch 00012: val_acc did not improve from 0.80000\n",
      "Epoch 13/100\n",
      "4/4 [==============================] - 0s 69ms/step - loss: 0.1278 - acc: 0.9392 - f1_m: 0.9354 - precision_m: 0.9354 - recall_m: 0.9354 - auc: 0.9970 - false_negatives: 5.4000 - false_positives: 5.4000 - true_negatives: 161.0000 - true_positives: 77.8000 - mean_absolute_error: 0.0672 - mean_squared_error: 0.0236 - val_loss: 0.9821 - val_acc: 0.8333 - val_f1_m: 0.8333 - val_precision_m: 0.8333 - val_recall_m: 0.8333 - val_auc: 0.9364 - val_false_negatives: 5.0000 - val_false_positives: 5.0000 - val_true_negatives: 55.0000 - val_true_positives: 25.0000 - val_mean_absolute_error: 0.1275 - val_mean_squared_error: 0.0932\n",
      "\n",
      "Epoch 00013: val_acc improved from 0.80000 to 0.83333, saving model to /mnt/sda1/image-results-iris/results/fold0-resnet50v2-saved-model-13-val_acc-0.83.hdf5\n",
      "Epoch 14/100\n",
      "4/4 [==============================] - 0s 70ms/step - loss: 0.1804 - acc: 0.9285 - f1_m: 0.9278 - precision_m: 0.9278 - recall_m: 0.9278 - auc: 0.9938 - false_negatives: 5.4000 - false_positives: 5.4000 - true_negatives: 157.8000 - true_positives: 76.2000 - mean_absolute_error: 0.0935 - mean_squared_error: 0.0341 - val_loss: 0.8567 - val_acc: 0.8000 - val_f1_m: 0.8000 - val_precision_m: 0.8000 - val_recall_m: 0.8000 - val_auc: 0.9425 - val_false_negatives: 6.0000 - val_false_positives: 6.0000 - val_true_negatives: 54.0000 - val_true_positives: 24.0000 - val_mean_absolute_error: 0.1246 - val_mean_squared_error: 0.0915\n",
      "\n",
      "Epoch 00014: val_acc did not improve from 0.83333\n",
      "Epoch 15/100\n",
      "4/4 [==============================] - 0s 70ms/step - loss: 0.1594 - acc: 0.9665 - f1_m: 0.9660 - precision_m: 0.9660 - recall_m: 0.9660 - auc: 0.9984 - false_negatives: 2.8000 - false_positives: 2.8000 - true_negatives: 163.6000 - true_positives: 80.4000 - mean_absolute_error: 0.0848 - mean_squared_error: 0.0290 - val_loss: 0.7480 - val_acc: 0.8000 - val_f1_m: 0.8000 - val_precision_m: 0.8000 - val_recall_m: 0.8000 - val_auc: 0.9458 - val_false_negatives: 6.0000 - val_false_positives: 6.0000 - val_true_negatives: 54.0000 - val_true_positives: 24.0000 - val_mean_absolute_error: 0.1201 - val_mean_squared_error: 0.0869\n",
      "\n",
      "Epoch 00015: val_acc did not improve from 0.83333\n",
      "Epoch 16/100\n",
      "4/4 [==============================] - 0s 69ms/step - loss: 0.1749 - acc: 0.9081 - f1_m: 0.9176 - precision_m: 0.9365 - recall_m: 0.8997 - auc: 0.9910 - false_negatives: 7.2000 - false_positives: 4.4000 - true_negatives: 162.0000 - true_positives: 76.0000 - mean_absolute_error: 0.0875 - mean_squared_error: 0.0353 - val_loss: 0.6647 - val_acc: 0.8000 - val_f1_m: 0.8000 - val_precision_m: 0.8000 - val_recall_m: 0.8000 - val_auc: 0.9464 - val_false_negatives: 6.0000 - val_false_positives: 6.0000 - val_true_negatives: 54.0000 - val_true_positives: 24.0000 - val_mean_absolute_error: 0.1159 - val_mean_squared_error: 0.0827\n",
      "\n",
      "Epoch 00016: val_acc did not improve from 0.83333\n",
      "Epoch 17/100\n",
      "4/4 [==============================] - 0s 69ms/step - loss: 0.1091 - acc: 0.9844 - f1_m: 0.9854 - precision_m: 0.9854 - recall_m: 0.9854 - auc: 0.9993 - false_negatives: 1.8000 - false_positives: 1.8000 - true_negatives: 161.4000 - true_positives: 79.8000 - mean_absolute_error: 0.0587 - mean_squared_error: 0.0192 - val_loss: 0.5866 - val_acc: 0.8000 - val_f1_m: 0.8000 - val_precision_m: 0.8000 - val_recall_m: 0.8000 - val_auc: 0.9475 - val_false_negatives: 6.0000 - val_false_positives: 6.0000 - val_true_negatives: 54.0000 - val_true_positives: 24.0000 - val_mean_absolute_error: 0.1125 - val_mean_squared_error: 0.0786\n",
      "\n",
      "Epoch 00017: val_acc did not improve from 0.83333\n",
      "Epoch 18/100\n",
      "4/4 [==============================] - 0s 68ms/step - loss: 0.1143 - acc: 0.9698 - f1_m: 0.9691 - precision_m: 0.9691 - recall_m: 0.9691 - auc: 0.9987 - false_negatives: 2.4000 - false_positives: 2.4000 - true_negatives: 164.0000 - true_positives: 80.8000 - mean_absolute_error: 0.0612 - mean_squared_error: 0.0198 - val_loss: 0.5146 - val_acc: 0.8333 - val_f1_m: 0.8333 - val_precision_m: 0.8333 - val_recall_m: 0.8333 - val_auc: 0.9492 - val_false_negatives: 5.0000 - val_false_positives: 5.0000 - val_true_negatives: 55.0000 - val_true_positives: 25.0000 - val_mean_absolute_error: 0.1095 - val_mean_squared_error: 0.0756\n",
      "\n",
      "Epoch 00018: val_acc did not improve from 0.83333\n",
      "Epoch 19/100\n",
      "4/4 [==============================] - 0s 69ms/step - loss: 0.1229 - acc: 0.9716 - f1_m: 0.9684 - precision_m: 0.9684 - recall_m: 0.9684 - auc: 0.9987 - false_negatives: 2.8000 - false_positives: 2.8000 - true_negatives: 163.6000 - true_positives: 80.4000 - mean_absolute_error: 0.0655 - mean_squared_error: 0.0222 - val_loss: 0.4506 - val_acc: 0.8333 - val_f1_m: 0.8333 - val_precision_m: 0.8333 - val_recall_m: 0.8333 - val_auc: 0.9511 - val_false_negatives: 5.0000 - val_false_positives: 5.0000 - val_true_negatives: 55.0000 - val_true_positives: 25.0000 - val_mean_absolute_error: 0.1078 - val_mean_squared_error: 0.0753\n",
      "\n",
      "Epoch 00019: val_acc did not improve from 0.83333\n",
      "Epoch 20/100\n",
      "4/4 [==============================] - 0s 68ms/step - loss: 0.1154 - acc: 0.9681 - f1_m: 0.9683 - precision_m: 0.9833 - recall_m: 0.9542 - auc: 0.9985 - false_negatives: 3.6000 - false_positives: 1.6000 - true_negatives: 171.2000 - true_positives: 82.8000 - mean_absolute_error: 0.0612 - mean_squared_error: 0.0204 - val_loss: 0.4057 - val_acc: 0.8333 - val_f1_m: 0.8333 - val_precision_m: 0.8333 - val_recall_m: 0.8333 - val_auc: 0.9711 - val_false_negatives: 5.0000 - val_false_positives: 5.0000 - val_true_negatives: 55.0000 - val_true_positives: 25.0000 - val_mean_absolute_error: 0.1062 - val_mean_squared_error: 0.0755\n",
      "\n",
      "Epoch 00020: val_acc did not improve from 0.83333\n",
      "Epoch 21/100\n",
      "4/4 [==============================] - 0s 69ms/step - loss: 0.1257 - acc: 0.9352 - f1_m: 0.9302 - precision_m: 0.9302 - recall_m: 0.9302 - auc: 0.9965 - false_negatives: 4.4000 - false_positives: 4.4000 - true_negatives: 158.8000 - true_positives: 77.2000 - mean_absolute_error: 0.0627 - mean_squared_error: 0.0248 - val_loss: 0.3678 - val_acc: 0.8333 - val_f1_m: 0.8333 - val_precision_m: 0.8333 - val_recall_m: 0.8333 - val_auc: 0.9728 - val_false_negatives: 5.0000 - val_false_positives: 5.0000 - val_true_negatives: 55.0000 - val_true_positives: 25.0000 - val_mean_absolute_error: 0.1054 - val_mean_squared_error: 0.0751\n",
      "\n",
      "Epoch 00021: val_acc did not improve from 0.83333\n",
      "Epoch 22/100\n",
      "4/4 [==============================] - 0s 68ms/step - loss: 0.1096 - acc: 0.9553 - f1_m: 0.9556 - precision_m: 0.9556 - recall_m: 0.9556 - auc: 0.9979 - false_negatives: 4.0000 - false_positives: 4.0000 - true_negatives: 165.6000 - true_positives: 80.8000 - mean_absolute_error: 0.0566 - mean_squared_error: 0.0212 - val_loss: 0.3406 - val_acc: 0.8333 - val_f1_m: 0.8333 - val_precision_m: 0.8333 - val_recall_m: 0.8333 - val_auc: 0.9728 - val_false_negatives: 5.0000 - val_false_positives: 5.0000 - val_true_negatives: 55.0000 - val_true_positives: 25.0000 - val_mean_absolute_error: 0.1043 - val_mean_squared_error: 0.0735\n",
      "\n",
      "Epoch 00022: val_acc did not improve from 0.83333\n",
      "Epoch 23/100\n",
      "4/4 [==============================] - 0s 70ms/step - loss: 0.0946 - acc: 0.9844 - f1_m: 0.9854 - precision_m: 0.9854 - recall_m: 0.9854 - auc: 0.9991 - false_negatives: 1.8000 - false_positives: 1.8000 - true_negatives: 164.6000 - true_positives: 81.4000 - mean_absolute_error: 0.0512 - mean_squared_error: 0.0157 - val_loss: 0.3198 - val_acc: 0.8667 - val_f1_m: 0.8667 - val_precision_m: 0.8667 - val_recall_m: 0.8667 - val_auc: 0.9733 - val_false_negatives: 4.0000 - val_false_positives: 4.0000 - val_true_negatives: 56.0000 - val_true_positives: 26.0000 - val_mean_absolute_error: 0.1024 - val_mean_squared_error: 0.0701\n",
      "\n",
      "Epoch 00023: val_acc improved from 0.83333 to 0.86667, saving model to /mnt/sda1/image-results-iris/results/fold0-resnet50v2-saved-model-23-val_acc-0.87.hdf5\n",
      "Fold:  1\n",
      "Found 120 images belonging to 3 classes.\n",
      "Found 30 images belonging to 3 classes.\n"
     ]
    },
    {
     "name": "stderr",
     "output_type": "stream",
     "text": [
      "2023-03-05 16:06:18.235574: I tensorflow/core/profiler/lib/profiler_session.cc:136] Profiler session initializing.\n",
      "2023-03-05 16:06:18.235598: I tensorflow/core/profiler/lib/profiler_session.cc:155] Profiler session started.\n",
      "2023-03-05 16:06:18.235710: I tensorflow/core/profiler/lib/profiler_session.cc:172] Profiler session tear down.\n",
      "2023-03-05 16:06:18.235798: I tensorflow/core/profiler/internal/gpu/cupti_tracer.cc:1487] CUPTI activity buffer flushed\n"
     ]
    },
    {
     "name": "stdout",
     "output_type": "stream",
     "text": [
      "Epoch 1/100\n",
      "2/4 [==============>...............] - ETA: 0s - loss: 1.4578 - acc: 0.4297 - f1_m: 0.3796 - precision_m: 0.4659 - recall_m: 0.3203 - auc_1: 0.5703 - false_negatives_1: 32.0000 - false_positives_1: 17.0000 - true_negatives_1: 79.0000 - true_positives_1: 16.0000 - mean_absolute_error: 0.4143 - mean_squared_error: 0.2536"
     ]
    },
    {
     "name": "stderr",
     "output_type": "stream",
     "text": [
      "2023-03-05 16:06:22.103518: I tensorflow/core/profiler/lib/profiler_session.cc:136] Profiler session initializing.\n",
      "2023-03-05 16:06:22.103545: I tensorflow/core/profiler/lib/profiler_session.cc:155] Profiler session started.\n"
     ]
    },
    {
     "name": "stdout",
     "output_type": "stream",
     "text": [
      "4/4 [==============================] - ETA: 0s - loss: 1.3869 - acc: 0.4389 - f1_m: 0.3764 - precision_m: 0.4681 - recall_m: 0.3151 - auc_1: 0.5875 - false_negatives_1: 51.7500 - false_positives_1: 26.2500 - true_negatives_1: 125.7500 - true_positives_1: 24.2500 - mean_absolute_error: 0.4084 - mean_squared_error: 0.2465"
     ]
    },
    {
     "name": "stderr",
     "output_type": "stream",
     "text": [
      "2023-03-05 16:06:22.496514: I tensorflow/core/profiler/lib/profiler_session.cc:71] Profiler session collecting data.\n",
      "2023-03-05 16:06:22.500211: I tensorflow/core/profiler/internal/gpu/cupti_tracer.cc:1487] CUPTI activity buffer flushed\n",
      "2023-03-05 16:06:22.511652: I tensorflow/core/profiler/internal/gpu/cupti_collector.cc:228]  GpuTracer has collected 1741 callback api events and 1689 activity events. \n",
      "2023-03-05 16:06:22.550298: I tensorflow/core/profiler/lib/profiler_session.cc:172] Profiler session tear down.\n",
      "2023-03-05 16:06:22.583835: I tensorflow/core/profiler/rpc/client/save_profile.cc:137] Creating directory: /mnt/sda1/image-results-iris/results/tb_logs/train/plugins/profile/2023_03_05_16_06_22\n",
      "2023-03-05 16:06:22.606614: I tensorflow/core/profiler/rpc/client/save_profile.cc:143] Dumped gzipped tool data for trace.json.gz to /mnt/sda1/image-results-iris/results/tb_logs/train/plugins/profile/2023_03_05_16_06_22/drake-pc.trace.json.gz\n",
      "2023-03-05 16:06:22.671595: I tensorflow/core/profiler/rpc/client/save_profile.cc:137] Creating directory: /mnt/sda1/image-results-iris/results/tb_logs/train/plugins/profile/2023_03_05_16_06_22\n",
      "2023-03-05 16:06:22.677420: I tensorflow/core/profiler/rpc/client/save_profile.cc:143] Dumped gzipped tool data for memory_profile.json.gz to /mnt/sda1/image-results-iris/results/tb_logs/train/plugins/profile/2023_03_05_16_06_22/drake-pc.memory_profile.json.gz\n",
      "2023-03-05 16:06:22.680514: I tensorflow/core/profiler/rpc/client/capture_profile.cc:251] Creating directory: /mnt/sda1/image-results-iris/results/tb_logs/train/plugins/profile/2023_03_05_16_06_22Dumped tool data for xplane.pb to /mnt/sda1/image-results-iris/results/tb_logs/train/plugins/profile/2023_03_05_16_06_22/drake-pc.xplane.pb\n",
      "Dumped tool data for overview_page.pb to /mnt/sda1/image-results-iris/results/tb_logs/train/plugins/profile/2023_03_05_16_06_22/drake-pc.overview_page.pb\n",
      "Dumped tool data for input_pipeline.pb to /mnt/sda1/image-results-iris/results/tb_logs/train/plugins/profile/2023_03_05_16_06_22/drake-pc.input_pipeline.pb\n",
      "Dumped tool data for tensorflow_stats.pb to /mnt/sda1/image-results-iris/results/tb_logs/train/plugins/profile/2023_03_05_16_06_22/drake-pc.tensorflow_stats.pb\n",
      "Dumped tool data for kernel_stats.pb to /mnt/sda1/image-results-iris/results/tb_logs/train/plugins/profile/2023_03_05_16_06_22/drake-pc.kernel_stats.pb\n",
      "\n"
     ]
    },
    {
     "name": "stdout",
     "output_type": "stream",
     "text": [
      "4/4 [==============================] - 5s 605ms/step - loss: 1.3740 - acc: 0.4395 - f1_m: 0.3731 - precision_m: 0.4662 - recall_m: 0.3115 - auc_1: 0.5917 - false_negatives_1: 58.2000 - false_positives_1: 29.2000 - true_negatives_1: 140.4000 - true_positives_1: 26.6000 - mean_absolute_error: 0.4073 - mean_squared_error: 0.2448 - val_loss: 10.9032 - val_acc: 0.3667 - val_f1_m: 0.3667 - val_precision_m: 0.3667 - val_recall_m: 0.3667 - val_auc_1: 0.5158 - val_false_negatives_1: 19.0000 - val_false_positives_1: 19.0000 - val_true_negatives_1: 41.0000 - val_true_positives_1: 11.0000 - val_mean_absolute_error: 0.4277 - val_mean_squared_error: 0.3553\n",
      "\n",
      "Epoch 00001: val_acc improved from -inf to 0.36667, saving model to /mnt/sda1/image-results-iris/results/fold1-resnet50v2-saved-model-01-val_acc-0.37.hdf5\n",
      "Epoch 2/100\n",
      "3/4 [=====================>........] - ETA: 0s - loss: 0.8567 - acc: 0.7587 - f1_m: 0.6622 - precision_m: 0.7620 - recall_m: 0.5868 - auc_1: 0.8579 - false_negatives_1: 26.3333 - false_positives_1: 12.3333 - true_negatives_1: 115.6667 - true_positives_1: 37.6667 - mean_absolute_error: 0.2508 - mean_squared_error: 0.1379WARNING:tensorflow:Callback method `on_train_batch_end` is slow compared to the batch time (batch time: 0.0510s vs `on_train_batch_end` time: 0.0959s). Check your callbacks.\n",
      "4/4 [==============================] - 0s 71ms/step - loss: 0.8452 - acc: 0.7552 - f1_m: 0.6813 - precision_m: 0.7710 - recall_m: 0.6125 - auc_1: 0.8634 - false_negatives_1: 33.0000 - false_positives_1: 16.2000 - true_negatives_1: 156.6000 - true_positives_1: 53.4000 - mean_absolute_error: 0.2457 - mean_squared_error: 0.1346 - val_loss: 4.9315 - val_acc: 0.4667 - val_f1_m: 0.4667 - val_precision_m: 0.4667 - val_recall_m: 0.4667 - val_auc_1: 0.6622 - val_false_negatives_1: 16.0000 - val_false_positives_1: 16.0000 - val_true_negatives_1: 44.0000 - val_true_positives_1: 14.0000 - val_mean_absolute_error: 0.3380 - val_mean_squared_error: 0.2880\n",
      "\n",
      "Epoch 00002: val_acc improved from 0.36667 to 0.46667, saving model to /mnt/sda1/image-results-iris/results/fold1-resnet50v2-saved-model-02-val_acc-0.47.hdf5\n",
      "Epoch 3/100\n",
      "4/4 [==============================] - 0s 72ms/step - loss: 0.4067 - acc: 0.7947 - f1_m: 0.7915 - precision_m: 0.8230 - recall_m: 0.7625 - auc_1: 0.9543 - false_negatives_1: 19.2000 - false_positives_1: 13.8000 - true_negatives_1: 149.4000 - true_positives_1: 62.4000 - mean_absolute_error: 0.1453 - mean_squared_error: 0.0825 - val_loss: 5.2577 - val_acc: 0.6333 - val_f1_m: 0.6333 - val_precision_m: 0.6333 - val_recall_m: 0.6333 - val_auc_1: 0.7222 - val_false_negatives_1: 11.0000 - val_false_positives_1: 11.0000 - val_true_negatives_1: 49.0000 - val_true_positives_1: 19.0000 - val_mean_absolute_error: 0.2559 - val_mean_squared_error: 0.2284\n",
      "\n",
      "Epoch 00003: val_acc improved from 0.46667 to 0.63333, saving model to /mnt/sda1/image-results-iris/results/fold1-resnet50v2-saved-model-03-val_acc-0.63.hdf5\n",
      "Epoch 4/100\n",
      "4/4 [==============================] - 0s 79ms/step - loss: 0.2323 - acc: 0.8948 - f1_m: 0.8927 - precision_m: 0.8927 - recall_m: 0.8927 - auc_1: 0.9830 - false_negatives_1: 9.6000 - false_positives_1: 9.6000 - true_negatives_1: 163.2000 - true_positives_1: 76.8000 - mean_absolute_error: 0.0849 - mean_squared_error: 0.0443 - val_loss: 3.4186 - val_acc: 0.5333 - val_f1_m: 0.5333 - val_precision_m: 0.5333 - val_recall_m: 0.5333 - val_auc_1: 0.7144 - val_false_negatives_1: 14.0000 - val_false_positives_1: 14.0000 - val_true_negatives_1: 46.0000 - val_true_positives_1: 16.0000 - val_mean_absolute_error: 0.2947 - val_mean_squared_error: 0.2549\n",
      "\n",
      "Epoch 00004: val_acc did not improve from 0.63333\n",
      "Epoch 5/100\n",
      "4/4 [==============================] - 0s 70ms/step - loss: 0.1501 - acc: 0.9429 - f1_m: 0.9413 - precision_m: 0.9438 - recall_m: 0.9389 - auc_1: 0.9936 - false_negatives_1: 5.6000 - false_positives_1: 5.0000 - true_negatives_1: 158.2000 - true_positives_1: 76.0000 - mean_absolute_error: 0.0666 - mean_squared_error: 0.0278 - val_loss: 3.2365 - val_acc: 0.5000 - val_f1_m: 0.5000 - val_precision_m: 0.5000 - val_recall_m: 0.5000 - val_auc_1: 0.6711 - val_false_negatives_1: 15.0000 - val_false_positives_1: 15.0000 - val_true_negatives_1: 45.0000 - val_true_positives_1: 15.0000 - val_mean_absolute_error: 0.3271 - val_mean_squared_error: 0.2920\n",
      "\n",
      "Epoch 00005: val_acc did not improve from 0.63333\n",
      "Epoch 6/100\n",
      "4/4 [==============================] - 0s 70ms/step - loss: 0.0970 - acc: 0.9665 - f1_m: 0.9643 - precision_m: 0.9659 - recall_m: 0.9628 - auc_1: 0.9983 - false_negatives_1: 3.2000 - false_positives_1: 2.8000 - true_negatives_1: 163.6000 - true_positives_1: 80.0000 - mean_absolute_error: 0.0494 - mean_squared_error: 0.0185 - val_loss: 2.7442 - val_acc: 0.4667 - val_f1_m: 0.4667 - val_precision_m: 0.4667 - val_recall_m: 0.4667 - val_auc_1: 0.7003 - val_false_negatives_1: 16.0000 - val_false_positives_1: 16.0000 - val_true_negatives_1: 44.0000 - val_true_positives_1: 14.0000 - val_mean_absolute_error: 0.3361 - val_mean_squared_error: 0.2888\n",
      "\n",
      "Epoch 00006: val_acc did not improve from 0.63333\n",
      "Epoch 7/100\n",
      "4/4 [==============================] - 0s 73ms/step - loss: 0.0803 - acc: 0.9544 - f1_m: 0.9545 - precision_m: 0.9545 - recall_m: 0.9545 - auc_1: 0.9981 - false_negatives_1: 3.8000 - false_positives_1: 3.8000 - true_negatives_1: 165.8000 - true_positives_1: 81.0000 - mean_absolute_error: 0.0353 - mean_squared_error: 0.0167 - val_loss: 2.0618 - val_acc: 0.5667 - val_f1_m: 0.5517 - val_precision_m: 0.5714 - val_recall_m: 0.5333 - val_auc_1: 0.7350 - val_false_negatives_1: 14.0000 - val_false_positives_1: 12.0000 - val_true_negatives_1: 48.0000 - val_true_positives_1: 16.0000 - val_mean_absolute_error: 0.3061 - val_mean_squared_error: 0.2547\n",
      "\n",
      "Epoch 00007: val_acc did not improve from 0.63333\n",
      "Epoch 8/100\n",
      "4/4 [==============================] - 0s 71ms/step - loss: 0.0255 - acc: 0.9881 - f1_m: 0.9875 - precision_m: 0.9875 - recall_m: 0.9875 - auc_1: 0.9999 - false_negatives_1: 1.2000 - false_positives_1: 1.2000 - true_negatives_1: 171.6000 - true_positives_1: 85.2000 - mean_absolute_error: 0.0124 - mean_squared_error: 0.0045 - val_loss: 1.1471 - val_acc: 0.6333 - val_f1_m: 0.6207 - val_precision_m: 0.6429 - val_recall_m: 0.6000 - val_auc_1: 0.8481 - val_false_negatives_1: 12.0000 - val_false_positives_1: 10.0000 - val_true_negatives_1: 50.0000 - val_true_positives_1: 18.0000 - val_mean_absolute_error: 0.2444 - val_mean_squared_error: 0.1854\n",
      "\n",
      "Epoch 00008: val_acc did not improve from 0.63333\n",
      "Epoch 9/100\n",
      "4/4 [==============================] - 0s 69ms/step - loss: 0.0124 - acc: 0.9933 - f1_m: 0.9936 - precision_m: 0.9957 - recall_m: 0.9917 - auc_1: 0.9999 - false_negatives_1: 0.8000 - false_positives_1: 0.4000 - true_negatives_1: 172.4000 - true_positives_1: 85.6000 - mean_absolute_error: 0.0071 - mean_squared_error: 0.0015 - val_loss: 0.7987 - val_acc: 0.7667 - val_f1_m: 0.7458 - val_precision_m: 0.7586 - val_recall_m: 0.7333 - val_auc_1: 0.9006 - val_false_negatives_1: 8.0000 - val_false_positives_1: 7.0000 - val_true_negatives_1: 53.0000 - val_true_positives_1: 22.0000 - val_mean_absolute_error: 0.1845 - val_mean_squared_error: 0.1399\n",
      "\n",
      "Epoch 00009: val_acc improved from 0.63333 to 0.76667, saving model to /mnt/sda1/image-results-iris/results/fold1-resnet50v2-saved-model-09-val_acc-0.77.hdf5\n",
      "Epoch 10/100\n",
      "4/4 [==============================] - 0s 69ms/step - loss: 0.0373 - acc: 0.9790 - f1_m: 0.9802 - precision_m: 0.9802 - recall_m: 0.9802 - auc_1: 0.9998 - false_negatives_1: 1.6000 - false_positives_1: 1.6000 - true_negatives_1: 164.8000 - true_positives_1: 81.6000 - mean_absolute_error: 0.0170 - mean_squared_error: 0.0076 - val_loss: 0.9687 - val_acc: 0.7333 - val_f1_m: 0.7333 - val_precision_m: 0.7333 - val_recall_m: 0.7333 - val_auc_1: 0.8697 - val_false_negatives_1: 8.0000 - val_false_positives_1: 8.0000 - val_true_negatives_1: 52.0000 - val_true_positives_1: 22.0000 - val_mean_absolute_error: 0.1925 - val_mean_squared_error: 0.1473\n",
      "\n",
      "Epoch 00010: val_acc did not improve from 0.76667\n",
      "Epoch 11/100\n",
      "4/4 [==============================] - 0s 70ms/step - loss: 0.0231 - acc: 1.0000 - f1_m: 1.0000 - precision_m: 1.0000 - recall_m: 1.0000 - auc_1: 1.0000 - false_negatives_1: 0.0000e+00 - false_positives_1: 0.0000e+00 - true_negatives_1: 163.2000 - true_positives_1: 81.6000 - mean_absolute_error: 0.0133 - mean_squared_error: 0.0031 - val_loss: 0.7804 - val_acc: 0.7667 - val_f1_m: 0.7667 - val_precision_m: 0.7667 - val_recall_m: 0.7667 - val_auc_1: 0.8975 - val_false_negatives_1: 7.0000 - val_false_positives_1: 7.0000 - val_true_negatives_1: 53.0000 - val_true_positives_1: 23.0000 - val_mean_absolute_error: 0.1803 - val_mean_squared_error: 0.1255\n",
      "\n",
      "Epoch 00011: val_acc did not improve from 0.76667\n",
      "Epoch 12/100\n",
      "4/4 [==============================] - 0s 69ms/step - loss: 0.0131 - acc: 1.0000 - f1_m: 1.0000 - precision_m: 1.0000 - recall_m: 1.0000 - auc_1: 1.0000 - false_negatives_1: 0.0000e+00 - false_positives_1: 0.0000e+00 - true_negatives_1: 172.8000 - true_positives_1: 86.4000 - mean_absolute_error: 0.0080 - mean_squared_error: 0.0012 - val_loss: 0.6379 - val_acc: 0.8000 - val_f1_m: 0.8000 - val_precision_m: 0.8000 - val_recall_m: 0.8000 - val_auc_1: 0.9242 - val_false_negatives_1: 6.0000 - val_false_positives_1: 6.0000 - val_true_negatives_1: 54.0000 - val_true_positives_1: 24.0000 - val_mean_absolute_error: 0.1618 - val_mean_squared_error: 0.1015\n",
      "\n",
      "Epoch 00012: val_acc improved from 0.76667 to 0.80000, saving model to /mnt/sda1/image-results-iris/results/fold1-resnet50v2-saved-model-12-val_acc-0.80.hdf5\n",
      "Epoch 13/100\n",
      "4/4 [==============================] - 0s 70ms/step - loss: 0.0038 - acc: 1.0000 - f1_m: 1.0000 - precision_m: 1.0000 - recall_m: 1.0000 - auc_1: 1.0000 - false_negatives_1: 0.0000e+00 - false_positives_1: 0.0000e+00 - true_negatives_1: 166.4000 - true_positives_1: 83.2000 - mean_absolute_error: 0.0024 - mean_squared_error: 1.0960e-04 - val_loss: 0.5037 - val_acc: 0.8333 - val_f1_m: 0.8136 - val_precision_m: 0.8276 - val_recall_m: 0.8000 - val_auc_1: 0.9406 - val_false_negatives_1: 6.0000 - val_false_positives_1: 5.0000 - val_true_negatives_1: 55.0000 - val_true_positives_1: 24.0000 - val_mean_absolute_error: 0.1502 - val_mean_squared_error: 0.0931\n",
      "\n",
      "Epoch 00013: val_acc improved from 0.80000 to 0.83333, saving model to /mnt/sda1/image-results-iris/results/fold1-resnet50v2-saved-model-13-val_acc-0.83.hdf5\n",
      "Epoch 14/100\n",
      "4/4 [==============================] - 0s 70ms/step - loss: 0.0114 - acc: 0.9967 - f1_m: 0.9969 - precision_m: 0.9969 - recall_m: 0.9969 - auc_1: 1.0000 - false_negatives_1: 0.4000 - false_positives_1: 0.4000 - true_negatives_1: 162.8000 - true_positives_1: 81.2000 - mean_absolute_error: 0.0059 - mean_squared_error: 0.0015 - val_loss: 0.4980 - val_acc: 0.7333 - val_f1_m: 0.7119 - val_precision_m: 0.7241 - val_recall_m: 0.7000 - val_auc_1: 0.9378 - val_false_negatives_1: 9.0000 - val_false_positives_1: 8.0000 - val_true_negatives_1: 52.0000 - val_true_positives_1: 21.0000 - val_mean_absolute_error: 0.1744 - val_mean_squared_error: 0.1092\n",
      "\n",
      "Epoch 00014: val_acc did not improve from 0.83333\n",
      "Epoch 15/100\n",
      "4/4 [==============================] - 0s 71ms/step - loss: 0.0084 - acc: 1.0000 - f1_m: 1.0000 - precision_m: 1.0000 - recall_m: 1.0000 - auc_1: 1.0000 - false_negatives_1: 0.0000e+00 - false_positives_1: 0.0000e+00 - true_negatives_1: 169.6000 - true_positives_1: 84.8000 - mean_absolute_error: 0.0052 - mean_squared_error: 5.4225e-04 - val_loss: 0.7731 - val_acc: 0.7333 - val_f1_m: 0.7333 - val_precision_m: 0.7333 - val_recall_m: 0.7333 - val_auc_1: 0.8994 - val_false_negatives_1: 8.0000 - val_false_positives_1: 8.0000 - val_true_negatives_1: 52.0000 - val_true_positives_1: 22.0000 - val_mean_absolute_error: 0.1839 - val_mean_squared_error: 0.1225\n",
      "\n",
      "Epoch 00015: val_acc did not improve from 0.83333\n",
      "Epoch 16/100\n",
      "4/4 [==============================] - 0s 71ms/step - loss: 0.0085 - acc: 1.0000 - f1_m: 1.0000 - precision_m: 1.0000 - recall_m: 1.0000 - auc_1: 1.0000 - false_negatives_1: 0.0000e+00 - false_positives_1: 0.0000e+00 - true_negatives_1: 163.2000 - true_positives_1: 81.6000 - mean_absolute_error: 0.0052 - mean_squared_error: 8.2605e-04 - val_loss: 0.6869 - val_acc: 0.7333 - val_f1_m: 0.7333 - val_precision_m: 0.7333 - val_recall_m: 0.7333 - val_auc_1: 0.9072 - val_false_negatives_1: 8.0000 - val_false_positives_1: 8.0000 - val_true_negatives_1: 52.0000 - val_true_positives_1: 22.0000 - val_mean_absolute_error: 0.1769 - val_mean_squared_error: 0.1247\n",
      "\n",
      "Epoch 00016: val_acc did not improve from 0.83333\n",
      "Epoch 17/100\n",
      "4/4 [==============================] - 0s 72ms/step - loss: 0.0013 - acc: 1.0000 - f1_m: 1.0000 - precision_m: 1.0000 - recall_m: 1.0000 - auc_1: 1.0000 - false_negatives_1: 0.0000e+00 - false_positives_1: 0.0000e+00 - true_negatives_1: 163.2000 - true_positives_1: 81.6000 - mean_absolute_error: 8.2950e-04 - mean_squared_error: 1.0681e-05 - val_loss: 0.6546 - val_acc: 0.7667 - val_f1_m: 0.7667 - val_precision_m: 0.7667 - val_recall_m: 0.7667 - val_auc_1: 0.9250 - val_false_negatives_1: 7.0000 - val_false_positives_1: 7.0000 - val_true_negatives_1: 53.0000 - val_true_positives_1: 23.0000 - val_mean_absolute_error: 0.1701 - val_mean_squared_error: 0.1249\n",
      "\n",
      "Epoch 00017: val_acc did not improve from 0.83333\n",
      "Epoch 18/100\n",
      "4/4 [==============================] - 0s 70ms/step - loss: 0.0053 - acc: 1.0000 - f1_m: 1.0000 - precision_m: 1.0000 - recall_m: 1.0000 - auc_1: 1.0000 - false_negatives_1: 0.0000e+00 - false_positives_1: 0.0000e+00 - true_negatives_1: 166.4000 - true_positives_1: 83.2000 - mean_absolute_error: 0.0033 - mean_squared_error: 4.2628e-04 - val_loss: 0.6020 - val_acc: 0.8000 - val_f1_m: 0.8000 - val_precision_m: 0.8000 - val_recall_m: 0.8000 - val_auc_1: 0.9425 - val_false_negatives_1: 6.0000 - val_false_positives_1: 6.0000 - val_true_negatives_1: 54.0000 - val_true_positives_1: 24.0000 - val_mean_absolute_error: 0.1601 - val_mean_squared_error: 0.1191\n",
      "\n",
      "Epoch 00018: val_acc did not improve from 0.83333\n",
      "Epoch 19/100\n",
      "4/4 [==============================] - 0s 70ms/step - loss: 0.0016 - acc: 1.0000 - f1_m: 1.0000 - precision_m: 1.0000 - recall_m: 1.0000 - auc_1: 1.0000 - false_negatives_1: 0.0000e+00 - false_positives_1: 0.0000e+00 - true_negatives_1: 163.2000 - true_positives_1: 81.6000 - mean_absolute_error: 0.0010 - mean_squared_error: 2.6483e-05 - val_loss: 0.5496 - val_acc: 0.8000 - val_f1_m: 0.8000 - val_precision_m: 0.8000 - val_recall_m: 0.8000 - val_auc_1: 0.9458 - val_false_negatives_1: 6.0000 - val_false_positives_1: 6.0000 - val_true_negatives_1: 54.0000 - val_true_positives_1: 24.0000 - val_mean_absolute_error: 0.1526 - val_mean_squared_error: 0.1129\n",
      "\n",
      "Epoch 00019: val_acc did not improve from 0.83333\n",
      "Epoch 20/100\n",
      "4/4 [==============================] - 0s 70ms/step - loss: 0.0057 - acc: 1.0000 - f1_m: 1.0000 - precision_m: 1.0000 - recall_m: 1.0000 - auc_1: 1.0000 - false_negatives_1: 0.0000e+00 - false_positives_1: 0.0000e+00 - true_negatives_1: 163.2000 - true_positives_1: 81.6000 - mean_absolute_error: 0.0035 - mean_squared_error: 5.4779e-04 - val_loss: 0.4910 - val_acc: 0.7667 - val_f1_m: 0.7458 - val_precision_m: 0.7586 - val_recall_m: 0.7333 - val_auc_1: 0.9522 - val_false_negatives_1: 8.0000 - val_false_positives_1: 7.0000 - val_true_negatives_1: 53.0000 - val_true_positives_1: 22.0000 - val_mean_absolute_error: 0.1451 - val_mean_squared_error: 0.1053\n",
      "\n",
      "Epoch 00020: val_acc did not improve from 0.83333\n",
      "Epoch 21/100\n",
      "4/4 [==============================] - 0s 76ms/step - loss: 0.0014 - acc: 1.0000 - f1_m: 1.0000 - precision_m: 1.0000 - recall_m: 1.0000 - auc_1: 1.0000 - false_negatives_1: 0.0000e+00 - false_positives_1: 0.0000e+00 - true_negatives_1: 172.8000 - true_positives_1: 86.4000 - mean_absolute_error: 9.3512e-04 - mean_squared_error: 2.9407e-05 - val_loss: 0.4406 - val_acc: 0.7667 - val_f1_m: 0.7667 - val_precision_m: 0.7667 - val_recall_m: 0.7667 - val_auc_1: 0.9592 - val_false_negatives_1: 7.0000 - val_false_positives_1: 7.0000 - val_true_negatives_1: 53.0000 - val_true_positives_1: 23.0000 - val_mean_absolute_error: 0.1387 - val_mean_squared_error: 0.0983\n",
      "\n",
      "Epoch 00021: val_acc did not improve from 0.83333\n",
      "Epoch 22/100\n",
      "4/4 [==============================] - 0s 70ms/step - loss: 8.1545e-04 - acc: 1.0000 - f1_m: 1.0000 - precision_m: 1.0000 - recall_m: 1.0000 - auc_1: 1.0000 - false_negatives_1: 0.0000e+00 - false_positives_1: 0.0000e+00 - true_negatives_1: 163.2000 - true_positives_1: 81.6000 - mean_absolute_error: 5.4098e-04 - mean_squared_error: 4.8649e-06 - val_loss: 0.4010 - val_acc: 0.7667 - val_f1_m: 0.7667 - val_precision_m: 0.7667 - val_recall_m: 0.7667 - val_auc_1: 0.9594 - val_false_negatives_1: 7.0000 - val_false_positives_1: 7.0000 - val_true_negatives_1: 53.0000 - val_true_positives_1: 23.0000 - val_mean_absolute_error: 0.1339 - val_mean_squared_error: 0.0911\n",
      "\n",
      "Epoch 00022: val_acc did not improve from 0.83333\n",
      "Epoch 23/100\n",
      "4/4 [==============================] - 0s 70ms/step - loss: 0.0018 - acc: 1.0000 - f1_m: 1.0000 - precision_m: 1.0000 - recall_m: 1.0000 - auc_1: 1.0000 - false_negatives_1: 0.0000e+00 - false_positives_1: 0.0000e+00 - true_negatives_1: 166.4000 - true_positives_1: 83.2000 - mean_absolute_error: 0.0012 - mean_squared_error: 2.4878e-05 - val_loss: 0.3621 - val_acc: 0.8000 - val_f1_m: 0.8136 - val_precision_m: 0.8276 - val_recall_m: 0.8000 - val_auc_1: 0.9644 - val_false_negatives_1: 6.0000 - val_false_positives_1: 5.0000 - val_true_negatives_1: 55.0000 - val_true_positives_1: 24.0000 - val_mean_absolute_error: 0.1261 - val_mean_squared_error: 0.0813\n",
      "\n",
      "Epoch 00023: val_acc did not improve from 0.83333\n",
      "Epoch 24/100\n",
      "4/4 [==============================] - 0s 71ms/step - loss: 0.0017 - acc: 1.0000 - f1_m: 1.0000 - precision_m: 1.0000 - recall_m: 1.0000 - auc_1: 1.0000 - false_negatives_1: 0.0000e+00 - false_positives_1: 0.0000e+00 - true_negatives_1: 163.2000 - true_positives_1: 81.6000 - mean_absolute_error: 0.0011 - mean_squared_error: 3.2008e-05 - val_loss: 0.3402 - val_acc: 0.8000 - val_f1_m: 0.8136 - val_precision_m: 0.8276 - val_recall_m: 0.8000 - val_auc_1: 0.9672 - val_false_negatives_1: 6.0000 - val_false_positives_1: 5.0000 - val_true_negatives_1: 55.0000 - val_true_positives_1: 24.0000 - val_mean_absolute_error: 0.1196 - val_mean_squared_error: 0.0757\n",
      "\n",
      "Epoch 00024: val_acc did not improve from 0.83333\n",
      "Epoch 25/100\n",
      "4/4 [==============================] - 0s 70ms/step - loss: 0.0016 - acc: 1.0000 - f1_m: 1.0000 - precision_m: 1.0000 - recall_m: 1.0000 - auc_1: 1.0000 - false_negatives_1: 0.0000e+00 - false_positives_1: 0.0000e+00 - true_negatives_1: 169.6000 - true_positives_1: 84.8000 - mean_absolute_error: 0.0011 - mean_squared_error: 1.8917e-05 - val_loss: 0.3275 - val_acc: 0.8000 - val_f1_m: 0.8136 - val_precision_m: 0.8276 - val_recall_m: 0.8000 - val_auc_1: 0.9722 - val_false_negatives_1: 6.0000 - val_false_positives_1: 5.0000 - val_true_negatives_1: 55.0000 - val_true_positives_1: 24.0000 - val_mean_absolute_error: 0.1135 - val_mean_squared_error: 0.0728\n",
      "\n",
      "Epoch 00025: val_acc did not improve from 0.83333\n",
      "Epoch 26/100\n",
      "4/4 [==============================] - 0s 69ms/step - loss: 0.0038 - acc: 1.0000 - f1_m: 1.0000 - precision_m: 1.0000 - recall_m: 1.0000 - auc_1: 1.0000 - false_negatives_1: 0.0000e+00 - false_positives_1: 0.0000e+00 - true_negatives_1: 172.8000 - true_positives_1: 86.4000 - mean_absolute_error: 0.0023 - mean_squared_error: 4.0327e-04 - val_loss: 0.3201 - val_acc: 0.8333 - val_f1_m: 0.8475 - val_precision_m: 0.8621 - val_recall_m: 0.8333 - val_auc_1: 0.9750 - val_false_negatives_1: 5.0000 - val_false_positives_1: 4.0000 - val_true_negatives_1: 56.0000 - val_true_positives_1: 25.0000 - val_mean_absolute_error: 0.1077 - val_mean_squared_error: 0.0722\n",
      "\n",
      "Epoch 00026: val_acc did not improve from 0.83333\n",
      "Epoch 27/100\n",
      "4/4 [==============================] - 0s 72ms/step - loss: 0.0015 - acc: 1.0000 - f1_m: 1.0000 - precision_m: 1.0000 - recall_m: 1.0000 - auc_1: 1.0000 - false_negatives_1: 0.0000e+00 - false_positives_1: 0.0000e+00 - true_negatives_1: 163.2000 - true_positives_1: 81.6000 - mean_absolute_error: 9.6785e-04 - mean_squared_error: 1.0392e-05 - val_loss: 0.3204 - val_acc: 0.8333 - val_f1_m: 0.8333 - val_precision_m: 0.8333 - val_recall_m: 0.8333 - val_auc_1: 0.9772 - val_false_negatives_1: 5.0000 - val_false_positives_1: 5.0000 - val_true_negatives_1: 55.0000 - val_true_positives_1: 25.0000 - val_mean_absolute_error: 0.1035 - val_mean_squared_error: 0.0723\n",
      "\n",
      "Epoch 00027: val_acc did not improve from 0.83333\n",
      "Fold:  2\n",
      "Found 120 images belonging to 3 classes.\n",
      "Found 30 images belonging to 3 classes.\n"
     ]
    },
    {
     "name": "stderr",
     "output_type": "stream",
     "text": [
      "2023-03-05 16:06:37.021593: I tensorflow/core/profiler/lib/profiler_session.cc:136] Profiler session initializing.\n",
      "2023-03-05 16:06:37.021618: I tensorflow/core/profiler/lib/profiler_session.cc:155] Profiler session started.\n",
      "2023-03-05 16:06:37.021725: I tensorflow/core/profiler/lib/profiler_session.cc:172] Profiler session tear down.\n",
      "2023-03-05 16:06:37.021763: I tensorflow/core/profiler/internal/gpu/cupti_tracer.cc:1487] CUPTI activity buffer flushed\n"
     ]
    },
    {
     "name": "stdout",
     "output_type": "stream",
     "text": [
      "Epoch 1/100\n",
      "2/4 [==============>...............] - ETA: 0s - loss: 1.3526 - acc: 0.4107 - f1_m: 0.3417 - precision_m: 0.4062 - recall_m: 0.2969 - auc_2: 0.5599 - false_negatives_2: 27.0000 - false_positives_2: 17.0000 - true_negatives_2: 63.0000 - true_positives_2: 13.0000 - mean_absolute_error: 0.4203 - mean_squared_error: 0.2571"
     ]
    },
    {
     "name": "stderr",
     "output_type": "stream",
     "text": [
      "2023-03-05 16:06:40.772067: I tensorflow/core/profiler/lib/profiler_session.cc:136] Profiler session initializing.\n",
      "2023-03-05 16:06:40.772092: I tensorflow/core/profiler/lib/profiler_session.cc:155] Profiler session started.\n"
     ]
    },
    {
     "name": "stdout",
     "output_type": "stream",
     "text": [
      "4/4 [==============================] - ETA: 0s - loss: 1.3526 - acc: 0.4307 - f1_m: 0.3736 - precision_m: 0.4413 - recall_m: 0.3262 - auc_2: 0.5874 - false_negatives_2: 46.5000 - false_positives_2: 28.5000 - true_negatives_2: 115.5000 - true_positives_2: 25.5000 - mean_absolute_error: 0.4085 - mean_squared_error: 0.2517"
     ]
    },
    {
     "name": "stderr",
     "output_type": "stream",
     "text": [
      "2023-03-05 16:06:41.181509: I tensorflow/core/profiler/lib/profiler_session.cc:71] Profiler session collecting data.\n",
      "2023-03-05 16:06:41.184137: I tensorflow/core/profiler/internal/gpu/cupti_tracer.cc:1487] CUPTI activity buffer flushed\n",
      "2023-03-05 16:06:41.194948: I tensorflow/core/profiler/internal/gpu/cupti_collector.cc:228]  GpuTracer has collected 1741 callback api events and 1689 activity events. \n",
      "2023-03-05 16:06:41.229706: I tensorflow/core/profiler/lib/profiler_session.cc:172] Profiler session tear down.\n",
      "2023-03-05 16:06:41.260679: I tensorflow/core/profiler/rpc/client/save_profile.cc:137] Creating directory: /mnt/sda1/image-results-iris/results/tb_logs/train/plugins/profile/2023_03_05_16_06_41\n",
      "2023-03-05 16:06:41.283569: I tensorflow/core/profiler/rpc/client/save_profile.cc:143] Dumped gzipped tool data for trace.json.gz to /mnt/sda1/image-results-iris/results/tb_logs/train/plugins/profile/2023_03_05_16_06_41/drake-pc.trace.json.gz\n",
      "2023-03-05 16:06:41.346088: I tensorflow/core/profiler/rpc/client/save_profile.cc:137] Creating directory: /mnt/sda1/image-results-iris/results/tb_logs/train/plugins/profile/2023_03_05_16_06_41\n",
      "2023-03-05 16:06:41.351709: I tensorflow/core/profiler/rpc/client/save_profile.cc:143] Dumped gzipped tool data for memory_profile.json.gz to /mnt/sda1/image-results-iris/results/tb_logs/train/plugins/profile/2023_03_05_16_06_41/drake-pc.memory_profile.json.gz\n",
      "2023-03-05 16:06:41.354427: I tensorflow/core/profiler/rpc/client/capture_profile.cc:251] Creating directory: /mnt/sda1/image-results-iris/results/tb_logs/train/plugins/profile/2023_03_05_16_06_41Dumped tool data for xplane.pb to /mnt/sda1/image-results-iris/results/tb_logs/train/plugins/profile/2023_03_05_16_06_41/drake-pc.xplane.pb\n",
      "Dumped tool data for overview_page.pb to /mnt/sda1/image-results-iris/results/tb_logs/train/plugins/profile/2023_03_05_16_06_41/drake-pc.overview_page.pb\n",
      "Dumped tool data for input_pipeline.pb to /mnt/sda1/image-results-iris/results/tb_logs/train/plugins/profile/2023_03_05_16_06_41/drake-pc.input_pipeline.pb\n",
      "Dumped tool data for tensorflow_stats.pb to /mnt/sda1/image-results-iris/results/tb_logs/train/plugins/profile/2023_03_05_16_06_41/drake-pc.tensorflow_stats.pb\n",
      "Dumped tool data for kernel_stats.pb to /mnt/sda1/image-results-iris/results/tb_logs/train/plugins/profile/2023_03_05_16_06_41/drake-pc.kernel_stats.pb\n",
      "\n"
     ]
    },
    {
     "name": "stdout",
     "output_type": "stream",
     "text": [
      "4/4 [==============================] - 5s 605ms/step - loss: 1.3568 - acc: 0.4363 - f1_m: 0.3838 - precision_m: 0.4547 - recall_m: 0.3344 - auc_2: 0.5954 - false_negatives_2: 52.2000 - false_positives_2: 31.4000 - true_negatives_2: 131.8000 - true_positives_2: 29.4000 - mean_absolute_error: 0.4049 - mean_squared_error: 0.2497 - val_loss: 2.8166 - val_acc: 0.4333 - val_f1_m: 0.4333 - val_precision_m: 0.4333 - val_recall_m: 0.4333 - val_auc_2: 0.5775 - val_false_negatives_2: 17.0000 - val_false_positives_2: 17.0000 - val_true_negatives_2: 43.0000 - val_true_positives_2: 13.0000 - val_mean_absolute_error: 0.3883 - val_mean_squared_error: 0.3301\n",
      "\n",
      "Epoch 00001: val_acc improved from -inf to 0.43333, saving model to /mnt/sda1/image-results-iris/results/fold2-resnet50v2-saved-model-01-val_acc-0.43.hdf5\n",
      "Epoch 2/100\n",
      "2/4 [==============>...............] - ETA: 0s - loss: 1.0876 - acc: 0.5938 - f1_m: 0.5929 - precision_m: 0.6519 - recall_m: 0.5469 - auc_2: 0.7756 - false_negatives_2: 21.0000 - false_positives_2: 14.0000 - true_negatives_2: 82.0000 - true_positives_2: 27.0000 - mean_absolute_error: 0.3017 - mean_squared_error: 0.1896WARNING:tensorflow:Callback method `on_train_batch_end` is slow compared to the batch time (batch time: 0.0521s vs `on_train_batch_end` time: 0.0943s). Check your callbacks.\n",
      "4/4 [==============================] - 0s 69ms/step - loss: 0.9627 - acc: 0.6539 - f1_m: 0.6547 - precision_m: 0.7062 - recall_m: 0.6135 - auc_2: 0.8185 - false_negatives_2: 31.2000 - false_positives_2: 21.4000 - true_negatives_2: 148.2000 - true_positives_2: 53.6000 - mean_absolute_error: 0.2703 - mean_squared_error: 0.1667 - val_loss: 1.9380 - val_acc: 0.6333 - val_f1_m: 0.6333 - val_precision_m: 0.6333 - val_recall_m: 0.6333 - val_auc_2: 0.7797 - val_false_negatives_2: 11.0000 - val_false_positives_2: 11.0000 - val_true_negatives_2: 49.0000 - val_true_positives_2: 19.0000 - val_mean_absolute_error: 0.2585 - val_mean_squared_error: 0.2053\n",
      "\n",
      "Epoch 00002: val_acc improved from 0.43333 to 0.63333, saving model to /mnt/sda1/image-results-iris/results/fold2-resnet50v2-saved-model-02-val_acc-0.63.hdf5\n",
      "Epoch 3/100\n",
      "4/4 [==============================] - 0s 72ms/step - loss: 0.5800 - acc: 0.8337 - f1_m: 0.8430 - precision_m: 0.8684 - recall_m: 0.8194 - auc_2: 0.9432 - false_negatives_2: 17.0000 - false_positives_2: 13.6000 - true_negatives_2: 149.6000 - true_positives_2: 64.6000 - mean_absolute_error: 0.1444 - mean_squared_error: 0.0852 - val_loss: 7.0400 - val_acc: 0.3667 - val_f1_m: 0.3667 - val_precision_m: 0.3667 - val_recall_m: 0.3667 - val_auc_2: 0.5181 - val_false_negatives_2: 19.0000 - val_false_positives_2: 19.0000 - val_true_negatives_2: 41.0000 - val_true_positives_2: 11.0000 - val_mean_absolute_error: 0.4217 - val_mean_squared_error: 0.4166\n",
      "\n",
      "Epoch 00003: val_acc did not improve from 0.63333\n",
      "Epoch 4/100\n",
      "4/4 [==============================] - 0s 70ms/step - loss: 0.4867 - acc: 0.8390 - f1_m: 0.8316 - precision_m: 0.8490 - recall_m: 0.8163 - auc_2: 0.9583 - false_negatives_2: 15.0000 - false_positives_2: 11.4000 - true_negatives_2: 158.2000 - true_positives_2: 69.8000 - mean_absolute_error: 0.1348 - mean_squared_error: 0.0729 - val_loss: 5.7407 - val_acc: 0.5667 - val_f1_m: 0.5667 - val_precision_m: 0.5667 - val_recall_m: 0.5667 - val_auc_2: 0.7025 - val_false_negatives_2: 13.0000 - val_false_positives_2: 13.0000 - val_true_negatives_2: 47.0000 - val_true_positives_2: 17.0000 - val_mean_absolute_error: 0.2944 - val_mean_squared_error: 0.2735\n",
      "\n",
      "Epoch 00004: val_acc did not improve from 0.63333\n",
      "Epoch 5/100\n",
      "4/4 [==============================] - 0s 69ms/step - loss: 0.4242 - acc: 0.9177 - f1_m: 0.9144 - precision_m: 0.9236 - recall_m: 0.9056 - auc_2: 0.9710 - false_negatives_2: 7.8000 - false_positives_2: 6.2000 - true_negatives_2: 160.2000 - true_positives_2: 75.4000 - mean_absolute_error: 0.0998 - mean_squared_error: 0.0532 - val_loss: 0.8639 - val_acc: 0.6667 - val_f1_m: 0.6780 - val_precision_m: 0.6897 - val_recall_m: 0.6667 - val_auc_2: 0.8847 - val_false_negatives_2: 10.0000 - val_false_positives_2: 9.0000 - val_true_negatives_2: 51.0000 - val_true_positives_2: 20.0000 - val_mean_absolute_error: 0.2203 - val_mean_squared_error: 0.1691\n",
      "\n",
      "Epoch 00005: val_acc improved from 0.63333 to 0.66667, saving model to /mnt/sda1/image-results-iris/results/fold2-resnet50v2-saved-model-05-val_acc-0.67.hdf5\n",
      "Epoch 6/100\n",
      "4/4 [==============================] - 0s 69ms/step - loss: 0.1629 - acc: 0.9327 - f1_m: 0.9292 - precision_m: 0.9292 - recall_m: 0.9292 - auc_2: 0.9925 - false_negatives_2: 5.4000 - false_positives_2: 5.4000 - true_negatives_2: 161.0000 - true_positives_2: 77.8000 - mean_absolute_error: 0.0614 - mean_squared_error: 0.0351 - val_loss: 1.3224 - val_acc: 0.6667 - val_f1_m: 0.6667 - val_precision_m: 0.6667 - val_recall_m: 0.6667 - val_auc_2: 0.8458 - val_false_negatives_2: 10.0000 - val_false_positives_2: 10.0000 - val_true_negatives_2: 50.0000 - val_true_positives_2: 20.0000 - val_mean_absolute_error: 0.2336 - val_mean_squared_error: 0.2046\n",
      "\n",
      "Epoch 00006: val_acc did not improve from 0.66667\n",
      "Epoch 7/100\n",
      "4/4 [==============================] - 0s 67ms/step - loss: 0.0901 - acc: 0.9646 - f1_m: 0.9635 - precision_m: 0.9635 - recall_m: 0.9635 - auc_2: 0.9976 - false_negatives_2: 3.2000 - false_positives_2: 3.2000 - true_negatives_2: 169.6000 - true_positives_2: 83.2000 - mean_absolute_error: 0.0358 - mean_squared_error: 0.0155 - val_loss: 1.0703 - val_acc: 0.7333 - val_f1_m: 0.7119 - val_precision_m: 0.7241 - val_recall_m: 0.7000 - val_auc_2: 0.8697 - val_false_negatives_2: 9.0000 - val_false_positives_2: 8.0000 - val_true_negatives_2: 52.0000 - val_true_positives_2: 21.0000 - val_mean_absolute_error: 0.2128 - val_mean_squared_error: 0.1616\n",
      "\n",
      "Epoch 00007: val_acc improved from 0.66667 to 0.73333, saving model to /mnt/sda1/image-results-iris/results/fold2-resnet50v2-saved-model-07-val_acc-0.73.hdf5\n",
      "Epoch 8/100\n",
      "4/4 [==============================] - 0s 71ms/step - loss: 0.0435 - acc: 0.9908 - f1_m: 0.9889 - precision_m: 0.9889 - recall_m: 0.9889 - auc_2: 0.9997 - false_negatives_2: 0.8000 - false_positives_2: 0.8000 - true_negatives_2: 165.6000 - true_positives_2: 82.4000 - mean_absolute_error: 0.0214 - mean_squared_error: 0.0068 - val_loss: 0.9210 - val_acc: 0.7333 - val_f1_m: 0.7333 - val_precision_m: 0.7333 - val_recall_m: 0.7333 - val_auc_2: 0.9006 - val_false_negatives_2: 8.0000 - val_false_positives_2: 8.0000 - val_true_negatives_2: 52.0000 - val_true_positives_2: 22.0000 - val_mean_absolute_error: 0.1870 - val_mean_squared_error: 0.1404\n",
      "\n",
      "Epoch 00008: val_acc did not improve from 0.73333\n",
      "Epoch 9/100\n",
      "4/4 [==============================] - 0s 68ms/step - loss: 0.0156 - acc: 1.0000 - f1_m: 1.0000 - precision_m: 1.0000 - recall_m: 1.0000 - auc_2: 1.0000 - false_negatives_2: 0.0000e+00 - false_positives_2: 0.0000e+00 - true_negatives_2: 172.8000 - true_positives_2: 86.4000 - mean_absolute_error: 0.0089 - mean_squared_error: 0.0021 - val_loss: 0.9885 - val_acc: 0.7333 - val_f1_m: 0.7119 - val_precision_m: 0.7241 - val_recall_m: 0.7000 - val_auc_2: 0.9097 - val_false_negatives_2: 9.0000 - val_false_positives_2: 8.0000 - val_true_negatives_2: 52.0000 - val_true_positives_2: 21.0000 - val_mean_absolute_error: 0.1780 - val_mean_squared_error: 0.1351\n",
      "\n",
      "Epoch 00009: val_acc did not improve from 0.73333\n",
      "Epoch 10/100\n",
      "4/4 [==============================] - 0s 70ms/step - loss: 0.0211 - acc: 0.9908 - f1_m: 0.9917 - precision_m: 0.9917 - recall_m: 0.9917 - auc_2: 0.9999 - false_negatives_2: 0.8000 - false_positives_2: 0.8000 - true_negatives_2: 162.4000 - true_positives_2: 80.8000 - mean_absolute_error: 0.0089 - mean_squared_error: 0.0042 - val_loss: 1.2949 - val_acc: 0.7667 - val_f1_m: 0.7667 - val_precision_m: 0.7667 - val_recall_m: 0.7667 - val_auc_2: 0.9075 - val_false_negatives_2: 7.0000 - val_false_positives_2: 7.0000 - val_true_negatives_2: 53.0000 - val_true_positives_2: 23.0000 - val_mean_absolute_error: 0.1500 - val_mean_squared_error: 0.1126\n",
      "\n",
      "Epoch 00010: val_acc improved from 0.73333 to 0.76667, saving model to /mnt/sda1/image-results-iris/results/fold2-resnet50v2-saved-model-10-val_acc-0.77.hdf5\n",
      "Epoch 11/100\n",
      "4/4 [==============================] - 0s 70ms/step - loss: 0.0613 - acc: 0.9816 - f1_m: 0.9778 - precision_m: 0.9778 - recall_m: 0.9778 - auc_2: 0.9989 - false_negatives_2: 1.6000 - false_positives_2: 1.6000 - true_negatives_2: 164.8000 - true_positives_2: 81.6000 - mean_absolute_error: 0.0125 - mean_squared_error: 0.0093 - val_loss: 1.4582 - val_acc: 0.8000 - val_f1_m: 0.8000 - val_precision_m: 0.8000 - val_recall_m: 0.8000 - val_auc_2: 0.8936 - val_false_negatives_2: 6.0000 - val_false_positives_2: 6.0000 - val_true_negatives_2: 54.0000 - val_true_positives_2: 24.0000 - val_mean_absolute_error: 0.1398 - val_mean_squared_error: 0.1105\n",
      "\n",
      "Epoch 00011: val_acc improved from 0.76667 to 0.80000, saving model to /mnt/sda1/image-results-iris/results/fold2-resnet50v2-saved-model-11-val_acc-0.80.hdf5\n",
      "Epoch 12/100\n",
      "4/4 [==============================] - 0s 71ms/step - loss: 0.0761 - acc: 0.9662 - f1_m: 0.9632 - precision_m: 0.9632 - recall_m: 0.9632 - auc_2: 0.9978 - false_negatives_2: 2.6000 - false_positives_2: 2.6000 - true_negatives_2: 163.8000 - true_positives_2: 80.6000 - mean_absolute_error: 0.0210 - mean_squared_error: 0.0119 - val_loss: 1.3950 - val_acc: 0.8000 - val_f1_m: 0.8000 - val_precision_m: 0.8000 - val_recall_m: 0.8000 - val_auc_2: 0.8886 - val_false_negatives_2: 6.0000 - val_false_positives_2: 6.0000 - val_true_negatives_2: 54.0000 - val_true_positives_2: 24.0000 - val_mean_absolute_error: 0.1472 - val_mean_squared_error: 0.1173\n",
      "\n",
      "Epoch 00012: val_acc did not improve from 0.80000\n",
      "Epoch 13/100\n",
      "4/4 [==============================] - 0s 69ms/step - loss: 0.0262 - acc: 0.9846 - f1_m: 0.9854 - precision_m: 0.9854 - recall_m: 0.9854 - auc_2: 0.9997 - false_negatives_2: 1.0000 - false_positives_2: 1.0000 - true_negatives_2: 165.4000 - true_positives_2: 82.2000 - mean_absolute_error: 0.0111 - mean_squared_error: 0.0060 - val_loss: 1.3729 - val_acc: 0.8000 - val_f1_m: 0.8000 - val_precision_m: 0.8000 - val_recall_m: 0.8000 - val_auc_2: 0.8908 - val_false_negatives_2: 6.0000 - val_false_positives_2: 6.0000 - val_true_negatives_2: 54.0000 - val_true_positives_2: 24.0000 - val_mean_absolute_error: 0.1464 - val_mean_squared_error: 0.1176\n",
      "\n",
      "Epoch 00013: val_acc did not improve from 0.80000\n",
      "Epoch 14/100\n",
      "4/4 [==============================] - 0s 69ms/step - loss: 0.0159 - acc: 0.9908 - f1_m: 0.9889 - precision_m: 0.9889 - recall_m: 0.9889 - auc_2: 0.9999 - false_negatives_2: 0.8000 - false_positives_2: 0.8000 - true_negatives_2: 165.6000 - true_positives_2: 82.4000 - mean_absolute_error: 0.0075 - mean_squared_error: 0.0031 - val_loss: 1.3495 - val_acc: 0.7667 - val_f1_m: 0.7667 - val_precision_m: 0.7667 - val_recall_m: 0.7667 - val_auc_2: 0.8931 - val_false_negatives_2: 7.0000 - val_false_positives_2: 7.0000 - val_true_negatives_2: 53.0000 - val_true_positives_2: 23.0000 - val_mean_absolute_error: 0.1468 - val_mean_squared_error: 0.1188\n",
      "\n",
      "Epoch 00014: val_acc did not improve from 0.80000\n",
      "Epoch 15/100\n",
      "4/4 [==============================] - 0s 69ms/step - loss: 0.0076 - acc: 1.0000 - f1_m: 1.0000 - precision_m: 1.0000 - recall_m: 1.0000 - auc_2: 1.0000 - false_negatives_2: 0.0000e+00 - false_positives_2: 0.0000e+00 - true_negatives_2: 172.8000 - true_positives_2: 86.4000 - mean_absolute_error: 0.0046 - mean_squared_error: 6.7977e-04 - val_loss: 1.3348 - val_acc: 0.7667 - val_f1_m: 0.7667 - val_precision_m: 0.7667 - val_recall_m: 0.7667 - val_auc_2: 0.8931 - val_false_negatives_2: 7.0000 - val_false_positives_2: 7.0000 - val_true_negatives_2: 53.0000 - val_true_positives_2: 23.0000 - val_mean_absolute_error: 0.1455 - val_mean_squared_error: 0.1193\n",
      "\n",
      "Epoch 00015: val_acc did not improve from 0.80000\n",
      "Epoch 16/100\n",
      "4/4 [==============================] - 0s 69ms/step - loss: 0.0157 - acc: 1.0000 - f1_m: 1.0000 - precision_m: 1.0000 - recall_m: 1.0000 - auc_2: 1.0000 - false_negatives_2: 0.0000e+00 - false_positives_2: 0.0000e+00 - true_negatives_2: 166.4000 - true_positives_2: 83.2000 - mean_absolute_error: 0.0095 - mean_squared_error: 0.0014 - val_loss: 1.3066 - val_acc: 0.7667 - val_f1_m: 0.7667 - val_precision_m: 0.7667 - val_recall_m: 0.7667 - val_auc_2: 0.8925 - val_false_negatives_2: 7.0000 - val_false_positives_2: 7.0000 - val_true_negatives_2: 53.0000 - val_true_positives_2: 23.0000 - val_mean_absolute_error: 0.1408 - val_mean_squared_error: 0.1160\n",
      "\n",
      "Epoch 00016: val_acc did not improve from 0.80000\n",
      "Epoch 17/100\n",
      "4/4 [==============================] - 0s 71ms/step - loss: 0.0034 - acc: 1.0000 - f1_m: 1.0000 - precision_m: 1.0000 - recall_m: 1.0000 - auc_2: 1.0000 - false_negatives_2: 0.0000e+00 - false_positives_2: 0.0000e+00 - true_negatives_2: 166.4000 - true_positives_2: 83.2000 - mean_absolute_error: 0.0022 - mean_squared_error: 1.3016e-04 - val_loss: 1.2977 - val_acc: 0.8333 - val_f1_m: 0.8333 - val_precision_m: 0.8333 - val_recall_m: 0.8333 - val_auc_2: 0.8958 - val_false_negatives_2: 5.0000 - val_false_positives_2: 5.0000 - val_true_negatives_2: 55.0000 - val_true_positives_2: 25.0000 - val_mean_absolute_error: 0.1334 - val_mean_squared_error: 0.1107\n",
      "\n",
      "Epoch 00017: val_acc improved from 0.80000 to 0.83333, saving model to /mnt/sda1/image-results-iris/results/fold2-resnet50v2-saved-model-17-val_acc-0.83.hdf5\n",
      "Epoch 18/100\n",
      "4/4 [==============================] - 0s 70ms/step - loss: 0.0047 - acc: 1.0000 - f1_m: 1.0000 - precision_m: 1.0000 - recall_m: 1.0000 - auc_2: 1.0000 - false_negatives_2: 0.0000e+00 - false_positives_2: 0.0000e+00 - true_negatives_2: 169.6000 - true_positives_2: 84.8000 - mean_absolute_error: 0.0030 - mean_squared_error: 1.9555e-04 - val_loss: 1.2788 - val_acc: 0.8333 - val_f1_m: 0.8333 - val_precision_m: 0.8333 - val_recall_m: 0.8333 - val_auc_2: 0.8978 - val_false_negatives_2: 5.0000 - val_false_positives_2: 5.0000 - val_true_negatives_2: 55.0000 - val_true_positives_2: 25.0000 - val_mean_absolute_error: 0.1262 - val_mean_squared_error: 0.1071\n",
      "\n",
      "Epoch 00018: val_acc did not improve from 0.83333\n",
      "Epoch 19/100\n",
      "4/4 [==============================] - 0s 71ms/step - loss: 0.0102 - acc: 0.9944 - f1_m: 0.9931 - precision_m: 0.9931 - recall_m: 0.9931 - auc_2: 1.0000 - false_negatives_2: 0.6000 - false_positives_2: 0.6000 - true_negatives_2: 169.0000 - true_positives_2: 84.2000 - mean_absolute_error: 0.0055 - mean_squared_error: 0.0015 - val_loss: 1.2628 - val_acc: 0.8333 - val_f1_m: 0.8333 - val_precision_m: 0.8333 - val_recall_m: 0.8333 - val_auc_2: 0.8992 - val_false_negatives_2: 5.0000 - val_false_positives_2: 5.0000 - val_true_negatives_2: 55.0000 - val_true_positives_2: 25.0000 - val_mean_absolute_error: 0.1206 - val_mean_squared_error: 0.1051\n",
      "\n",
      "Epoch 00019: val_acc did not improve from 0.83333\n",
      "Epoch 20/100\n",
      "4/4 [==============================] - 0s 70ms/step - loss: 0.0136 - acc: 0.9944 - f1_m: 0.9931 - precision_m: 0.9931 - recall_m: 0.9931 - auc_2: 1.0000 - false_negatives_2: 0.6000 - false_positives_2: 0.6000 - true_negatives_2: 169.0000 - true_positives_2: 84.2000 - mean_absolute_error: 0.0051 - mean_squared_error: 0.0027 - val_loss: 1.2618 - val_acc: 0.8333 - val_f1_m: 0.8333 - val_precision_m: 0.8333 - val_recall_m: 0.8333 - val_auc_2: 0.8997 - val_false_negatives_2: 5.0000 - val_false_positives_2: 5.0000 - val_true_negatives_2: 55.0000 - val_true_positives_2: 25.0000 - val_mean_absolute_error: 0.1167 - val_mean_squared_error: 0.1045\n",
      "\n",
      "Epoch 00020: val_acc did not improve from 0.83333\n",
      "Epoch 21/100\n",
      "4/4 [==============================] - 0s 71ms/step - loss: 0.0377 - acc: 0.9825 - f1_m: 0.9806 - precision_m: 0.9806 - recall_m: 0.9806 - auc_2: 0.9998 - false_negatives_2: 1.0000 - false_positives_2: 1.0000 - true_negatives_2: 162.2000 - true_positives_2: 80.6000 - mean_absolute_error: 0.0147 - mean_squared_error: 0.0082 - val_loss: 1.2627 - val_acc: 0.8333 - val_f1_m: 0.8333 - val_precision_m: 0.8333 - val_recall_m: 0.8333 - val_auc_2: 0.9000 - val_false_negatives_2: 5.0000 - val_false_positives_2: 5.0000 - val_true_negatives_2: 55.0000 - val_true_positives_2: 25.0000 - val_mean_absolute_error: 0.1152 - val_mean_squared_error: 0.1051\n",
      "\n",
      "Epoch 00021: val_acc did not improve from 0.83333\n",
      "Epoch 22/100\n",
      "4/4 [==============================] - 0s 68ms/step - loss: 0.0202 - acc: 0.9946 - f1_m: 0.9948 - precision_m: 0.9948 - recall_m: 0.9948 - auc_2: 0.9999 - false_negatives_2: 0.6000 - false_positives_2: 0.6000 - true_negatives_2: 172.2000 - true_positives_2: 85.8000 - mean_absolute_error: 0.0089 - mean_squared_error: 0.0042 - val_loss: 1.2610 - val_acc: 0.8333 - val_f1_m: 0.8333 - val_precision_m: 0.8333 - val_recall_m: 0.8333 - val_auc_2: 0.8992 - val_false_negatives_2: 5.0000 - val_false_positives_2: 5.0000 - val_true_negatives_2: 55.0000 - val_true_positives_2: 25.0000 - val_mean_absolute_error: 0.1144 - val_mean_squared_error: 0.1058\n",
      "\n",
      "Epoch 00022: val_acc did not improve from 0.83333\n",
      "Fold:  3\n",
      "Found 120 images belonging to 3 classes.\n",
      "Found 30 images belonging to 3 classes.\n"
     ]
    },
    {
     "name": "stderr",
     "output_type": "stream",
     "text": [
      "2023-03-05 16:06:52.344765: I tensorflow/core/profiler/lib/profiler_session.cc:136] Profiler session initializing.\n",
      "2023-03-05 16:06:52.344790: I tensorflow/core/profiler/lib/profiler_session.cc:155] Profiler session started.\n",
      "2023-03-05 16:06:52.344923: I tensorflow/core/profiler/lib/profiler_session.cc:172] Profiler session tear down.\n",
      "2023-03-05 16:06:52.344978: I tensorflow/core/profiler/internal/gpu/cupti_tracer.cc:1487] CUPTI activity buffer flushed\n"
     ]
    },
    {
     "name": "stdout",
     "output_type": "stream",
     "text": [
      "Epoch 1/100\n",
      "2/4 [==============>...............] - ETA: 0s - loss: 1.3404 - acc: 0.5179 - f1_m: 0.4534 - precision_m: 0.4931 - recall_m: 0.4219 - auc_3: 0.5978 - false_negatives_3: 23.0000 - false_positives_3: 16.5000 - true_negatives_3: 63.5000 - true_positives_3: 17.0000 - mean_absolute_error: 0.3975 - mean_squared_error: 0.2446 "
     ]
    },
    {
     "name": "stderr",
     "output_type": "stream",
     "text": [
      "2023-03-05 16:06:56.033133: I tensorflow/core/profiler/lib/profiler_session.cc:136] Profiler session initializing.\n",
      "2023-03-05 16:06:56.033157: I tensorflow/core/profiler/lib/profiler_session.cc:155] Profiler session started.\n"
     ]
    },
    {
     "name": "stdout",
     "output_type": "stream",
     "text": [
      "4/4 [==============================] - ETA: 0s - loss: 1.3361 - acc: 0.5180 - f1_m: 0.4670 - precision_m: 0.5163 - recall_m: 0.4286 - auc_3: 0.6185 - false_negatives_3: 40.7500 - false_positives_3: 27.5000 - true_negatives_3: 116.5000 - true_positives_3: 31.2500 - mean_absolute_error: 0.3896 - mean_squared_error: 0.2398"
     ]
    },
    {
     "name": "stderr",
     "output_type": "stream",
     "text": [
      "2023-03-05 16:06:56.433070: I tensorflow/core/profiler/lib/profiler_session.cc:71] Profiler session collecting data.\n",
      "2023-03-05 16:06:56.434887: I tensorflow/core/profiler/internal/gpu/cupti_tracer.cc:1487] CUPTI activity buffer flushed\n",
      "2023-03-05 16:06:56.444107: I tensorflow/core/profiler/internal/gpu/cupti_collector.cc:228]  GpuTracer has collected 1741 callback api events and 1689 activity events. \n",
      "2023-03-05 16:06:56.475143: I tensorflow/core/profiler/lib/profiler_session.cc:172] Profiler session tear down.\n",
      "2023-03-05 16:06:56.504369: I tensorflow/core/profiler/rpc/client/save_profile.cc:137] Creating directory: /mnt/sda1/image-results-iris/results/tb_logs/train/plugins/profile/2023_03_05_16_06_56\n",
      "2023-03-05 16:06:56.526369: I tensorflow/core/profiler/rpc/client/save_profile.cc:143] Dumped gzipped tool data for trace.json.gz to /mnt/sda1/image-results-iris/results/tb_logs/train/plugins/profile/2023_03_05_16_06_56/drake-pc.trace.json.gz\n",
      "2023-03-05 16:06:56.580412: I tensorflow/core/profiler/rpc/client/save_profile.cc:137] Creating directory: /mnt/sda1/image-results-iris/results/tb_logs/train/plugins/profile/2023_03_05_16_06_56\n",
      "2023-03-05 16:06:56.585505: I tensorflow/core/profiler/rpc/client/save_profile.cc:143] Dumped gzipped tool data for memory_profile.json.gz to /mnt/sda1/image-results-iris/results/tb_logs/train/plugins/profile/2023_03_05_16_06_56/drake-pc.memory_profile.json.gz\n",
      "2023-03-05 16:06:56.587878: I tensorflow/core/profiler/rpc/client/capture_profile.cc:251] Creating directory: /mnt/sda1/image-results-iris/results/tb_logs/train/plugins/profile/2023_03_05_16_06_56Dumped tool data for xplane.pb to /mnt/sda1/image-results-iris/results/tb_logs/train/plugins/profile/2023_03_05_16_06_56/drake-pc.xplane.pb\n",
      "Dumped tool data for overview_page.pb to /mnt/sda1/image-results-iris/results/tb_logs/train/plugins/profile/2023_03_05_16_06_56/drake-pc.overview_page.pb\n",
      "Dumped tool data for input_pipeline.pb to /mnt/sda1/image-results-iris/results/tb_logs/train/plugins/profile/2023_03_05_16_06_56/drake-pc.input_pipeline.pb\n",
      "Dumped tool data for tensorflow_stats.pb to /mnt/sda1/image-results-iris/results/tb_logs/train/plugins/profile/2023_03_05_16_06_56/drake-pc.tensorflow_stats.pb\n",
      "Dumped tool data for kernel_stats.pb to /mnt/sda1/image-results-iris/results/tb_logs/train/plugins/profile/2023_03_05_16_06_56/drake-pc.kernel_stats.pb\n",
      "\n"
     ]
    },
    {
     "name": "stdout",
     "output_type": "stream",
     "text": [
      "4/4 [==============================] - 5s 586ms/step - loss: 1.3279 - acc: 0.5194 - f1_m: 0.4713 - precision_m: 0.5234 - recall_m: 0.4309 - auc_3: 0.6247 - false_negatives_3: 46.0000 - false_positives_3: 30.6000 - true_negatives_3: 132.6000 - true_positives_3: 35.6000 - mean_absolute_error: 0.3873 - mean_squared_error: 0.2381 - val_loss: 4.9274 - val_acc: 0.3333 - val_f1_m: 0.3333 - val_precision_m: 0.3333 - val_recall_m: 0.3333 - val_auc_3: 0.5758 - val_false_negatives_3: 20.0000 - val_false_positives_3: 20.0000 - val_true_negatives_3: 40.0000 - val_true_positives_3: 10.0000 - val_mean_absolute_error: 0.4320 - val_mean_squared_error: 0.4217\n",
      "\n",
      "Epoch 00001: val_acc improved from -inf to 0.33333, saving model to /mnt/sda1/image-results-iris/results/fold3-resnet50v2-saved-model-01-val_acc-0.33.hdf5\n",
      "Epoch 2/100\n",
      "3/4 [=====================>........] - ETA: 0s - loss: 1.5820 - acc: 0.5781 - f1_m: 0.5030 - precision_m: 0.5692 - recall_m: 0.4514 - auc_3: 0.7353 - false_negatives_3: 34.3333 - false_positives_3: 21.0000 - true_negatives_3: 107.0000 - true_positives_3: 29.6667 - mean_absolute_error: 0.3159 - mean_squared_error: 0.2157WARNING:tensorflow:Callback method `on_train_batch_end` is slow compared to the batch time (batch time: 0.0514s vs `on_train_batch_end` time: 0.0894s). Check your callbacks.\n",
      "4/4 [==============================] - 0s 69ms/step - loss: 1.4014 - acc: 0.6135 - f1_m: 0.5525 - precision_m: 0.6102 - recall_m: 0.5073 - auc_3: 0.7662 - false_negatives_3: 41.0000 - false_positives_3: 25.8000 - true_negatives_3: 147.0000 - true_positives_3: 45.4000 - mean_absolute_error: 0.2962 - mean_squared_error: 0.1966 - val_loss: 3.7746 - val_acc: 0.4000 - val_f1_m: 0.4000 - val_precision_m: 0.4000 - val_recall_m: 0.4000 - val_auc_3: 0.6019 - val_false_negatives_3: 18.0000 - val_false_positives_3: 18.0000 - val_true_negatives_3: 42.0000 - val_true_positives_3: 12.0000 - val_mean_absolute_error: 0.4035 - val_mean_squared_error: 0.3809\n",
      "\n",
      "Epoch 00002: val_acc improved from 0.33333 to 0.40000, saving model to /mnt/sda1/image-results-iris/results/fold3-resnet50v2-saved-model-02-val_acc-0.40.hdf5\n",
      "Epoch 3/100\n",
      "4/4 [==============================] - 0s 71ms/step - loss: 0.5219 - acc: 0.8042 - f1_m: 0.7979 - precision_m: 0.8027 - recall_m: 0.7937 - auc_3: 0.9373 - false_negatives_3: 18.0000 - false_positives_3: 16.8000 - true_negatives_3: 156.0000 - true_positives_3: 68.4000 - mean_absolute_error: 0.1462 - mean_squared_error: 0.0898 - val_loss: 4.1037 - val_acc: 0.3333 - val_f1_m: 0.3333 - val_precision_m: 0.3333 - val_recall_m: 0.3333 - val_auc_3: 0.5733 - val_false_negatives_3: 20.0000 - val_false_positives_3: 20.0000 - val_true_negatives_3: 40.0000 - val_true_positives_3: 10.0000 - val_mean_absolute_error: 0.4319 - val_mean_squared_error: 0.4168\n",
      "\n",
      "Epoch 00003: val_acc did not improve from 0.40000\n",
      "Epoch 4/100\n",
      "4/4 [==============================] - 0s 67ms/step - loss: 0.3241 - acc: 0.8358 - f1_m: 0.8344 - precision_m: 0.8488 - recall_m: 0.8208 - auc_3: 0.9689 - false_negatives_3: 14.6000 - false_positives_3: 12.2000 - true_negatives_3: 160.6000 - true_positives_3: 71.8000 - mean_absolute_error: 0.1377 - mean_squared_error: 0.0672 - val_loss: 1.5492 - val_acc: 0.5333 - val_f1_m: 0.5333 - val_precision_m: 0.5333 - val_recall_m: 0.5333 - val_auc_3: 0.7647 - val_false_negatives_3: 14.0000 - val_false_positives_3: 14.0000 - val_true_negatives_3: 46.0000 - val_true_positives_3: 16.0000 - val_mean_absolute_error: 0.3145 - val_mean_squared_error: 0.2567\n",
      "\n",
      "Epoch 00004: val_acc improved from 0.40000 to 0.53333, saving model to /mnt/sda1/image-results-iris/results/fold3-resnet50v2-saved-model-04-val_acc-0.53.hdf5\n",
      "Epoch 5/100\n",
      "4/4 [==============================] - 0s 70ms/step - loss: 0.1407 - acc: 0.9488 - f1_m: 0.9493 - precision_m: 0.9493 - recall_m: 0.9493 - auc_3: 0.9942 - false_negatives_3: 4.0000 - false_positives_3: 4.0000 - true_negatives_3: 162.4000 - true_positives_3: 79.2000 - mean_absolute_error: 0.0652 - mean_squared_error: 0.0277 - val_loss: 0.8121 - val_acc: 0.7667 - val_f1_m: 0.7241 - val_precision_m: 0.7500 - val_recall_m: 0.7000 - val_auc_3: 0.8819 - val_false_negatives_3: 9.0000 - val_false_positives_3: 7.0000 - val_true_negatives_3: 53.0000 - val_true_positives_3: 21.0000 - val_mean_absolute_error: 0.2059 - val_mean_squared_error: 0.1449\n",
      "\n",
      "Epoch 00005: val_acc improved from 0.53333 to 0.76667, saving model to /mnt/sda1/image-results-iris/results/fold3-resnet50v2-saved-model-05-val_acc-0.77.hdf5\n",
      "Epoch 6/100\n",
      "4/4 [==============================] - 0s 69ms/step - loss: 0.0982 - acc: 0.9522 - f1_m: 0.9542 - precision_m: 0.9542 - recall_m: 0.9542 - auc_3: 0.9971 - false_negatives_3: 4.2000 - false_positives_3: 4.2000 - true_negatives_3: 165.4000 - true_positives_3: 80.6000 - mean_absolute_error: 0.0400 - mean_squared_error: 0.0215 - val_loss: 0.7362 - val_acc: 0.8000 - val_f1_m: 0.8000 - val_precision_m: 0.8000 - val_recall_m: 0.8000 - val_auc_3: 0.9217 - val_false_negatives_3: 6.0000 - val_false_positives_3: 6.0000 - val_true_negatives_3: 54.0000 - val_true_positives_3: 24.0000 - val_mean_absolute_error: 0.1550 - val_mean_squared_error: 0.1149\n",
      "\n",
      "Epoch 00006: val_acc improved from 0.76667 to 0.80000, saving model to /mnt/sda1/image-results-iris/results/fold3-resnet50v2-saved-model-06-val_acc-0.80.hdf5\n",
      "Epoch 7/100\n",
      "4/4 [==============================] - 0s 72ms/step - loss: 0.0887 - acc: 0.9448 - f1_m: 0.9505 - precision_m: 0.9531 - recall_m: 0.9479 - auc_3: 0.9976 - false_negatives_3: 4.0000 - false_positives_3: 3.4000 - true_negatives_3: 163.0000 - true_positives_3: 79.2000 - mean_absolute_error: 0.0338 - mean_squared_error: 0.0200 - val_loss: 0.6880 - val_acc: 0.8000 - val_f1_m: 0.8000 - val_precision_m: 0.8000 - val_recall_m: 0.8000 - val_auc_3: 0.9306 - val_false_negatives_3: 6.0000 - val_false_positives_3: 6.0000 - val_true_negatives_3: 54.0000 - val_true_positives_3: 24.0000 - val_mean_absolute_error: 0.1420 - val_mean_squared_error: 0.1016\n",
      "\n",
      "Epoch 00007: val_acc did not improve from 0.80000\n",
      "Epoch 8/100\n",
      "4/4 [==============================] - 0s 69ms/step - loss: 0.0301 - acc: 0.9933 - f1_m: 0.9952 - precision_m: 0.9968 - recall_m: 0.9938 - auc_3: 0.9998 - false_negatives_3: 0.8000 - false_positives_3: 0.4000 - true_negatives_3: 166.0000 - true_positives_3: 82.4000 - mean_absolute_error: 0.0148 - mean_squared_error: 0.0049 - val_loss: 0.6177 - val_acc: 0.8000 - val_f1_m: 0.8000 - val_precision_m: 0.8000 - val_recall_m: 0.8000 - val_auc_3: 0.9436 - val_false_negatives_3: 6.0000 - val_false_positives_3: 6.0000 - val_true_negatives_3: 54.0000 - val_true_positives_3: 24.0000 - val_mean_absolute_error: 0.1293 - val_mean_squared_error: 0.0892\n",
      "\n",
      "Epoch 00008: val_acc did not improve from 0.80000\n",
      "Epoch 9/100\n",
      "4/4 [==============================] - 0s 70ms/step - loss: 0.0590 - acc: 0.9733 - f1_m: 0.9722 - precision_m: 0.9722 - recall_m: 0.9722 - auc_3: 0.9991 - false_negatives_3: 1.8000 - false_positives_3: 1.8000 - true_negatives_3: 161.4000 - true_positives_3: 79.8000 - mean_absolute_error: 0.0241 - mean_squared_error: 0.0120 - val_loss: 0.6340 - val_acc: 0.8667 - val_f1_m: 0.8667 - val_precision_m: 0.8667 - val_recall_m: 0.8667 - val_auc_3: 0.9522 - val_false_negatives_3: 4.0000 - val_false_positives_3: 4.0000 - val_true_negatives_3: 56.0000 - val_true_positives_3: 26.0000 - val_mean_absolute_error: 0.1079 - val_mean_squared_error: 0.0722\n",
      "\n",
      "Epoch 00009: val_acc improved from 0.80000 to 0.86667, saving model to /mnt/sda1/image-results-iris/results/fold3-resnet50v2-saved-model-09-val_acc-0.87.hdf5\n",
      "Epoch 10/100\n",
      "4/4 [==============================] - 0s 72ms/step - loss: 0.0202 - acc: 1.0000 - f1_m: 1.0000 - precision_m: 1.0000 - recall_m: 1.0000 - auc_3: 1.0000 - false_negatives_3: 0.0000e+00 - false_positives_3: 0.0000e+00 - true_negatives_3: 163.2000 - true_positives_3: 81.6000 - mean_absolute_error: 0.0121 - mean_squared_error: 0.0021 - val_loss: 0.6925 - val_acc: 0.8667 - val_f1_m: 0.8667 - val_precision_m: 0.8667 - val_recall_m: 0.8667 - val_auc_3: 0.9492 - val_false_negatives_3: 4.0000 - val_false_positives_3: 4.0000 - val_true_negatives_3: 56.0000 - val_true_positives_3: 26.0000 - val_mean_absolute_error: 0.0930 - val_mean_squared_error: 0.0654\n",
      "\n",
      "Epoch 00010: val_acc did not improve from 0.86667\n",
      "Epoch 11/100\n",
      "4/4 [==============================] - 0s 68ms/step - loss: 0.0156 - acc: 0.9946 - f1_m: 0.9948 - precision_m: 0.9948 - recall_m: 0.9948 - auc_3: 0.9999 - false_negatives_3: 0.6000 - false_positives_3: 0.6000 - true_negatives_3: 172.2000 - true_positives_3: 85.8000 - mean_absolute_error: 0.0079 - mean_squared_error: 0.0028 - val_loss: 0.6997 - val_acc: 0.9000 - val_f1_m: 0.8814 - val_precision_m: 0.8966 - val_recall_m: 0.8667 - val_auc_3: 0.9344 - val_false_negatives_3: 4.0000 - val_false_positives_3: 3.0000 - val_true_negatives_3: 57.0000 - val_true_positives_3: 26.0000 - val_mean_absolute_error: 0.0880 - val_mean_squared_error: 0.0626\n",
      "\n",
      "Epoch 00011: val_acc improved from 0.86667 to 0.90000, saving model to /mnt/sda1/image-results-iris/results/fold3-resnet50v2-saved-model-11-val_acc-0.90.hdf5\n",
      "Epoch 12/100\n",
      "4/4 [==============================] - 0s 70ms/step - loss: 0.0463 - acc: 0.9842 - f1_m: 0.9826 - precision_m: 0.9826 - recall_m: 0.9826 - auc_3: 0.9994 - false_negatives_3: 1.6000 - false_positives_3: 1.6000 - true_negatives_3: 164.8000 - true_positives_3: 81.6000 - mean_absolute_error: 0.0190 - mean_squared_error: 0.0100 - val_loss: 0.5418 - val_acc: 0.9000 - val_f1_m: 0.9000 - val_precision_m: 0.9000 - val_recall_m: 0.9000 - val_auc_3: 0.9561 - val_false_negatives_3: 3.0000 - val_false_positives_3: 3.0000 - val_true_negatives_3: 57.0000 - val_true_positives_3: 27.0000 - val_mean_absolute_error: 0.0820 - val_mean_squared_error: 0.0576\n",
      "\n",
      "Epoch 00012: val_acc did not improve from 0.90000\n",
      "Epoch 13/100\n",
      "4/4 [==============================] - 0s 68ms/step - loss: 0.0172 - acc: 0.9944 - f1_m: 0.9948 - precision_m: 0.9948 - recall_m: 0.9948 - auc_3: 0.9999 - false_negatives_3: 0.6000 - false_positives_3: 0.6000 - true_negatives_3: 165.8000 - true_positives_3: 82.6000 - mean_absolute_error: 0.0063 - mean_squared_error: 0.0033 - val_loss: 0.6115 - val_acc: 0.9000 - val_f1_m: 0.9000 - val_precision_m: 0.9000 - val_recall_m: 0.9000 - val_auc_3: 0.9378 - val_false_negatives_3: 3.0000 - val_false_positives_3: 3.0000 - val_true_negatives_3: 57.0000 - val_true_positives_3: 27.0000 - val_mean_absolute_error: 0.0819 - val_mean_squared_error: 0.0588\n",
      "\n",
      "Epoch 00013: val_acc did not improve from 0.90000\n",
      "Epoch 14/100\n",
      "4/4 [==============================] - 0s 68ms/step - loss: 0.0122 - acc: 1.0000 - f1_m: 1.0000 - precision_m: 1.0000 - recall_m: 1.0000 - auc_3: 1.0000 - false_negatives_3: 0.0000e+00 - false_positives_3: 0.0000e+00 - true_negatives_3: 166.4000 - true_positives_3: 83.2000 - mean_absolute_error: 0.0073 - mean_squared_error: 0.0013 - val_loss: 0.6159 - val_acc: 0.9000 - val_f1_m: 0.9000 - val_precision_m: 0.9000 - val_recall_m: 0.9000 - val_auc_3: 0.9383 - val_false_negatives_3: 3.0000 - val_false_positives_3: 3.0000 - val_true_negatives_3: 57.0000 - val_true_positives_3: 27.0000 - val_mean_absolute_error: 0.0773 - val_mean_squared_error: 0.0561\n",
      "\n",
      "Epoch 00014: val_acc did not improve from 0.90000\n",
      "Epoch 15/100\n",
      "4/4 [==============================] - 0s 69ms/step - loss: 0.0077 - acc: 0.9944 - f1_m: 0.9931 - precision_m: 0.9931 - recall_m: 0.9931 - auc_3: 1.0000 - false_negatives_3: 0.6000 - false_positives_3: 0.6000 - true_negatives_3: 169.0000 - true_positives_3: 84.2000 - mean_absolute_error: 0.0040 - mean_squared_error: 0.0014 - val_loss: 0.6500 - val_acc: 0.9000 - val_f1_m: 0.8814 - val_precision_m: 0.8966 - val_recall_m: 0.8667 - val_auc_3: 0.9400 - val_false_negatives_3: 4.0000 - val_false_positives_3: 3.0000 - val_true_negatives_3: 57.0000 - val_true_positives_3: 26.0000 - val_mean_absolute_error: 0.0765 - val_mean_squared_error: 0.0563\n",
      "\n",
      "Epoch 00015: val_acc did not improve from 0.90000\n",
      "Epoch 16/100\n",
      "4/4 [==============================] - 0s 71ms/step - loss: 0.0045 - acc: 1.0000 - f1_m: 1.0000 - precision_m: 1.0000 - recall_m: 1.0000 - auc_3: 1.0000 - false_negatives_3: 0.0000e+00 - false_positives_3: 0.0000e+00 - true_negatives_3: 166.4000 - true_positives_3: 83.2000 - mean_absolute_error: 0.0028 - mean_squared_error: 3.6884e-04 - val_loss: 0.7188 - val_acc: 0.8667 - val_f1_m: 0.8814 - val_precision_m: 0.8966 - val_recall_m: 0.8667 - val_auc_3: 0.9406 - val_false_negatives_3: 4.0000 - val_false_positives_3: 3.0000 - val_true_negatives_3: 57.0000 - val_true_positives_3: 26.0000 - val_mean_absolute_error: 0.0803 - val_mean_squared_error: 0.0608\n",
      "\n",
      "Epoch 00016: val_acc did not improve from 0.90000\n",
      "Epoch 17/100\n",
      "4/4 [==============================] - 0s 69ms/step - loss: 0.0026 - acc: 1.0000 - f1_m: 1.0000 - precision_m: 1.0000 - recall_m: 1.0000 - auc_3: 1.0000 - false_negatives_3: 0.0000e+00 - false_positives_3: 0.0000e+00 - true_negatives_3: 166.4000 - true_positives_3: 83.2000 - mean_absolute_error: 0.0017 - mean_squared_error: 5.0351e-05 - val_loss: 0.7119 - val_acc: 0.8667 - val_f1_m: 0.8814 - val_precision_m: 0.8966 - val_recall_m: 0.8667 - val_auc_3: 0.9411 - val_false_negatives_3: 4.0000 - val_false_positives_3: 3.0000 - val_true_negatives_3: 57.0000 - val_true_positives_3: 26.0000 - val_mean_absolute_error: 0.0792 - val_mean_squared_error: 0.0614\n",
      "\n",
      "Epoch 00017: val_acc did not improve from 0.90000\n",
      "Epoch 18/100\n",
      "4/4 [==============================] - 0s 70ms/step - loss: 0.0035 - acc: 1.0000 - f1_m: 1.0000 - precision_m: 1.0000 - recall_m: 1.0000 - auc_3: 1.0000 - false_negatives_3: 0.0000e+00 - false_positives_3: 0.0000e+00 - true_negatives_3: 166.4000 - true_positives_3: 83.2000 - mean_absolute_error: 0.0023 - mean_squared_error: 7.8547e-05 - val_loss: 0.6960 - val_acc: 0.9000 - val_f1_m: 0.8966 - val_precision_m: 0.9286 - val_recall_m: 0.8667 - val_auc_3: 0.9422 - val_false_negatives_3: 4.0000 - val_false_positives_3: 2.0000 - val_true_negatives_3: 58.0000 - val_true_positives_3: 26.0000 - val_mean_absolute_error: 0.0783 - val_mean_squared_error: 0.0613\n",
      "\n",
      "Epoch 00018: val_acc did not improve from 0.90000\n",
      "Epoch 19/100\n",
      "4/4 [==============================] - 0s 67ms/step - loss: 0.0047 - acc: 1.0000 - f1_m: 1.0000 - precision_m: 1.0000 - recall_m: 1.0000 - auc_3: 1.0000 - false_negatives_3: 0.0000e+00 - false_positives_3: 0.0000e+00 - true_negatives_3: 172.8000 - true_positives_3: 86.4000 - mean_absolute_error: 0.0030 - mean_squared_error: 2.9694e-04 - val_loss: 0.6797 - val_acc: 0.9000 - val_f1_m: 0.9000 - val_precision_m: 0.9000 - val_recall_m: 0.9000 - val_auc_3: 0.9433 - val_false_negatives_3: 3.0000 - val_false_positives_3: 3.0000 - val_true_negatives_3: 57.0000 - val_true_positives_3: 27.0000 - val_mean_absolute_error: 0.0776 - val_mean_squared_error: 0.0613\n",
      "\n",
      "Epoch 00019: val_acc did not improve from 0.90000\n",
      "Epoch 20/100\n",
      "4/4 [==============================] - 0s 71ms/step - loss: 0.0029 - acc: 1.0000 - f1_m: 1.0000 - precision_m: 1.0000 - recall_m: 1.0000 - auc_3: 1.0000 - false_negatives_3: 0.0000e+00 - false_positives_3: 0.0000e+00 - true_negatives_3: 163.2000 - true_positives_3: 81.6000 - mean_absolute_error: 0.0018 - mean_squared_error: 1.9818e-04 - val_loss: 0.6694 - val_acc: 0.9000 - val_f1_m: 0.9000 - val_precision_m: 0.9000 - val_recall_m: 0.9000 - val_auc_3: 0.9422 - val_false_negatives_3: 3.0000 - val_false_positives_3: 3.0000 - val_true_negatives_3: 57.0000 - val_true_positives_3: 27.0000 - val_mean_absolute_error: 0.0778 - val_mean_squared_error: 0.0621\n",
      "\n",
      "Epoch 00020: val_acc did not improve from 0.90000\n",
      "Epoch 21/100\n",
      "4/4 [==============================] - 0s 71ms/step - loss: 0.0066 - acc: 1.0000 - f1_m: 1.0000 - precision_m: 1.0000 - recall_m: 1.0000 - auc_3: 1.0000 - false_negatives_3: 0.0000e+00 - false_positives_3: 0.0000e+00 - true_negatives_3: 163.2000 - true_positives_3: 81.6000 - mean_absolute_error: 0.0041 - mean_squared_error: 5.3680e-04 - val_loss: 0.6683 - val_acc: 0.9000 - val_f1_m: 0.9000 - val_precision_m: 0.9000 - val_recall_m: 0.9000 - val_auc_3: 0.9422 - val_false_negatives_3: 3.0000 - val_false_positives_3: 3.0000 - val_true_negatives_3: 57.0000 - val_true_positives_3: 27.0000 - val_mean_absolute_error: 0.0782 - val_mean_squared_error: 0.0632\n",
      "\n",
      "Epoch 00021: val_acc did not improve from 0.90000\n",
      "Epoch 22/100\n",
      "4/4 [==============================] - 0s 72ms/step - loss: 0.0036 - acc: 1.0000 - f1_m: 1.0000 - precision_m: 1.0000 - recall_m: 1.0000 - auc_3: 1.0000 - false_negatives_3: 0.0000e+00 - false_positives_3: 0.0000e+00 - true_negatives_3: 172.8000 - true_positives_3: 86.4000 - mean_absolute_error: 0.0023 - mean_squared_error: 2.0917e-04 - val_loss: 0.6611 - val_acc: 0.9000 - val_f1_m: 0.9000 - val_precision_m: 0.9000 - val_recall_m: 0.9000 - val_auc_3: 0.9422 - val_false_negatives_3: 3.0000 - val_false_positives_3: 3.0000 - val_true_negatives_3: 57.0000 - val_true_positives_3: 27.0000 - val_mean_absolute_error: 0.0780 - val_mean_squared_error: 0.0635\n",
      "\n",
      "Epoch 00022: val_acc did not improve from 0.90000\n",
      "Fold:  4\n",
      "Found 120 images belonging to 3 classes.\n",
      "Found 30 images belonging to 3 classes.\n"
     ]
    },
    {
     "name": "stderr",
     "output_type": "stream",
     "text": [
      "2023-03-05 16:07:07.466805: I tensorflow/core/profiler/lib/profiler_session.cc:136] Profiler session initializing.\n",
      "2023-03-05 16:07:07.466829: I tensorflow/core/profiler/lib/profiler_session.cc:155] Profiler session started.\n",
      "2023-03-05 16:07:07.466966: I tensorflow/core/profiler/lib/profiler_session.cc:172] Profiler session tear down.\n",
      "2023-03-05 16:07:07.467056: I tensorflow/core/profiler/internal/gpu/cupti_tracer.cc:1487] CUPTI activity buffer flushed\n"
     ]
    },
    {
     "name": "stdout",
     "output_type": "stream",
     "text": [
      "Epoch 1/100\n",
      "2/4 [==============>...............] - ETA: 0s - loss: 1.7033 - acc: 0.3393 - f1_m: 0.2115 - precision_m: 0.2768 - recall_m: 0.1719 - auc_4: 0.4449 - false_negatives_4: 36.5000 - false_positives_4: 19.5000 - true_negatives_4: 68.5000 - true_positives_4: 7.5000 - mean_absolute_error: 0.4633 - mean_squared_error: 0.3008 "
     ]
    },
    {
     "name": "stderr",
     "output_type": "stream",
     "text": [
      "2023-03-05 16:07:11.819904: I tensorflow/core/profiler/lib/profiler_session.cc:136] Profiler session initializing.\n",
      "2023-03-05 16:07:11.819952: I tensorflow/core/profiler/lib/profiler_session.cc:155] Profiler session started.\n"
     ]
    },
    {
     "name": "stdout",
     "output_type": "stream",
     "text": [
      "4/4 [==============================] - ETA: 0s - loss: 1.6659 - acc: 0.3437 - f1_m: 0.2386 - precision_m: 0.3014 - recall_m: 0.1999 - auc_4: 0.4781 - false_negatives_4: 57.7500 - false_positives_4: 33.0000 - true_negatives_4: 115.0000 - true_positives_4: 16.2500 - mean_absolute_error: 0.4525 - mean_squared_error: 0.2947"
     ]
    },
    {
     "name": "stderr",
     "output_type": "stream",
     "text": [
      "2023-03-05 16:07:12.179496: I tensorflow/core/profiler/lib/profiler_session.cc:71] Profiler session collecting data.\n",
      "2023-03-05 16:07:12.181714: I tensorflow/core/profiler/internal/gpu/cupti_tracer.cc:1487] CUPTI activity buffer flushed\n",
      "2023-03-05 16:07:12.191202: I tensorflow/core/profiler/internal/gpu/cupti_collector.cc:228]  GpuTracer has collected 1728 callback api events and 1676 activity events. \n",
      "2023-03-05 16:07:12.222702: I tensorflow/core/profiler/lib/profiler_session.cc:172] Profiler session tear down.\n",
      "2023-03-05 16:07:12.252904: I tensorflow/core/profiler/rpc/client/save_profile.cc:137] Creating directory: /mnt/sda1/image-results-iris/results/tb_logs/train/plugins/profile/2023_03_05_16_07_12\n",
      "2023-03-05 16:07:12.275262: I tensorflow/core/profiler/rpc/client/save_profile.cc:143] Dumped gzipped tool data for trace.json.gz to /mnt/sda1/image-results-iris/results/tb_logs/train/plugins/profile/2023_03_05_16_07_12/drake-pc.trace.json.gz\n",
      "2023-03-05 16:07:12.333534: I tensorflow/core/profiler/rpc/client/save_profile.cc:137] Creating directory: /mnt/sda1/image-results-iris/results/tb_logs/train/plugins/profile/2023_03_05_16_07_12\n",
      "2023-03-05 16:07:12.338731: I tensorflow/core/profiler/rpc/client/save_profile.cc:143] Dumped gzipped tool data for memory_profile.json.gz to /mnt/sda1/image-results-iris/results/tb_logs/train/plugins/profile/2023_03_05_16_07_12/drake-pc.memory_profile.json.gz\n",
      "2023-03-05 16:07:12.341093: I tensorflow/core/profiler/rpc/client/capture_profile.cc:251] Creating directory: /mnt/sda1/image-results-iris/results/tb_logs/train/plugins/profile/2023_03_05_16_07_12Dumped tool data for xplane.pb to /mnt/sda1/image-results-iris/results/tb_logs/train/plugins/profile/2023_03_05_16_07_12/drake-pc.xplane.pb\n",
      "Dumped tool data for overview_page.pb to /mnt/sda1/image-results-iris/results/tb_logs/train/plugins/profile/2023_03_05_16_07_12/drake-pc.overview_page.pb\n",
      "Dumped tool data for input_pipeline.pb to /mnt/sda1/image-results-iris/results/tb_logs/train/plugins/profile/2023_03_05_16_07_12/drake-pc.input_pipeline.pb\n",
      "Dumped tool data for tensorflow_stats.pb to /mnt/sda1/image-results-iris/results/tb_logs/train/plugins/profile/2023_03_05_16_07_12/drake-pc.tensorflow_stats.pb\n",
      "Dumped tool data for kernel_stats.pb to /mnt/sda1/image-results-iris/results/tb_logs/train/plugins/profile/2023_03_05_16_07_12/drake-pc.kernel_stats.pb\n",
      "\n"
     ]
    },
    {
     "name": "stdout",
     "output_type": "stream",
     "text": [
      "4/4 [==============================] - 6s 589ms/step - loss: 1.6507 - acc: 0.3483 - f1_m: 0.2496 - precision_m: 0.3108 - recall_m: 0.2115 - auc_4: 0.4916 - false_negatives_4: 63.8000 - false_positives_4: 37.2000 - true_negatives_4: 129.2000 - true_positives_4: 19.4000 - mean_absolute_error: 0.4478 - mean_squared_error: 0.2917 - val_loss: 3.8380 - val_acc: 0.4333 - val_f1_m: 0.4333 - val_precision_m: 0.4333 - val_recall_m: 0.4333 - val_auc_4: 0.5778 - val_false_negatives_4: 17.0000 - val_false_positives_4: 17.0000 - val_true_negatives_4: 43.0000 - val_true_positives_4: 13.0000 - val_mean_absolute_error: 0.3891 - val_mean_squared_error: 0.3280\n",
      "\n",
      "Epoch 00001: val_acc improved from -inf to 0.43333, saving model to /mnt/sda1/image-results-iris/results/fold4-resnet50v2-saved-model-01-val_acc-0.43.hdf5\n",
      "Epoch 2/100\n",
      "2/4 [==============>...............] - ETA: 0s - loss: 1.1933 - acc: 0.7031 - f1_m: 0.6793 - precision_m: 0.7047 - recall_m: 0.6562 - auc_4: 0.8158 - false_negatives_4: 16.0000 - false_positives_4: 13.0000 - true_negatives_4: 83.0000 - true_positives_4: 32.0000 - mean_absolute_error: 0.2390 - mean_squared_error: 0.1683WARNING:tensorflow:Callback method `on_train_batch_end` is slow compared to the batch time (batch time: 0.0496s vs `on_train_batch_end` time: 0.0854s). Check your callbacks.\n",
      "4/4 [==============================] - 0s 70ms/step - loss: 1.0327 - acc: 0.7402 - f1_m: 0.7280 - precision_m: 0.7451 - recall_m: 0.7125 - auc_4: 0.8486 - false_negatives_4: 23.4000 - false_positives_4: 20.0000 - true_negatives_4: 149.6000 - true_positives_4: 61.4000 - mean_absolute_error: 0.2147 - mean_squared_error: 0.1468 - val_loss: 9.4676 - val_acc: 0.3333 - val_f1_m: 0.3333 - val_precision_m: 0.3333 - val_recall_m: 0.3333 - val_auc_4: 0.4858 - val_false_negatives_4: 20.0000 - val_false_positives_4: 20.0000 - val_true_negatives_4: 40.0000 - val_true_positives_4: 10.0000 - val_mean_absolute_error: 0.4449 - val_mean_squared_error: 0.4442\n",
      "\n",
      "Epoch 00002: val_acc did not improve from 0.43333\n",
      "Epoch 3/100\n",
      "4/4 [==============================] - 0s 68ms/step - loss: 0.7230 - acc: 0.8210 - f1_m: 0.8101 - precision_m: 0.8290 - recall_m: 0.7927 - auc_4: 0.8975 - false_negatives_4: 18.8000 - false_positives_4: 14.6000 - true_negatives_4: 158.2000 - true_positives_4: 67.6000 - mean_absolute_error: 0.1841 - mean_squared_error: 0.1066 - val_loss: 224.4131 - val_acc: 0.3333 - val_f1_m: 0.3333 - val_precision_m: 0.3333 - val_recall_m: 0.3333 - val_auc_4: 0.5000 - val_false_negatives_4: 20.0000 - val_false_positives_4: 20.0000 - val_true_negatives_4: 40.0000 - val_true_positives_4: 10.0000 - val_mean_absolute_error: 0.4444 - val_mean_squared_error: 0.4444\n",
      "\n",
      "Epoch 00003: val_acc did not improve from 0.43333\n",
      "Epoch 4/100\n",
      "4/4 [==============================] - 0s 71ms/step - loss: 0.6424 - acc: 0.8467 - f1_m: 0.8445 - precision_m: 0.8583 - recall_m: 0.8313 - auc_4: 0.9442 - false_negatives_4: 15.2000 - false_positives_4: 12.6000 - true_negatives_4: 160.2000 - true_positives_4: 71.2000 - mean_absolute_error: 0.1811 - mean_squared_error: 0.0823 - val_loss: 141.0006 - val_acc: 0.3333 - val_f1_m: 0.3333 - val_precision_m: 0.3333 - val_recall_m: 0.3333 - val_auc_4: 0.5000 - val_false_negatives_4: 20.0000 - val_false_positives_4: 20.0000 - val_true_negatives_4: 40.0000 - val_true_positives_4: 10.0000 - val_mean_absolute_error: 0.4444 - val_mean_squared_error: 0.4444\n",
      "\n",
      "Epoch 00004: val_acc did not improve from 0.43333\n",
      "Epoch 5/100\n",
      "4/4 [==============================] - 0s 71ms/step - loss: 0.3714 - acc: 0.8602 - f1_m: 0.8650 - precision_m: 0.8687 - recall_m: 0.8615 - auc_4: 0.9596 - false_negatives_4: 11.6000 - false_positives_4: 10.8000 - true_negatives_4: 152.4000 - true_positives_4: 70.0000 - mean_absolute_error: 0.1164 - mean_squared_error: 0.0678 - val_loss: 104.6342 - val_acc: 0.3333 - val_f1_m: 0.3333 - val_precision_m: 0.3333 - val_recall_m: 0.3333 - val_auc_4: 0.5000 - val_false_negatives_4: 20.0000 - val_false_positives_4: 20.0000 - val_true_negatives_4: 40.0000 - val_true_positives_4: 10.0000 - val_mean_absolute_error: 0.4444 - val_mean_squared_error: 0.4444\n",
      "\n",
      "Epoch 00005: val_acc did not improve from 0.43333\n",
      "Epoch 6/100\n",
      "4/4 [==============================] - 0s 70ms/step - loss: 0.2525 - acc: 0.8971 - f1_m: 0.9045 - precision_m: 0.9166 - recall_m: 0.8934 - auc_4: 0.9842 - false_negatives_4: 9.4000 - false_positives_4: 6.8000 - true_negatives_4: 156.4000 - true_positives_4: 72.2000 - mean_absolute_error: 0.1066 - mean_squared_error: 0.0488 - val_loss: 15.2890 - val_acc: 0.3333 - val_f1_m: 0.3333 - val_precision_m: 0.3333 - val_recall_m: 0.3333 - val_auc_4: 0.4864 - val_false_negatives_4: 20.0000 - val_false_positives_4: 20.0000 - val_true_negatives_4: 40.0000 - val_true_positives_4: 10.0000 - val_mean_absolute_error: 0.4448 - val_mean_squared_error: 0.4440\n",
      "\n",
      "Epoch 00006: val_acc did not improve from 0.43333\n",
      "Epoch 7/100\n",
      "4/4 [==============================] - 0s 71ms/step - loss: 0.2530 - acc: 0.9400 - f1_m: 0.9365 - precision_m: 0.9365 - recall_m: 0.9365 - auc_4: 0.9824 - false_negatives_4: 6.0000 - false_positives_4: 6.0000 - true_negatives_4: 160.4000 - true_positives_4: 77.2000 - mean_absolute_error: 0.0958 - mean_squared_error: 0.0435 - val_loss: 5.3484 - val_acc: 0.3667 - val_f1_m: 0.3667 - val_precision_m: 0.3667 - val_recall_m: 0.3667 - val_auc_4: 0.5967 - val_false_negatives_4: 19.0000 - val_false_positives_4: 19.0000 - val_true_negatives_4: 41.0000 - val_true_positives_4: 11.0000 - val_mean_absolute_error: 0.4153 - val_mean_squared_error: 0.3649\n",
      "\n",
      "Epoch 00007: val_acc did not improve from 0.43333\n",
      "Epoch 8/100\n",
      "4/4 [==============================] - 0s 69ms/step - loss: 0.2371 - acc: 0.9162 - f1_m: 0.9146 - precision_m: 0.9146 - recall_m: 0.9146 - auc_4: 0.9837 - false_negatives_4: 7.2000 - false_positives_4: 7.2000 - true_negatives_4: 162.4000 - true_positives_4: 77.6000 - mean_absolute_error: 0.0979 - mean_squared_error: 0.0475 - val_loss: 3.7085 - val_acc: 0.5000 - val_f1_m: 0.5000 - val_precision_m: 0.5000 - val_recall_m: 0.5000 - val_auc_4: 0.6858 - val_false_negatives_4: 15.0000 - val_false_positives_4: 15.0000 - val_true_negatives_4: 45.0000 - val_true_positives_4: 15.0000 - val_mean_absolute_error: 0.3349 - val_mean_squared_error: 0.2874\n",
      "\n",
      "Epoch 00008: val_acc improved from 0.43333 to 0.50000, saving model to /mnt/sda1/image-results-iris/results/fold4-resnet50v2-saved-model-08-val_acc-0.50.hdf5\n",
      "Epoch 9/100\n",
      "4/4 [==============================] - 0s 70ms/step - loss: 0.1847 - acc: 0.9159 - f1_m: 0.9270 - precision_m: 0.9406 - recall_m: 0.9139 - auc_4: 0.9892 - false_negatives_4: 8.4000 - false_positives_4: 6.4000 - true_negatives_4: 156.8000 - true_positives_4: 73.2000 - mean_absolute_error: 0.0750 - mean_squared_error: 0.0385 - val_loss: 3.1453 - val_acc: 0.5667 - val_f1_m: 0.5667 - val_precision_m: 0.5667 - val_recall_m: 0.5667 - val_auc_4: 0.7314 - val_false_negatives_4: 13.0000 - val_false_positives_4: 13.0000 - val_true_negatives_4: 47.0000 - val_true_positives_4: 17.0000 - val_mean_absolute_error: 0.2753 - val_mean_squared_error: 0.2382\n",
      "\n",
      "Epoch 00009: val_acc improved from 0.50000 to 0.56667, saving model to /mnt/sda1/image-results-iris/results/fold4-resnet50v2-saved-model-09-val_acc-0.57.hdf5\n",
      "Epoch 10/100\n",
      "4/4 [==============================] - 0s 71ms/step - loss: 0.2076 - acc: 0.9142 - f1_m: 0.9142 - precision_m: 0.9142 - recall_m: 0.9142 - auc_4: 0.9869 - false_negatives_4: 7.2000 - false_positives_4: 7.2000 - true_negatives_4: 156.0000 - true_positives_4: 74.4000 - mean_absolute_error: 0.0863 - mean_squared_error: 0.0416 - val_loss: 3.2764 - val_acc: 0.7000 - val_f1_m: 0.7000 - val_precision_m: 0.7000 - val_recall_m: 0.7000 - val_auc_4: 0.7911 - val_false_negatives_4: 9.0000 - val_false_positives_4: 9.0000 - val_true_negatives_4: 51.0000 - val_true_positives_4: 21.0000 - val_mean_absolute_error: 0.2237 - val_mean_squared_error: 0.1944\n",
      "\n",
      "Epoch 00010: val_acc improved from 0.56667 to 0.70000, saving model to /mnt/sda1/image-results-iris/results/fold4-resnet50v2-saved-model-10-val_acc-0.70.hdf5\n",
      "Epoch 11/100\n",
      "4/4 [==============================] - 0s 72ms/step - loss: 0.1779 - acc: 0.9315 - f1_m: 0.9309 - precision_m: 0.9309 - recall_m: 0.9309 - auc_4: 0.9905 - false_negatives_4: 6.4000 - false_positives_4: 6.4000 - true_negatives_4: 160.0000 - true_positives_4: 76.8000 - mean_absolute_error: 0.0757 - mean_squared_error: 0.0368 - val_loss: 2.5542 - val_acc: 0.7333 - val_f1_m: 0.7333 - val_precision_m: 0.7333 - val_recall_m: 0.7333 - val_auc_4: 0.8325 - val_false_negatives_4: 8.0000 - val_false_positives_4: 8.0000 - val_true_negatives_4: 52.0000 - val_true_positives_4: 22.0000 - val_mean_absolute_error: 0.1930 - val_mean_squared_error: 0.1540\n",
      "\n",
      "Epoch 00011: val_acc improved from 0.70000 to 0.73333, saving model to /mnt/sda1/image-results-iris/results/fold4-resnet50v2-saved-model-11-val_acc-0.73.hdf5\n",
      "Epoch 12/100\n",
      "4/4 [==============================] - 0s 71ms/step - loss: 0.2235 - acc: 0.8861 - f1_m: 0.8816 - precision_m: 0.8816 - recall_m: 0.8816 - auc_4: 0.9851 - false_negatives_4: 8.6000 - false_positives_4: 8.6000 - true_negatives_4: 154.6000 - true_positives_4: 73.0000 - mean_absolute_error: 0.0981 - mean_squared_error: 0.0482 - val_loss: 2.1395 - val_acc: 0.7667 - val_f1_m: 0.7667 - val_precision_m: 0.7667 - val_recall_m: 0.7667 - val_auc_4: 0.8572 - val_false_negatives_4: 7.0000 - val_false_positives_4: 7.0000 - val_true_negatives_4: 53.0000 - val_true_positives_4: 23.0000 - val_mean_absolute_error: 0.1635 - val_mean_squared_error: 0.1426\n",
      "\n",
      "Epoch 00012: val_acc improved from 0.73333 to 0.76667, saving model to /mnt/sda1/image-results-iris/results/fold4-resnet50v2-saved-model-12-val_acc-0.77.hdf5\n",
      "Epoch 13/100\n",
      "4/4 [==============================] - 0s 70ms/step - loss: 0.1857 - acc: 0.9141 - f1_m: 0.9076 - precision_m: 0.9076 - recall_m: 0.9076 - auc_4: 0.9910 - false_negatives_4: 5.6000 - false_positives_4: 5.6000 - true_negatives_4: 157.6000 - true_positives_4: 76.0000 - mean_absolute_error: 0.0871 - mean_squared_error: 0.0386 - val_loss: 2.2188 - val_acc: 0.7667 - val_f1_m: 0.7667 - val_precision_m: 0.7667 - val_recall_m: 0.7667 - val_auc_4: 0.8825 - val_false_negatives_4: 7.0000 - val_false_positives_4: 7.0000 - val_true_negatives_4: 53.0000 - val_true_positives_4: 23.0000 - val_mean_absolute_error: 0.1469 - val_mean_squared_error: 0.1295\n",
      "\n",
      "Epoch 00013: val_acc did not improve from 0.76667\n",
      "Epoch 14/100\n",
      "4/4 [==============================] - 0s 71ms/step - loss: 0.1804 - acc: 0.9252 - f1_m: 0.9247 - precision_m: 0.9247 - recall_m: 0.9247 - auc_4: 0.9908 - false_negatives_4: 5.8000 - false_positives_4: 5.8000 - true_negatives_4: 157.4000 - true_positives_4: 75.8000 - mean_absolute_error: 0.0840 - mean_squared_error: 0.0360 - val_loss: 1.9432 - val_acc: 0.8000 - val_f1_m: 0.8000 - val_precision_m: 0.8000 - val_recall_m: 0.8000 - val_auc_4: 0.8958 - val_false_negatives_4: 6.0000 - val_false_positives_4: 6.0000 - val_true_negatives_4: 54.0000 - val_true_positives_4: 24.0000 - val_mean_absolute_error: 0.1322 - val_mean_squared_error: 0.1185\n",
      "\n",
      "Epoch 00014: val_acc improved from 0.76667 to 0.80000, saving model to /mnt/sda1/image-results-iris/results/fold4-resnet50v2-saved-model-14-val_acc-0.80.hdf5\n",
      "Epoch 15/100\n",
      "4/4 [==============================] - 0s 69ms/step - loss: 0.1828 - acc: 0.8804 - f1_m: 0.8738 - precision_m: 0.8798 - recall_m: 0.8681 - auc_4: 0.9889 - false_negatives_4: 10.0000 - false_positives_4: 9.0000 - true_negatives_4: 160.6000 - true_positives_4: 74.8000 - mean_absolute_error: 0.0886 - mean_squared_error: 0.0386 - val_loss: 1.9987 - val_acc: 0.8333 - val_f1_m: 0.8333 - val_precision_m: 0.8333 - val_recall_m: 0.8333 - val_auc_4: 0.8992 - val_false_negatives_4: 5.0000 - val_false_positives_4: 5.0000 - val_true_negatives_4: 55.0000 - val_true_positives_4: 25.0000 - val_mean_absolute_error: 0.1273 - val_mean_squared_error: 0.1149\n",
      "\n",
      "Epoch 00015: val_acc improved from 0.80000 to 0.83333, saving model to /mnt/sda1/image-results-iris/results/fold4-resnet50v2-saved-model-15-val_acc-0.83.hdf5\n",
      "Epoch 16/100\n",
      "4/4 [==============================] - 0s 69ms/step - loss: 0.1269 - acc: 0.9496 - f1_m: 0.9476 - precision_m: 0.9476 - recall_m: 0.9476 - auc_4: 0.9950 - false_negatives_4: 4.6000 - false_positives_4: 4.6000 - true_negatives_4: 161.8000 - true_positives_4: 78.6000 - mean_absolute_error: 0.0551 - mean_squared_error: 0.0255 - val_loss: 1.9352 - val_acc: 0.8333 - val_f1_m: 0.8333 - val_precision_m: 0.8333 - val_recall_m: 0.8333 - val_auc_4: 0.9006 - val_false_negatives_4: 5.0000 - val_false_positives_4: 5.0000 - val_true_negatives_4: 55.0000 - val_true_positives_4: 25.0000 - val_mean_absolute_error: 0.1238 - val_mean_squared_error: 0.1127\n",
      "\n",
      "Epoch 00016: val_acc did not improve from 0.83333\n",
      "Epoch 17/100\n",
      "4/4 [==============================] - 0s 69ms/step - loss: 0.1744 - acc: 0.9181 - f1_m: 0.9187 - precision_m: 0.9187 - recall_m: 0.9187 - auc_4: 0.9907 - false_negatives_4: 6.4000 - false_positives_4: 6.4000 - true_negatives_4: 166.4000 - true_positives_4: 80.0000 - mean_absolute_error: 0.0754 - mean_squared_error: 0.0377 - val_loss: 1.5676 - val_acc: 0.8333 - val_f1_m: 0.8333 - val_precision_m: 0.8333 - val_recall_m: 0.8333 - val_auc_4: 0.9025 - val_false_negatives_4: 5.0000 - val_false_positives_4: 5.0000 - val_true_negatives_4: 55.0000 - val_true_positives_4: 25.0000 - val_mean_absolute_error: 0.1237 - val_mean_squared_error: 0.1130\n",
      "\n",
      "Epoch 00017: val_acc did not improve from 0.83333\n",
      "Epoch 18/100\n",
      "4/4 [==============================] - 0s 68ms/step - loss: 0.1467 - acc: 0.9237 - f1_m: 0.9198 - precision_m: 0.9262 - recall_m: 0.9135 - auc_4: 0.9933 - false_negatives_4: 6.6000 - false_positives_4: 5.6000 - true_negatives_4: 160.8000 - true_positives_4: 76.6000 - mean_absolute_error: 0.0724 - mean_squared_error: 0.0303 - val_loss: 1.4091 - val_acc: 0.8000 - val_f1_m: 0.8000 - val_precision_m: 0.8000 - val_recall_m: 0.8000 - val_auc_4: 0.9014 - val_false_negatives_4: 6.0000 - val_false_positives_4: 6.0000 - val_true_negatives_4: 54.0000 - val_true_positives_4: 24.0000 - val_mean_absolute_error: 0.1269 - val_mean_squared_error: 0.1164\n",
      "\n",
      "Epoch 00018: val_acc did not improve from 0.83333\n",
      "Epoch 19/100\n",
      "4/4 [==============================] - 0s 71ms/step - loss: 0.1464 - acc: 0.9605 - f1_m: 0.9562 - precision_m: 0.9619 - recall_m: 0.9507 - auc_4: 0.9938 - false_negatives_4: 4.6000 - false_positives_4: 3.4000 - true_negatives_4: 166.2000 - true_positives_4: 80.2000 - mean_absolute_error: 0.0673 - mean_squared_error: 0.0284 - val_loss: 1.2216 - val_acc: 0.8000 - val_f1_m: 0.8000 - val_precision_m: 0.8000 - val_recall_m: 0.8000 - val_auc_4: 0.9075 - val_false_negatives_4: 6.0000 - val_false_positives_4: 6.0000 - val_true_negatives_4: 54.0000 - val_true_positives_4: 24.0000 - val_mean_absolute_error: 0.1298 - val_mean_squared_error: 0.1198\n",
      "\n",
      "Epoch 00019: val_acc did not improve from 0.83333\n",
      "Epoch 20/100\n",
      "4/4 [==============================] - 0s 68ms/step - loss: 0.1636 - acc: 0.9197 - f1_m: 0.9194 - precision_m: 0.9194 - recall_m: 0.9194 - auc_4: 0.9931 - false_negatives_4: 6.6000 - false_positives_4: 6.6000 - true_negatives_4: 163.0000 - true_positives_4: 78.2000 - mean_absolute_error: 0.0791 - mean_squared_error: 0.0328 - val_loss: 0.8346 - val_acc: 0.8000 - val_f1_m: 0.8000 - val_precision_m: 0.8000 - val_recall_m: 0.8000 - val_auc_4: 0.9444 - val_false_negatives_4: 6.0000 - val_false_positives_4: 6.0000 - val_true_negatives_4: 54.0000 - val_true_positives_4: 24.0000 - val_mean_absolute_error: 0.1307 - val_mean_squared_error: 0.1208\n",
      "\n",
      "Epoch 00020: val_acc did not improve from 0.83333\n",
      "Epoch 21/100\n",
      "4/4 [==============================] - 0s 68ms/step - loss: 0.1246 - acc: 0.9667 - f1_m: 0.9661 - precision_m: 0.9676 - recall_m: 0.9646 - auc_4: 0.9981 - false_negatives_4: 2.8000 - false_positives_4: 2.4000 - true_negatives_4: 167.2000 - true_positives_4: 82.0000 - mean_absolute_error: 0.0657 - mean_squared_error: 0.0217 - val_loss: 1.0641 - val_acc: 0.8000 - val_f1_m: 0.8000 - val_precision_m: 0.8000 - val_recall_m: 0.8000 - val_auc_4: 0.9228 - val_false_negatives_4: 6.0000 - val_false_positives_4: 6.0000 - val_true_negatives_4: 54.0000 - val_true_positives_4: 24.0000 - val_mean_absolute_error: 0.1312 - val_mean_squared_error: 0.1226\n",
      "\n",
      "Epoch 00021: val_acc did not improve from 0.83333\n",
      "Epoch 22/100\n",
      "4/4 [==============================] - 0s 68ms/step - loss: 0.1333 - acc: 0.9436 - f1_m: 0.9441 - precision_m: 0.9441 - recall_m: 0.9441 - auc_4: 0.9956 - false_negatives_4: 4.6000 - false_positives_4: 4.6000 - true_negatives_4: 165.0000 - true_positives_4: 80.2000 - mean_absolute_error: 0.0655 - mean_squared_error: 0.0272 - val_loss: 1.1104 - val_acc: 0.8000 - val_f1_m: 0.8000 - val_precision_m: 0.8000 - val_recall_m: 0.8000 - val_auc_4: 0.9208 - val_false_negatives_4: 6.0000 - val_false_positives_4: 6.0000 - val_true_negatives_4: 54.0000 - val_true_positives_4: 24.0000 - val_mean_absolute_error: 0.1319 - val_mean_squared_error: 0.1236\n",
      "\n",
      "Epoch 00022: val_acc did not improve from 0.83333\n",
      "Epoch 23/100\n",
      "4/4 [==============================] - 0s 69ms/step - loss: 0.1505 - acc: 0.9116 - f1_m: 0.9143 - precision_m: 0.9195 - recall_m: 0.9094 - auc_4: 0.9940 - false_negatives_4: 7.0000 - false_positives_4: 6.2000 - true_negatives_4: 160.2000 - true_positives_4: 76.2000 - mean_absolute_error: 0.0723 - mean_squared_error: 0.0298 - val_loss: 0.9684 - val_acc: 0.8000 - val_f1_m: 0.8000 - val_precision_m: 0.8000 - val_recall_m: 0.8000 - val_auc_4: 0.9214 - val_false_negatives_4: 6.0000 - val_false_positives_4: 6.0000 - val_true_negatives_4: 54.0000 - val_true_positives_4: 24.0000 - val_mean_absolute_error: 0.1323 - val_mean_squared_error: 0.1229\n",
      "\n",
      "Epoch 00023: val_acc did not improve from 0.83333\n",
      "Epoch 24/100\n",
      "4/4 [==============================] - 0s 69ms/step - loss: 0.1530 - acc: 0.9150 - f1_m: 0.9153 - precision_m: 0.9153 - recall_m: 0.9153 - auc_4: 0.9931 - false_negatives_4: 7.6000 - false_positives_4: 7.6000 - true_negatives_4: 158.8000 - true_positives_4: 75.6000 - mean_absolute_error: 0.0699 - mean_squared_error: 0.0326 - val_loss: 0.9803 - val_acc: 0.8000 - val_f1_m: 0.8000 - val_precision_m: 0.8000 - val_recall_m: 0.8000 - val_auc_4: 0.9203 - val_false_negatives_4: 6.0000 - val_false_positives_4: 6.0000 - val_true_negatives_4: 54.0000 - val_true_positives_4: 24.0000 - val_mean_absolute_error: 0.1326 - val_mean_squared_error: 0.1227\n",
      "\n",
      "Epoch 00024: val_acc did not improve from 0.83333\n",
      "Epoch 25/100\n",
      "4/4 [==============================] - 0s 69ms/step - loss: 0.1355 - acc: 0.9340 - f1_m: 0.9354 - precision_m: 0.9354 - recall_m: 0.9354 - auc_4: 0.9950 - false_negatives_4: 5.6000 - false_positives_4: 5.6000 - true_negatives_4: 167.2000 - true_positives_4: 80.8000 - mean_absolute_error: 0.0628 - mean_squared_error: 0.0279 - val_loss: 0.8060 - val_acc: 0.8000 - val_f1_m: 0.8000 - val_precision_m: 0.8000 - val_recall_m: 0.8000 - val_auc_4: 0.9411 - val_false_negatives_4: 6.0000 - val_false_positives_4: 6.0000 - val_true_negatives_4: 54.0000 - val_true_positives_4: 24.0000 - val_mean_absolute_error: 0.1326 - val_mean_squared_error: 0.1214\n",
      "\n",
      "Epoch 00025: val_acc did not improve from 0.83333\n",
      "Epoch 26/100\n",
      "4/4 [==============================] - 0s 72ms/step - loss: 0.0953 - acc: 0.9713 - f1_m: 0.9686 - precision_m: 0.9701 - recall_m: 0.9670 - auc_4: 0.9993 - false_negatives_4: 2.6000 - false_positives_4: 2.2000 - true_negatives_4: 161.0000 - true_positives_4: 79.0000 - mean_absolute_error: 0.0522 - mean_squared_error: 0.0155 - val_loss: 0.7346 - val_acc: 0.8000 - val_f1_m: 0.8000 - val_precision_m: 0.8000 - val_recall_m: 0.8000 - val_auc_4: 0.9422 - val_false_negatives_4: 6.0000 - val_false_positives_4: 6.0000 - val_true_negatives_4: 54.0000 - val_true_positives_4: 24.0000 - val_mean_absolute_error: 0.1324 - val_mean_squared_error: 0.1198\n",
      "\n",
      "Epoch 00026: val_acc did not improve from 0.83333\n",
      "Epoch 27/100\n",
      "4/4 [==============================] - 0s 72ms/step - loss: 0.1465 - acc: 0.9578 - f1_m: 0.9498 - precision_m: 0.9567 - recall_m: 0.9431 - auc_4: 0.9950 - false_negatives_4: 4.4000 - false_positives_4: 3.4000 - true_negatives_4: 166.2000 - true_positives_4: 80.4000 - mean_absolute_error: 0.0719 - mean_squared_error: 0.0292 - val_loss: 0.8152 - val_acc: 0.8000 - val_f1_m: 0.8000 - val_precision_m: 0.8000 - val_recall_m: 0.8000 - val_auc_4: 0.9389 - val_false_negatives_4: 6.0000 - val_false_positives_4: 6.0000 - val_true_negatives_4: 54.0000 - val_true_positives_4: 24.0000 - val_mean_absolute_error: 0.1336 - val_mean_squared_error: 0.1209\n",
      "\n",
      "Epoch 00027: val_acc did not improve from 0.83333\n",
      "Epoch 28/100\n",
      "4/4 [==============================] - 0s 70ms/step - loss: 0.1042 - acc: 0.9416 - f1_m: 0.9375 - precision_m: 0.9375 - recall_m: 0.9375 - auc_4: 0.9972 - false_negatives_4: 4.4000 - false_positives_4: 4.4000 - true_negatives_4: 162.0000 - true_positives_4: 78.8000 - mean_absolute_error: 0.0529 - mean_squared_error: 0.0200 - val_loss: 0.5825 - val_acc: 0.8000 - val_f1_m: 0.8000 - val_precision_m: 0.8000 - val_recall_m: 0.8000 - val_auc_4: 0.9625 - val_false_negatives_4: 6.0000 - val_false_positives_4: 6.0000 - val_true_negatives_4: 54.0000 - val_true_positives_4: 24.0000 - val_mean_absolute_error: 0.1299 - val_mean_squared_error: 0.1104\n",
      "\n",
      "Epoch 00028: val_acc did not improve from 0.83333\n",
      "Epoch 29/100\n",
      "4/4 [==============================] - 0s 71ms/step - loss: 0.0962 - acc: 0.9767 - f1_m: 0.9747 - precision_m: 0.9747 - recall_m: 0.9747 - auc_4: 0.9978 - false_negatives_4: 2.4000 - false_positives_4: 2.4000 - true_negatives_4: 167.2000 - true_positives_4: 82.4000 - mean_absolute_error: 0.0470 - mean_squared_error: 0.0176 - val_loss: 0.6427 - val_acc: 0.8000 - val_f1_m: 0.8000 - val_precision_m: 0.8000 - val_recall_m: 0.8000 - val_auc_4: 0.9431 - val_false_negatives_4: 6.0000 - val_false_positives_4: 6.0000 - val_true_negatives_4: 54.0000 - val_true_positives_4: 24.0000 - val_mean_absolute_error: 0.1312 - val_mean_squared_error: 0.1144\n",
      "\n",
      "Epoch 00029: val_acc did not improve from 0.83333\n",
      "Epoch 30/100\n",
      "4/4 [==============================] - 0s 72ms/step - loss: 0.0864 - acc: 0.9877 - f1_m: 0.9885 - precision_m: 0.9885 - recall_m: 0.9885 - auc_4: 0.9994 - false_negatives_4: 1.4000 - false_positives_4: 1.4000 - true_negatives_4: 165.0000 - true_positives_4: 81.8000 - mean_absolute_error: 0.0476 - mean_squared_error: 0.0138 - val_loss: 0.6709 - val_acc: 0.8000 - val_f1_m: 0.8000 - val_precision_m: 0.8000 - val_recall_m: 0.8000 - val_auc_4: 0.9414 - val_false_negatives_4: 6.0000 - val_false_positives_4: 6.0000 - val_true_negatives_4: 54.0000 - val_true_positives_4: 24.0000 - val_mean_absolute_error: 0.1315 - val_mean_squared_error: 0.1152\n",
      "\n",
      "Epoch 00030: val_acc did not improve from 0.83333\n",
      "Epoch 31/100\n",
      "4/4 [==============================] - 0s 71ms/step - loss: 0.0939 - acc: 0.9729 - f1_m: 0.9747 - precision_m: 0.9773 - recall_m: 0.9722 - auc_4: 0.9991 - false_negatives_4: 2.8000 - false_positives_4: 2.2000 - true_negatives_4: 164.2000 - true_positives_4: 80.4000 - mean_absolute_error: 0.0503 - mean_squared_error: 0.0157 - val_loss: 0.7046 - val_acc: 0.8000 - val_f1_m: 0.8000 - val_precision_m: 0.8000 - val_recall_m: 0.8000 - val_auc_4: 0.9414 - val_false_negatives_4: 6.0000 - val_false_positives_4: 6.0000 - val_true_negatives_4: 54.0000 - val_true_positives_4: 24.0000 - val_mean_absolute_error: 0.1323 - val_mean_squared_error: 0.1163\n",
      "\n",
      "Epoch 00031: val_acc did not improve from 0.83333\n",
      "Epoch 32/100\n",
      "4/4 [==============================] - 0s 70ms/step - loss: 0.0651 - acc: 0.9792 - f1_m: 0.9774 - precision_m: 0.9774 - recall_m: 0.9774 - auc_4: 0.9993 - false_negatives_4: 1.4000 - false_positives_4: 1.4000 - true_negatives_4: 161.8000 - true_positives_4: 80.2000 - mean_absolute_error: 0.0335 - mean_squared_error: 0.0115 - val_loss: 0.7620 - val_acc: 0.8000 - val_f1_m: 0.8000 - val_precision_m: 0.8000 - val_recall_m: 0.8000 - val_auc_4: 0.9256 - val_false_negatives_4: 6.0000 - val_false_positives_4: 6.0000 - val_true_negatives_4: 54.0000 - val_true_positives_4: 24.0000 - val_mean_absolute_error: 0.1338 - val_mean_squared_error: 0.1176\n",
      "\n",
      "Epoch 00032: val_acc did not improve from 0.83333\n",
      "Epoch 33/100\n",
      "4/4 [==============================] - 0s 68ms/step - loss: 0.1121 - acc: 0.9425 - f1_m: 0.9457 - precision_m: 0.9531 - recall_m: 0.9385 - auc_4: 0.9973 - false_negatives_4: 5.0000 - false_positives_4: 4.0000 - true_negatives_4: 162.4000 - true_positives_4: 78.2000 - mean_absolute_error: 0.0559 - mean_squared_error: 0.0226 - val_loss: 0.7123 - val_acc: 0.8000 - val_f1_m: 0.8000 - val_precision_m: 0.8000 - val_recall_m: 0.8000 - val_auc_4: 0.9411 - val_false_negatives_4: 6.0000 - val_false_positives_4: 6.0000 - val_true_negatives_4: 54.0000 - val_true_positives_4: 24.0000 - val_mean_absolute_error: 0.1344 - val_mean_squared_error: 0.1159\n",
      "\n",
      "Epoch 00033: val_acc did not improve from 0.83333\n",
      "Epoch 34/100\n",
      "4/4 [==============================] - 0s 72ms/step - loss: 0.1071 - acc: 0.9616 - f1_m: 0.9580 - precision_m: 0.9580 - recall_m: 0.9580 - auc_4: 0.9976 - false_negatives_4: 2.4000 - false_positives_4: 2.4000 - true_negatives_4: 160.8000 - true_positives_4: 79.2000 - mean_absolute_error: 0.0562 - mean_squared_error: 0.0190 - val_loss: 0.5614 - val_acc: 0.8000 - val_f1_m: 0.8000 - val_precision_m: 0.8000 - val_recall_m: 0.8000 - val_auc_4: 0.9450 - val_false_negatives_4: 6.0000 - val_false_positives_4: 6.0000 - val_true_negatives_4: 54.0000 - val_true_positives_4: 24.0000 - val_mean_absolute_error: 0.1279 - val_mean_squared_error: 0.1002\n",
      "\n",
      "Epoch 00034: val_acc did not improve from 0.83333\n",
      "Epoch 35/100\n",
      "4/4 [==============================] - 0s 72ms/step - loss: 0.0964 - acc: 0.9825 - f1_m: 0.9833 - precision_m: 0.9833 - recall_m: 0.9833 - auc_4: 0.9993 - false_negatives_4: 1.6000 - false_positives_4: 1.6000 - true_negatives_4: 168.0000 - true_positives_4: 83.2000 - mean_absolute_error: 0.0533 - mean_squared_error: 0.0150 - val_loss: 0.5243 - val_acc: 0.8000 - val_f1_m: 0.8000 - val_precision_m: 0.8000 - val_recall_m: 0.8000 - val_auc_4: 0.9450 - val_false_negatives_4: 6.0000 - val_false_positives_4: 6.0000 - val_true_negatives_4: 54.0000 - val_true_positives_4: 24.0000 - val_mean_absolute_error: 0.1228 - val_mean_squared_error: 0.0908\n",
      "\n",
      "Epoch 00035: val_acc did not improve from 0.83333\n",
      "Epoch 36/100\n",
      "4/4 [==============================] - 0s 68ms/step - loss: 0.1203 - acc: 0.9648 - f1_m: 0.9569 - precision_m: 0.9641 - recall_m: 0.9500 - auc_4: 0.9972 - false_negatives_4: 4.0000 - false_positives_4: 3.0000 - true_negatives_4: 169.8000 - true_positives_4: 82.4000 - mean_absolute_error: 0.0619 - mean_squared_error: 0.0227 - val_loss: 0.5133 - val_acc: 0.8000 - val_f1_m: 0.8000 - val_precision_m: 0.8000 - val_recall_m: 0.8000 - val_auc_4: 0.9450 - val_false_negatives_4: 6.0000 - val_false_positives_4: 6.0000 - val_true_negatives_4: 54.0000 - val_true_positives_4: 24.0000 - val_mean_absolute_error: 0.1207 - val_mean_squared_error: 0.0875\n",
      "\n",
      "Epoch 00036: val_acc did not improve from 0.83333\n",
      "Epoch 37/100\n",
      "4/4 [==============================] - 0s 68ms/step - loss: 0.1080 - acc: 0.9413 - f1_m: 0.9392 - precision_m: 0.9392 - recall_m: 0.9392 - auc_4: 0.9976 - false_negatives_4: 4.4000 - false_positives_4: 4.4000 - true_negatives_4: 158.8000 - true_positives_4: 77.2000 - mean_absolute_error: 0.0560 - mean_squared_error: 0.0198 - val_loss: 0.5121 - val_acc: 0.8000 - val_f1_m: 0.8000 - val_precision_m: 0.8000 - val_recall_m: 0.8000 - val_auc_4: 0.9447 - val_false_negatives_4: 6.0000 - val_false_positives_4: 6.0000 - val_true_negatives_4: 54.0000 - val_true_positives_4: 24.0000 - val_mean_absolute_error: 0.1204 - val_mean_squared_error: 0.0872\n",
      "\n",
      "Epoch 00037: val_acc did not improve from 0.83333\n",
      "Best model results: val_acc: 0.8999999761581421, val_loss: 0.6610658168792725\n"
     ]
    }
   ],
   "source": [
    "average_history, best_model = train_resnet_model_k_fold(num_classes, img_size, f\"{new_dir}/Train/\", number_of_epochs, f\"{image_directory}/results/\", num_folds, batch_size)"
   ]
  },
  {
   "cell_type": "code",
   "execution_count": 5,
   "metadata": {},
   "outputs": [
    {
     "name": "stdout",
     "output_type": "stream",
     "text": [
      "Average metrics over k folds\n",
      "{'loss': 0.04664125961717218, 'acc': 0.9816666603088379, 'f1_m': 0.9817708253860473, 'precision_m': 0.9817708373069763, 'recall_m': 0.9817708373069763, 'auc': 0.9979861378669739, 'false_negatives': 4.0, 'false_positives': 4.0, 'true_negatives': 236.0, 'true_positives': 116.0, 'mean_absolute_error': 0.023830056213773786, 'mean_squared_error': 0.008538454546578578, 'val_loss': 0.6148764431476593, 'val_acc': 0.8466666579246521, 'val_f1_m': 0.8466666102409363, 'val_precision_m': 0.8466666579246521, 'val_recall_m': 0.8466666579246521, 'val_auc': 0.9733332395553589, 'val_false_negatives': 4.0, 'val_false_positives': 4.0, 'val_true_negatives': 56.0, 'val_true_positives': 26.0, 'val_mean_absolute_error': 0.10374443978071213, 'val_mean_squared_error': 0.07977678775787353, 'lr': 0.00030539997883352046}\n"
     ]
    }
   ],
   "source": [
    "print(\"Average metrics over k folds\")\n",
    "print(average_history)"
   ]
  },
  {
   "cell_type": "code",
   "execution_count": 6,
   "metadata": {},
   "outputs": [
    {
     "name": "stdout",
     "output_type": "stream",
     "text": [
      "Best model metrics\n",
      "{'loss': 0.0028186142444610596, 'acc': 1.0, 'f1_m': 1.0, 'precision_m': 1.0, 'recall_m': 1.0, 'auc_3': 0.9999999403953552, 'false_negatives_3': 0.0, 'false_positives_3': 0.0, 'true_negatives_3': 240.0, 'true_positives_3': 120.0, 'mean_absolute_error': 0.0017979273106902838, 'mean_squared_error': 0.0001470522693125531, 'val_loss': 0.6610658168792725, 'val_acc': 0.8999999761581421, 'val_f1_m': 0.8999999165534973, 'val_precision_m': 0.8999999761581421, 'val_recall_m': 0.8999999761581421, 'val_auc_3': 0.9422222375869751, 'val_false_negatives_3': 3.0, 'val_false_positives_3': 3.0, 'val_true_negatives_3': 57.0, 'val_true_positives_3': 27.0, 'val_mean_absolute_error': 0.07801878452301025, 'val_mean_squared_error': 0.06345812976360321, 'lr': 0.00049999997}\n"
     ]
    }
   ],
   "source": [
    "print(\"Best model metrics\")\n",
    "print({key: best_model.history[key][-1] for key in best_model.history.keys()})"
   ]
  },
  {
   "cell_type": "code",
   "execution_count": 7,
   "metadata": {},
   "outputs": [
    {
     "data": {
      "image/png": "[encoded data removed]",
      "text/plain": [
       "<Figure size 1200x400 with 3 Axes>"
      ]
     },
     "metadata": {},
     "output_type": "display_data"
    }
   ],
   "source": [
    "plot_metrics(best_model.history)"
   ]
  },
  {
   "attachments": {},
   "cell_type": "markdown",
   "metadata": {},
   "source": [
    "# Correlated Binary Encoding"
   ]
  },
  {
   "cell_type": "code",
   "execution_count": 5,
   "metadata": {},
   "outputs": [
    {
     "name": "stdout",
     "output_type": "stream",
     "text": [
      "Found 54 images belonging to 3 classes.\n",
      "2/2 [==============================] - 19s 18s/step - loss: 0.5577 - acc: 0.8719 - recall_m: 0.8712 - auc_3: 0.9402 - false_negatives_3: 6.0000 - false_positives_3: 6.0000 - true_negatives_3: 87.3333 - true_positives_3: 40.6667 - mean_absolute_error: 0.1086 - mean_squared_error: 0.0802\n",
      "[0.5954808592796326, 0.8703703880310059, 0.8693181872367859, 0.935442328453064, 7.0, 7.0, 101.0, 47.0, 0.10876356065273285, 0.08314419537782669]\n"
     ]
    }
   ],
   "source": [
    "def order_columns_by_correlation(df: pd.DataFrame, label: str) -> list:\n",
    "    '''\n",
    "        Order the columns of the dataframe in a sequence where the first element is the column most correlated with the label\n",
    "            and every success element is the remaining column most correlated with its predecessor\n",
    "    '''\n",
    "\n",
    "    current_columns : pd.DataFrame = df.columns.copy()\n",
    "    new_df          : pd.DataFrame = df.copy()\n",
    "    new_column_order: list = []\n",
    "    label_class_map : dict = {}\n",
    "\n",
    "    print(f'ordering columns by correlation: {label}, {len(current_columns)}, {df[label].unique()}')\n",
    "\n",
    "    for i, category in enumerate(df[label].unique()):\n",
    "        label_class_map[category] = i\n",
    "\n",
    "    new_df[label] = new_df[label].map(label_class_map)\n",
    "\n",
    "\n",
    "    current: str = label\n",
    "    last: str = None\n",
    "\n",
    "    while len(current_columns) > 1:\n",
    "        last = current\n",
    "        current_columns = current_columns.drop(current)\n",
    "        current = new_df[current_columns].corrwith(new_df[current]).abs().idxmax()\n",
    "        new_column_order.append(current)\n",
    "\n",
    "        # print(f'current: {current}, last: {last}, iteration: {len(new_column_order)}, columns: {len(current_columns)}')\n",
    "\n",
    "\n",
    "    return new_column_order"
   ]
  },
  {
   "cell_type": "code",
   "execution_count": null,
   "metadata": {},
   "outputs": [],
   "source": []
  }
 ],
 "metadata": {
  "kernelspec": {
   "display_name": "keras_gpu",
   "language": "python",
   "name": "python3"
  },
  "language_info": {
   "codemirror_mode": {
    "name": "ipython",
    "version": 3
   },
   "file_extension": ".py",
   "mimetype": "text/x-python",
   "name": "python",
   "nbconvert_exporter": "python",
   "pygments_lexer": "ipython3",
   "version": "3.9.13"
  },
  "orig_nbformat": 4,
  "vscode": {
   "interpreter": {
    "hash": "01b43af51fd77f9f473dc8138d7466027ddf88d382b9cdd9bb3068aee8377522"
   }
  }
 },
 "nbformat": 4,
 "nbformat_minor": 2
}
