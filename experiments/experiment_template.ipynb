{
 "cells": [
  {
   "attachments": {},
   "cell_type": "markdown",
   "metadata": {},
   "source": [
    "# Experimental Template\n",
    "The following notebook acts as a template for experiments. The one step not included is the data cleaning phase!\n",
    "<br />\n",
    "<br />\n",
    "I have put FIXME tags next to the areas that you will need to address.\n",
    "<br />\n",
    "<br />\n",
    "If you are curious to know more about how the code works, look at the `helper_functions.py` and `resnet.py` files."
   ]
  },
  {
   "attachments": {},
   "cell_type": "markdown",
   "metadata": {},
   "source": [
    "# Env setup\n",
    "You can either create your own environment and install the packages manually, or use the following commands to create a conda environment with the required packages. Before running the commands, edit the two .yml file prefixes to match the path to your miniconda path. Setting up an environment is always tricky. You will most likely run into errors. Don't feel bad looking up the errors on Google and asking for assistance after trying to resolve the issue.\n",
    "</br>\n",
    "</br>\n",
    "If you are using Windows and running into errors, try omitting the word 'env' from the following commands. Mileage may vary with other OS's, so it may take a bit of debugging.\n",
    "</br>\n",
    "</br>\n",
    "Below, I provide two methods of setting up your environment: `Env Environment Based on My Yaml Files` and `Alternative Method - Custom Built Environment`. Try to use the first method, but if you run into issues, try the second method. **** You do not need to run both methods!!! **** Just get one of them working.\n"
   ]
  },
  {
   "attachments": {},
   "cell_type": "markdown",
   "metadata": {},
   "source": [
    "# Env Environment Based on My Yaml Files:"
   ]
  },
  {
   "attachments": {},
   "cell_type": "markdown",
   "metadata": {},
   "source": [
    "## BIE Environment:"
   ]
  },
  {
   "cell_type": "code",
   "execution_count": 1,
   "metadata": {},
   "outputs": [
    {
     "name": "stdout",
     "output_type": "stream",
     "text": [
      "WARNING: A conda environment already exists at '/home/drake/miniconda3/envs/BIE_conversion'\n",
      "Remove existing environment (y/[n])? "
     ]
    }
   ],
   "source": [
    "! conda create --name BIE_conversion\n",
    "! conda activate BIE_conversion\n",
    "! conda env update --name BIE_conversion --file ./conda_envs/BIE_conversion.yml"
   ]
  },
  {
   "attachments": {},
   "cell_type": "markdown",
   "metadata": {},
   "source": [
    "## Keras GPU Environment:"
   ]
  },
  {
   "cell_type": "code",
   "execution_count": null,
   "metadata": {},
   "outputs": [],
   "source": [
    "! conda create --name keras_gpu\n",
    "! conda activate keras_gpu\n",
    "! conda env update --name keras_gpu --file ./conda_envs/keras_gpu.yml"
   ]
  },
  {
   "attachments": {},
   "cell_type": "markdown",
   "metadata": {},
   "source": [
    "# Alternative Method - Custom Built Environment:\n",
    "If the previous methods didn't work, try this method. It will create a gpu environment with the necessary libraries:"
   ]
  },
  {
   "cell_type": "code",
   "execution_count": null,
   "metadata": {},
   "outputs": [],
   "source": [
    "# Installations for alternative method\n",
    "! conda create --name keras_gpu keras-gpu tensorflow-gpu\n",
    "! conda activate keras_gpu\n",
    "! conda install -c anaconda pandas=1.4.1\n",
    "! conda install -c anaconda matplotlib=3.5.1\n",
    "! conda install -c anaconda numpy=1.18.5\n",
    "! conda install -c anaconda bitstring=3.1.9\n",
    "! conda install -c anaconda joblib=1.1.0\n",
    "! conda install -c anaconda pillow=8.2.0"
   ]
  },
  {
   "attachments": {},
   "cell_type": "markdown",
   "metadata": {},
   "source": [
    "## Env Setup Conclusion\n",
    "There is a high likelihood that you will run into errors. If you do, don't feel bad. It's a learning experience. If you are still having issues, feel free to reach out to me for assistance. Try modifying the files as necessary and looking up the errors on Google. This process will likely take some time and be the hardest part of using this notebook."
   ]
  },
  {
   "attachments": {},
   "cell_type": "markdown",
   "metadata": {},
   "source": [
    "## Imports and Setup"
   ]
  },
  {
   "cell_type": "code",
   "execution_count": 1,
   "metadata": {},
   "outputs": [],
   "source": [
    "from helper_functions import pd, os, shutil\n",
    "from helper_functions import convert_samples_to_binary, get_column_data_types, print_library_versions, add_id_column, order_columns_by_correlation, organize_photos_in_folders"
   ]
  },
  {
   "attachments": {},
   "cell_type": "markdown",
   "metadata": {},
   "source": [
    "### Try to get library versions matching the following:"
   ]
  },
  {
   "cell_type": "code",
   "execution_count": 2,
   "metadata": {},
   "outputs": [
    {
     "name": "stdout",
     "output_type": "stream",
     "text": [
      "pandas version:           1.4.1\n",
      "matplotlib version:       3.5.1\n",
      "numpy version:            1.18.5\n",
      "bitstring version:        3.1.9\n",
      "joblib version:           1.1.0\n",
      "PIL version:              8.2.0\n"
     ]
    }
   ],
   "source": [
    "print_library_versions()"
   ]
  },
  {
   "attachments": {},
   "cell_type": "markdown",
   "metadata": {},
   "source": [
    "## Data Loading and Cleaning"
   ]
  },
  {
   "cell_type": "code",
   "execution_count": 3,
   "metadata": {},
   "outputs": [],
   "source": [
    "# FIXME - update the filename to point to your dataset\n",
    "filename = '/mnt/sda1/iris.csv'\n",
    "df = pd.read_csv(filename)"
   ]
  },
  {
   "attachments": {},
   "cell_type": "markdown",
   "metadata": {},
   "source": [
    "### Spend some time familiarizing yourself with your dataset. Here are some basic commands"
   ]
  },
  {
   "cell_type": "code",
   "execution_count": 4,
   "metadata": {},
   "outputs": [
    {
     "data": {
      "text/html": [
       "<div>\n",
       "<style scoped>\n",
       "    .dataframe tbody tr th:only-of-type {\n",
       "        vertical-align: middle;\n",
       "    }\n",
       "\n",
       "    .dataframe tbody tr th {\n",
       "        vertical-align: top;\n",
       "    }\n",
       "\n",
       "    .dataframe thead th {\n",
       "        text-align: right;\n",
       "    }\n",
       "</style>\n",
       "<table border=\"1\" class=\"dataframe\">\n",
       "  <thead>\n",
       "    <tr style=\"text-align: right;\">\n",
       "      <th></th>\n",
       "      <th>Id</th>\n",
       "      <th>SepalLengthCm</th>\n",
       "      <th>SepalWidthCm</th>\n",
       "      <th>PetalLengthCm</th>\n",
       "      <th>PetalWidthCm</th>\n",
       "      <th>Species</th>\n",
       "    </tr>\n",
       "  </thead>\n",
       "  <tbody>\n",
       "    <tr>\n",
       "      <th>0</th>\n",
       "      <td>1</td>\n",
       "      <td>5.1</td>\n",
       "      <td>3.5</td>\n",
       "      <td>1.4</td>\n",
       "      <td>0.2</td>\n",
       "      <td>Iris-setosa</td>\n",
       "    </tr>\n",
       "    <tr>\n",
       "      <th>1</th>\n",
       "      <td>2</td>\n",
       "      <td>4.9</td>\n",
       "      <td>3.0</td>\n",
       "      <td>1.4</td>\n",
       "      <td>0.2</td>\n",
       "      <td>Iris-setosa</td>\n",
       "    </tr>\n",
       "    <tr>\n",
       "      <th>2</th>\n",
       "      <td>3</td>\n",
       "      <td>4.7</td>\n",
       "      <td>3.2</td>\n",
       "      <td>1.3</td>\n",
       "      <td>0.2</td>\n",
       "      <td>Iris-setosa</td>\n",
       "    </tr>\n",
       "    <tr>\n",
       "      <th>3</th>\n",
       "      <td>4</td>\n",
       "      <td>4.6</td>\n",
       "      <td>3.1</td>\n",
       "      <td>1.5</td>\n",
       "      <td>0.2</td>\n",
       "      <td>Iris-setosa</td>\n",
       "    </tr>\n",
       "    <tr>\n",
       "      <th>4</th>\n",
       "      <td>5</td>\n",
       "      <td>5.0</td>\n",
       "      <td>3.6</td>\n",
       "      <td>1.4</td>\n",
       "      <td>0.2</td>\n",
       "      <td>Iris-setosa</td>\n",
       "    </tr>\n",
       "  </tbody>\n",
       "</table>\n",
       "</div>"
      ],
      "text/plain": [
       "   Id  SepalLengthCm  SepalWidthCm  PetalLengthCm  PetalWidthCm      Species\n",
       "0   1            5.1           3.5            1.4           0.2  Iris-setosa\n",
       "1   2            4.9           3.0            1.4           0.2  Iris-setosa\n",
       "2   3            4.7           3.2            1.3           0.2  Iris-setosa\n",
       "3   4            4.6           3.1            1.5           0.2  Iris-setosa\n",
       "4   5            5.0           3.6            1.4           0.2  Iris-setosa"
      ]
     },
     "execution_count": 4,
     "metadata": {},
     "output_type": "execute_result"
    }
   ],
   "source": [
    "df.head()"
   ]
  },
  {
   "cell_type": "code",
   "execution_count": 5,
   "metadata": {},
   "outputs": [
    {
     "name": "stdout",
     "output_type": "stream",
     "text": [
      "<class 'pandas.core.frame.DataFrame'>\n",
      "RangeIndex: 150 entries, 0 to 149\n",
      "Data columns (total 6 columns):\n",
      " #   Column         Non-Null Count  Dtype  \n",
      "---  ------         --------------  -----  \n",
      " 0   Id             150 non-null    int64  \n",
      " 1   SepalLengthCm  150 non-null    float64\n",
      " 2   SepalWidthCm   150 non-null    float64\n",
      " 3   PetalLengthCm  150 non-null    float64\n",
      " 4   PetalWidthCm   150 non-null    float64\n",
      " 5   Species        150 non-null    object \n",
      "dtypes: float64(4), int64(1), object(1)\n",
      "memory usage: 7.2+ KB\n"
     ]
    }
   ],
   "source": [
    "df.info()"
   ]
  },
  {
   "attachments": {},
   "cell_type": "markdown",
   "metadata": {},
   "source": [
    "# NOTE:\n",
    "The following code segments are specific to my dataset. This is where you will need to perform your own data cleaning!!!\n",
    "<br />\n",
    "<br />\n",
    "This will be the most difficult/time intensive aspect! Everything else will be plug and play!"
   ]
  },
  {
   "cell_type": "code",
   "execution_count": 6,
   "metadata": {},
   "outputs": [
    {
     "data": {
      "text/html": [
       "<div>\n",
       "<style scoped>\n",
       "    .dataframe tbody tr th:only-of-type {\n",
       "        vertical-align: middle;\n",
       "    }\n",
       "\n",
       "    .dataframe tbody tr th {\n",
       "        vertical-align: top;\n",
       "    }\n",
       "\n",
       "    .dataframe thead th {\n",
       "        text-align: right;\n",
       "    }\n",
       "</style>\n",
       "<table border=\"1\" class=\"dataframe\">\n",
       "  <thead>\n",
       "    <tr style=\"text-align: right;\">\n",
       "      <th></th>\n",
       "      <th>Id</th>\n",
       "      <th>SepalLengthCm</th>\n",
       "      <th>SepalWidthCm</th>\n",
       "      <th>PetalLengthCm</th>\n",
       "      <th>PetalWidthCm</th>\n",
       "      <th>Species</th>\n",
       "    </tr>\n",
       "  </thead>\n",
       "  <tbody>\n",
       "    <tr>\n",
       "      <th>0</th>\n",
       "      <td>1-setosa</td>\n",
       "      <td>5.1</td>\n",
       "      <td>3.5</td>\n",
       "      <td>1.4</td>\n",
       "      <td>0.2</td>\n",
       "      <td>Iris-setosa</td>\n",
       "    </tr>\n",
       "    <tr>\n",
       "      <th>1</th>\n",
       "      <td>2-setosa</td>\n",
       "      <td>4.9</td>\n",
       "      <td>3.0</td>\n",
       "      <td>1.4</td>\n",
       "      <td>0.2</td>\n",
       "      <td>Iris-setosa</td>\n",
       "    </tr>\n",
       "    <tr>\n",
       "      <th>2</th>\n",
       "      <td>3-setosa</td>\n",
       "      <td>4.7</td>\n",
       "      <td>3.2</td>\n",
       "      <td>1.3</td>\n",
       "      <td>0.2</td>\n",
       "      <td>Iris-setosa</td>\n",
       "    </tr>\n",
       "    <tr>\n",
       "      <th>3</th>\n",
       "      <td>4-setosa</td>\n",
       "      <td>4.6</td>\n",
       "      <td>3.1</td>\n",
       "      <td>1.5</td>\n",
       "      <td>0.2</td>\n",
       "      <td>Iris-setosa</td>\n",
       "    </tr>\n",
       "    <tr>\n",
       "      <th>4</th>\n",
       "      <td>5-setosa</td>\n",
       "      <td>5.0</td>\n",
       "      <td>3.6</td>\n",
       "      <td>1.4</td>\n",
       "      <td>0.2</td>\n",
       "      <td>Iris-setosa</td>\n",
       "    </tr>\n",
       "    <tr>\n",
       "      <th>...</th>\n",
       "      <td>...</td>\n",
       "      <td>...</td>\n",
       "      <td>...</td>\n",
       "      <td>...</td>\n",
       "      <td>...</td>\n",
       "      <td>...</td>\n",
       "    </tr>\n",
       "    <tr>\n",
       "      <th>145</th>\n",
       "      <td>46-virginica</td>\n",
       "      <td>6.7</td>\n",
       "      <td>3.0</td>\n",
       "      <td>5.2</td>\n",
       "      <td>2.3</td>\n",
       "      <td>Iris-virginica</td>\n",
       "    </tr>\n",
       "    <tr>\n",
       "      <th>146</th>\n",
       "      <td>47-virginica</td>\n",
       "      <td>6.3</td>\n",
       "      <td>2.5</td>\n",
       "      <td>5.0</td>\n",
       "      <td>1.9</td>\n",
       "      <td>Iris-virginica</td>\n",
       "    </tr>\n",
       "    <tr>\n",
       "      <th>147</th>\n",
       "      <td>48-virginica</td>\n",
       "      <td>6.5</td>\n",
       "      <td>3.0</td>\n",
       "      <td>5.2</td>\n",
       "      <td>2.0</td>\n",
       "      <td>Iris-virginica</td>\n",
       "    </tr>\n",
       "    <tr>\n",
       "      <th>148</th>\n",
       "      <td>49-virginica</td>\n",
       "      <td>6.2</td>\n",
       "      <td>3.4</td>\n",
       "      <td>5.4</td>\n",
       "      <td>2.3</td>\n",
       "      <td>Iris-virginica</td>\n",
       "    </tr>\n",
       "    <tr>\n",
       "      <th>149</th>\n",
       "      <td>50-virginica</td>\n",
       "      <td>5.9</td>\n",
       "      <td>3.0</td>\n",
       "      <td>5.1</td>\n",
       "      <td>1.8</td>\n",
       "      <td>Iris-virginica</td>\n",
       "    </tr>\n",
       "  </tbody>\n",
       "</table>\n",
       "<p>150 rows × 6 columns</p>\n",
       "</div>"
      ],
      "text/plain": [
       "               Id  SepalLengthCm  SepalWidthCm  PetalLengthCm  PetalWidthCm  \\\n",
       "0        1-setosa            5.1           3.5            1.4           0.2   \n",
       "1        2-setosa            4.9           3.0            1.4           0.2   \n",
       "2        3-setosa            4.7           3.2            1.3           0.2   \n",
       "3        4-setosa            4.6           3.1            1.5           0.2   \n",
       "4        5-setosa            5.0           3.6            1.4           0.2   \n",
       "..            ...            ...           ...            ...           ...   \n",
       "145  46-virginica            6.7           3.0            5.2           2.3   \n",
       "146  47-virginica            6.3           2.5            5.0           1.9   \n",
       "147  48-virginica            6.5           3.0            5.2           2.0   \n",
       "148  49-virginica            6.2           3.4            5.4           2.3   \n",
       "149  50-virginica            5.9           3.0            5.1           1.8   \n",
       "\n",
       "            Species  \n",
       "0       Iris-setosa  \n",
       "1       Iris-setosa  \n",
       "2       Iris-setosa  \n",
       "3       Iris-setosa  \n",
       "4       Iris-setosa  \n",
       "..              ...  \n",
       "145  Iris-virginica  \n",
       "146  Iris-virginica  \n",
       "147  Iris-virginica  \n",
       "148  Iris-virginica  \n",
       "149  Iris-virginica  \n",
       "\n",
       "[150 rows x 6 columns]"
      ]
     },
     "execution_count": 6,
     "metadata": {},
     "output_type": "execute_result"
    }
   ],
   "source": [
    "# FIXME - change the value 'species' to match the 'y' value of your dataset\n",
    "# This function will give your dataframe an 'id' column which will be used to identify the samples in the dataset\n",
    "# The 'id' column will be used to name the photos of the samples\n",
    "classification_id = 'Species'\n",
    "df = add_id_column(df, classification_id)\n",
    "df"
   ]
  },
  {
   "cell_type": "code",
   "execution_count": 7,
   "metadata": {},
   "outputs": [],
   "source": [
    "# FIXME - Perform any data cleaning or preprocessing steps here!\n",
    "# For example, if you have missing values, you can fill them in with the mean value of the column or drop them\n",
    "# Look at our past work for examples of how to do this\n",
    "# Kaggle is another good resource"
   ]
  },
  {
   "cell_type": "code",
   "execution_count": 8,
   "metadata": {},
   "outputs": [
    {
     "name": "stdout",
     "output_type": "stream",
     "text": [
      "x (150, 4)\n",
      "Y (150,)\n",
      "This value should be True: True\n"
     ]
    }
   ],
   "source": [
    "# FIXME - get the correct values in the x and Y variables for your dataset\n",
    "# As long as you have the correct value in `classification_id` from earlier, you shouldn't need any changes here unless there is another column you want to drop\n",
    "# For instance, if you have an overfit feature such as a timestamp, you can drop it here\n",
    "x = df.drop([classification_id, 'Id'], axis=1)\n",
    "Y = df[classification_id]\n",
    "print(f\"x {x.shape}\")\n",
    "print(f\"Y {Y.shape}\")\n",
    "print(f\"This value should be True: {x.shape[0] == Y.shape[0]}\")"
   ]
  },
  {
   "attachments": {},
   "cell_type": "markdown",
   "metadata": {},
   "source": [
    "## Image Generation"
   ]
  },
  {
   "cell_type": "code",
   "execution_count": 11,
   "metadata": {},
   "outputs": [
    {
     "name": "stdout",
     "output_type": "stream",
     "text": [
      "[0, 0, 0, 0]\n"
     ]
    }
   ],
   "source": [
    "# FIXME - update `image_directory`` to point to a directory where you want the images to be saved. \n",
    "# Change any other constants you want to change\n",
    "image_directory = \"/mnt/sda1/image-results-iris\"\n",
    "feature_types = get_column_data_types(x)\n",
    "# Precision: the number of binary digits to use for each feature (use a power of 2)\n",
    "precision = 64\n",
    "# one: the value to use for a 1 in the binary representation (128 is a dark pixel)\n",
    "one = 128\n",
    "zero = 0\n",
    "# num_jobs: the number of jobs to run in parallel (-1 means use all available cores)\n",
    "n_jobs = -1\n",
    "# For feature_types, 0 = float, 1 = int, 2 = bool\n",
    "# Notice mine are all 0's because I only have float values in my dataset, you may have different values\n",
    "print(feature_types)"
   ]
  },
  {
   "cell_type": "code",
   "execution_count": 10,
   "metadata": {},
   "outputs": [
    {
     "name": "stdout",
     "output_type": "stream",
     "text": [
      "Time to convert 150 samples to binary: 2.2125086784362793 seconds. Seconds per sample = 0.014750057856241863\n"
     ]
    }
   ],
   "source": [
    "convert_samples_to_binary(x, df[\"Id\"], image_directory, precision, one, zero, n_jobs, feature_types)"
   ]
  },
  {
   "attachments": {},
   "cell_type": "markdown",
   "metadata": {},
   "source": [
    "## Place Folders into the Correct Categories"
   ]
  },
  {
   "cell_type": "code",
   "execution_count": 11,
   "metadata": {},
   "outputs": [
    {
     "name": "stdout",
     "output_type": "stream",
     "text": [
      "150\n",
      "{'setosa': 50, 'versicolor': 50, 'virginica': 50}\n"
     ]
    }
   ],
   "source": [
    "organize_photos_in_folders(image_directory, Y)"
   ]
  },
  {
   "cell_type": "code",
   "execution_count": null,
   "metadata": {},
   "outputs": [],
   "source": [
    "#FIXME Upload your photos to the Google Drive Data Folder!"
   ]
  },
  {
   "attachments": {},
   "cell_type": "markdown",
   "metadata": {},
   "source": [
    "## Train ResNet50\n",
    "If you used my yaml files where there are two conda environments, this is the stage where you will change to the `keras_gpu` environment. If you used the alternative method, you should be in the correct environment already."
   ]
  },
  {
   "attachments": {},
   "cell_type": "markdown",
   "metadata": {},
   "source": [
    "### Once experiments are running, view the live updates on TensorBoard\n",
    "Run the command `tensorboard --logdir=[your log directory]` in the terminal. \n",
    "<br />\n",
    "<br />\n",
    "Then, open a browser and navigate to `localhost:6006`.\n",
    "<br />\n",
    "<br />\n",
    "![TensorBoard](./imgs/tensorboard.png)"
   ]
  },
  {
   "cell_type": "code",
   "execution_count": 1,
   "metadata": {},
   "outputs": [
    {
     "name": "stderr",
     "output_type": "stream",
     "text": [
      "2023-04-11 12:59:43.065349: I tensorflow/stream_executor/platform/default/dso_loader.cc:49] Successfully opened dynamic library libcudart.so.10.1\n"
     ]
    }
   ],
   "source": [
    "from resnet import print_dl_versions, train_resnet_model_k_fold, evaluate_on_test_data, plot_metrics"
   ]
  },
  {
   "cell_type": "code",
   "execution_count": 2,
   "metadata": {},
   "outputs": [],
   "source": [
    "# FIXME - update the values below to match your dataset\n",
    "# Multiple of 2 such that it is greater than or equal to the number of features you have\n",
    "img_size = 64\n",
    "target_size = (img_size,img_size)\n",
    "# Number of classification types (classes) in your dataset\n",
    "num_classes = 3\n",
    "# Number of samples to run through the model before updating the weights\n",
    "# Higher batch size means more memory is required and training will be faster. Maybe use 64 for larger datasets\n",
    "batch_size = 32\n",
    "# Number of times to run through training a model\n",
    "# Depending on the size of your dataset, you may want to increase/decrease this number\n",
    "num_folds = 5\n",
    "# Number of times to run through the entire dataset\n",
    "number_of_epochs = 100"
   ]
  },
  {
   "cell_type": "code",
   "execution_count": null,
   "metadata": {},
   "outputs": [
    {
     "ename": "",
     "evalue": "",
     "output_type": "error",
     "traceback": [
      "\u001b[1;31mThe Kernel crashed while executing code in the the current cell or a previous cell. Please review the code in the cell(s) to identify a possible cause of the failure. Click <a href='https://aka.ms/vscodeJupyterKernelCrash'>here</a> for more info. View Jupyter <a href='command:jupyter.viewOutput'>log</a> for further details."
     ]
    }
   ],
   "source": [
    "new_dir = image_directory + '/data'\n",
    "average_history, best_model = train_resnet_model_k_fold(num_classes, img_size, f\"{new_dir}/Train/\", number_of_epochs, f\"{image_directory}/results/\", num_folds, batch_size)"
   ]
  },
  {
   "cell_type": "code",
   "execution_count": 9,
   "metadata": {},
   "outputs": [
    {
     "name": "stdout",
     "output_type": "stream",
     "text": [
      "Average metrics over k folds\n",
      "{'loss': 0.006600152849568985, 'acc': 0.9983333349227905, 'f1_m': 0.9979166626930237, 'precision_m': 0.9979166626930237, 'recall_m': 0.9979166626930237, 'auc_5': 1.0, 'false_negatives_5': 0.0, 'false_positives_5': 0.0, 'true_negatives_5': 240.0, 'true_positives_5': 120.0, 'mean_absolute_error': 0.003653079250943847, 'mean_squared_error': 0.00092650216973027, 'val_loss': 0.37048304416239264, 'val_acc': 0.9066666603088379, 'val_f1_m': 0.9066666245460511, 'val_precision_m': 0.9066666603088379, 'val_recall_m': 0.9066666603088379, 'val_auc_5': 1.0, 'val_false_negatives_5': 0.0, 'val_false_positives_5': 0.0, 'val_true_negatives_5': 60.0, 'val_true_positives_5': 30.0, 'val_mean_absolute_error': 0.06671324791386724, 'val_mean_squared_error': 0.055582360707921906, 'lr': 0.002205399941021824}\n"
     ]
    }
   ],
   "source": [
    "print(\"Average metrics over k folds\")\n",
    "print(average_history)"
   ]
  },
  {
   "cell_type": "code",
   "execution_count": 10,
   "metadata": {},
   "outputs": [
    {
     "name": "stdout",
     "output_type": "stream",
     "text": [
      "Best model metrics\n",
      "{'loss': 0.006023820023983717, 'acc': 1.0, 'f1_m': 1.0, 'precision_m': 1.0, 'recall_m': 1.0, 'auc_5': 1.0, 'false_negatives_5': 0.0, 'false_positives_5': 0.0, 'true_negatives_5': 240.0, 'true_positives_5': 120.0, 'mean_absolute_error': 0.003057684050872922, 'mean_squared_error': 0.0012675473699346185, 'val_loss': 0.007461799308657646, 'val_acc': 1.0, 'val_f1_m': 1.0, 'val_precision_m': 1.0, 'val_recall_m': 1.0, 'val_auc_5': 1.0, 'val_false_negatives_5': 0.0, 'val_false_positives_5': 0.0, 'val_true_negatives_5': 60.0, 'val_true_positives_5': 30.0, 'val_mean_absolute_error': 0.00479428144171834, 'val_mean_squared_error': 0.0002938260731752962, 'lr': 0.00049999997}\n"
     ]
    }
   ],
   "source": [
    "print(\"Best model metrics\")\n",
    "print({key: best_model.history[key][-1] for key in best_model.history.keys()})"
   ]
  },
  {
   "cell_type": "code",
   "execution_count": 11,
   "metadata": {},
   "outputs": [
    {
     "data": {
      "image/png": "[encoded data removed]",
      "text/plain": [
       "<Figure size 1200x400 with 3 Axes>"
      ]
     },
     "metadata": {},
     "output_type": "display_data"
    }
   ],
   "source": [
    "plot_metrics(best_model.history)"
   ]
  },
  {
   "attachments": {},
   "cell_type": "markdown",
   "metadata": {},
   "source": [
    "# Correlated Binary Encoding"
   ]
  },
  {
   "cell_type": "code",
   "execution_count": null,
   "metadata": {},
   "outputs": [],
   "source": [
    "#FIXME - update the directories to point where you would like\n",
    "image_directory = \"/mnt/sda1/image-results-iris-correlated\"\n",
    "new_dir = image_directory + '/data/'"
   ]
  },
  {
   "cell_type": "code",
   "execution_count": 12,
   "metadata": {},
   "outputs": [
    {
     "name": "stdout",
     "output_type": "stream",
     "text": [
      "ordering columns by correlation: Species, 6, ['Iris-setosa' 'Iris-versicolor' 'Iris-virginica']\n"
     ]
    }
   ],
   "source": [
    "correlated_order = order_columns_by_correlation(df, classification_id, True)"
   ]
  },
  {
   "cell_type": "code",
   "execution_count": 13,
   "metadata": {},
   "outputs": [],
   "source": [
    "correlated_df = df.reindex(columns=correlated_order)"
   ]
  },
  {
   "cell_type": "code",
   "execution_count": 14,
   "metadata": {},
   "outputs": [
    {
     "name": "stdout",
     "output_type": "stream",
     "text": [
      "x (150, 4)\n",
      "Y (150,)\n",
      "This value should be True: True\n"
     ]
    }
   ],
   "source": [
    "x = correlated_df.drop([classification_id, 'Id'], axis=1)\n",
    "Y = correlated_df[classification_id]\n",
    "print(f\"x {x.shape}\")\n",
    "print(f\"Y {Y.shape}\")\n",
    "print(f\"This value should be True: {x.shape[0] == Y.shape[0]}\")"
   ]
  },
  {
   "cell_type": "code",
   "execution_count": 15,
   "metadata": {},
   "outputs": [
    {
     "name": "stdout",
     "output_type": "stream",
     "text": [
      "[0, 0, 0, 0]\n"
     ]
    }
   ],
   "source": [
    "# FIXME - update the image directory to point to a directory where you want the images to be saved. Create a folder there.\n",
    "# Change any other constants you want to change\n",
    "image_directory = \"/mnt/sda1/image-results-iris-correlated\"\n",
    "feature_types = get_column_data_types(x)\n",
    "# For feature_types, 0 = float, 1 = int, 2 = bool\n",
    "print(feature_types)"
   ]
  },
  {
   "cell_type": "code",
   "execution_count": 16,
   "metadata": {},
   "outputs": [],
   "source": [
    "convert_samples_to_binary(x, correlated_df[\"Id\"], image_directory, precision, one, zero, n_jobs, feature_types)"
   ]
  },
  {
   "cell_type": "code",
   "execution_count": 17,
   "metadata": {},
   "outputs": [
    {
     "name": "stdout",
     "output_type": "stream",
     "text": [
      "150\n",
      "{'setosa': 50, 'versicolor': 50, 'virginica': 50}\n"
     ]
    }
   ],
   "source": [
    "organize_photos_in_folders(image_directory, Y)"
   ]
  },
  {
   "cell_type": "code",
   "execution_count": null,
   "metadata": {},
   "outputs": [],
   "source": [
    "new_dir = image_directory + '/data'\n",
    "average_history, best_model = train_resnet_model_k_fold(num_classes, img_size, f\"{new_dir}/Train/\", number_of_epochs, f\"{image_directory}/results/\", num_folds, batch_size)"
   ]
  },
  {
   "cell_type": "code",
   "execution_count": 5,
   "metadata": {},
   "outputs": [
    {
     "name": "stdout",
     "output_type": "stream",
     "text": [
      "Average metrics over k folds\n",
      "{'loss': 0.0021178958297241477, 'acc': 1.0, 'f1_m': 1.0, 'precision_m': 1.0, 'recall_m': 1.0, 'auc': 1.0, 'false_negatives': 0.0, 'false_positives': 0.0, 'true_negatives': 240.0, 'true_positives': 120.0, 'mean_absolute_error': 0.0013242868444649503, 'mean_squared_error': 0.00014281665536941546, 'val_loss': 0.3948760949075222, 'val_acc': 0.9199999928474426, 'val_f1_m': 0.9166101098060608, 'val_precision_m': 0.9199999928474426, 'val_recall_m': 0.9133333206176758, 'val_auc': 0.9108332991600037, 'val_false_negatives': 5.0, 'val_false_positives': 5.0, 'val_true_negatives': 55.0, 'val_true_positives': 25.0, 'val_mean_absolute_error': 0.06487068757414818, 'val_mean_squared_error': 0.051262075267732146, 'lr': 0.0023049999341310467}\n"
     ]
    }
   ],
   "source": [
    "print(\"Average metrics over k folds\")\n",
    "print(average_history)"
   ]
  },
  {
   "cell_type": "code",
   "execution_count": 6,
   "metadata": {},
   "outputs": [
    {
     "name": "stdout",
     "output_type": "stream",
     "text": [
      "Best model metrics\n",
      "{'loss': 0.000651675509288907, 'acc': 1.0, 'f1_m': 1.0, 'precision_m': 1.0, 'recall_m': 1.0, 'auc_4': 1.0, 'false_negatives_4': 0.0, 'false_positives_4': 0.0, 'true_negatives_4': 240.0, 'true_positives_4': 120.0, 'mean_absolute_error': 0.0004321309388615191, 'mean_squared_error': 3.8298953768389765e-06, 'val_loss': 0.05403872951865196, 'val_acc': 1.0, 'val_f1_m': 0.9830508232116699, 'val_precision_m': 1.0, 'val_recall_m': 0.9666666388511658, 'val_auc_4': 1.0, 'val_false_negatives_4': 1.0, 'val_false_positives_4': 0.0, 'val_true_negatives_4': 60.0, 'val_true_positives_4': 29.0, 'val_mean_absolute_error': 0.02872484177350998, 'val_mean_squared_error': 0.009663733653724194, 'lr': 0.01}\n"
     ]
    }
   ],
   "source": [
    "print(\"Best model metrics\")\n",
    "print({key: best_model.history[key][-1] for key in best_model.history.keys()})"
   ]
  },
  {
   "cell_type": "code",
   "execution_count": 7,
   "metadata": {},
   "outputs": [
    {
     "data": {
      "image/png": "[encoded data removed]",
      "text/plain": [
       "<Figure size 1200x400 with 3 Axes>"
      ]
     },
     "metadata": {},
     "output_type": "display_data"
    }
   ],
   "source": [
    "plot_metrics(best_model.history)"
   ]
  },
  {
   "attachments": {},
   "cell_type": "markdown",
   "metadata": {},
   "source": [
    "# IGTD"
   ]
  },
  {
   "cell_type": "code",
   "execution_count": 9,
   "metadata": {},
   "outputs": [],
   "source": [
    "from IGTD_Functions import min_max_transform, table_to_image, generate_feature_distance_ranking,generate_matrix_distance_ranking,IGTD,run"
   ]
  },
  {
   "cell_type": "code",
   "execution_count": 3,
   "metadata": {},
   "outputs": [],
   "source": [
    "save_image_size = 3 # Size of ranking pictures\n",
    "max_step = 100000    # The maximum number of iterations to run the IGTD algorithm, if it does not converge.\n",
    "val_step = 300  # The number of iterations for determining algorithm convergence. If the error reduction rate\n",
    "                # is smaller than a pre-set threshold for val_step itertions, the algorithm converges.\n",
    "fea_dist_method = 'Euclidean'\n",
    "image_dist_method = 'Euclidean'\n",
    "error = 'squared'\n",
    "result_dir = '/mnt/sda1/image-results-iris-IGTD-test'"
   ]
  },
  {
   "cell_type": "code",
   "execution_count": 11,
   "metadata": {},
   "outputs": [],
   "source": [
    "def normalize_data(data):\n",
    "    norm_data = min_max_transform(data.values)\n",
    "    norm_data = pd.DataFrame(norm_data, columns=data.columns, index=data.index)\n",
    "    return norm_data"
   ]
  },
  {
   "cell_type": "code",
   "execution_count": 12,
   "metadata": {},
   "outputs": [],
   "source": [
    "# replace index values with the column id\n",
    "df = df.set_index('Id')"
   ]
  },
  {
   "cell_type": "code",
   "execution_count": 13,
   "metadata": {},
   "outputs": [],
   "source": [
    "normalized_data = normalize_data(df.drop([classification_id], axis=1))"
   ]
  },
  {
   "cell_type": "code",
   "execution_count": 14,
   "metadata": {},
   "outputs": [
    {
     "data": {
      "text/html": [
       "<div>\n",
       "<style scoped>\n",
       "    .dataframe tbody tr th:only-of-type {\n",
       "        vertical-align: middle;\n",
       "    }\n",
       "\n",
       "    .dataframe tbody tr th {\n",
       "        vertical-align: top;\n",
       "    }\n",
       "\n",
       "    .dataframe thead th {\n",
       "        text-align: right;\n",
       "    }\n",
       "</style>\n",
       "<table border=\"1\" class=\"dataframe\">\n",
       "  <thead>\n",
       "    <tr style=\"text-align: right;\">\n",
       "      <th></th>\n",
       "      <th>SepalLengthCm</th>\n",
       "      <th>SepalWidthCm</th>\n",
       "      <th>PetalLengthCm</th>\n",
       "      <th>PetalWidthCm</th>\n",
       "      <th>zero0</th>\n",
       "      <th>zero1</th>\n",
       "      <th>zero2</th>\n",
       "      <th>zero3</th>\n",
       "      <th>zero4</th>\n",
       "    </tr>\n",
       "    <tr>\n",
       "      <th>Id</th>\n",
       "      <th></th>\n",
       "      <th></th>\n",
       "      <th></th>\n",
       "      <th></th>\n",
       "      <th></th>\n",
       "      <th></th>\n",
       "      <th></th>\n",
       "      <th></th>\n",
       "      <th></th>\n",
       "    </tr>\n",
       "  </thead>\n",
       "  <tbody>\n",
       "    <tr>\n",
       "      <th>1-setosa</th>\n",
       "      <td>0.222222</td>\n",
       "      <td>0.625000</td>\n",
       "      <td>0.067797</td>\n",
       "      <td>0.041667</td>\n",
       "      <td>0</td>\n",
       "      <td>0</td>\n",
       "      <td>0</td>\n",
       "      <td>0</td>\n",
       "      <td>0</td>\n",
       "    </tr>\n",
       "    <tr>\n",
       "      <th>2-setosa</th>\n",
       "      <td>0.166667</td>\n",
       "      <td>0.416667</td>\n",
       "      <td>0.067797</td>\n",
       "      <td>0.041667</td>\n",
       "      <td>0</td>\n",
       "      <td>0</td>\n",
       "      <td>0</td>\n",
       "      <td>0</td>\n",
       "      <td>0</td>\n",
       "    </tr>\n",
       "    <tr>\n",
       "      <th>3-setosa</th>\n",
       "      <td>0.111111</td>\n",
       "      <td>0.500000</td>\n",
       "      <td>0.050847</td>\n",
       "      <td>0.041667</td>\n",
       "      <td>0</td>\n",
       "      <td>0</td>\n",
       "      <td>0</td>\n",
       "      <td>0</td>\n",
       "      <td>0</td>\n",
       "    </tr>\n",
       "    <tr>\n",
       "      <th>4-setosa</th>\n",
       "      <td>0.083333</td>\n",
       "      <td>0.458333</td>\n",
       "      <td>0.084746</td>\n",
       "      <td>0.041667</td>\n",
       "      <td>0</td>\n",
       "      <td>0</td>\n",
       "      <td>0</td>\n",
       "      <td>0</td>\n",
       "      <td>0</td>\n",
       "    </tr>\n",
       "    <tr>\n",
       "      <th>5-setosa</th>\n",
       "      <td>0.194444</td>\n",
       "      <td>0.666667</td>\n",
       "      <td>0.067797</td>\n",
       "      <td>0.041667</td>\n",
       "      <td>0</td>\n",
       "      <td>0</td>\n",
       "      <td>0</td>\n",
       "      <td>0</td>\n",
       "      <td>0</td>\n",
       "    </tr>\n",
       "    <tr>\n",
       "      <th>...</th>\n",
       "      <td>...</td>\n",
       "      <td>...</td>\n",
       "      <td>...</td>\n",
       "      <td>...</td>\n",
       "      <td>...</td>\n",
       "      <td>...</td>\n",
       "      <td>...</td>\n",
       "      <td>...</td>\n",
       "      <td>...</td>\n",
       "    </tr>\n",
       "    <tr>\n",
       "      <th>46-virginica</th>\n",
       "      <td>0.666667</td>\n",
       "      <td>0.416667</td>\n",
       "      <td>0.711864</td>\n",
       "      <td>0.916667</td>\n",
       "      <td>0</td>\n",
       "      <td>0</td>\n",
       "      <td>0</td>\n",
       "      <td>0</td>\n",
       "      <td>0</td>\n",
       "    </tr>\n",
       "    <tr>\n",
       "      <th>47-virginica</th>\n",
       "      <td>0.555556</td>\n",
       "      <td>0.208333</td>\n",
       "      <td>0.677966</td>\n",
       "      <td>0.750000</td>\n",
       "      <td>0</td>\n",
       "      <td>0</td>\n",
       "      <td>0</td>\n",
       "      <td>0</td>\n",
       "      <td>0</td>\n",
       "    </tr>\n",
       "    <tr>\n",
       "      <th>48-virginica</th>\n",
       "      <td>0.611111</td>\n",
       "      <td>0.416667</td>\n",
       "      <td>0.711864</td>\n",
       "      <td>0.791667</td>\n",
       "      <td>0</td>\n",
       "      <td>0</td>\n",
       "      <td>0</td>\n",
       "      <td>0</td>\n",
       "      <td>0</td>\n",
       "    </tr>\n",
       "    <tr>\n",
       "      <th>49-virginica</th>\n",
       "      <td>0.527778</td>\n",
       "      <td>0.583333</td>\n",
       "      <td>0.745763</td>\n",
       "      <td>0.916667</td>\n",
       "      <td>0</td>\n",
       "      <td>0</td>\n",
       "      <td>0</td>\n",
       "      <td>0</td>\n",
       "      <td>0</td>\n",
       "    </tr>\n",
       "    <tr>\n",
       "      <th>50-virginica</th>\n",
       "      <td>0.444444</td>\n",
       "      <td>0.416667</td>\n",
       "      <td>0.694915</td>\n",
       "      <td>0.708333</td>\n",
       "      <td>0</td>\n",
       "      <td>0</td>\n",
       "      <td>0</td>\n",
       "      <td>0</td>\n",
       "      <td>0</td>\n",
       "    </tr>\n",
       "  </tbody>\n",
       "</table>\n",
       "<p>150 rows × 9 columns</p>\n",
       "</div>"
      ],
      "text/plain": [
       "              SepalLengthCm  SepalWidthCm  PetalLengthCm  PetalWidthCm  zero0  \\\n",
       "Id                                                                              \n",
       "1-setosa           0.222222      0.625000       0.067797      0.041667      0   \n",
       "2-setosa           0.166667      0.416667       0.067797      0.041667      0   \n",
       "3-setosa           0.111111      0.500000       0.050847      0.041667      0   \n",
       "4-setosa           0.083333      0.458333       0.084746      0.041667      0   \n",
       "5-setosa           0.194444      0.666667       0.067797      0.041667      0   \n",
       "...                     ...           ...            ...           ...    ...   \n",
       "46-virginica       0.666667      0.416667       0.711864      0.916667      0   \n",
       "47-virginica       0.555556      0.208333       0.677966      0.750000      0   \n",
       "48-virginica       0.611111      0.416667       0.711864      0.791667      0   \n",
       "49-virginica       0.527778      0.583333       0.745763      0.916667      0   \n",
       "50-virginica       0.444444      0.416667       0.694915      0.708333      0   \n",
       "\n",
       "              zero1  zero2  zero3  zero4  \n",
       "Id                                        \n",
       "1-setosa          0      0      0      0  \n",
       "2-setosa          0      0      0      0  \n",
       "3-setosa          0      0      0      0  \n",
       "4-setosa          0      0      0      0  \n",
       "5-setosa          0      0      0      0  \n",
       "...             ...    ...    ...    ...  \n",
       "46-virginica      0      0      0      0  \n",
       "47-virginica      0      0      0      0  \n",
       "48-virginica      0      0      0      0  \n",
       "49-virginica      0      0      0      0  \n",
       "50-virginica      0      0      0      0  \n",
       "\n",
       "[150 rows x 9 columns]"
      ]
     },
     "execution_count": 14,
     "metadata": {},
     "output_type": "execute_result"
    }
   ],
   "source": [
    "import numpy as np\n",
    "zero_cols = pd.DataFrame(0, index=normalized_data.index, columns=['zero0', 'zero1', 'zero2', 'zero3', 'zero4'])\n",
    "normalized_data = pd.concat([normalized_data, zero_cols], axis=1)\n",
    "normalized_data"
   ]
  },
  {
   "cell_type": "code",
   "execution_count": 15,
   "metadata": {},
   "outputs": [
    {
     "name": "stdout",
     "output_type": "stream",
     "text": [
      "Step 0 err: 4365.5\n",
      "Step 1 err: 4365.5\n",
      "Step 2 err: 3981.5\n",
      "Step 3 err: 3981.5\n",
      "Step 4 err: 3981.5\n",
      "Step 5 err: 3981.5\n",
      "Step 6 err: 3981.5\n",
      "Step 7 err: 3981.5\n",
      "Step 8 err: 3981.5\n",
      "Step 9 err: 3981.5\n",
      "Step 10 err: 3981.5\n",
      "Step 11 err: 3981.5\n",
      "Step 12 err: 3981.5\n",
      "Step 13 err: 3981.5\n",
      "Step 14 err: 3981.5\n",
      "Step 15 err: 3981.5\n",
      "Step 16 err: 3981.5\n",
      "Step 17 err: 3981.5\n",
      "Step 18 err: 3981.5\n",
      "Step 19 err: 3981.5\n",
      "Step 20 err: 3981.5\n",
      "Step 21 err: 3981.5\n",
      "Step 22 err: 3981.5\n",
      "Step 23 err: 3981.5\n",
      "Step 24 err: 3981.5\n",
      "Step 25 err: 3981.5\n",
      "Step 26 err: 3981.5\n",
      "Step 27 err: 3981.5\n",
      "Step 28 err: 3981.5\n",
      "Step 29 err: 3981.5\n",
      "Step 30 err: 3981.5\n",
      "Step 31 err: 3981.5\n",
      "Step 32 err: 3981.5\n",
      "Step 33 err: 3981.5\n",
      "Step 34 err: 3981.5\n",
      "Step 35 err: 3981.5\n",
      "Step 36 err: 3981.5\n",
      "Step 37 err: 3981.5\n",
      "Step 38 err: 3981.5\n",
      "Step 39 err: 3981.5\n",
      "Step 40 err: 3981.5\n",
      "Step 41 err: 3981.5\n",
      "Step 42 err: 3981.5\n",
      "Step 43 err: 3981.5\n",
      "Step 44 err: 3981.5\n",
      "Step 45 err: 3981.5\n",
      "Step 46 err: 3981.5\n",
      "Step 47 err: 3981.5\n",
      "Step 48 err: 3981.5\n",
      "Step 49 err: 3981.5\n",
      "Step 50 err: 3981.5\n",
      "Step 51 err: 3981.5\n",
      "Step 52 err: 3981.5\n",
      "Step 53 err: 3981.5\n",
      "Step 54 err: 3981.5\n",
      "Step 55 err: 3981.5\n",
      "Step 56 err: 3981.5\n",
      "Step 57 err: 3981.5\n",
      "Step 58 err: 3981.5\n",
      "Step 59 err: 3981.5\n",
      "Step 60 err: 3981.5\n",
      "Step 61 err: 3981.5\n",
      "Step 62 err: 3981.5\n",
      "Step 63 err: 3981.5\n",
      "Step 64 err: 3981.5\n",
      "Step 65 err: 3981.5\n",
      "Step 66 err: 3981.5\n",
      "Step 67 err: 3981.5\n",
      "Step 68 err: 3981.5\n",
      "Step 69 err: 3981.5\n",
      "Step 70 err: 3981.5\n",
      "Step 71 err: 3981.5\n",
      "Step 72 err: 3981.5\n",
      "Step 73 err: 3981.5\n",
      "Step 74 err: 3981.5\n",
      "Step 75 err: 3981.5\n",
      "Step 76 err: 3981.5\n",
      "Step 77 err: 3981.5\n",
      "Step 78 err: 3981.5\n",
      "Step 79 err: 3981.5\n",
      "Step 80 err: 3981.5\n",
      "Step 81 err: 3981.5\n",
      "Step 82 err: 3981.5\n",
      "Step 83 err: 3981.5\n",
      "Step 84 err: 3981.5\n",
      "Step 85 err: 3981.5\n",
      "Step 86 err: 3981.5\n",
      "Step 87 err: 3981.5\n",
      "Step 88 err: 3981.5\n",
      "Step 89 err: 3981.5\n",
      "Step 90 err: 3981.5\n",
      "Step 91 err: 3981.5\n",
      "Step 92 err: 3981.5\n",
      "Step 93 err: 3981.5\n",
      "Step 94 err: 3981.5\n",
      "Step 95 err: 3981.5\n",
      "Step 96 err: 3981.5\n",
      "Step 97 err: 3981.5\n",
      "Step 98 err: 3981.5\n",
      "Step 99 err: 3981.5\n",
      "Step 100 err: 3981.5\n",
      "Step 101 err: 3981.5\n",
      "Step 102 err: 3981.5\n",
      "Step 103 err: 3981.5\n",
      "Step 104 err: 3981.5\n",
      "Step 105 err: 3981.5\n",
      "Step 106 err: 3981.5\n",
      "Step 107 err: 3981.5\n",
      "Step 108 err: 3981.5\n",
      "Step 109 err: 3981.5\n",
      "Step 110 err: 3981.5\n",
      "Step 111 err: 3981.5\n",
      "Step 112 err: 3981.5\n",
      "Step 113 err: 3981.5\n",
      "Step 114 err: 3981.5\n",
      "Step 115 err: 3981.5\n",
      "Step 116 err: 3981.5\n",
      "Step 117 err: 3981.5\n",
      "Step 118 err: 3981.5\n",
      "Step 119 err: 3981.5\n",
      "Step 120 err: 3981.5\n",
      "Step 121 err: 3981.5\n",
      "Step 122 err: 3981.5\n",
      "Step 123 err: 3981.5\n",
      "Step 124 err: 3981.5\n",
      "Step 125 err: 3981.5\n",
      "Step 126 err: 3981.5\n",
      "Step 127 err: 3981.5\n",
      "Step 128 err: 3981.5\n",
      "Step 129 err: 3981.5\n",
      "Step 130 err: 3981.5\n",
      "Step 131 err: 3981.5\n",
      "Step 132 err: 3981.5\n",
      "Step 133 err: 3981.5\n",
      "Step 134 err: 3981.5\n",
      "Step 135 err: 3981.5\n",
      "Step 136 err: 3981.5\n",
      "Step 137 err: 3981.5\n",
      "Step 138 err: 3981.5\n",
      "Step 139 err: 3981.5\n",
      "Step 140 err: 3981.5\n",
      "Step 141 err: 3981.5\n",
      "Step 142 err: 3981.5\n",
      "Step 143 err: 3981.5\n",
      "Step 144 err: 3981.5\n",
      "Step 145 err: 3981.5\n",
      "Step 146 err: 3981.5\n",
      "Step 147 err: 3981.5\n",
      "Step 148 err: 3981.5\n",
      "Step 149 err: 3981.5\n",
      "Step 150 err: 3981.5\n",
      "Step 151 err: 3981.5\n",
      "Step 152 err: 3981.5\n",
      "Step 153 err: 3981.5\n",
      "Step 154 err: 3981.5\n",
      "Step 155 err: 3981.5\n",
      "Step 156 err: 3981.5\n",
      "Step 157 err: 3981.5\n",
      "Step 158 err: 3981.5\n",
      "Step 159 err: 3981.5\n",
      "Step 160 err: 3981.5\n",
      "Step 161 err: 3981.5\n",
      "Step 162 err: 3981.5\n",
      "Step 163 err: 3981.5\n",
      "Step 164 err: 3981.5\n",
      "Step 165 err: 3981.5\n",
      "Step 166 err: 3981.5\n",
      "Step 167 err: 3981.5\n",
      "Step 168 err: 3981.5\n",
      "Step 169 err: 3981.5\n",
      "Step 170 err: 3981.5\n",
      "Step 171 err: 3981.5\n",
      "Step 172 err: 3981.5\n",
      "Step 173 err: 3981.5\n",
      "Step 174 err: 3981.5\n",
      "Step 175 err: 3981.5\n",
      "Step 176 err: 3981.5\n",
      "Step 177 err: 3981.5\n",
      "Step 178 err: 3981.5\n",
      "Step 179 err: 3981.5\n",
      "Step 180 err: 3981.5\n",
      "Step 181 err: 3981.5\n",
      "Step 182 err: 3981.5\n",
      "Step 183 err: 3981.5\n",
      "Step 184 err: 3981.5\n",
      "Step 185 err: 3981.5\n",
      "Step 186 err: 3981.5\n",
      "Step 187 err: 3981.5\n",
      "Step 188 err: 3981.5\n",
      "Step 189 err: 3981.5\n",
      "Step 190 err: 3981.5\n",
      "Step 191 err: 3981.5\n",
      "Step 192 err: 3981.5\n",
      "Step 193 err: 3981.5\n",
      "Step 194 err: 3981.5\n",
      "Step 195 err: 3981.5\n",
      "Step 196 err: 3981.5\n",
      "Step 197 err: 3981.5\n",
      "Step 198 err: 3981.5\n",
      "Step 199 err: 3981.5\n",
      "Step 200 err: 3981.5\n",
      "Step 201 err: 3981.5\n",
      "Step 202 err: 3981.5\n",
      "Step 203 err: 3981.5\n",
      "Step 204 err: 3981.5\n",
      "Step 205 err: 3981.5\n",
      "Step 206 err: 3981.5\n",
      "Step 207 err: 3981.5\n",
      "Step 208 err: 3981.5\n",
      "Step 209 err: 3981.5\n",
      "Step 210 err: 3981.5\n",
      "Step 211 err: 3981.5\n",
      "Step 212 err: 3981.5\n",
      "Step 213 err: 3981.5\n",
      "Step 214 err: 3981.5\n",
      "Step 215 err: 3981.5\n",
      "Step 216 err: 3981.5\n",
      "Step 217 err: 3981.5\n",
      "Step 218 err: 3981.5\n",
      "Step 219 err: 3981.5\n",
      "Step 220 err: 3981.5\n",
      "Step 221 err: 3981.5\n",
      "Step 222 err: 3981.5\n",
      "Step 223 err: 3981.5\n",
      "Step 224 err: 3981.5\n",
      "Step 225 err: 3981.5\n",
      "Step 226 err: 3981.5\n",
      "Step 227 err: 3981.5\n",
      "Step 228 err: 3981.5\n",
      "Step 229 err: 3981.5\n",
      "Step 230 err: 3981.5\n",
      "Step 231 err: 3981.5\n",
      "Step 232 err: 3981.5\n",
      "Step 233 err: 3981.5\n",
      "Step 234 err: 3981.5\n",
      "Step 235 err: 3981.5\n",
      "Step 236 err: 3981.5\n",
      "Step 237 err: 3981.5\n",
      "Step 238 err: 3981.5\n",
      "Step 239 err: 3981.5\n",
      "Step 240 err: 3981.5\n",
      "Step 241 err: 3981.5\n",
      "Step 242 err: 3981.5\n",
      "Step 243 err: 3981.5\n",
      "Step 244 err: 3981.5\n",
      "Step 245 err: 3981.5\n",
      "Step 246 err: 3981.5\n",
      "Step 247 err: 3981.5\n",
      "Step 248 err: 3981.5\n",
      "Step 249 err: 3981.5\n",
      "Step 250 err: 3981.5\n",
      "Step 251 err: 3981.5\n",
      "Step 252 err: 3981.5\n",
      "Step 253 err: 3981.5\n",
      "Step 254 err: 3981.5\n",
      "Step 255 err: 3981.5\n",
      "Step 256 err: 3981.5\n",
      "Step 257 err: 3981.5\n",
      "Step 258 err: 3981.5\n",
      "Step 259 err: 3981.5\n",
      "Step 260 err: 3981.5\n",
      "Step 261 err: 3981.5\n",
      "Step 262 err: 3981.5\n",
      "Step 263 err: 3981.5\n",
      "Step 264 err: 3981.5\n",
      "Step 265 err: 3981.5\n",
      "Step 266 err: 3981.5\n",
      "Step 267 err: 3981.5\n",
      "Step 268 err: 3981.5\n",
      "Step 269 err: 3981.5\n",
      "Step 270 err: 3981.5\n",
      "Step 271 err: 3981.5\n",
      "Step 272 err: 3981.5\n",
      "Step 273 err: 3981.5\n",
      "Step 274 err: 3981.5\n",
      "Step 275 err: 3981.5\n",
      "Step 276 err: 3981.5\n",
      "Step 277 err: 3981.5\n",
      "Step 278 err: 3981.5\n",
      "Step 279 err: 3981.5\n",
      "Step 280 err: 3981.5\n",
      "Step 281 err: 3981.5\n",
      "Step 282 err: 3981.5\n",
      "Step 283 err: 3981.5\n",
      "Step 284 err: 3981.5\n",
      "Step 285 err: 3981.5\n",
      "Step 286 err: 3981.5\n",
      "Step 287 err: 3981.5\n",
      "Step 288 err: 3981.5\n",
      "Step 289 err: 3981.5\n",
      "Step 290 err: 3981.5\n",
      "Step 291 err: 3981.5\n",
      "Step 292 err: 3981.5\n",
      "Step 293 err: 3981.5\n",
      "Step 294 err: 3981.5\n",
      "Step 295 err: 3981.5\n",
      "Step 296 err: 3981.5\n",
      "Step 297 err: 3981.5\n",
      "Step 298 err: 3981.5\n",
      "Step 299 err: 3981.5\n",
      "Step 300 err: 3981.5\n",
      "Step 301 err: 3981.5\n",
      "Step 302 err: 3981.5\n"
     ]
    }
   ],
   "source": [
    "scale,coordinate,normDir,min_id,index = table_to_image(normalized_data, [3, 3], fea_dist_method, image_dist_method, save_image_size,\n",
    "            max_step, val_step, result_dir, error)"
   ]
  },
  {
   "cell_type": "code",
   "execution_count": 16,
   "metadata": {},
   "outputs": [
    {
     "data": {
      "text/html": [
       "<div>\n",
       "<style scoped>\n",
       "    .dataframe tbody tr th:only-of-type {\n",
       "        vertical-align: middle;\n",
       "    }\n",
       "\n",
       "    .dataframe tbody tr th {\n",
       "        vertical-align: top;\n",
       "    }\n",
       "\n",
       "    .dataframe thead th {\n",
       "        text-align: right;\n",
       "    }\n",
       "</style>\n",
       "<table border=\"1\" class=\"dataframe\">\n",
       "  <thead>\n",
       "    <tr style=\"text-align: right;\">\n",
       "      <th></th>\n",
       "      <th>SepalLengthCm</th>\n",
       "      <th>SepalWidthCm</th>\n",
       "      <th>PetalLengthCm</th>\n",
       "      <th>PetalWidthCm</th>\n",
       "      <th>zero0</th>\n",
       "      <th>zero1</th>\n",
       "      <th>zero2</th>\n",
       "      <th>zero3</th>\n",
       "      <th>zero4</th>\n",
       "    </tr>\n",
       "    <tr>\n",
       "      <th>Id</th>\n",
       "      <th></th>\n",
       "      <th></th>\n",
       "      <th></th>\n",
       "      <th></th>\n",
       "      <th></th>\n",
       "      <th></th>\n",
       "      <th></th>\n",
       "      <th></th>\n",
       "      <th></th>\n",
       "    </tr>\n",
       "  </thead>\n",
       "  <tbody>\n",
       "    <tr>\n",
       "      <th>1-setosa</th>\n",
       "      <td>0.222222</td>\n",
       "      <td>0.625000</td>\n",
       "      <td>0.067797</td>\n",
       "      <td>0.041667</td>\n",
       "      <td>0</td>\n",
       "      <td>0</td>\n",
       "      <td>0</td>\n",
       "      <td>0</td>\n",
       "      <td>0</td>\n",
       "    </tr>\n",
       "    <tr>\n",
       "      <th>2-setosa</th>\n",
       "      <td>0.166667</td>\n",
       "      <td>0.416667</td>\n",
       "      <td>0.067797</td>\n",
       "      <td>0.041667</td>\n",
       "      <td>0</td>\n",
       "      <td>0</td>\n",
       "      <td>0</td>\n",
       "      <td>0</td>\n",
       "      <td>0</td>\n",
       "    </tr>\n",
       "    <tr>\n",
       "      <th>3-setosa</th>\n",
       "      <td>0.111111</td>\n",
       "      <td>0.500000</td>\n",
       "      <td>0.050847</td>\n",
       "      <td>0.041667</td>\n",
       "      <td>0</td>\n",
       "      <td>0</td>\n",
       "      <td>0</td>\n",
       "      <td>0</td>\n",
       "      <td>0</td>\n",
       "    </tr>\n",
       "    <tr>\n",
       "      <th>4-setosa</th>\n",
       "      <td>0.083333</td>\n",
       "      <td>0.458333</td>\n",
       "      <td>0.084746</td>\n",
       "      <td>0.041667</td>\n",
       "      <td>0</td>\n",
       "      <td>0</td>\n",
       "      <td>0</td>\n",
       "      <td>0</td>\n",
       "      <td>0</td>\n",
       "    </tr>\n",
       "    <tr>\n",
       "      <th>5-setosa</th>\n",
       "      <td>0.194444</td>\n",
       "      <td>0.666667</td>\n",
       "      <td>0.067797</td>\n",
       "      <td>0.041667</td>\n",
       "      <td>0</td>\n",
       "      <td>0</td>\n",
       "      <td>0</td>\n",
       "      <td>0</td>\n",
       "      <td>0</td>\n",
       "    </tr>\n",
       "    <tr>\n",
       "      <th>...</th>\n",
       "      <td>...</td>\n",
       "      <td>...</td>\n",
       "      <td>...</td>\n",
       "      <td>...</td>\n",
       "      <td>...</td>\n",
       "      <td>...</td>\n",
       "      <td>...</td>\n",
       "      <td>...</td>\n",
       "      <td>...</td>\n",
       "    </tr>\n",
       "    <tr>\n",
       "      <th>46-virginica</th>\n",
       "      <td>0.666667</td>\n",
       "      <td>0.416667</td>\n",
       "      <td>0.711864</td>\n",
       "      <td>0.916667</td>\n",
       "      <td>0</td>\n",
       "      <td>0</td>\n",
       "      <td>0</td>\n",
       "      <td>0</td>\n",
       "      <td>0</td>\n",
       "    </tr>\n",
       "    <tr>\n",
       "      <th>47-virginica</th>\n",
       "      <td>0.555556</td>\n",
       "      <td>0.208333</td>\n",
       "      <td>0.677966</td>\n",
       "      <td>0.750000</td>\n",
       "      <td>0</td>\n",
       "      <td>0</td>\n",
       "      <td>0</td>\n",
       "      <td>0</td>\n",
       "      <td>0</td>\n",
       "    </tr>\n",
       "    <tr>\n",
       "      <th>48-virginica</th>\n",
       "      <td>0.611111</td>\n",
       "      <td>0.416667</td>\n",
       "      <td>0.711864</td>\n",
       "      <td>0.791667</td>\n",
       "      <td>0</td>\n",
       "      <td>0</td>\n",
       "      <td>0</td>\n",
       "      <td>0</td>\n",
       "      <td>0</td>\n",
       "    </tr>\n",
       "    <tr>\n",
       "      <th>49-virginica</th>\n",
       "      <td>0.527778</td>\n",
       "      <td>0.583333</td>\n",
       "      <td>0.745763</td>\n",
       "      <td>0.916667</td>\n",
       "      <td>0</td>\n",
       "      <td>0</td>\n",
       "      <td>0</td>\n",
       "      <td>0</td>\n",
       "      <td>0</td>\n",
       "    </tr>\n",
       "    <tr>\n",
       "      <th>50-virginica</th>\n",
       "      <td>0.444444</td>\n",
       "      <td>0.416667</td>\n",
       "      <td>0.694915</td>\n",
       "      <td>0.708333</td>\n",
       "      <td>0</td>\n",
       "      <td>0</td>\n",
       "      <td>0</td>\n",
       "      <td>0</td>\n",
       "      <td>0</td>\n",
       "    </tr>\n",
       "  </tbody>\n",
       "</table>\n",
       "<p>150 rows × 9 columns</p>\n",
       "</div>"
      ],
      "text/plain": [
       "              SepalLengthCm  SepalWidthCm  PetalLengthCm  PetalWidthCm  zero0  \\\n",
       "Id                                                                              \n",
       "1-setosa           0.222222      0.625000       0.067797      0.041667      0   \n",
       "2-setosa           0.166667      0.416667       0.067797      0.041667      0   \n",
       "3-setosa           0.111111      0.500000       0.050847      0.041667      0   \n",
       "4-setosa           0.083333      0.458333       0.084746      0.041667      0   \n",
       "5-setosa           0.194444      0.666667       0.067797      0.041667      0   \n",
       "...                     ...           ...            ...           ...    ...   \n",
       "46-virginica       0.666667      0.416667       0.711864      0.916667      0   \n",
       "47-virginica       0.555556      0.208333       0.677966      0.750000      0   \n",
       "48-virginica       0.611111      0.416667       0.711864      0.791667      0   \n",
       "49-virginica       0.527778      0.583333       0.745763      0.916667      0   \n",
       "50-virginica       0.444444      0.416667       0.694915      0.708333      0   \n",
       "\n",
       "              zero1  zero2  zero3  zero4  \n",
       "Id                                        \n",
       "1-setosa          0      0      0      0  \n",
       "2-setosa          0      0      0      0  \n",
       "3-setosa          0      0      0      0  \n",
       "4-setosa          0      0      0      0  \n",
       "5-setosa          0      0      0      0  \n",
       "...             ...    ...    ...    ...  \n",
       "46-virginica      0      0      0      0  \n",
       "47-virginica      0      0      0      0  \n",
       "48-virginica      0      0      0      0  \n",
       "49-virginica      0      0      0      0  \n",
       "50-virginica      0      0      0      0  \n",
       "\n",
       "[150 rows x 9 columns]"
      ]
     },
     "execution_count": 16,
     "metadata": {},
     "output_type": "execute_result"
    }
   ],
   "source": [
    "normalized_data"
   ]
  },
  {
   "cell_type": "code",
   "execution_count": 17,
   "metadata": {},
   "outputs": [],
   "source": [
    "run(normalized_data, index, min_id, scale, coordinate,normDir)"
   ]
  },
  {
   "cell_type": "code",
   "execution_count": 19,
   "metadata": {},
   "outputs": [
    {
     "name": "stdout",
     "output_type": "stream",
     "text": [
      "150\n",
      "{'setosa': 50, 'versicolor': 50, 'virginica': 50}\n"
     ]
    }
   ],
   "source": [
    "organize_photos_in_folders(result_dir, Y)"
   ]
  },
  {
   "cell_type": "code",
   "execution_count": 22,
   "metadata": {},
   "outputs": [
    {
     "data": {
      "text/plain": [
       "'/mnt/sda1/image-results-iris-IGTD-test/data'"
      ]
     },
     "execution_count": 22,
     "metadata": {},
     "output_type": "execute_result"
    }
   ],
   "source": [
    "new_dir"
   ]
  },
  {
   "cell_type": "code",
   "execution_count": 4,
   "metadata": {},
   "outputs": [
    {
     "name": "stderr",
     "output_type": "stream",
     "text": [
      "2023-04-11 13:00:07.307245: I tensorflow/compiler/jit/xla_cpu_device.cc:41] Not creating XLA devices, tf_xla_enable_xla_devices not set\n",
      "2023-04-11 13:00:07.308092: I tensorflow/stream_executor/platform/default/dso_loader.cc:49] Successfully opened dynamic library libcuda.so.1\n",
      "2023-04-11 13:00:07.340418: I tensorflow/stream_executor/cuda/cuda_gpu_executor.cc:941] successful NUMA node read from SysFS had negative value (-1), but there must be at least one NUMA node, so returning NUMA node zero\n",
      "2023-04-11 13:00:07.340733: I tensorflow/core/common_runtime/gpu/gpu_device.cc:1720] Found device 0 with properties: \n",
      "pciBusID: 0000:01:00.0 name: NVIDIA GeForce GTX 1080 computeCapability: 6.1\n",
      "coreClock: 1.7715GHz coreCount: 20 deviceMemorySize: 7.92GiB deviceMemoryBandwidth: 298.32GiB/s\n",
      "2023-04-11 13:00:07.340751: I tensorflow/stream_executor/platform/default/dso_loader.cc:49] Successfully opened dynamic library libcudart.so.10.1\n",
      "2023-04-11 13:00:07.376363: I tensorflow/stream_executor/platform/default/dso_loader.cc:49] Successfully opened dynamic library libcublas.so.10\n",
      "2023-04-11 13:00:07.376463: I tensorflow/stream_executor/platform/default/dso_loader.cc:49] Successfully opened dynamic library libcublasLt.so.10\n",
      "2023-04-11 13:00:07.403893: I tensorflow/stream_executor/platform/default/dso_loader.cc:49] Successfully opened dynamic library libcufft.so.10\n",
      "2023-04-11 13:00:07.410477: I tensorflow/stream_executor/platform/default/dso_loader.cc:49] Successfully opened dynamic library libcurand.so.10\n",
      "2023-04-11 13:00:07.451124: I tensorflow/stream_executor/platform/default/dso_loader.cc:49] Successfully opened dynamic library libcusolver.so.10\n",
      "2023-04-11 13:00:07.456882: I tensorflow/stream_executor/platform/default/dso_loader.cc:49] Successfully opened dynamic library libcusparse.so.10\n",
      "2023-04-11 13:00:07.519362: I tensorflow/stream_executor/platform/default/dso_loader.cc:49] Successfully opened dynamic library libcudnn.so.7\n",
      "2023-04-11 13:00:07.519629: I tensorflow/stream_executor/cuda/cuda_gpu_executor.cc:941] successful NUMA node read from SysFS had negative value (-1), but there must be at least one NUMA node, so returning NUMA node zero\n",
      "2023-04-11 13:00:07.520712: I tensorflow/stream_executor/cuda/cuda_gpu_executor.cc:941] successful NUMA node read from SysFS had negative value (-1), but there must be at least one NUMA node, so returning NUMA node zero\n",
      "2023-04-11 13:00:07.521343: I tensorflow/core/common_runtime/gpu/gpu_device.cc:1862] Adding visible gpu devices: 0\n",
      "2023-04-11 13:00:07.522496: I tensorflow/core/platform/cpu_feature_guard.cc:142] This TensorFlow binary is optimized with oneAPI Deep Neural Network Library (oneDNN) to use the following CPU instructions in performance-critical operations:  SSE4.1 SSE4.2 AVX AVX2 FMA\n",
      "To enable them in other operations, rebuild TensorFlow with the appropriate compiler flags.\n",
      "2023-04-11 13:00:07.523496: I tensorflow/compiler/jit/xla_gpu_device.cc:99] Not creating XLA devices, tf_xla_enable_xla_devices not set\n",
      "2023-04-11 13:00:07.523713: I tensorflow/stream_executor/cuda/cuda_gpu_executor.cc:941] successful NUMA node read from SysFS had negative value (-1), but there must be at least one NUMA node, so returning NUMA node zero\n",
      "2023-04-11 13:00:07.524254: I tensorflow/core/common_runtime/gpu/gpu_device.cc:1720] Found device 0 with properties: \n",
      "pciBusID: 0000:01:00.0 name: NVIDIA GeForce GTX 1080 computeCapability: 6.1\n",
      "coreClock: 1.7715GHz coreCount: 20 deviceMemorySize: 7.92GiB deviceMemoryBandwidth: 298.32GiB/s\n",
      "2023-04-11 13:00:07.524300: I tensorflow/stream_executor/platform/default/dso_loader.cc:49] Successfully opened dynamic library libcudart.so.10.1\n",
      "2023-04-11 13:00:07.524342: I tensorflow/stream_executor/platform/default/dso_loader.cc:49] Successfully opened dynamic library libcublas.so.10\n",
      "2023-04-11 13:00:07.524371: I tensorflow/stream_executor/platform/default/dso_loader.cc:49] Successfully opened dynamic library libcublasLt.so.10\n",
      "2023-04-11 13:00:07.524399: I tensorflow/stream_executor/platform/default/dso_loader.cc:49] Successfully opened dynamic library libcufft.so.10\n",
      "2023-04-11 13:00:07.524426: I tensorflow/stream_executor/platform/default/dso_loader.cc:49] Successfully opened dynamic library libcurand.so.10\n",
      "2023-04-11 13:00:07.524454: I tensorflow/stream_executor/platform/default/dso_loader.cc:49] Successfully opened dynamic library libcusolver.so.10\n",
      "2023-04-11 13:00:07.524484: I tensorflow/stream_executor/platform/default/dso_loader.cc:49] Successfully opened dynamic library libcusparse.so.10\n",
      "2023-04-11 13:00:07.524512: I tensorflow/stream_executor/platform/default/dso_loader.cc:49] Successfully opened dynamic library libcudnn.so.7\n",
      "2023-04-11 13:00:07.524631: I tensorflow/stream_executor/cuda/cuda_gpu_executor.cc:941] successful NUMA node read from SysFS had negative value (-1), but there must be at least one NUMA node, so returning NUMA node zero\n",
      "2023-04-11 13:00:07.525246: I tensorflow/stream_executor/cuda/cuda_gpu_executor.cc:941] successful NUMA node read from SysFS had negative value (-1), but there must be at least one NUMA node, so returning NUMA node zero\n",
      "2023-04-11 13:00:07.525765: I tensorflow/core/common_runtime/gpu/gpu_device.cc:1862] Adding visible gpu devices: 0\n",
      "2023-04-11 13:00:07.526275: I tensorflow/stream_executor/platform/default/dso_loader.cc:49] Successfully opened dynamic library libcudart.so.10.1\n",
      "2023-04-11 13:00:08.633800: I tensorflow/core/common_runtime/gpu/gpu_device.cc:1261] Device interconnect StreamExecutor with strength 1 edge matrix:\n",
      "2023-04-11 13:00:08.633829: I tensorflow/core/common_runtime/gpu/gpu_device.cc:1267]      0 \n",
      "2023-04-11 13:00:08.633837: I tensorflow/core/common_runtime/gpu/gpu_device.cc:1280] 0:   N \n",
      "2023-04-11 13:00:08.634440: I tensorflow/stream_executor/cuda/cuda_gpu_executor.cc:941] successful NUMA node read from SysFS had negative value (-1), but there must be at least one NUMA node, so returning NUMA node zero\n",
      "2023-04-11 13:00:08.634766: I tensorflow/stream_executor/cuda/cuda_gpu_executor.cc:941] successful NUMA node read from SysFS had negative value (-1), but there must be at least one NUMA node, so returning NUMA node zero\n",
      "2023-04-11 13:00:08.635043: I tensorflow/stream_executor/cuda/cuda_gpu_executor.cc:941] successful NUMA node read from SysFS had negative value (-1), but there must be at least one NUMA node, so returning NUMA node zero\n",
      "2023-04-11 13:00:08.635287: I tensorflow/core/common_runtime/gpu/gpu_device.cc:1406] Created TensorFlow device (/job:localhost/replica:0/task:0/device:GPU:0 with 6938 MB memory) -> physical GPU (device: 0, name: NVIDIA GeForce GTX 1080, pci bus id: 0000:01:00.0, compute capability: 6.1)\n"
     ]
    },
    {
     "name": "stdout",
     "output_type": "stream",
     "text": [
      "Fold:  0\n",
      "Found 120 images belonging to 3 classes.\n",
      "Found 30 images belonging to 3 classes.\n"
     ]
    },
    {
     "name": "stderr",
     "output_type": "stream",
     "text": [
      "2023-04-11 13:00:09.746303: I tensorflow/core/profiler/lib/profiler_session.cc:136] Profiler session initializing.\n",
      "2023-04-11 13:00:09.746327: I tensorflow/core/profiler/lib/profiler_session.cc:155] Profiler session started.\n",
      "2023-04-11 13:00:09.747363: I tensorflow/core/profiler/internal/gpu/cupti_tracer.cc:1365] Profiler found 1 GPUs\n",
      "2023-04-11 13:00:09.754668: I tensorflow/stream_executor/platform/default/dso_loader.cc:49] Successfully opened dynamic library libcupti.so.10.1\n",
      "2023-04-11 13:00:09.826273: I tensorflow/core/profiler/lib/profiler_session.cc:172] Profiler session tear down.\n",
      "2023-04-11 13:00:09.826383: I tensorflow/core/profiler/internal/gpu/cupti_tracer.cc:1487] CUPTI activity buffer flushed\n",
      "2023-04-11 13:00:09.930884: I tensorflow/compiler/mlir/mlir_graph_optimization_pass.cc:116] None of the MLIR optimization passes are enabled (registered 2)\n",
      "2023-04-11 13:00:09.951596: I tensorflow/core/platform/profile_utils/cpu_utils.cc:112] CPU Frequency: 4200000000 Hz\n"
     ]
    },
    {
     "name": "stdout",
     "output_type": "stream",
     "text": [
      "Epoch 1/100\n"
     ]
    },
    {
     "name": "stderr",
     "output_type": "stream",
     "text": [
      "2023-04-11 13:00:13.723173: I tensorflow/stream_executor/platform/default/dso_loader.cc:49] Successfully opened dynamic library libcublas.so.10\n",
      "2023-04-11 13:00:14.052819: I tensorflow/stream_executor/platform/default/dso_loader.cc:49] Successfully opened dynamic library libcudnn.so.7\n",
      "2023-04-11 13:00:15.120979: W tensorflow/stream_executor/gpu/asm_compiler.cc:63] Running ptxas --version returned 256\n",
      "2023-04-11 13:00:15.158639: W tensorflow/stream_executor/gpu/redzone_allocator.cc:314] Internal: ptxas exited with non-zero error code 256, output: \n",
      "Relying on driver to perform ptx compilation. \n",
      "Modify $PATH to customize ptxas location.\n",
      "This message will be only logged once.\n"
     ]
    },
    {
     "name": "stdout",
     "output_type": "stream",
     "text": [
      "2/4 [==============>...............] - ETA: 0s - loss: 1.7108 - acc: 0.3125 - f1_m: 0.2338 - precision_m: 0.2972 - recall_m: 0.1953 - auc: 0.4132 - false_negatives: 38.5000 - false_positives: 24.0000 - true_negatives: 72.0000 - true_positives: 9.5000 - mean_absolute_error: 0.4777 - mean_squared_error: 0.3094  "
     ]
    },
    {
     "name": "stderr",
     "output_type": "stream",
     "text": [
      "2023-04-11 13:00:41.789717: I tensorflow/core/profiler/lib/profiler_session.cc:136] Profiler session initializing.\n",
      "2023-04-11 13:00:41.789745: I tensorflow/core/profiler/lib/profiler_session.cc:155] Profiler session started.\n"
     ]
    },
    {
     "name": "stdout",
     "output_type": "stream",
     "text": [
      "3/4 [=====================>........] - ETA: 0s - loss: 1.5886 - acc: 0.3611 - f1_m: 0.2950 - precision_m: 0.3520 - recall_m: 0.2587 - auc: 0.4769 - false_negatives: 45.3333 - false_positives: 29.3333 - true_negatives: 98.6667 - true_positives: 18.6667 - mean_absolute_error: 0.4525 - mean_squared_error: 0.2897"
     ]
    },
    {
     "name": "stderr",
     "output_type": "stream",
     "text": [
      "2023-04-11 13:00:41.849522: I tensorflow/core/profiler/lib/profiler_session.cc:71] Profiler session collecting data.\n",
      "2023-04-11 13:00:41.851287: I tensorflow/core/profiler/internal/gpu/cupti_tracer.cc:1487] CUPTI activity buffer flushed\n",
      "2023-04-11 13:00:41.861300: I tensorflow/core/profiler/internal/gpu/cupti_collector.cc:228]  GpuTracer has collected 1740 callback api events and 1688 activity events. \n",
      "2023-04-11 13:00:41.888595: I tensorflow/core/profiler/lib/profiler_session.cc:172] Profiler session tear down.\n",
      "2023-04-11 13:00:41.921604: I tensorflow/core/profiler/rpc/client/save_profile.cc:137] Creating directory: /mnt/sda1/image-results-iris-IGTD-test/results/tb_logs/train/plugins/profile/2023_04_11_13_00_41\n",
      "2023-04-11 13:00:41.944158: I tensorflow/core/profiler/rpc/client/save_profile.cc:143] Dumped gzipped tool data for trace.json.gz to /mnt/sda1/image-results-iris-IGTD-test/results/tb_logs/train/plugins/profile/2023_04_11_13_00_41/drake-pc.trace.json.gz\n",
      "2023-04-11 13:00:41.999051: I tensorflow/core/profiler/rpc/client/save_profile.cc:137] Creating directory: /mnt/sda1/image-results-iris-IGTD-test/results/tb_logs/train/plugins/profile/2023_04_11_13_00_41\n",
      "2023-04-11 13:00:42.003912: I tensorflow/core/profiler/rpc/client/save_profile.cc:143] Dumped gzipped tool data for memory_profile.json.gz to /mnt/sda1/image-results-iris-IGTD-test/results/tb_logs/train/plugins/profile/2023_04_11_13_00_41/drake-pc.memory_profile.json.gz\n",
      "2023-04-11 13:00:42.006081: I tensorflow/core/profiler/rpc/client/capture_profile.cc:251] Creating directory: /mnt/sda1/image-results-iris-IGTD-test/results/tb_logs/train/plugins/profile/2023_04_11_13_00_41Dumped tool data for xplane.pb to /mnt/sda1/image-results-iris-IGTD-test/results/tb_logs/train/plugins/profile/2023_04_11_13_00_41/drake-pc.xplane.pb\n",
      "Dumped tool data for overview_page.pb to /mnt/sda1/image-results-iris-IGTD-test/results/tb_logs/train/plugins/profile/2023_04_11_13_00_41/drake-pc.overview_page.pb\n",
      "Dumped tool data for input_pipeline.pb to /mnt/sda1/image-results-iris-IGTD-test/results/tb_logs/train/plugins/profile/2023_04_11_13_00_41/drake-pc.input_pipeline.pb\n",
      "Dumped tool data for tensorflow_stats.pb to /mnt/sda1/image-results-iris-IGTD-test/results/tb_logs/train/plugins/profile/2023_04_11_13_00_41/drake-pc.tensorflow_stats.pb\n",
      "Dumped tool data for kernel_stats.pb to /mnt/sda1/image-results-iris-IGTD-test/results/tb_logs/train/plugins/profile/2023_04_11_13_00_41/drake-pc.kernel_stats.pb\n",
      "\n"
     ]
    },
    {
     "name": "stdout",
     "output_type": "stream",
     "text": [
      "4/4 [==============================] - ETA: 0s - loss: 1.4990 - acc: 0.4021 - f1_m: 0.3511 - precision_m: 0.4045 - recall_m: 0.3158 - auc: 0.5269 - false_negatives: 50.0000 - false_positives: 32.7500 - true_negatives: 123.2500 - true_positives: 28.0000 - mean_absolute_error: 0.4302 - mean_squared_error: 0.2731"
     ]
    }
   ],
   "source": [
    "new_dir = result_dir + '/data'\n",
    "average_history, best_model = train_resnet_model_k_fold(num_classes, img_size, f\"{new_dir}/Train/\", number_of_epochs, f\"{result_dir}/results/\", num_folds, batch_size, small_dataset=True)"
   ]
  },
  {
   "cell_type": "code",
   "execution_count": 18,
   "metadata": {},
   "outputs": [
    {
     "name": "stdout",
     "output_type": "stream",
     "text": [
      "Average metrics over k folds\n",
      "{'loss': 0.11064508557319641, 'acc': 0.95333331823349, 'f1_m': 0.9519285917282104, 'precision_m': 0.9567667722702027, 'recall_m': 0.9473958253860474, 'auc_12': 0.9973089694976807, 'false_negatives_12': 6.0, 'false_positives_12': 6.0, 'true_negatives_12': 234.0, 'true_positives_12': 114.0, 'mean_absolute_error': 0.050237862020730974, 'mean_squared_error': 0.022630949318408967, 'val_loss': 1086.8984822109342, 'val_acc': 0.6200000047683716, 'val_f1_m': 0.6161581397056579, 'val_precision_m': 0.6190804600715637, 'val_recall_m': 0.6133333325386048, 'val_auc_12': 0.9288889169692993, 'val_false_negatives_12': 5.0, 'val_false_positives_12': 4.0, 'val_true_negatives_12': 56.0, 'val_true_positives_12': 25.0, 'val_mean_absolute_error': 0.26090467274188994, 'val_mean_squared_error': 0.23688815608620645, 'lr': 1.9999999949504854e-06}\n"
     ]
    }
   ],
   "source": [
    "print(\"Average metrics over k folds\")\n",
    "print(average_history)"
   ]
  },
  {
   "cell_type": "code",
   "execution_count": 19,
   "metadata": {},
   "outputs": [
    {
     "name": "stdout",
     "output_type": "stream",
     "text": [
      "Best model metrics\n",
      "{'loss': 0.105766162276268, 'acc': 0.9666666388511658, 'f1_m': 0.9504781365394592, 'precision_m': 0.9619252681732178, 'recall_m': 0.9401041865348816, 'auc_15': 0.9967013001441956, 'false_negatives_15': 7.0, 'false_positives_15': 4.0, 'true_negatives_15': 236.0, 'true_positives_15': 113.0, 'mean_absolute_error': 0.043902646750211716, 'mean_squared_error': 0.022291149944067, 'val_loss': 0.12082067877054214, 'val_acc': 0.9333333373069763, 'val_f1_m': 0.9333332777023315, 'val_precision_m': 0.9333333373069763, 'val_recall_m': 0.9333333373069763, 'val_auc_15': 0.9955555200576782, 'val_false_negatives_15': 2.0, 'val_false_positives_15': 2.0, 'val_true_negatives_15': 58.0, 'val_true_positives_15': 28.0, 'val_mean_absolute_error': 0.0508333295583725, 'val_mean_squared_error': 0.026489850133657455, 'lr': 2e-06}\n"
     ]
    }
   ],
   "source": [
    "print(\"Best model metrics\")\n",
    "print({key: best_model.history[key][-1] for key in best_model.history.keys()})"
   ]
  },
  {
   "cell_type": "code",
   "execution_count": 20,
   "metadata": {},
   "outputs": [
    {
     "data": {
      "image/png": "[encoded data removed]",
      "text/plain": [
       "<Figure size 1200x400 with 3 Axes>"
      ]
     },
     "metadata": {},
     "output_type": "display_data"
    }
   ],
   "source": [
    "plot_metrics(best_model.history)"
   ]
  },
  {
   "cell_type": "code",
   "execution_count": null,
   "metadata": {},
   "outputs": [],
   "source": []
  }
 ],
 "metadata": {
  "kernelspec": {
   "display_name": "keras_gpu",
   "language": "python",
   "name": "python3"
  },
  "language_info": {
   "codemirror_mode": {
    "name": "ipython",
    "version": 3
   },
   "file_extension": ".py",
   "mimetype": "text/x-python",
   "name": "python",
   "nbconvert_exporter": "python",
   "pygments_lexer": "ipython3",
   "version": "3.9.13"
  },
  "orig_nbformat": 4,
  "vscode": {
   "interpreter": {
    "hash": "01b43af51fd77f9f473dc8138d7466027ddf88d382b9cdd9bb3068aee8377522"
   }
  }
 },
 "nbformat": 4,
 "nbformat_minor": 2
}
