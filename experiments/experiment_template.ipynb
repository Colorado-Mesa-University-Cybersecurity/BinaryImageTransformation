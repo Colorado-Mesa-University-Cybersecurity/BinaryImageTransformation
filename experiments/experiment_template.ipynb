{
 "cells": [
  {
   "attachments": {},
   "cell_type": "markdown",
   "metadata": {},
   "source": [
    "# Experimental Template\n",
    "The following notebook acts as a template for experiments. The one step not included is the data cleaning phase!\n",
    "<br />\n",
    "<br />\n",
    "I have put FIXME tags next to the areas that you will need to address.\n",
    "<br />\n",
    "<br />\n",
    "If you are curious to know more about how the code works, look at the `helper_functions.py` file."
   ]
  },
  {
   "attachments": {},
   "cell_type": "markdown",
   "metadata": {},
   "source": [
    "## Imports and Setup"
   ]
  },
  {
   "cell_type": "code",
   "execution_count": 1,
   "metadata": {},
   "outputs": [],
   "source": [
    "from helper_functions import pd, os, shutil\n",
    "from helper_functions import convert_samples_to_binary, get_column_data_types, print_library_versions, add_id_column, order_columns_by_correlation"
   ]
  },
  {
   "cell_type": "code",
   "execution_count": 2,
   "metadata": {},
   "outputs": [
    {
     "name": "stdout",
     "output_type": "stream",
     "text": [
      "pandas version:           1.4.1\n",
      "matplotlib version:       3.5.1\n",
      "numpy version:            1.18.5\n",
      "bitstring version:        3.1.9\n",
      "joblib version:           1.1.0\n",
      "PIL version:              8.2.0\n"
     ]
    }
   ],
   "source": [
    "print_library_versions()"
   ]
  },
  {
   "attachments": {},
   "cell_type": "markdown",
   "metadata": {},
   "source": [
    "## Data Loading and Cleaning"
   ]
  },
  {
   "cell_type": "code",
   "execution_count": 3,
   "metadata": {},
   "outputs": [],
   "source": [
    "# FIXME - update the filename to point to your dataset\n",
    "filename = '/mnt/sda1/iris.csv'\n",
    "df = pd.read_csv(filename)"
   ]
  },
  {
   "cell_type": "code",
   "execution_count": 4,
   "metadata": {},
   "outputs": [
    {
     "data": {
      "text/html": [
       "<div>\n",
       "<style scoped>\n",
       "    .dataframe tbody tr th:only-of-type {\n",
       "        vertical-align: middle;\n",
       "    }\n",
       "\n",
       "    .dataframe tbody tr th {\n",
       "        vertical-align: top;\n",
       "    }\n",
       "\n",
       "    .dataframe thead th {\n",
       "        text-align: right;\n",
       "    }\n",
       "</style>\n",
       "<table border=\"1\" class=\"dataframe\">\n",
       "  <thead>\n",
       "    <tr style=\"text-align: right;\">\n",
       "      <th></th>\n",
       "      <th>Id</th>\n",
       "      <th>SepalLengthCm</th>\n",
       "      <th>SepalWidthCm</th>\n",
       "      <th>PetalLengthCm</th>\n",
       "      <th>PetalWidthCm</th>\n",
       "      <th>Species</th>\n",
       "    </tr>\n",
       "  </thead>\n",
       "  <tbody>\n",
       "    <tr>\n",
       "      <th>0</th>\n",
       "      <td>1</td>\n",
       "      <td>5.1</td>\n",
       "      <td>3.5</td>\n",
       "      <td>1.4</td>\n",
       "      <td>0.2</td>\n",
       "      <td>Iris-setosa</td>\n",
       "    </tr>\n",
       "    <tr>\n",
       "      <th>1</th>\n",
       "      <td>2</td>\n",
       "      <td>4.9</td>\n",
       "      <td>3.0</td>\n",
       "      <td>1.4</td>\n",
       "      <td>0.2</td>\n",
       "      <td>Iris-setosa</td>\n",
       "    </tr>\n",
       "    <tr>\n",
       "      <th>2</th>\n",
       "      <td>3</td>\n",
       "      <td>4.7</td>\n",
       "      <td>3.2</td>\n",
       "      <td>1.3</td>\n",
       "      <td>0.2</td>\n",
       "      <td>Iris-setosa</td>\n",
       "    </tr>\n",
       "    <tr>\n",
       "      <th>3</th>\n",
       "      <td>4</td>\n",
       "      <td>4.6</td>\n",
       "      <td>3.1</td>\n",
       "      <td>1.5</td>\n",
       "      <td>0.2</td>\n",
       "      <td>Iris-setosa</td>\n",
       "    </tr>\n",
       "    <tr>\n",
       "      <th>4</th>\n",
       "      <td>5</td>\n",
       "      <td>5.0</td>\n",
       "      <td>3.6</td>\n",
       "      <td>1.4</td>\n",
       "      <td>0.2</td>\n",
       "      <td>Iris-setosa</td>\n",
       "    </tr>\n",
       "  </tbody>\n",
       "</table>\n",
       "</div>"
      ],
      "text/plain": [
       "   Id  SepalLengthCm  SepalWidthCm  PetalLengthCm  PetalWidthCm      Species\n",
       "0   1            5.1           3.5            1.4           0.2  Iris-setosa\n",
       "1   2            4.9           3.0            1.4           0.2  Iris-setosa\n",
       "2   3            4.7           3.2            1.3           0.2  Iris-setosa\n",
       "3   4            4.6           3.1            1.5           0.2  Iris-setosa\n",
       "4   5            5.0           3.6            1.4           0.2  Iris-setosa"
      ]
     },
     "execution_count": 4,
     "metadata": {},
     "output_type": "execute_result"
    }
   ],
   "source": [
    "df.head()"
   ]
  },
  {
   "cell_type": "code",
   "execution_count": 5,
   "metadata": {},
   "outputs": [
    {
     "name": "stdout",
     "output_type": "stream",
     "text": [
      "<class 'pandas.core.frame.DataFrame'>\n",
      "RangeIndex: 150 entries, 0 to 149\n",
      "Data columns (total 6 columns):\n",
      " #   Column         Non-Null Count  Dtype  \n",
      "---  ------         --------------  -----  \n",
      " 0   Id             150 non-null    int64  \n",
      " 1   SepalLengthCm  150 non-null    float64\n",
      " 2   SepalWidthCm   150 non-null    float64\n",
      " 3   PetalLengthCm  150 non-null    float64\n",
      " 4   PetalWidthCm   150 non-null    float64\n",
      " 5   Species        150 non-null    object \n",
      "dtypes: float64(4), int64(1), object(1)\n",
      "memory usage: 7.2+ KB\n"
     ]
    }
   ],
   "source": [
    "df.info()"
   ]
  },
  {
   "attachments": {},
   "cell_type": "markdown",
   "metadata": {},
   "source": [
    "# NOTE:\n",
    "The following code segments are specific to my dataset. This is where you will need to perform your own data cleaning!!!\n",
    "<br />\n",
    "<br />\n",
    "This will be the most difficult/time intensive aspect."
   ]
  },
  {
   "cell_type": "code",
   "execution_count": 6,
   "metadata": {},
   "outputs": [
    {
     "data": {
      "text/html": [
       "<div>\n",
       "<style scoped>\n",
       "    .dataframe tbody tr th:only-of-type {\n",
       "        vertical-align: middle;\n",
       "    }\n",
       "\n",
       "    .dataframe tbody tr th {\n",
       "        vertical-align: top;\n",
       "    }\n",
       "\n",
       "    .dataframe thead th {\n",
       "        text-align: right;\n",
       "    }\n",
       "</style>\n",
       "<table border=\"1\" class=\"dataframe\">\n",
       "  <thead>\n",
       "    <tr style=\"text-align: right;\">\n",
       "      <th></th>\n",
       "      <th>Id</th>\n",
       "      <th>SepalLengthCm</th>\n",
       "      <th>SepalWidthCm</th>\n",
       "      <th>PetalLengthCm</th>\n",
       "      <th>PetalWidthCm</th>\n",
       "      <th>Species</th>\n",
       "    </tr>\n",
       "  </thead>\n",
       "  <tbody>\n",
       "    <tr>\n",
       "      <th>0</th>\n",
       "      <td>1-setosa</td>\n",
       "      <td>5.1</td>\n",
       "      <td>3.5</td>\n",
       "      <td>1.4</td>\n",
       "      <td>0.2</td>\n",
       "      <td>Iris-setosa</td>\n",
       "    </tr>\n",
       "    <tr>\n",
       "      <th>1</th>\n",
       "      <td>2-setosa</td>\n",
       "      <td>4.9</td>\n",
       "      <td>3.0</td>\n",
       "      <td>1.4</td>\n",
       "      <td>0.2</td>\n",
       "      <td>Iris-setosa</td>\n",
       "    </tr>\n",
       "    <tr>\n",
       "      <th>2</th>\n",
       "      <td>3-setosa</td>\n",
       "      <td>4.7</td>\n",
       "      <td>3.2</td>\n",
       "      <td>1.3</td>\n",
       "      <td>0.2</td>\n",
       "      <td>Iris-setosa</td>\n",
       "    </tr>\n",
       "    <tr>\n",
       "      <th>3</th>\n",
       "      <td>4-setosa</td>\n",
       "      <td>4.6</td>\n",
       "      <td>3.1</td>\n",
       "      <td>1.5</td>\n",
       "      <td>0.2</td>\n",
       "      <td>Iris-setosa</td>\n",
       "    </tr>\n",
       "    <tr>\n",
       "      <th>4</th>\n",
       "      <td>5-setosa</td>\n",
       "      <td>5.0</td>\n",
       "      <td>3.6</td>\n",
       "      <td>1.4</td>\n",
       "      <td>0.2</td>\n",
       "      <td>Iris-setosa</td>\n",
       "    </tr>\n",
       "    <tr>\n",
       "      <th>...</th>\n",
       "      <td>...</td>\n",
       "      <td>...</td>\n",
       "      <td>...</td>\n",
       "      <td>...</td>\n",
       "      <td>...</td>\n",
       "      <td>...</td>\n",
       "    </tr>\n",
       "    <tr>\n",
       "      <th>145</th>\n",
       "      <td>46-virginica</td>\n",
       "      <td>6.7</td>\n",
       "      <td>3.0</td>\n",
       "      <td>5.2</td>\n",
       "      <td>2.3</td>\n",
       "      <td>Iris-virginica</td>\n",
       "    </tr>\n",
       "    <tr>\n",
       "      <th>146</th>\n",
       "      <td>47-virginica</td>\n",
       "      <td>6.3</td>\n",
       "      <td>2.5</td>\n",
       "      <td>5.0</td>\n",
       "      <td>1.9</td>\n",
       "      <td>Iris-virginica</td>\n",
       "    </tr>\n",
       "    <tr>\n",
       "      <th>147</th>\n",
       "      <td>48-virginica</td>\n",
       "      <td>6.5</td>\n",
       "      <td>3.0</td>\n",
       "      <td>5.2</td>\n",
       "      <td>2.0</td>\n",
       "      <td>Iris-virginica</td>\n",
       "    </tr>\n",
       "    <tr>\n",
       "      <th>148</th>\n",
       "      <td>49-virginica</td>\n",
       "      <td>6.2</td>\n",
       "      <td>3.4</td>\n",
       "      <td>5.4</td>\n",
       "      <td>2.3</td>\n",
       "      <td>Iris-virginica</td>\n",
       "    </tr>\n",
       "    <tr>\n",
       "      <th>149</th>\n",
       "      <td>50-virginica</td>\n",
       "      <td>5.9</td>\n",
       "      <td>3.0</td>\n",
       "      <td>5.1</td>\n",
       "      <td>1.8</td>\n",
       "      <td>Iris-virginica</td>\n",
       "    </tr>\n",
       "  </tbody>\n",
       "</table>\n",
       "<p>150 rows × 6 columns</p>\n",
       "</div>"
      ],
      "text/plain": [
       "               Id  SepalLengthCm  SepalWidthCm  PetalLengthCm  PetalWidthCm  \\\n",
       "0        1-setosa            5.1           3.5            1.4           0.2   \n",
       "1        2-setosa            4.9           3.0            1.4           0.2   \n",
       "2        3-setosa            4.7           3.2            1.3           0.2   \n",
       "3        4-setosa            4.6           3.1            1.5           0.2   \n",
       "4        5-setosa            5.0           3.6            1.4           0.2   \n",
       "..            ...            ...           ...            ...           ...   \n",
       "145  46-virginica            6.7           3.0            5.2           2.3   \n",
       "146  47-virginica            6.3           2.5            5.0           1.9   \n",
       "147  48-virginica            6.5           3.0            5.2           2.0   \n",
       "148  49-virginica            6.2           3.4            5.4           2.3   \n",
       "149  50-virginica            5.9           3.0            5.1           1.8   \n",
       "\n",
       "            Species  \n",
       "0       Iris-setosa  \n",
       "1       Iris-setosa  \n",
       "2       Iris-setosa  \n",
       "3       Iris-setosa  \n",
       "4       Iris-setosa  \n",
       "..              ...  \n",
       "145  Iris-virginica  \n",
       "146  Iris-virginica  \n",
       "147  Iris-virginica  \n",
       "148  Iris-virginica  \n",
       "149  Iris-virginica  \n",
       "\n",
       "[150 rows x 6 columns]"
      ]
     },
     "execution_count": 6,
     "metadata": {},
     "output_type": "execute_result"
    }
   ],
   "source": [
    "# FIXME - change the value 'species' to match the 'y' value of your dataset\n",
    "# This function will give your dataframe an 'id' column which will be used to identify the samples in the dataset\n",
    "df = add_id_column(df, 'Species')\n",
    "df"
   ]
  },
  {
   "cell_type": "code",
   "execution_count": 7,
   "metadata": {},
   "outputs": [],
   "source": [
    "# FIXME - Perform any data cleaning or preprocessing steps here"
   ]
  },
  {
   "cell_type": "code",
   "execution_count": 8,
   "metadata": {},
   "outputs": [
    {
     "name": "stdout",
     "output_type": "stream",
     "text": [
      "x (150, 4)\n",
      "Y (150,)\n",
      "This value should be True: True\n"
     ]
    }
   ],
   "source": [
    "# FIXME - get the correct values in x and Y for your dataset\n",
    "x = df.drop(['Species', 'Id'], axis=1)\n",
    "Y = df['Species']\n",
    "print(f\"x {x.shape}\")\n",
    "print(f\"Y {Y.shape}\")\n",
    "print(f\"This value should be True: {x.shape[0] == Y.shape[0]}\")"
   ]
  },
  {
   "attachments": {},
   "cell_type": "markdown",
   "metadata": {},
   "source": [
    "## Image Generation"
   ]
  },
  {
   "cell_type": "code",
   "execution_count": 23,
   "metadata": {},
   "outputs": [
    {
     "name": "stdout",
     "output_type": "stream",
     "text": [
      "[0, 0, 0, 0]\n"
     ]
    }
   ],
   "source": [
    "# FIXME - update the image directory to point to a directory where you want the images to be saved. Create a folder there.\n",
    "# Change any other constants you want to change\n",
    "image_directory = \"/mnt/sda1/image-results-iris\"\n",
    "feature_types = get_column_data_types(x)\n",
    "precision = 64\n",
    "one = 128\n",
    "zero = 0\n",
    "n_jobs = -1\n",
    "# For feature_types, 0 = float, 1 = int, 2 = bool\n",
    "print(feature_types)"
   ]
  },
  {
   "cell_type": "code",
   "execution_count": 24,
   "metadata": {},
   "outputs": [],
   "source": [
    "convert_samples_to_binary(x, df[\"Id\"], image_directory, precision, one, zero, n_jobs, feature_types)"
   ]
  },
  {
   "attachments": {},
   "cell_type": "markdown",
   "metadata": {},
   "source": [
    "## Place Folders into the Correct Categories"
   ]
  },
  {
   "cell_type": "code",
   "execution_count": 25,
   "metadata": {},
   "outputs": [],
   "source": [
    "dirs = Y.unique().tolist()\n",
    "if not os.path.exists(image_directory + '/data'):\n",
    "    os.mkdir(image_directory + '/data')\n",
    "new_dir = image_directory + '/data/'\n",
    "if not os.path.exists(new_dir+'Train/'):\n",
    "    os.mkdir(new_dir+'Train/')\n",
    "for i in dirs:\n",
    "    i = str(i).split('-')[1]\n",
    "    if not os.path.exists(new_dir+'Train/'+i):\n",
    "        os.mkdir(new_dir+'Train/'+i)"
   ]
  },
  {
   "attachments": {},
   "cell_type": "markdown",
   "metadata": {},
   "source": [
    "### Place pictures into the correct folder"
   ]
  },
  {
   "cell_type": "code",
   "execution_count": 26,
   "metadata": {},
   "outputs": [
    {
     "name": "stdout",
     "output_type": "stream",
     "text": [
      "150\n",
      "{'setosa': 50, 'versicolor': 50, 'virginica': 50}\n"
     ]
    }
   ],
   "source": [
    "total_images = 0\n",
    "type_counts = {value.split(\"-\")[1]: 0 for value in dirs}\n",
    "for file in os.listdir(image_directory):\n",
    "    try:\n",
    "        dir = file.split(\"-\")[1].split(\".\")[0]\n",
    "    except:\n",
    "        continue\n",
    "    type_counts[dir]+=1\n",
    "    shutil.move(f\"{image_directory}/{file}\", f\"{new_dir}Train/{dir}/{file}\")\n",
    "    total_images += 1\n",
    "print(total_images)\n",
    "print(type_counts)"
   ]
  },
  {
   "attachments": {},
   "cell_type": "markdown",
   "metadata": {},
   "source": [
    "## Train ResNet50"
   ]
  },
  {
   "attachments": {},
   "cell_type": "markdown",
   "metadata": {},
   "source": [
    "### Once experiments are running, view the live updates on TensorBoard\n",
    "Run the command `tensorboard --logdir=[your log directory]` in the terminal. \n",
    "<br />\n",
    "<br />\n",
    "Then, open a browser and navigate to `localhost:6006`.\n",
    "<br />\n",
    "<br />\n",
    "![TensorBoard](./tensorboard.png)"
   ]
  },
  {
   "cell_type": "code",
   "execution_count": 1,
   "metadata": {},
   "outputs": [
    {
     "name": "stderr",
     "output_type": "stream",
     "text": [
      "2023-03-05 16:24:22.338115: I tensorflow/stream_executor/platform/default/dso_loader.cc:49] Successfully opened dynamic library libcudart.so.10.1\n"
     ]
    }
   ],
   "source": [
    "from resnet import print_dl_versions, train_resnet_model_k_fold, evaluate_on_test_data, plot_metrics"
   ]
  },
  {
   "cell_type": "code",
   "execution_count": 4,
   "metadata": {},
   "outputs": [],
   "source": [
    "# FIXME - update the values below to match your dataset\n",
    "img_size = 64\n",
    "target_size = (img_size,img_size)\n",
    "# Number of classification types\n",
    "num_classes = 3\n",
    "# Number of samples to run through the model before updating the weights\n",
    "# Higher batch size means more memory is required and training will be faster. Maybe use 64 for larger datasets\n",
    "batch_size = 32\n",
    "# Number of times to run through the entire dataset\n",
    "# Depending on the size of your dataset, you may want to increase/decrease this number\n",
    "num_folds = 5\n",
    "number_of_epochs = 100"
   ]
  },
  {
   "cell_type": "code",
   "execution_count": null,
   "metadata": {},
   "outputs": [],
   "source": [
    "average_history, best_model = train_resnet_model_k_fold(num_classes, img_size, f\"{new_dir}/Train/\", number_of_epochs, f\"{image_directory}/results/\", num_folds, batch_size)"
   ]
  },
  {
   "cell_type": "code",
   "execution_count": 5,
   "metadata": {},
   "outputs": [
    {
     "name": "stdout",
     "output_type": "stream",
     "text": [
      "Average metrics over k folds\n",
      "{'loss': 0.04664125961717218, 'acc': 0.9816666603088379, 'f1_m': 0.9817708253860473, 'precision_m': 0.9817708373069763, 'recall_m': 0.9817708373069763, 'auc': 0.9979861378669739, 'false_negatives': 4.0, 'false_positives': 4.0, 'true_negatives': 236.0, 'true_positives': 116.0, 'mean_absolute_error': 0.023830056213773786, 'mean_squared_error': 0.008538454546578578, 'val_loss': 0.6148764431476593, 'val_acc': 0.8466666579246521, 'val_f1_m': 0.8466666102409363, 'val_precision_m': 0.8466666579246521, 'val_recall_m': 0.8466666579246521, 'val_auc': 0.9733332395553589, 'val_false_negatives': 4.0, 'val_false_positives': 4.0, 'val_true_negatives': 56.0, 'val_true_positives': 26.0, 'val_mean_absolute_error': 0.10374443978071213, 'val_mean_squared_error': 0.07977678775787353, 'lr': 0.00030539997883352046}\n"
     ]
    }
   ],
   "source": [
    "print(\"Average metrics over k folds\")\n",
    "print(average_history)"
   ]
  },
  {
   "cell_type": "code",
   "execution_count": 6,
   "metadata": {},
   "outputs": [
    {
     "name": "stdout",
     "output_type": "stream",
     "text": [
      "Best model metrics\n",
      "{'loss': 0.0028186142444610596, 'acc': 1.0, 'f1_m': 1.0, 'precision_m': 1.0, 'recall_m': 1.0, 'auc_3': 0.9999999403953552, 'false_negatives_3': 0.0, 'false_positives_3': 0.0, 'true_negatives_3': 240.0, 'true_positives_3': 120.0, 'mean_absolute_error': 0.0017979273106902838, 'mean_squared_error': 0.0001470522693125531, 'val_loss': 0.6610658168792725, 'val_acc': 0.8999999761581421, 'val_f1_m': 0.8999999165534973, 'val_precision_m': 0.8999999761581421, 'val_recall_m': 0.8999999761581421, 'val_auc_3': 0.9422222375869751, 'val_false_negatives_3': 3.0, 'val_false_positives_3': 3.0, 'val_true_negatives_3': 57.0, 'val_true_positives_3': 27.0, 'val_mean_absolute_error': 0.07801878452301025, 'val_mean_squared_error': 0.06345812976360321, 'lr': 0.00049999997}\n"
     ]
    }
   ],
   "source": [
    "print(\"Best model metrics\")\n",
    "print({key: best_model.history[key][-1] for key in best_model.history.keys()})"
   ]
  },
  {
   "cell_type": "code",
   "execution_count": 7,
   "metadata": {},
   "outputs": [
    {
     "data": {
      "image/png": "[encoded data removed]",
      "text/plain": [
       "<Figure size 1200x400 with 3 Axes>"
      ]
     },
     "metadata": {},
     "output_type": "display_data"
    }
   ],
   "source": [
    "plot_metrics(best_model.history)"
   ]
  },
  {
   "attachments": {},
   "cell_type": "markdown",
   "metadata": {},
   "source": [
    "# Correlated Binary Encoding"
   ]
  },
  {
   "cell_type": "code",
   "execution_count": 45,
   "metadata": {},
   "outputs": [
    {
     "name": "stdout",
     "output_type": "stream",
     "text": [
      "ordering columns by correlation: Species, 6, ['Iris-setosa' 'Iris-versicolor' 'Iris-virginica']\n"
     ]
    }
   ],
   "source": [
    "correlated_order = order_columns_by_correlation(df, 'Species', True)"
   ]
  },
  {
   "cell_type": "code",
   "execution_count": 46,
   "metadata": {},
   "outputs": [],
   "source": [
    "correlated_df = df.reindex(columns=correlated_order)"
   ]
  },
  {
   "cell_type": "code",
   "execution_count": 48,
   "metadata": {},
   "outputs": [
    {
     "name": "stdout",
     "output_type": "stream",
     "text": [
      "x (150, 4)\n",
      "Y (150,)\n",
      "This value should be True: True\n"
     ]
    }
   ],
   "source": [
    "x = correlated_df.drop(['Species', 'Id'], axis=1)\n",
    "Y = correlated_df['Species']\n",
    "print(f\"x {x.shape}\")\n",
    "print(f\"Y {Y.shape}\")\n",
    "print(f\"This value should be True: {x.shape[0] == Y.shape[0]}\")"
   ]
  },
  {
   "cell_type": "code",
   "execution_count": 49,
   "metadata": {},
   "outputs": [
    {
     "name": "stdout",
     "output_type": "stream",
     "text": [
      "[0, 0, 0, 0]\n"
     ]
    }
   ],
   "source": [
    "# FIXME - update the image directory to point to a directory where you want the images to be saved. Create a folder there.\n",
    "# Change any other constants you want to change\n",
    "image_directory = \"/mnt/sda1/image-results-iris-correlated\"\n",
    "feature_types = get_column_data_types(x)\n",
    "precision = 64\n",
    "one = 128\n",
    "zero = 0\n",
    "n_jobs = -1\n",
    "# For feature_types, 0 = float, 1 = int, 2 = bool\n",
    "print(feature_types)"
   ]
  },
  {
   "cell_type": "code",
   "execution_count": 51,
   "metadata": {},
   "outputs": [],
   "source": [
    "convert_samples_to_binary(x, correlated_df[\"Id\"], image_directory, precision, one, zero, n_jobs, feature_types)"
   ]
  },
  {
   "cell_type": "code",
   "execution_count": 52,
   "metadata": {},
   "outputs": [],
   "source": [
    "dirs = Y.unique().tolist()\n",
    "if not os.path.exists(image_directory + '/data'):\n",
    "    os.mkdir(image_directory + '/data')\n",
    "new_dir = image_directory + '/data/'\n",
    "if not os.path.exists(new_dir+'Train/'):\n",
    "    os.mkdir(new_dir+'Train/')\n",
    "for i in dirs:\n",
    "    i = str(i).split('-')[1]\n",
    "    if not os.path.exists(new_dir+'Train/'+i):\n",
    "        os.mkdir(new_dir+'Train/'+i)"
   ]
  },
  {
   "cell_type": "code",
   "execution_count": 53,
   "metadata": {},
   "outputs": [
    {
     "name": "stdout",
     "output_type": "stream",
     "text": [
      "150\n",
      "{'setosa': 50, 'versicolor': 50, 'virginica': 50}\n"
     ]
    }
   ],
   "source": [
    "total_images = 0\n",
    "type_counts = {value.split(\"-\")[1]: 0 for value in dirs}\n",
    "for file in os.listdir(image_directory):\n",
    "    try:\n",
    "        dir = file.split(\"-\")[1].split(\".\")[0]\n",
    "    except:\n",
    "        continue\n",
    "    type_counts[dir]+=1\n",
    "    shutil.move(f\"{image_directory}/{file}\", f\"{new_dir}Train/{dir}/{file}\")\n",
    "    total_images += 1\n",
    "print(total_images)\n",
    "print(type_counts)"
   ]
  },
  {
   "cell_type": "code",
   "execution_count": 2,
   "metadata": {},
   "outputs": [],
   "source": [
    "image_directory = \"/mnt/sda1/image-results-iris-correlated\"\n",
    "new_dir = image_directory + '/data/'"
   ]
  },
  {
   "cell_type": "code",
   "execution_count": 5,
   "metadata": {},
   "outputs": [
    {
     "name": "stderr",
     "output_type": "stream",
     "text": [
      "2023-03-05 16:25:25.065723: I tensorflow/compiler/jit/xla_cpu_device.cc:41] Not creating XLA devices, tf_xla_enable_xla_devices not set\n",
      "2023-03-05 16:25:25.068797: I tensorflow/stream_executor/platform/default/dso_loader.cc:49] Successfully opened dynamic library libcuda.so.1\n",
      "2023-03-05 16:25:25.099219: I tensorflow/stream_executor/cuda/cuda_gpu_executor.cc:941] successful NUMA node read from SysFS had negative value (-1), but there must be at least one NUMA node, so returning NUMA node zero\n",
      "2023-03-05 16:25:25.099499: I tensorflow/core/common_runtime/gpu/gpu_device.cc:1720] Found device 0 with properties: \n",
      "pciBusID: 0000:01:00.0 name: NVIDIA GeForce GTX 1080 computeCapability: 6.1\n",
      "coreClock: 1.7715GHz coreCount: 20 deviceMemorySize: 7.92GiB deviceMemoryBandwidth: 298.32GiB/s\n",
      "2023-03-05 16:25:25.099518: I tensorflow/stream_executor/platform/default/dso_loader.cc:49] Successfully opened dynamic library libcudart.so.10.1\n",
      "2023-03-05 16:25:25.102260: I tensorflow/stream_executor/platform/default/dso_loader.cc:49] Successfully opened dynamic library libcublas.so.10\n",
      "2023-03-05 16:25:25.102291: I tensorflow/stream_executor/platform/default/dso_loader.cc:49] Successfully opened dynamic library libcublasLt.so.10\n",
      "2023-03-05 16:25:25.103968: I tensorflow/stream_executor/platform/default/dso_loader.cc:49] Successfully opened dynamic library libcufft.so.10\n",
      "2023-03-05 16:25:25.105417: I tensorflow/stream_executor/platform/default/dso_loader.cc:49] Successfully opened dynamic library libcurand.so.10\n",
      "2023-03-05 16:25:25.107918: I tensorflow/stream_executor/platform/default/dso_loader.cc:49] Successfully opened dynamic library libcusolver.so.10\n",
      "2023-03-05 16:25:25.109049: I tensorflow/stream_executor/platform/default/dso_loader.cc:49] Successfully opened dynamic library libcusparse.so.10\n",
      "2023-03-05 16:25:25.123497: I tensorflow/stream_executor/platform/default/dso_loader.cc:49] Successfully opened dynamic library libcudnn.so.7\n",
      "2023-03-05 16:25:25.123878: I tensorflow/stream_executor/cuda/cuda_gpu_executor.cc:941] successful NUMA node read from SysFS had negative value (-1), but there must be at least one NUMA node, so returning NUMA node zero\n",
      "2023-03-05 16:25:25.125083: I tensorflow/stream_executor/cuda/cuda_gpu_executor.cc:941] successful NUMA node read from SysFS had negative value (-1), but there must be at least one NUMA node, so returning NUMA node zero\n",
      "2023-03-05 16:25:25.126594: I tensorflow/core/common_runtime/gpu/gpu_device.cc:1862] Adding visible gpu devices: 0\n",
      "2023-03-05 16:25:25.128167: I tensorflow/core/platform/cpu_feature_guard.cc:142] This TensorFlow binary is optimized with oneAPI Deep Neural Network Library (oneDNN) to use the following CPU instructions in performance-critical operations:  SSE4.1 SSE4.2 AVX AVX2 FMA\n",
      "To enable them in other operations, rebuild TensorFlow with the appropriate compiler flags.\n",
      "2023-03-05 16:25:25.128984: I tensorflow/compiler/jit/xla_gpu_device.cc:99] Not creating XLA devices, tf_xla_enable_xla_devices not set\n",
      "2023-03-05 16:25:25.129259: I tensorflow/stream_executor/cuda/cuda_gpu_executor.cc:941] successful NUMA node read from SysFS had negative value (-1), but there must be at least one NUMA node, so returning NUMA node zero\n",
      "2023-03-05 16:25:25.131804: I tensorflow/core/common_runtime/gpu/gpu_device.cc:1720] Found device 0 with properties: \n",
      "pciBusID: 0000:01:00.0 name: NVIDIA GeForce GTX 1080 computeCapability: 6.1\n",
      "coreClock: 1.7715GHz coreCount: 20 deviceMemorySize: 7.92GiB deviceMemoryBandwidth: 298.32GiB/s\n",
      "2023-03-05 16:25:25.131864: I tensorflow/stream_executor/platform/default/dso_loader.cc:49] Successfully opened dynamic library libcudart.so.10.1\n",
      "2023-03-05 16:25:25.131913: I tensorflow/stream_executor/platform/default/dso_loader.cc:49] Successfully opened dynamic library libcublas.so.10\n",
      "2023-03-05 16:25:25.131963: I tensorflow/stream_executor/platform/default/dso_loader.cc:49] Successfully opened dynamic library libcublasLt.so.10\n",
      "2023-03-05 16:25:25.131992: I tensorflow/stream_executor/platform/default/dso_loader.cc:49] Successfully opened dynamic library libcufft.so.10\n",
      "2023-03-05 16:25:25.132020: I tensorflow/stream_executor/platform/default/dso_loader.cc:49] Successfully opened dynamic library libcurand.so.10\n",
      "2023-03-05 16:25:25.132047: I tensorflow/stream_executor/platform/default/dso_loader.cc:49] Successfully opened dynamic library libcusolver.so.10\n",
      "2023-03-05 16:25:25.132074: I tensorflow/stream_executor/platform/default/dso_loader.cc:49] Successfully opened dynamic library libcusparse.so.10\n",
      "2023-03-05 16:25:25.132102: I tensorflow/stream_executor/platform/default/dso_loader.cc:49] Successfully opened dynamic library libcudnn.so.7\n",
      "2023-03-05 16:25:25.132235: I tensorflow/stream_executor/cuda/cuda_gpu_executor.cc:941] successful NUMA node read from SysFS had negative value (-1), but there must be at least one NUMA node, so returning NUMA node zero\n",
      "2023-03-05 16:25:25.132890: I tensorflow/stream_executor/cuda/cuda_gpu_executor.cc:941] successful NUMA node read from SysFS had negative value (-1), but there must be at least one NUMA node, so returning NUMA node zero\n",
      "2023-03-05 16:25:25.133399: I tensorflow/core/common_runtime/gpu/gpu_device.cc:1862] Adding visible gpu devices: 0\n",
      "2023-03-05 16:25:25.133474: I tensorflow/stream_executor/platform/default/dso_loader.cc:49] Successfully opened dynamic library libcudart.so.10.1\n",
      "2023-03-05 16:25:25.535073: I tensorflow/core/common_runtime/gpu/gpu_device.cc:1261] Device interconnect StreamExecutor with strength 1 edge matrix:\n",
      "2023-03-05 16:25:25.535097: I tensorflow/core/common_runtime/gpu/gpu_device.cc:1267]      0 \n",
      "2023-03-05 16:25:25.535103: I tensorflow/core/common_runtime/gpu/gpu_device.cc:1280] 0:   N \n",
      "2023-03-05 16:25:25.535279: I tensorflow/stream_executor/cuda/cuda_gpu_executor.cc:941] successful NUMA node read from SysFS had negative value (-1), but there must be at least one NUMA node, so returning NUMA node zero\n",
      "2023-03-05 16:25:25.535596: I tensorflow/stream_executor/cuda/cuda_gpu_executor.cc:941] successful NUMA node read from SysFS had negative value (-1), but there must be at least one NUMA node, so returning NUMA node zero\n",
      "2023-03-05 16:25:25.535865: I tensorflow/stream_executor/cuda/cuda_gpu_executor.cc:941] successful NUMA node read from SysFS had negative value (-1), but there must be at least one NUMA node, so returning NUMA node zero\n",
      "2023-03-05 16:25:25.536112: I tensorflow/core/common_runtime/gpu/gpu_device.cc:1406] Created TensorFlow device (/job:localhost/replica:0/task:0/device:GPU:0 with 6827 MB memory) -> physical GPU (device: 0, name: NVIDIA GeForce GTX 1080, pci bus id: 0000:01:00.0, compute capability: 6.1)\n"
     ]
    },
    {
     "name": "stdout",
     "output_type": "stream",
     "text": [
      "Fold:  0\n",
      "Found 120 images belonging to 3 classes.\n",
      "Found 30 images belonging to 3 classes.\n"
     ]
    },
    {
     "name": "stderr",
     "output_type": "stream",
     "text": [
      "2023-03-05 16:25:26.518525: I tensorflow/core/profiler/lib/profiler_session.cc:136] Profiler session initializing.\n",
      "2023-03-05 16:25:26.518550: I tensorflow/core/profiler/lib/profiler_session.cc:155] Profiler session started.\n",
      "2023-03-05 16:25:26.518571: I tensorflow/core/profiler/internal/gpu/cupti_tracer.cc:1365] Profiler found 1 GPUs\n",
      "2023-03-05 16:25:26.520358: I tensorflow/stream_executor/platform/default/dso_loader.cc:49] Successfully opened dynamic library libcupti.so.10.1\n",
      "2023-03-05 16:25:26.588912: I tensorflow/core/profiler/lib/profiler_session.cc:172] Profiler session tear down.\n",
      "2023-03-05 16:25:26.588985: I tensorflow/core/profiler/internal/gpu/cupti_tracer.cc:1487] CUPTI activity buffer flushed\n",
      "2023-03-05 16:25:26.751231: I tensorflow/compiler/mlir/mlir_graph_optimization_pass.cc:116] None of the MLIR optimization passes are enabled (registered 2)\n",
      "2023-03-05 16:25:26.768009: I tensorflow/core/platform/profile_utils/cpu_utils.cc:112] CPU Frequency: 4200000000 Hz\n"
     ]
    },
    {
     "name": "stdout",
     "output_type": "stream",
     "text": [
      "Epoch 1/100\n"
     ]
    },
    {
     "name": "stderr",
     "output_type": "stream",
     "text": [
      "2023-03-05 16:25:30.617784: I tensorflow/stream_executor/platform/default/dso_loader.cc:49] Successfully opened dynamic library libcublas.so.10\n",
      "2023-03-05 16:25:30.768697: I tensorflow/stream_executor/platform/default/dso_loader.cc:49] Successfully opened dynamic library libcudnn.so.7\n",
      "2023-03-05 16:25:31.365906: W tensorflow/stream_executor/gpu/asm_compiler.cc:63] Running ptxas --version returned 256\n",
      "2023-03-05 16:25:31.405788: W tensorflow/stream_executor/gpu/redzone_allocator.cc:314] Internal: ptxas exited with non-zero error code 256, output: \n",
      "Relying on driver to perform ptx compilation. \n",
      "Modify $PATH to customize ptxas location.\n",
      "This message will be only logged once.\n"
     ]
    },
    {
     "name": "stdout",
     "output_type": "stream",
     "text": [
      "2/4 [==============>...............] - ETA: 0s - loss: 1.6698 - acc: 0.2578 - f1_m: 0.2143 - precision_m: 0.2500 - recall_m: 0.1875 - auc: 0.4621 - false_negatives: 38.5000 - false_positives: 26.5000 - true_negatives: 69.5000 - true_positives: 9.5000 - mean_absolute_error: 0.4569 - mean_squared_error: 0.3085  "
     ]
    },
    {
     "name": "stderr",
     "output_type": "stream",
     "text": [
      "2023-03-05 16:26:01.176316: I tensorflow/core/profiler/lib/profiler_session.cc:136] Profiler session initializing.\n",
      "2023-03-05 16:26:01.176370: I tensorflow/core/profiler/lib/profiler_session.cc:155] Profiler session started.\n",
      "2023-03-05 16:26:01.235309: I tensorflow/core/profiler/lib/profiler_session.cc:71] Profiler session collecting data.\n",
      "2023-03-05 16:26:01.236795: I tensorflow/core/profiler/internal/gpu/cupti_tracer.cc:1487] CUPTI activity buffer flushed\n",
      "2023-03-05 16:26:01.244706: I tensorflow/core/profiler/internal/gpu/cupti_collector.cc:228]  GpuTracer has collected 1740 callback api events and 1688 activity events. \n",
      "2023-03-05 16:26:01.270471: I tensorflow/core/profiler/lib/profiler_session.cc:172] Profiler session tear down.\n",
      "2023-03-05 16:26:01.300781: I tensorflow/core/profiler/rpc/client/save_profile.cc:137] Creating directory: /mnt/sda1/image-results-iris-correlated/results/tb_logs/train/plugins/profile/2023_03_05_16_26_01\n",
      "2023-03-05 16:26:01.322710: I tensorflow/core/profiler/rpc/client/save_profile.cc:143] Dumped gzipped tool data for trace.json.gz to /mnt/sda1/image-results-iris-correlated/results/tb_logs/train/plugins/profile/2023_03_05_16_26_01/drake-pc.trace.json.gz\n",
      "2023-03-05 16:26:01.375947: I tensorflow/core/profiler/rpc/client/save_profile.cc:137] Creating directory: /mnt/sda1/image-results-iris-correlated/results/tb_logs/train/plugins/profile/2023_03_05_16_26_01\n",
      "2023-03-05 16:26:01.380918: I tensorflow/core/profiler/rpc/client/save_profile.cc:143] Dumped gzipped tool data for memory_profile.json.gz to /mnt/sda1/image-results-iris-correlated/results/tb_logs/train/plugins/profile/2023_03_05_16_26_01/drake-pc.memory_profile.json.gz\n",
      "2023-03-05 16:26:01.383105: I tensorflow/core/profiler/rpc/client/capture_profile.cc:251] Creating directory: /mnt/sda1/image-results-iris-correlated/results/tb_logs/train/plugins/profile/2023_03_05_16_26_01Dumped tool data for xplane.pb to /mnt/sda1/image-results-iris-correlated/results/tb_logs/train/plugins/profile/2023_03_05_16_26_01/drake-pc.xplane.pb\n",
      "Dumped tool data for overview_page.pb to /mnt/sda1/image-results-iris-correlated/results/tb_logs/train/plugins/profile/2023_03_05_16_26_01/drake-pc.overview_page.pb\n",
      "Dumped tool data for input_pipeline.pb to /mnt/sda1/image-results-iris-correlated/results/tb_logs/train/plugins/profile/2023_03_05_16_26_01/drake-pc.input_pipeline.pb\n",
      "Dumped tool data for tensorflow_stats.pb to /mnt/sda1/image-results-iris-correlated/results/tb_logs/train/plugins/profile/2023_03_05_16_26_01/drake-pc.tensorflow_stats.pb\n",
      "Dumped tool data for kernel_stats.pb to /mnt/sda1/image-results-iris-correlated/results/tb_logs/train/plugins/profile/2023_03_05_16_26_01/drake-pc.kernel_stats.pb\n",
      "\n"
     ]
    },
    {
     "name": "stdout",
     "output_type": "stream",
     "text": [
      "4/4 [==============================] - 77s 14s/step - loss: 1.4790 - acc: 0.3615 - f1_m: 0.3278 - precision_m: 0.3858 - recall_m: 0.2851 - auc: 0.5510 - false_negatives: 58.8000 - false_positives: 36.8000 - true_negatives: 132.8000 - true_positives: 26.0000 - mean_absolute_error: 0.4202 - mean_squared_error: 0.2754 - val_loss: 3.9833 - val_acc: 0.4333 - val_f1_m: 0.4333 - val_precision_m: 0.4333 - val_recall_m: 0.4333 - val_auc: 0.5756 - val_false_negatives: 17.0000 - val_false_positives: 17.0000 - val_true_negatives: 43.0000 - val_true_positives: 13.0000 - val_mean_absolute_error: 0.3839 - val_mean_squared_error: 0.3144\n",
      "\n",
      "Epoch 00001: val_acc improved from -inf to 0.43333, saving model to /mnt/sda1/image-results-iris-correlated/results/fold0-resnet50v2-saved-model-01-val_acc-0.43.hdf5\n",
      "Epoch 2/100\n",
      "4/4 [==============================] - 0s 77ms/step - loss: 0.8299 - acc: 0.6798 - f1_m: 0.6133 - precision_m: 0.6821 - recall_m: 0.5590 - auc: 0.8205 - false_negatives: 35.0000 - false_positives: 19.6000 - true_negatives: 146.8000 - true_positives: 48.2000 - mean_absolute_error: 0.2921 - mean_squared_error: 0.1567 - val_loss: 2.6379 - val_acc: 0.4000 - val_f1_m: 0.3860 - val_precision_m: 0.4074 - val_recall_m: 0.3667 - val_auc: 0.5778 - val_false_negatives: 19.0000 - val_false_positives: 16.0000 - val_true_negatives: 44.0000 - val_true_positives: 11.0000 - val_mean_absolute_error: 0.4182 - val_mean_squared_error: 0.2986\n",
      "\n",
      "Epoch 00002: val_acc did not improve from 0.43333\n",
      "Epoch 3/100\n",
      "4/4 [==============================] - 0s 70ms/step - loss: 0.3888 - acc: 0.8296 - f1_m: 0.8258 - precision_m: 0.8310 - recall_m: 0.8208 - auc: 0.9557 - false_negatives: 16.4000 - false_positives: 15.2000 - true_negatives: 157.6000 - true_positives: 70.0000 - mean_absolute_error: 0.1475 - mean_squared_error: 0.0738 - val_loss: 2.4714 - val_acc: 0.4333 - val_f1_m: 0.3793 - val_precision_m: 0.3929 - val_recall_m: 0.3667 - val_auc: 0.5803 - val_false_negatives: 19.0000 - val_false_positives: 17.0000 - val_true_negatives: 43.0000 - val_true_positives: 11.0000 - val_mean_absolute_error: 0.4025 - val_mean_squared_error: 0.3183\n",
      "\n",
      "Epoch 00003: val_acc did not improve from 0.43333\n",
      "Epoch 4/100\n",
      "4/4 [==============================] - 0s 68ms/step - loss: 0.2306 - acc: 0.9280 - f1_m: 0.9302 - precision_m: 0.9414 - recall_m: 0.9194 - auc: 0.9826 - false_negatives: 7.2000 - false_positives: 5.4000 - true_negatives: 164.2000 - true_positives: 77.6000 - mean_absolute_error: 0.0791 - mean_squared_error: 0.0398 - val_loss: 1.8117 - val_acc: 0.6667 - val_f1_m: 0.6667 - val_precision_m: 0.6667 - val_recall_m: 0.6667 - val_auc: 0.7753 - val_false_negatives: 10.0000 - val_false_positives: 10.0000 - val_true_negatives: 50.0000 - val_true_positives: 20.0000 - val_mean_absolute_error: 0.2495 - val_mean_squared_error: 0.2044\n",
      "\n",
      "Epoch 00004: val_acc improved from 0.43333 to 0.66667, saving model to /mnt/sda1/image-results-iris-correlated/results/fold0-resnet50v2-saved-model-04-val_acc-0.67.hdf5\n",
      "Epoch 5/100\n",
      "4/4 [==============================] - 0s 78ms/step - loss: 0.0962 - acc: 0.9729 - f1_m: 0.9775 - precision_m: 0.9800 - recall_m: 0.9750 - auc: 0.9978 - false_negatives: 2.8000 - false_positives: 2.2000 - true_negatives: 161.0000 - true_positives: 78.8000 - mean_absolute_error: 0.0432 - mean_squared_error: 0.0155 - val_loss: 1.0901 - val_acc: 0.6333 - val_f1_m: 0.6441 - val_precision_m: 0.6552 - val_recall_m: 0.6333 - val_auc: 0.8517 - val_false_negatives: 11.0000 - val_false_positives: 10.0000 - val_true_negatives: 50.0000 - val_true_positives: 19.0000 - val_mean_absolute_error: 0.2246 - val_mean_squared_error: 0.1705\n",
      "\n",
      "Epoch 00005: val_acc did not improve from 0.66667\n",
      "Epoch 6/100\n",
      "4/4 [==============================] - 0s 70ms/step - loss: 0.0571 - acc: 0.9852 - f1_m: 0.9865 - precision_m: 0.9865 - recall_m: 0.9865 - auc: 0.9993 - false_negatives: 1.4000 - false_positives: 1.4000 - true_negatives: 161.8000 - true_positives: 80.2000 - mean_absolute_error: 0.0264 - mean_squared_error: 0.0096 - val_loss: 1.7854 - val_acc: 0.6333 - val_f1_m: 0.6333 - val_precision_m: 0.6333 - val_recall_m: 0.6333 - val_auc: 0.8289 - val_false_negatives: 11.0000 - val_false_positives: 11.0000 - val_true_negatives: 49.0000 - val_true_positives: 19.0000 - val_mean_absolute_error: 0.2345 - val_mean_squared_error: 0.2221\n",
      "\n",
      "Epoch 00006: val_acc did not improve from 0.66667\n",
      "Epoch 7/100\n",
      "4/4 [==============================] - 0s 79ms/step - loss: 0.0793 - acc: 0.9735 - f1_m: 0.9722 - precision_m: 0.9722 - recall_m: 0.9722 - auc: 0.9982 - false_negatives: 2.0000 - false_positives: 2.0000 - true_negatives: 161.2000 - true_positives: 79.6000 - mean_absolute_error: 0.0311 - mean_squared_error: 0.0163 - val_loss: 1.9166 - val_acc: 0.6333 - val_f1_m: 0.6333 - val_precision_m: 0.6333 - val_recall_m: 0.6333 - val_auc: 0.8069 - val_false_negatives: 11.0000 - val_false_positives: 11.0000 - val_true_negatives: 49.0000 - val_true_positives: 19.0000 - val_mean_absolute_error: 0.2397 - val_mean_squared_error: 0.2264\n",
      "\n",
      "Epoch 00007: val_acc did not improve from 0.66667\n",
      "Epoch 8/100\n",
      "4/4 [==============================] - 0s 74ms/step - loss: 0.0510 - acc: 0.9744 - f1_m: 0.9750 - precision_m: 0.9750 - recall_m: 0.9750 - auc: 0.9993 - false_negatives: 2.2000 - false_positives: 2.2000 - true_negatives: 170.6000 - true_positives: 84.2000 - mean_absolute_error: 0.0181 - mean_squared_error: 0.0105 - val_loss: 1.1066 - val_acc: 0.6333 - val_f1_m: 0.6333 - val_precision_m: 0.6333 - val_recall_m: 0.6333 - val_auc: 0.8931 - val_false_negatives: 11.0000 - val_false_positives: 11.0000 - val_true_negatives: 49.0000 - val_true_positives: 19.0000 - val_mean_absolute_error: 0.2236 - val_mean_squared_error: 0.1899\n",
      "\n",
      "Epoch 00008: val_acc did not improve from 0.66667\n",
      "Epoch 9/100\n",
      "4/4 [==============================] - 0s 88ms/step - loss: 0.0587 - acc: 0.9758 - f1_m: 0.9743 - precision_m: 0.9743 - recall_m: 0.9743 - auc: 0.9990 - false_negatives: 1.8000 - false_positives: 1.8000 - true_negatives: 161.4000 - true_positives: 79.8000 - mean_absolute_error: 0.0209 - mean_squared_error: 0.0117 - val_loss: 1.1510 - val_acc: 0.6333 - val_f1_m: 0.6333 - val_precision_m: 0.6333 - val_recall_m: 0.6333 - val_auc: 0.8722 - val_false_negatives: 11.0000 - val_false_positives: 11.0000 - val_true_negatives: 49.0000 - val_true_positives: 19.0000 - val_mean_absolute_error: 0.2289 - val_mean_squared_error: 0.1961\n",
      "\n",
      "Epoch 00009: val_acc did not improve from 0.66667\n",
      "Epoch 10/100\n",
      "4/4 [==============================] - 0s 73ms/step - loss: 0.0299 - acc: 0.9944 - f1_m: 0.9874 - precision_m: 0.9948 - recall_m: 0.9802 - auc: 0.9998 - false_negatives: 1.6000 - false_positives: 0.6000 - true_negatives: 165.8000 - true_positives: 81.6000 - mean_absolute_error: 0.0131 - mean_squared_error: 0.0063 - val_loss: 1.2932 - val_acc: 0.6667 - val_f1_m: 0.6667 - val_precision_m: 0.6667 - val_recall_m: 0.6667 - val_auc: 0.8367 - val_false_negatives: 10.0000 - val_false_positives: 10.0000 - val_true_negatives: 50.0000 - val_true_positives: 20.0000 - val_mean_absolute_error: 0.2302 - val_mean_squared_error: 0.1972\n",
      "\n",
      "Epoch 00010: val_acc did not improve from 0.66667\n",
      "Epoch 11/100\n",
      "4/4 [==============================] - 0s 70ms/step - loss: 0.0826 - acc: 0.9735 - f1_m: 0.9722 - precision_m: 0.9722 - recall_m: 0.9722 - auc: 0.9990 - false_negatives: 2.0000 - false_positives: 2.0000 - true_negatives: 161.2000 - true_positives: 79.6000 - mean_absolute_error: 0.0218 - mean_squared_error: 0.0159 - val_loss: 1.0962 - val_acc: 0.7000 - val_f1_m: 0.7000 - val_precision_m: 0.7000 - val_recall_m: 0.7000 - val_auc: 0.9133 - val_false_negatives: 9.0000 - val_false_positives: 9.0000 - val_true_negatives: 51.0000 - val_true_positives: 21.0000 - val_mean_absolute_error: 0.2080 - val_mean_squared_error: 0.1767\n",
      "\n",
      "Epoch 00011: val_acc improved from 0.66667 to 0.70000, saving model to /mnt/sda1/image-results-iris-correlated/results/fold0-resnet50v2-saved-model-11-val_acc-0.70.hdf5\n",
      "Epoch 12/100\n",
      "4/4 [==============================] - 0s 70ms/step - loss: 0.0706 - acc: 0.9879 - f1_m: 0.9865 - precision_m: 0.9865 - recall_m: 0.9865 - auc: 0.9962 - false_negatives: 1.4000 - false_positives: 1.4000 - true_negatives: 171.4000 - true_positives: 85.0000 - mean_absolute_error: 0.0160 - mean_squared_error: 0.0089 - val_loss: 1.0336 - val_acc: 0.7333 - val_f1_m: 0.7333 - val_precision_m: 0.7333 - val_recall_m: 0.7333 - val_auc: 0.9144 - val_false_negatives: 8.0000 - val_false_positives: 8.0000 - val_true_negatives: 52.0000 - val_true_positives: 22.0000 - val_mean_absolute_error: 0.1942 - val_mean_squared_error: 0.1675\n",
      "\n",
      "Epoch 00012: val_acc improved from 0.70000 to 0.73333, saving model to /mnt/sda1/image-results-iris-correlated/results/fold0-resnet50v2-saved-model-12-val_acc-0.73.hdf5\n",
      "Epoch 13/100\n",
      "4/4 [==============================] - 0s 73ms/step - loss: 0.0541 - acc: 0.9821 - f1_m: 0.9833 - precision_m: 0.9833 - recall_m: 0.9833 - auc: 0.9991 - false_negatives: 2.0000 - false_positives: 2.0000 - true_negatives: 164.4000 - true_positives: 81.2000 - mean_absolute_error: 0.0161 - mean_squared_error: 0.0093 - val_loss: 1.0299 - val_acc: 0.7333 - val_f1_m: 0.7333 - val_precision_m: 0.7333 - val_recall_m: 0.7333 - val_auc: 0.9167 - val_false_negatives: 8.0000 - val_false_positives: 8.0000 - val_true_negatives: 52.0000 - val_true_positives: 22.0000 - val_mean_absolute_error: 0.1879 - val_mean_squared_error: 0.1647\n",
      "\n",
      "Epoch 00013: val_acc did not improve from 0.73333\n",
      "Epoch 14/100\n",
      "4/4 [==============================] - 0s 70ms/step - loss: 0.1689 - acc: 0.9351 - f1_m: 0.9340 - precision_m: 0.9340 - recall_m: 0.9340 - auc: 0.9882 - false_negatives: 5.0000 - false_positives: 5.0000 - true_negatives: 164.6000 - true_positives: 79.8000 - mean_absolute_error: 0.0430 - mean_squared_error: 0.0272 - val_loss: 1.0066 - val_acc: 0.7333 - val_f1_m: 0.7333 - val_precision_m: 0.7333 - val_recall_m: 0.7333 - val_auc: 0.9172 - val_false_negatives: 8.0000 - val_false_positives: 8.0000 - val_true_negatives: 52.0000 - val_true_positives: 22.0000 - val_mean_absolute_error: 0.1838 - val_mean_squared_error: 0.1616\n",
      "\n",
      "Epoch 00014: val_acc did not improve from 0.73333\n",
      "Epoch 15/100\n",
      "4/4 [==============================] - 0s 71ms/step - loss: 0.1017 - acc: 0.9677 - f1_m: 0.9643 - precision_m: 0.9668 - recall_m: 0.9618 - auc: 0.9980 - false_negatives: 3.0000 - false_positives: 2.4000 - true_negatives: 160.8000 - true_positives: 78.6000 - mean_absolute_error: 0.0291 - mean_squared_error: 0.0193 - val_loss: 1.0165 - val_acc: 0.7333 - val_f1_m: 0.7333 - val_precision_m: 0.7333 - val_recall_m: 0.7333 - val_auc: 0.8944 - val_false_negatives: 8.0000 - val_false_positives: 8.0000 - val_true_negatives: 52.0000 - val_true_positives: 22.0000 - val_mean_absolute_error: 0.1825 - val_mean_squared_error: 0.1603\n",
      "\n",
      "Epoch 00015: val_acc did not improve from 0.73333\n",
      "Fold:  1\n",
      "Found 120 images belonging to 3 classes.\n",
      "Found 30 images belonging to 3 classes.\n"
     ]
    },
    {
     "name": "stderr",
     "output_type": "stream",
     "text": [
      "2023-03-05 16:26:50.812838: I tensorflow/core/profiler/lib/profiler_session.cc:136] Profiler session initializing.\n",
      "2023-03-05 16:26:50.812863: I tensorflow/core/profiler/lib/profiler_session.cc:155] Profiler session started.\n",
      "2023-03-05 16:26:50.813001: I tensorflow/core/profiler/lib/profiler_session.cc:172] Profiler session tear down.\n",
      "2023-03-05 16:26:50.813055: I tensorflow/core/profiler/internal/gpu/cupti_tracer.cc:1487] CUPTI activity buffer flushed\n"
     ]
    },
    {
     "name": "stdout",
     "output_type": "stream",
     "text": [
      "Epoch 1/100\n",
      "2/4 [==============>...............] - ETA: 0s - loss: 1.2612 - acc: 0.3363 - f1_m: 0.3176 - precision_m: 0.3949 - recall_m: 0.2656 - auc_1: 0.5547 - false_negatives_1: 29.0000 - false_positives_1: 16.0000 - true_negatives_1: 64.0000 - true_positives_1: 11.0000 - mean_absolute_error: 0.4213 - mean_squared_error: 0.2517"
     ]
    },
    {
     "name": "stderr",
     "output_type": "stream",
     "text": [
      "2023-03-05 16:26:55.082427: I tensorflow/core/profiler/lib/profiler_session.cc:136] Profiler session initializing.\n",
      "2023-03-05 16:26:55.082458: I tensorflow/core/profiler/lib/profiler_session.cc:155] Profiler session started.\n"
     ]
    },
    {
     "name": "stdout",
     "output_type": "stream",
     "text": [
      "4/4 [==============================] - ETA: 0s - loss: 1.2256 - acc: 0.3933 - f1_m: 0.3633 - precision_m: 0.4411 - recall_m: 0.3092 - auc_1: 0.6018 - false_negatives_1: 47.5000 - false_positives_1: 26.5000 - true_negatives_1: 117.5000 - true_positives_1: 24.5000 - mean_absolute_error: 0.4033 - mean_squared_error: 0.2386"
     ]
    },
    {
     "name": "stderr",
     "output_type": "stream",
     "text": [
      "2023-03-05 16:26:55.498613: I tensorflow/core/profiler/lib/profiler_session.cc:71] Profiler session collecting data.\n",
      "2023-03-05 16:26:55.502607: I tensorflow/core/profiler/internal/gpu/cupti_tracer.cc:1487] CUPTI activity buffer flushed\n",
      "2023-03-05 16:26:55.512794: I tensorflow/core/profiler/internal/gpu/cupti_collector.cc:228]  GpuTracer has collected 1740 callback api events and 1688 activity events. \n",
      "2023-03-05 16:26:55.549437: I tensorflow/core/profiler/lib/profiler_session.cc:172] Profiler session tear down.\n",
      "2023-03-05 16:26:55.583126: I tensorflow/core/profiler/rpc/client/save_profile.cc:137] Creating directory: /mnt/sda1/image-results-iris-correlated/results/tb_logs/train/plugins/profile/2023_03_05_16_26_55\n",
      "2023-03-05 16:26:55.604997: I tensorflow/core/profiler/rpc/client/save_profile.cc:143] Dumped gzipped tool data for trace.json.gz to /mnt/sda1/image-results-iris-correlated/results/tb_logs/train/plugins/profile/2023_03_05_16_26_55/drake-pc.trace.json.gz\n",
      "2023-03-05 16:26:55.671308: I tensorflow/core/profiler/rpc/client/save_profile.cc:137] Creating directory: /mnt/sda1/image-results-iris-correlated/results/tb_logs/train/plugins/profile/2023_03_05_16_26_55\n",
      "2023-03-05 16:26:55.677109: I tensorflow/core/profiler/rpc/client/save_profile.cc:143] Dumped gzipped tool data for memory_profile.json.gz to /mnt/sda1/image-results-iris-correlated/results/tb_logs/train/plugins/profile/2023_03_05_16_26_55/drake-pc.memory_profile.json.gz\n",
      "2023-03-05 16:26:55.680130: I tensorflow/core/profiler/rpc/client/capture_profile.cc:251] Creating directory: /mnt/sda1/image-results-iris-correlated/results/tb_logs/train/plugins/profile/2023_03_05_16_26_55Dumped tool data for xplane.pb to /mnt/sda1/image-results-iris-correlated/results/tb_logs/train/plugins/profile/2023_03_05_16_26_55/drake-pc.xplane.pb\n",
      "Dumped tool data for overview_page.pb to /mnt/sda1/image-results-iris-correlated/results/tb_logs/train/plugins/profile/2023_03_05_16_26_55/drake-pc.overview_page.pb\n",
      "Dumped tool data for input_pipeline.pb to /mnt/sda1/image-results-iris-correlated/results/tb_logs/train/plugins/profile/2023_03_05_16_26_55/drake-pc.input_pipeline.pb\n",
      "Dumped tool data for tensorflow_stats.pb to /mnt/sda1/image-results-iris-correlated/results/tb_logs/train/plugins/profile/2023_03_05_16_26_55/drake-pc.tensorflow_stats.pb\n",
      "Dumped tool data for kernel_stats.pb to /mnt/sda1/image-results-iris-correlated/results/tb_logs/train/plugins/profile/2023_03_05_16_26_55/drake-pc.kernel_stats.pb\n",
      "\n"
     ]
    },
    {
     "name": "stdout",
     "output_type": "stream",
     "text": [
      "4/4 [==============================] - 6s 622ms/step - loss: 1.2040 - acc: 0.4130 - f1_m: 0.3791 - precision_m: 0.4579 - recall_m: 0.3240 - auc_1: 0.6177 - false_negatives_1: 52.6000 - false_positives_1: 29.2000 - true_negatives_1: 134.0000 - true_positives_1: 29.0000 - mean_absolute_error: 0.3968 - mean_squared_error: 0.2334 - val_loss: 8.9258 - val_acc: 0.3333 - val_f1_m: 0.3333 - val_precision_m: 0.3333 - val_recall_m: 0.3333 - val_auc_1: 0.5169 - val_false_negatives_1: 20.0000 - val_false_positives_1: 20.0000 - val_true_negatives_1: 40.0000 - val_true_positives_1: 10.0000 - val_mean_absolute_error: 0.4419 - val_mean_squared_error: 0.4330\n",
      "\n",
      "Epoch 00001: val_acc improved from -inf to 0.33333, saving model to /mnt/sda1/image-results-iris-correlated/results/fold1-resnet50v2-saved-model-01-val_acc-0.33.hdf5\n",
      "Epoch 2/100\n",
      "3/4 [=====================>........] - ETA: 0s - loss: 0.7794 - acc: 0.7254 - f1_m: 0.7160 - precision_m: 0.7572 - recall_m: 0.6794 - auc_1: 0.8776 - false_negatives_1: 19.3333 - false_positives_1: 13.3333 - true_negatives_1: 109.3333 - true_positives_1: 42.0000 - mean_absolute_error: 0.2269 - mean_squared_error: 0.1303WARNING:tensorflow:Callback method `on_train_batch_end` is slow compared to the batch time (batch time: 0.0541s vs `on_train_batch_end` time: 0.0974s). Check your callbacks.\n",
      "4/4 [==============================] - 0s 73ms/step - loss: 0.7486 - acc: 0.7519 - f1_m: 0.7415 - precision_m: 0.7770 - recall_m: 0.7097 - auc_1: 0.8890 - false_negatives_1: 23.2000 - false_positives_1: 16.4000 - true_negatives_1: 153.2000 - true_positives_1: 61.6000 - mean_absolute_error: 0.2104 - mean_squared_error: 0.1215 - val_loss: 5.4867 - val_acc: 0.4000 - val_f1_m: 0.4068 - val_precision_m: 0.4138 - val_recall_m: 0.4000 - val_auc_1: 0.5972 - val_false_negatives_1: 18.0000 - val_false_positives_1: 17.0000 - val_true_negatives_1: 43.0000 - val_true_positives_1: 12.0000 - val_mean_absolute_error: 0.3933 - val_mean_squared_error: 0.3690\n",
      "\n",
      "Epoch 00002: val_acc improved from 0.33333 to 0.40000, saving model to /mnt/sda1/image-results-iris-correlated/results/fold1-resnet50v2-saved-model-02-val_acc-0.40.hdf5\n",
      "Epoch 3/100\n",
      "4/4 [==============================] - 0s 69ms/step - loss: 0.5284 - acc: 0.8532 - f1_m: 0.8442 - precision_m: 0.8673 - recall_m: 0.8226 - auc_1: 0.9473 - false_negatives_1: 14.8000 - false_positives_1: 10.8000 - true_negatives_1: 158.8000 - true_positives_1: 70.0000 - mean_absolute_error: 0.1216 - mean_squared_error: 0.0773 - val_loss: 3.1610 - val_acc: 0.5667 - val_f1_m: 0.5763 - val_precision_m: 0.5862 - val_recall_m: 0.5667 - val_auc_1: 0.7044 - val_false_negatives_1: 13.0000 - val_false_positives_1: 12.0000 - val_true_negatives_1: 48.0000 - val_true_positives_1: 17.0000 - val_mean_absolute_error: 0.2943 - val_mean_squared_error: 0.2679\n",
      "\n",
      "Epoch 00003: val_acc improved from 0.40000 to 0.56667, saving model to /mnt/sda1/image-results-iris-correlated/results/fold1-resnet50v2-saved-model-03-val_acc-0.57.hdf5\n",
      "Epoch 4/100\n",
      "4/4 [==============================] - 0s 70ms/step - loss: 0.3086 - acc: 0.9121 - f1_m: 0.9160 - precision_m: 0.9160 - recall_m: 0.9160 - auc_1: 0.9722 - false_negatives_1: 7.8000 - false_positives_1: 7.8000 - true_negatives_1: 155.4000 - true_positives_1: 73.8000 - mean_absolute_error: 0.0702 - mean_squared_error: 0.0419 - val_loss: 2.1453 - val_acc: 0.5667 - val_f1_m: 0.5667 - val_precision_m: 0.5667 - val_recall_m: 0.5667 - val_auc_1: 0.7306 - val_false_negatives_1: 13.0000 - val_false_positives_1: 13.0000 - val_true_negatives_1: 47.0000 - val_true_positives_1: 17.0000 - val_mean_absolute_error: 0.3137 - val_mean_squared_error: 0.2700\n",
      "\n",
      "Epoch 00004: val_acc did not improve from 0.56667\n",
      "Epoch 5/100\n",
      "4/4 [==============================] - 0s 75ms/step - loss: 0.1635 - acc: 0.9072 - f1_m: 0.9247 - precision_m: 0.9397 - recall_m: 0.9104 - auc_1: 0.9938 - false_negatives_1: 7.2000 - false_positives_1: 4.6000 - true_negatives_1: 165.0000 - true_positives_1: 77.6000 - mean_absolute_error: 0.0760 - mean_squared_error: 0.0319 - val_loss: 6.3100 - val_acc: 0.5000 - val_f1_m: 0.5000 - val_precision_m: 0.5000 - val_recall_m: 0.5000 - val_auc_1: 0.7394 - val_false_negatives_1: 15.0000 - val_false_positives_1: 15.0000 - val_true_negatives_1: 45.0000 - val_true_positives_1: 15.0000 - val_mean_absolute_error: 0.3048 - val_mean_squared_error: 0.2728\n",
      "\n",
      "Epoch 00005: val_acc did not improve from 0.56667\n",
      "Epoch 6/100\n",
      "4/4 [==============================] - 0s 73ms/step - loss: 0.1205 - acc: 0.9554 - f1_m: 0.9539 - precision_m: 0.9554 - recall_m: 0.9524 - auc_1: 0.9938 - false_negatives_1: 4.2000 - false_positives_1: 3.8000 - true_negatives_1: 159.4000 - true_positives_1: 77.4000 - mean_absolute_error: 0.0351 - mean_squared_error: 0.0209 - val_loss: 7.4339 - val_acc: 0.4667 - val_f1_m: 0.4667 - val_precision_m: 0.4667 - val_recall_m: 0.4667 - val_auc_1: 0.6647 - val_false_negatives_1: 16.0000 - val_false_positives_1: 16.0000 - val_true_negatives_1: 44.0000 - val_true_positives_1: 14.0000 - val_mean_absolute_error: 0.3472 - val_mean_squared_error: 0.3310\n",
      "\n",
      "Epoch 00006: val_acc did not improve from 0.56667\n",
      "Epoch 7/100\n",
      "4/4 [==============================] - 0s 73ms/step - loss: 0.0886 - acc: 0.9611 - f1_m: 0.9608 - precision_m: 0.9608 - recall_m: 0.9608 - auc_1: 0.9944 - false_negatives_1: 3.0000 - false_positives_1: 3.0000 - true_negatives_1: 166.6000 - true_positives_1: 81.8000 - mean_absolute_error: 0.0260 - mean_squared_error: 0.0126 - val_loss: 9.6653 - val_acc: 0.5667 - val_f1_m: 0.5667 - val_precision_m: 0.5667 - val_recall_m: 0.5667 - val_auc_1: 0.7078 - val_false_negatives_1: 13.0000 - val_false_positives_1: 13.0000 - val_true_negatives_1: 47.0000 - val_true_positives_1: 17.0000 - val_mean_absolute_error: 0.3002 - val_mean_squared_error: 0.2666\n",
      "\n",
      "Epoch 00007: val_acc did not improve from 0.56667\n",
      "Epoch 8/100\n",
      "4/4 [==============================] - 0s 70ms/step - loss: 0.0594 - acc: 0.9785 - f1_m: 0.9774 - precision_m: 0.9774 - recall_m: 0.9774 - auc_1: 0.9989 - false_negatives_1: 2.2000 - false_positives_1: 2.2000 - true_negatives_1: 164.2000 - true_positives_1: 81.0000 - mean_absolute_error: 0.0208 - mean_squared_error: 0.0112 - val_loss: 8.9236 - val_acc: 0.5667 - val_f1_m: 0.5667 - val_precision_m: 0.5667 - val_recall_m: 0.5667 - val_auc_1: 0.7600 - val_false_negatives_1: 13.0000 - val_false_positives_1: 13.0000 - val_true_negatives_1: 47.0000 - val_true_positives_1: 17.0000 - val_mean_absolute_error: 0.2994 - val_mean_squared_error: 0.2686\n",
      "\n",
      "Epoch 00008: val_acc did not improve from 0.56667\n",
      "Epoch 9/100\n",
      "4/4 [==============================] - 0s 70ms/step - loss: 0.0323 - acc: 0.9850 - f1_m: 0.9854 - precision_m: 0.9854 - recall_m: 0.9854 - auc_1: 0.9999 - false_negatives_1: 1.0000 - false_positives_1: 1.0000 - true_negatives_1: 168.6000 - true_positives_1: 83.8000 - mean_absolute_error: 0.0169 - mean_squared_error: 0.0055 - val_loss: 8.5104 - val_acc: 0.5333 - val_f1_m: 0.5333 - val_precision_m: 0.5333 - val_recall_m: 0.5333 - val_auc_1: 0.7383 - val_false_negatives_1: 14.0000 - val_false_positives_1: 14.0000 - val_true_negatives_1: 46.0000 - val_true_positives_1: 16.0000 - val_mean_absolute_error: 0.3026 - val_mean_squared_error: 0.2792\n",
      "\n",
      "Epoch 00009: val_acc did not improve from 0.56667\n",
      "Epoch 10/100\n",
      "4/4 [==============================] - 0s 68ms/step - loss: 0.0088 - acc: 1.0000 - f1_m: 1.0000 - precision_m: 1.0000 - recall_m: 1.0000 - auc_1: 1.0000 - false_negatives_1: 0.0000e+00 - false_positives_1: 0.0000e+00 - true_negatives_1: 172.8000 - true_positives_1: 86.4000 - mean_absolute_error: 0.0056 - mean_squared_error: 4.3605e-04 - val_loss: 7.7360 - val_acc: 0.5333 - val_f1_m: 0.5333 - val_precision_m: 0.5333 - val_recall_m: 0.5333 - val_auc_1: 0.7511 - val_false_negatives_1: 14.0000 - val_false_positives_1: 14.0000 - val_true_negatives_1: 46.0000 - val_true_positives_1: 16.0000 - val_mean_absolute_error: 0.2901 - val_mean_squared_error: 0.2697\n",
      "\n",
      "Epoch 00010: val_acc did not improve from 0.56667\n",
      "Epoch 11/100\n",
      "4/4 [==============================] - 0s 70ms/step - loss: 0.0140 - acc: 1.0000 - f1_m: 1.0000 - precision_m: 1.0000 - recall_m: 1.0000 - auc_1: 1.0000 - false_negatives_1: 0.0000e+00 - false_positives_1: 0.0000e+00 - true_negatives_1: 166.4000 - true_positives_1: 83.2000 - mean_absolute_error: 0.0086 - mean_squared_error: 0.0012 - val_loss: 6.9609 - val_acc: 0.6333 - val_f1_m: 0.6333 - val_precision_m: 0.6333 - val_recall_m: 0.6333 - val_auc_1: 0.7639 - val_false_negatives_1: 11.0000 - val_false_positives_1: 11.0000 - val_true_negatives_1: 49.0000 - val_true_positives_1: 19.0000 - val_mean_absolute_error: 0.2569 - val_mean_squared_error: 0.2341\n",
      "\n",
      "Epoch 00011: val_acc improved from 0.56667 to 0.63333, saving model to /mnt/sda1/image-results-iris-correlated/results/fold1-resnet50v2-saved-model-11-val_acc-0.63.hdf5\n",
      "Epoch 12/100\n",
      "4/4 [==============================] - 0s 73ms/step - loss: 0.2618 - acc: 0.9662 - f1_m: 0.9632 - precision_m: 0.9632 - recall_m: 0.9632 - auc_1: 0.9863 - false_negatives_1: 2.6000 - false_positives_1: 2.6000 - true_negatives_1: 163.8000 - true_positives_1: 80.6000 - mean_absolute_error: 0.0310 - mean_squared_error: 0.0222 - val_loss: 5.4865 - val_acc: 0.6333 - val_f1_m: 0.6333 - val_precision_m: 0.6333 - val_recall_m: 0.6333 - val_auc_1: 0.7758 - val_false_negatives_1: 11.0000 - val_false_positives_1: 11.0000 - val_true_negatives_1: 49.0000 - val_true_positives_1: 19.0000 - val_mean_absolute_error: 0.2317 - val_mean_squared_error: 0.2115\n",
      "\n",
      "Epoch 00012: val_acc did not improve from 0.63333\n",
      "Epoch 13/100\n",
      "4/4 [==============================] - 0s 74ms/step - loss: 0.0328 - acc: 0.9967 - f1_m: 0.9969 - precision_m: 0.9969 - recall_m: 0.9969 - auc_1: 0.9972 - false_negatives_1: 0.4000 - false_positives_1: 0.4000 - true_negatives_1: 169.2000 - true_positives_1: 84.4000 - mean_absolute_error: 0.0096 - mean_squared_error: 0.0031 - val_loss: 4.4843 - val_acc: 0.6667 - val_f1_m: 0.6667 - val_precision_m: 0.6667 - val_recall_m: 0.6667 - val_auc_1: 0.7797 - val_false_negatives_1: 10.0000 - val_false_positives_1: 10.0000 - val_true_negatives_1: 50.0000 - val_true_positives_1: 20.0000 - val_mean_absolute_error: 0.2169 - val_mean_squared_error: 0.2009\n",
      "\n",
      "Epoch 00013: val_acc improved from 0.63333 to 0.66667, saving model to /mnt/sda1/image-results-iris-correlated/results/fold1-resnet50v2-saved-model-13-val_acc-0.67.hdf5\n",
      "Epoch 14/100\n",
      "4/4 [==============================] - 0s 73ms/step - loss: 0.0996 - acc: 0.9738 - f1_m: 0.9750 - precision_m: 0.9750 - recall_m: 0.9750 - auc_1: 0.9917 - false_negatives_1: 2.4000 - false_positives_1: 2.4000 - true_negatives_1: 167.2000 - true_positives_1: 82.4000 - mean_absolute_error: 0.0229 - mean_squared_error: 0.0149 - val_loss: 3.2834 - val_acc: 0.6667 - val_f1_m: 0.6667 - val_precision_m: 0.6667 - val_recall_m: 0.6667 - val_auc_1: 0.8006 - val_false_negatives_1: 10.0000 - val_false_positives_1: 10.0000 - val_true_negatives_1: 50.0000 - val_true_positives_1: 20.0000 - val_mean_absolute_error: 0.2101 - val_mean_squared_error: 0.1965\n",
      "\n",
      "Epoch 00014: val_acc did not improve from 0.66667\n",
      "Epoch 15/100\n",
      "4/4 [==============================] - 0s 74ms/step - loss: 0.0188 - acc: 0.9967 - f1_m: 0.9958 - precision_m: 0.9958 - recall_m: 0.9958 - auc_1: 0.9999 - false_negatives_1: 0.4000 - false_positives_1: 0.4000 - true_negatives_1: 172.4000 - true_positives_1: 86.0000 - mean_absolute_error: 0.0098 - mean_squared_error: 0.0028 - val_loss: 2.7934 - val_acc: 0.6667 - val_f1_m: 0.6667 - val_precision_m: 0.6667 - val_recall_m: 0.6667 - val_auc_1: 0.8139 - val_false_negatives_1: 10.0000 - val_false_positives_1: 10.0000 - val_true_negatives_1: 50.0000 - val_true_positives_1: 20.0000 - val_mean_absolute_error: 0.2065 - val_mean_squared_error: 0.1936\n",
      "\n",
      "Epoch 00015: val_acc did not improve from 0.66667\n",
      "Fold:  2\n",
      "Found 120 images belonging to 3 classes.\n",
      "Found 30 images belonging to 3 classes.\n"
     ]
    },
    {
     "name": "stderr",
     "output_type": "stream",
     "text": [
      "2023-03-05 16:27:03.936120: I tensorflow/core/profiler/lib/profiler_session.cc:136] Profiler session initializing.\n",
      "2023-03-05 16:27:03.936147: I tensorflow/core/profiler/lib/profiler_session.cc:155] Profiler session started.\n",
      "2023-03-05 16:27:03.936258: I tensorflow/core/profiler/lib/profiler_session.cc:172] Profiler session tear down.\n",
      "2023-03-05 16:27:03.936319: I tensorflow/core/profiler/internal/gpu/cupti_tracer.cc:1487] CUPTI activity buffer flushed\n"
     ]
    },
    {
     "name": "stdout",
     "output_type": "stream",
     "text": [
      "Epoch 1/100\n",
      "2/4 [==============>...............] - ETA: 0s - loss: 1.4965 - acc: 0.3203 - f1_m: 0.2914 - precision_m: 0.3352 - recall_m: 0.2578 - auc_2: 0.5222 - false_negatives_2: 36.0000 - false_positives_2: 24.5000 - true_negatives_2: 71.5000 - true_positives_2: 12.0000 - mean_absolute_error: 0.4372 - mean_squared_error: 0.2853"
     ]
    },
    {
     "name": "stderr",
     "output_type": "stream",
     "text": [
      "2023-03-05 16:27:07.883910: I tensorflow/core/profiler/lib/profiler_session.cc:136] Profiler session initializing.\n",
      "2023-03-05 16:27:07.883945: I tensorflow/core/profiler/lib/profiler_session.cc:155] Profiler session started.\n"
     ]
    },
    {
     "name": "stdout",
     "output_type": "stream",
     "text": [
      "4/4 [==============================] - ETA: 0s - loss: 1.3823 - acc: 0.3615 - f1_m: 0.3307 - precision_m: 0.3991 - recall_m: 0.2869 - auc_2: 0.5644 - false_negatives_2: 53.2500 - false_positives_2: 33.0000 - true_negatives_2: 119.0000 - true_positives_2: 22.7500 - mean_absolute_error: 0.4189 - mean_squared_error: 0.2650"
     ]
    },
    {
     "name": "stderr",
     "output_type": "stream",
     "text": [
      "2023-03-05 16:27:08.263715: I tensorflow/core/profiler/lib/profiler_session.cc:71] Profiler session collecting data.\n",
      "2023-03-05 16:27:08.266407: I tensorflow/core/profiler/internal/gpu/cupti_tracer.cc:1487] CUPTI activity buffer flushed\n",
      "2023-03-05 16:27:08.277093: I tensorflow/core/profiler/internal/gpu/cupti_collector.cc:228]  GpuTracer has collected 1740 callback api events and 1688 activity events. \n",
      "2023-03-05 16:27:08.315000: I tensorflow/core/profiler/lib/profiler_session.cc:172] Profiler session tear down.\n",
      "2023-03-05 16:27:08.350937: I tensorflow/core/profiler/rpc/client/save_profile.cc:137] Creating directory: /mnt/sda1/image-results-iris-correlated/results/tb_logs/train/plugins/profile/2023_03_05_16_27_08\n",
      "2023-03-05 16:27:08.375751: I tensorflow/core/profiler/rpc/client/save_profile.cc:143] Dumped gzipped tool data for trace.json.gz to /mnt/sda1/image-results-iris-correlated/results/tb_logs/train/plugins/profile/2023_03_05_16_27_08/drake-pc.trace.json.gz\n",
      "2023-03-05 16:27:08.439797: I tensorflow/core/profiler/rpc/client/save_profile.cc:137] Creating directory: /mnt/sda1/image-results-iris-correlated/results/tb_logs/train/plugins/profile/2023_03_05_16_27_08\n",
      "2023-03-05 16:27:08.445117: I tensorflow/core/profiler/rpc/client/save_profile.cc:143] Dumped gzipped tool data for memory_profile.json.gz to /mnt/sda1/image-results-iris-correlated/results/tb_logs/train/plugins/profile/2023_03_05_16_27_08/drake-pc.memory_profile.json.gz\n",
      "2023-03-05 16:27:08.447764: I tensorflow/core/profiler/rpc/client/capture_profile.cc:251] Creating directory: /mnt/sda1/image-results-iris-correlated/results/tb_logs/train/plugins/profile/2023_03_05_16_27_08Dumped tool data for xplane.pb to /mnt/sda1/image-results-iris-correlated/results/tb_logs/train/plugins/profile/2023_03_05_16_27_08/drake-pc.xplane.pb\n",
      "Dumped tool data for overview_page.pb to /mnt/sda1/image-results-iris-correlated/results/tb_logs/train/plugins/profile/2023_03_05_16_27_08/drake-pc.overview_page.pb\n",
      "Dumped tool data for input_pipeline.pb to /mnt/sda1/image-results-iris-correlated/results/tb_logs/train/plugins/profile/2023_03_05_16_27_08/drake-pc.input_pipeline.pb\n",
      "Dumped tool data for tensorflow_stats.pb to /mnt/sda1/image-results-iris-correlated/results/tb_logs/train/plugins/profile/2023_03_05_16_27_08/drake-pc.tensorflow_stats.pb\n",
      "Dumped tool data for kernel_stats.pb to /mnt/sda1/image-results-iris-correlated/results/tb_logs/train/plugins/profile/2023_03_05_16_27_08/drake-pc.kernel_stats.pb\n",
      "\n"
     ]
    },
    {
     "name": "stdout",
     "output_type": "stream",
     "text": [
      "4/4 [==============================] - 6s 663ms/step - loss: 1.3438 - acc: 0.3775 - f1_m: 0.3474 - precision_m: 0.4187 - recall_m: 0.3024 - auc_2: 0.5824 - false_negatives_2: 57.8000 - false_positives_2: 35.6000 - true_negatives_2: 134.0000 - true_positives_2: 27.0000 - mean_absolute_error: 0.4110 - mean_squared_error: 0.2579 - val_loss: 4.3280 - val_acc: 0.4333 - val_f1_m: 0.4333 - val_precision_m: 0.4333 - val_recall_m: 0.4333 - val_auc_2: 0.5756 - val_false_negatives_2: 17.0000 - val_false_positives_2: 17.0000 - val_true_negatives_2: 43.0000 - val_true_positives_2: 13.0000 - val_mean_absolute_error: 0.3898 - val_mean_squared_error: 0.3394\n",
      "\n",
      "Epoch 00001: val_acc improved from -inf to 0.43333, saving model to /mnt/sda1/image-results-iris-correlated/results/fold2-resnet50v2-saved-model-01-val_acc-0.43.hdf5\n",
      "Epoch 2/100\n",
      "3/4 [=====================>........] - ETA: 0s - loss: 0.7565 - acc: 0.6962 - f1_m: 0.7060 - precision_m: 0.7602 - recall_m: 0.6597 - auc_2: 0.8769 - false_negatives_2: 21.3333 - false_positives_2: 13.6667 - true_negatives_2: 114.3333 - true_positives_2: 42.6667 - mean_absolute_error: 0.2256 - mean_squared_error: 0.1299WARNING:tensorflow:Callback method `on_train_batch_end` is slow compared to the batch time (batch time: 0.0511s vs `on_train_batch_end` time: 0.1136s). Check your callbacks.\n",
      "4/4 [==============================] - 0s 70ms/step - loss: 0.7131 - acc: 0.7110 - f1_m: 0.7190 - precision_m: 0.7654 - recall_m: 0.6792 - auc_2: 0.8891 - false_negatives_2: 27.2000 - false_positives_2: 18.6000 - true_negatives_2: 154.2000 - true_positives_2: 59.2000 - mean_absolute_error: 0.2146 - mean_squared_error: 0.1241 - val_loss: 6.1492 - val_acc: 0.3333 - val_f1_m: 0.3333 - val_precision_m: 0.3333 - val_recall_m: 0.3333 - val_auc_2: 0.5100 - val_false_negatives_2: 20.0000 - val_false_positives_2: 20.0000 - val_true_negatives_2: 40.0000 - val_true_positives_2: 10.0000 - val_mean_absolute_error: 0.4439 - val_mean_squared_error: 0.4422\n",
      "\n",
      "Epoch 00002: val_acc did not improve from 0.43333\n",
      "Epoch 3/100\n",
      "4/4 [==============================] - 0s 71ms/step - loss: 0.5343 - acc: 0.8041 - f1_m: 0.8079 - precision_m: 0.8454 - recall_m: 0.7750 - auc_2: 0.9292 - false_negatives_2: 18.2000 - false_positives_2: 12.0000 - true_negatives_2: 151.2000 - true_positives_2: 63.4000 - mean_absolute_error: 0.1650 - mean_squared_error: 0.0905 - val_loss: 4.2889 - val_acc: 0.3333 - val_f1_m: 0.3333 - val_precision_m: 0.3333 - val_recall_m: 0.3333 - val_auc_2: 0.6219 - val_false_negatives_2: 20.0000 - val_false_positives_2: 20.0000 - val_true_negatives_2: 40.0000 - val_true_positives_2: 10.0000 - val_mean_absolute_error: 0.4366 - val_mean_squared_error: 0.4225\n",
      "\n",
      "Epoch 00003: val_acc did not improve from 0.43333\n",
      "Epoch 4/100\n",
      "4/4 [==============================] - 0s 69ms/step - loss: 0.2161 - acc: 0.9449 - f1_m: 0.9353 - precision_m: 0.9427 - recall_m: 0.9281 - auc_2: 0.9887 - false_negatives_2: 6.4000 - false_positives_2: 5.4000 - true_negatives_2: 164.2000 - true_positives_2: 78.4000 - mean_absolute_error: 0.0897 - mean_squared_error: 0.0370 - val_loss: 3.9751 - val_acc: 0.3667 - val_f1_m: 0.3667 - val_precision_m: 0.3667 - val_recall_m: 0.3667 - val_auc_2: 0.5975 - val_false_negatives_2: 19.0000 - val_false_positives_2: 19.0000 - val_true_negatives_2: 41.0000 - val_true_positives_2: 11.0000 - val_mean_absolute_error: 0.4183 - val_mean_squared_error: 0.4005\n",
      "\n",
      "Epoch 00004: val_acc did not improve from 0.43333\n",
      "Epoch 5/100\n",
      "4/4 [==============================] - 0s 69ms/step - loss: 0.1058 - acc: 0.9620 - f1_m: 0.9618 - precision_m: 0.9618 - recall_m: 0.9618 - auc_2: 0.9971 - false_negatives_2: 3.2000 - false_positives_2: 3.2000 - true_negatives_2: 166.4000 - true_positives_2: 81.6000 - mean_absolute_error: 0.0478 - mean_squared_error: 0.0203 - val_loss: 4.9597 - val_acc: 0.3333 - val_f1_m: 0.3333 - val_precision_m: 0.3333 - val_recall_m: 0.3333 - val_auc_2: 0.5556 - val_false_negatives_2: 20.0000 - val_false_positives_2: 20.0000 - val_true_negatives_2: 40.0000 - val_true_positives_2: 10.0000 - val_mean_absolute_error: 0.4403 - val_mean_squared_error: 0.4364\n",
      "\n",
      "Epoch 00005: val_acc did not improve from 0.43333\n",
      "Epoch 6/100\n",
      "4/4 [==============================] - 0s 73ms/step - loss: 0.0926 - acc: 0.9812 - f1_m: 0.9823 - precision_m: 0.9823 - recall_m: 0.9823 - auc_2: 0.9976 - false_negatives_2: 1.4000 - false_positives_2: 1.4000 - true_negatives_2: 165.0000 - true_positives_2: 81.8000 - mean_absolute_error: 0.0324 - mean_squared_error: 0.0164 - val_loss: 4.0903 - val_acc: 0.3333 - val_f1_m: 0.3333 - val_precision_m: 0.3333 - val_recall_m: 0.3333 - val_auc_2: 0.5972 - val_false_negatives_2: 20.0000 - val_false_positives_2: 20.0000 - val_true_negatives_2: 40.0000 - val_true_positives_2: 10.0000 - val_mean_absolute_error: 0.4407 - val_mean_squared_error: 0.4370\n",
      "\n",
      "Epoch 00006: val_acc did not improve from 0.43333\n",
      "Epoch 7/100\n",
      "4/4 [==============================] - 0s 76ms/step - loss: 0.0439 - acc: 0.9842 - f1_m: 0.9854 - precision_m: 0.9854 - recall_m: 0.9854 - auc_2: 0.9995 - false_negatives_2: 1.6000 - false_positives_2: 1.6000 - true_negatives_2: 161.6000 - true_positives_2: 80.0000 - mean_absolute_error: 0.0184 - mean_squared_error: 0.0077 - val_loss: 3.3166 - val_acc: 0.4000 - val_f1_m: 0.4000 - val_precision_m: 0.4000 - val_recall_m: 0.4000 - val_auc_2: 0.6772 - val_false_negatives_2: 18.0000 - val_false_positives_2: 18.0000 - val_true_negatives_2: 42.0000 - val_true_positives_2: 12.0000 - val_mean_absolute_error: 0.3928 - val_mean_squared_error: 0.3858\n",
      "\n",
      "Epoch 00007: val_acc did not improve from 0.43333\n",
      "Epoch 8/100\n",
      "4/4 [==============================] - 0s 68ms/step - loss: 0.0192 - acc: 0.9967 - f1_m: 0.9958 - precision_m: 0.9958 - recall_m: 0.9958 - auc_2: 1.0000 - false_negatives_2: 0.4000 - false_positives_2: 0.4000 - true_negatives_2: 172.4000 - true_positives_2: 86.0000 - mean_absolute_error: 0.0107 - mean_squared_error: 0.0029 - val_loss: 2.4423 - val_acc: 0.4333 - val_f1_m: 0.4333 - val_precision_m: 0.4333 - val_recall_m: 0.4333 - val_auc_2: 0.7342 - val_false_negatives_2: 17.0000 - val_false_positives_2: 17.0000 - val_true_negatives_2: 43.0000 - val_true_positives_2: 13.0000 - val_mean_absolute_error: 0.3550 - val_mean_squared_error: 0.3243\n",
      "\n",
      "Epoch 00008: val_acc did not improve from 0.43333\n",
      "Epoch 9/100\n",
      "4/4 [==============================] - 0s 73ms/step - loss: 0.0106 - acc: 1.0000 - f1_m: 1.0000 - precision_m: 1.0000 - recall_m: 1.0000 - auc_2: 1.0000 - false_negatives_2: 0.0000e+00 - false_positives_2: 0.0000e+00 - true_negatives_2: 169.6000 - true_positives_2: 84.8000 - mean_absolute_error: 0.0065 - mean_squared_error: 8.2674e-04 - val_loss: 2.0567 - val_acc: 0.5333 - val_f1_m: 0.5333 - val_precision_m: 0.5333 - val_recall_m: 0.5333 - val_auc_2: 0.7683 - val_false_negatives_2: 14.0000 - val_false_positives_2: 14.0000 - val_true_negatives_2: 46.0000 - val_true_positives_2: 16.0000 - val_mean_absolute_error: 0.3136 - val_mean_squared_error: 0.2799\n",
      "\n",
      "Epoch 00009: val_acc improved from 0.43333 to 0.53333, saving model to /mnt/sda1/image-results-iris-correlated/results/fold2-resnet50v2-saved-model-09-val_acc-0.53.hdf5\n",
      "Epoch 10/100\n",
      "4/4 [==============================] - 0s 74ms/step - loss: 0.0094 - acc: 0.9967 - f1_m: 0.9969 - precision_m: 0.9969 - recall_m: 0.9969 - auc_2: 1.0000 - false_negatives_2: 0.4000 - false_positives_2: 0.4000 - true_negatives_2: 169.2000 - true_positives_2: 84.4000 - mean_absolute_error: 0.0047 - mean_squared_error: 0.0015 - val_loss: 1.4673 - val_acc: 0.5667 - val_f1_m: 0.5517 - val_precision_m: 0.5714 - val_recall_m: 0.5333 - val_auc_2: 0.8197 - val_false_negatives_2: 14.0000 - val_false_positives_2: 12.0000 - val_true_negatives_2: 48.0000 - val_true_positives_2: 16.0000 - val_mean_absolute_error: 0.2671 - val_mean_squared_error: 0.2248\n",
      "\n",
      "Epoch 00010: val_acc improved from 0.53333 to 0.56667, saving model to /mnt/sda1/image-results-iris-correlated/results/fold2-resnet50v2-saved-model-10-val_acc-0.57.hdf5\n",
      "Epoch 11/100\n",
      "4/4 [==============================] - 0s 71ms/step - loss: 0.0100 - acc: 1.0000 - f1_m: 1.0000 - precision_m: 1.0000 - recall_m: 1.0000 - auc_2: 1.0000 - false_negatives_2: 0.0000e+00 - false_positives_2: 0.0000e+00 - true_negatives_2: 172.8000 - true_positives_2: 86.4000 - mean_absolute_error: 0.0057 - mean_squared_error: 0.0014 - val_loss: 1.0338 - val_acc: 0.6333 - val_f1_m: 0.6441 - val_precision_m: 0.6552 - val_recall_m: 0.6333 - val_auc_2: 0.8706 - val_false_negatives_2: 11.0000 - val_false_positives_2: 10.0000 - val_true_negatives_2: 50.0000 - val_true_positives_2: 19.0000 - val_mean_absolute_error: 0.2177 - val_mean_squared_error: 0.1705\n",
      "\n",
      "Epoch 00011: val_acc improved from 0.56667 to 0.63333, saving model to /mnt/sda1/image-results-iris-correlated/results/fold2-resnet50v2-saved-model-11-val_acc-0.63.hdf5\n",
      "Epoch 12/100\n",
      "4/4 [==============================] - 0s 72ms/step - loss: 0.0254 - acc: 0.9967 - f1_m: 0.9958 - precision_m: 0.9958 - recall_m: 0.9958 - auc_2: 0.9997 - false_negatives_2: 0.4000 - false_positives_2: 0.4000 - true_negatives_2: 172.4000 - true_positives_2: 86.0000 - mean_absolute_error: 0.0085 - mean_squared_error: 0.0039 - val_loss: 0.7446 - val_acc: 0.7333 - val_f1_m: 0.7333 - val_precision_m: 0.7333 - val_recall_m: 0.7333 - val_auc_2: 0.9136 - val_false_negatives_2: 8.0000 - val_false_positives_2: 8.0000 - val_true_negatives_2: 52.0000 - val_true_positives_2: 22.0000 - val_mean_absolute_error: 0.1711 - val_mean_squared_error: 0.1253\n",
      "\n",
      "Epoch 00012: val_acc improved from 0.63333 to 0.73333, saving model to /mnt/sda1/image-results-iris-correlated/results/fold2-resnet50v2-saved-model-12-val_acc-0.73.hdf5\n",
      "Epoch 13/100\n",
      "4/4 [==============================] - 0s 70ms/step - loss: 0.0181 - acc: 0.9967 - f1_m: 0.9958 - precision_m: 0.9958 - recall_m: 0.9958 - auc_2: 0.9998 - false_negatives_2: 0.4000 - false_positives_2: 0.4000 - true_negatives_2: 172.4000 - true_positives_2: 86.0000 - mean_absolute_error: 0.0074 - mean_squared_error: 0.0026 - val_loss: 0.6093 - val_acc: 0.7667 - val_f1_m: 0.7667 - val_precision_m: 0.7667 - val_recall_m: 0.7667 - val_auc_2: 0.9206 - val_false_negatives_2: 7.0000 - val_false_positives_2: 7.0000 - val_true_negatives_2: 53.0000 - val_true_positives_2: 23.0000 - val_mean_absolute_error: 0.1498 - val_mean_squared_error: 0.1052\n",
      "\n",
      "Epoch 00013: val_acc improved from 0.73333 to 0.76667, saving model to /mnt/sda1/image-results-iris-correlated/results/fold2-resnet50v2-saved-model-13-val_acc-0.77.hdf5\n",
      "Epoch 14/100\n",
      "4/4 [==============================] - 0s 72ms/step - loss: 0.0199 - acc: 0.9908 - f1_m: 0.9889 - precision_m: 0.9889 - recall_m: 0.9889 - auc_2: 0.9999 - false_negatives_2: 0.8000 - false_positives_2: 0.8000 - true_negatives_2: 165.6000 - true_positives_2: 82.4000 - mean_absolute_error: 0.0109 - mean_squared_error: 0.0027 - val_loss: 0.6640 - val_acc: 0.7333 - val_f1_m: 0.7333 - val_precision_m: 0.7333 - val_recall_m: 0.7333 - val_auc_2: 0.9186 - val_false_negatives_2: 8.0000 - val_false_positives_2: 8.0000 - val_true_negatives_2: 52.0000 - val_true_positives_2: 22.0000 - val_mean_absolute_error: 0.1509 - val_mean_squared_error: 0.1070\n",
      "\n",
      "Epoch 00014: val_acc did not improve from 0.76667\n",
      "Fold:  3\n",
      "Found 120 images belonging to 3 classes.\n",
      "Found 30 images belonging to 3 classes.\n"
     ]
    },
    {
     "name": "stderr",
     "output_type": "stream",
     "text": [
      "2023-03-05 16:27:16.766684: I tensorflow/core/profiler/lib/profiler_session.cc:136] Profiler session initializing.\n",
      "2023-03-05 16:27:16.766717: I tensorflow/core/profiler/lib/profiler_session.cc:155] Profiler session started.\n",
      "2023-03-05 16:27:16.766861: I tensorflow/core/profiler/lib/profiler_session.cc:172] Profiler session tear down.\n",
      "2023-03-05 16:27:16.766900: I tensorflow/core/profiler/internal/gpu/cupti_tracer.cc:1487] CUPTI activity buffer flushed\n"
     ]
    },
    {
     "name": "stdout",
     "output_type": "stream",
     "text": [
      "Epoch 1/100\n",
      "2/4 [==============>...............] - ETA: 0s - loss: 1.6525 - acc: 0.2188 - f1_m: 0.1929 - precision_m: 0.2342 - recall_m: 0.1641 - auc_3: 0.3962 - false_negatives_3: 39.5000 - false_positives_3: 25.0000 - true_negatives_3: 71.0000 - true_positives_3: 8.5000 - mean_absolute_error: 0.4769 - mean_squared_error: 0.3080 "
     ]
    },
    {
     "name": "stderr",
     "output_type": "stream",
     "text": [
      "2023-03-05 16:27:20.870715: I tensorflow/core/profiler/lib/profiler_session.cc:136] Profiler session initializing.\n",
      "2023-03-05 16:27:20.870739: I tensorflow/core/profiler/lib/profiler_session.cc:155] Profiler session started.\n"
     ]
    },
    {
     "name": "stdout",
     "output_type": "stream",
     "text": [
      "4/4 [==============================] - ETA: 0s - loss: 1.5055 - acc: 0.3185 - f1_m: 0.2827 - precision_m: 0.3458 - recall_m: 0.2391 - auc_3: 0.4935 - false_negatives_3: 55.5000 - false_positives_3: 32.2500 - true_negatives_3: 119.7500 - true_positives_3: 20.5000 - mean_absolute_error: 0.4424 - mean_squared_error: 0.2769"
     ]
    },
    {
     "name": "stderr",
     "output_type": "stream",
     "text": [
      "2023-03-05 16:27:21.306744: I tensorflow/core/profiler/lib/profiler_session.cc:71] Profiler session collecting data.\n",
      "2023-03-05 16:27:21.308635: I tensorflow/core/profiler/internal/gpu/cupti_tracer.cc:1487] CUPTI activity buffer flushed\n",
      "2023-03-05 16:27:21.318530: I tensorflow/core/profiler/internal/gpu/cupti_collector.cc:228]  GpuTracer has collected 1740 callback api events and 1688 activity events. \n",
      "2023-03-05 16:27:21.353633: I tensorflow/core/profiler/lib/profiler_session.cc:172] Profiler session tear down.\n",
      "2023-03-05 16:27:21.386390: I tensorflow/core/profiler/rpc/client/save_profile.cc:137] Creating directory: /mnt/sda1/image-results-iris-correlated/results/tb_logs/train/plugins/profile/2023_03_05_16_27_21\n",
      "2023-03-05 16:27:21.409288: I tensorflow/core/profiler/rpc/client/save_profile.cc:143] Dumped gzipped tool data for trace.json.gz to /mnt/sda1/image-results-iris-correlated/results/tb_logs/train/plugins/profile/2023_03_05_16_27_21/drake-pc.trace.json.gz\n",
      "2023-03-05 16:27:21.470173: I tensorflow/core/profiler/rpc/client/save_profile.cc:137] Creating directory: /mnt/sda1/image-results-iris-correlated/results/tb_logs/train/plugins/profile/2023_03_05_16_27_21\n",
      "2023-03-05 16:27:21.475174: I tensorflow/core/profiler/rpc/client/save_profile.cc:143] Dumped gzipped tool data for memory_profile.json.gz to /mnt/sda1/image-results-iris-correlated/results/tb_logs/train/plugins/profile/2023_03_05_16_27_21/drake-pc.memory_profile.json.gz\n",
      "2023-03-05 16:27:21.477551: I tensorflow/core/profiler/rpc/client/capture_profile.cc:251] Creating directory: /mnt/sda1/image-results-iris-correlated/results/tb_logs/train/plugins/profile/2023_03_05_16_27_21Dumped tool data for xplane.pb to /mnt/sda1/image-results-iris-correlated/results/tb_logs/train/plugins/profile/2023_03_05_16_27_21/drake-pc.xplane.pb\n",
      "Dumped tool data for overview_page.pb to /mnt/sda1/image-results-iris-correlated/results/tb_logs/train/plugins/profile/2023_03_05_16_27_21/drake-pc.overview_page.pb\n",
      "Dumped tool data for input_pipeline.pb to /mnt/sda1/image-results-iris-correlated/results/tb_logs/train/plugins/profile/2023_03_05_16_27_21/drake-pc.input_pipeline.pb\n",
      "Dumped tool data for tensorflow_stats.pb to /mnt/sda1/image-results-iris-correlated/results/tb_logs/train/plugins/profile/2023_03_05_16_27_21/drake-pc.tensorflow_stats.pb\n",
      "Dumped tool data for kernel_stats.pb to /mnt/sda1/image-results-iris-correlated/results/tb_logs/train/plugins/profile/2023_03_05_16_27_21/drake-pc.kernel_stats.pb\n",
      "\n"
     ]
    },
    {
     "name": "stdout",
     "output_type": "stream",
     "text": [
      "4/4 [==============================] - 6s 611ms/step - loss: 1.4702 - acc: 0.3448 - f1_m: 0.3101 - precision_m: 0.3797 - recall_m: 0.2622 - auc_3: 0.5208 - false_negatives_3: 60.0000 - false_positives_3: 34.0000 - true_negatives_3: 135.6000 - true_positives_3: 24.8000 - mean_absolute_error: 0.4323 - mean_squared_error: 0.2676 - val_loss: 63.8125 - val_acc: 0.3333 - val_f1_m: 0.3333 - val_precision_m: 0.3333 - val_recall_m: 0.3333 - val_auc_3: 0.5000 - val_false_negatives_3: 20.0000 - val_false_positives_3: 20.0000 - val_true_negatives_3: 40.0000 - val_true_positives_3: 10.0000 - val_mean_absolute_error: 0.4444 - val_mean_squared_error: 0.4444\n",
      "\n",
      "Epoch 00001: val_acc improved from -inf to 0.33333, saving model to /mnt/sda1/image-results-iris-correlated/results/fold3-resnet50v2-saved-model-01-val_acc-0.33.hdf5\n",
      "Epoch 2/100\n",
      "3/4 [=====================>........] - ETA: 0s - loss: 1.1401 - acc: 0.7610 - f1_m: 0.7576 - precision_m: 0.8337 - recall_m: 0.6956 - auc_3: 0.8970 - false_negatives_3: 16.0000 - false_positives_3: 7.0000 - true_negatives_3: 105.0000 - true_positives_3: 40.0000 - mean_absolute_error: 0.2223 - mean_squared_error: 0.1132WARNING:tensorflow:Callback method `on_train_batch_end` is slow compared to the batch time (batch time: 0.0502s vs `on_train_batch_end` time: 0.0969s). Check your callbacks.\n",
      "4/4 [==============================] - 0s 70ms/step - loss: 0.9597 - acc: 0.7799 - f1_m: 0.7601 - precision_m: 0.8480 - recall_m: 0.6934 - auc_3: 0.9123 - false_negatives_3: 24.4000 - false_positives_3: 9.0000 - true_negatives_3: 154.2000 - true_positives_3: 57.2000 - mean_absolute_error: 0.2137 - mean_squared_error: 0.1062 - val_loss: 57.1042 - val_acc: 0.5000 - val_f1_m: 0.5000 - val_precision_m: 0.5000 - val_recall_m: 0.5000 - val_auc_3: 0.6250 - val_false_negatives_3: 15.0000 - val_false_positives_3: 15.0000 - val_true_negatives_3: 45.0000 - val_true_positives_3: 15.0000 - val_mean_absolute_error: 0.3333 - val_mean_squared_error: 0.3333\n",
      "\n",
      "Epoch 00002: val_acc improved from 0.33333 to 0.50000, saving model to /mnt/sda1/image-results-iris-correlated/results/fold3-resnet50v2-saved-model-02-val_acc-0.50.hdf5\n",
      "Epoch 3/100\n",
      "4/4 [==============================] - 0s 81ms/step - loss: 0.3826 - acc: 0.8323 - f1_m: 0.8126 - precision_m: 0.8468 - recall_m: 0.7812 - auc_3: 0.9583 - false_negatives_3: 17.4000 - false_positives_3: 11.0000 - true_negatives_3: 152.2000 - true_positives_3: 64.2000 - mean_absolute_error: 0.1551 - mean_squared_error: 0.0782 - val_loss: 42.3008 - val_acc: 0.5333 - val_f1_m: 0.5333 - val_precision_m: 0.5333 - val_recall_m: 0.5333 - val_auc_3: 0.6500 - val_false_negatives_3: 14.0000 - val_false_positives_3: 14.0000 - val_true_negatives_3: 46.0000 - val_true_positives_3: 16.0000 - val_mean_absolute_error: 0.3111 - val_mean_squared_error: 0.3111\n",
      "\n",
      "Epoch 00003: val_acc improved from 0.50000 to 0.53333, saving model to /mnt/sda1/image-results-iris-correlated/results/fold3-resnet50v2-saved-model-03-val_acc-0.53.hdf5\n",
      "Epoch 4/100\n",
      "4/4 [==============================] - 0s 71ms/step - loss: 0.1803 - acc: 0.9110 - f1_m: 0.9116 - precision_m: 0.9147 - recall_m: 0.9087 - auc_3: 0.9893 - false_negatives_3: 8.6000 - false_positives_3: 8.0000 - true_negatives_3: 161.6000 - true_positives_3: 76.2000 - mean_absolute_error: 0.0791 - mean_squared_error: 0.0365 - val_loss: 20.4903 - val_acc: 0.5333 - val_f1_m: 0.5333 - val_precision_m: 0.5333 - val_recall_m: 0.5333 - val_auc_3: 0.6844 - val_false_negatives_3: 14.0000 - val_false_positives_3: 14.0000 - val_true_negatives_3: 46.0000 - val_true_positives_3: 16.0000 - val_mean_absolute_error: 0.3107 - val_mean_squared_error: 0.3103\n",
      "\n",
      "Epoch 00004: val_acc did not improve from 0.53333\n",
      "Epoch 5/100\n",
      "4/4 [==============================] - 0s 70ms/step - loss: 0.1332 - acc: 0.9579 - f1_m: 0.9525 - precision_m: 0.9595 - recall_m: 0.9458 - auc_3: 0.9954 - false_negatives_3: 4.2000 - false_positives_3: 3.2000 - true_negatives_3: 163.2000 - true_positives_3: 79.0000 - mean_absolute_error: 0.0635 - mean_squared_error: 0.0260 - val_loss: 11.0334 - val_acc: 0.5333 - val_f1_m: 0.5333 - val_precision_m: 0.5333 - val_recall_m: 0.5333 - val_auc_3: 0.6389 - val_false_negatives_3: 14.0000 - val_false_positives_3: 14.0000 - val_true_negatives_3: 46.0000 - val_true_positives_3: 16.0000 - val_mean_absolute_error: 0.3075 - val_mean_squared_error: 0.2863\n",
      "\n",
      "Epoch 00005: val_acc did not improve from 0.53333\n",
      "Epoch 6/100\n",
      "4/4 [==============================] - 0s 67ms/step - loss: 0.0575 - acc: 0.9765 - f1_m: 0.9760 - precision_m: 0.9760 - recall_m: 0.9760 - auc_3: 0.9991 - false_negatives_3: 2.0000 - false_positives_3: 2.0000 - true_negatives_3: 170.8000 - true_positives_3: 84.4000 - mean_absolute_error: 0.0258 - mean_squared_error: 0.0113 - val_loss: 7.3912 - val_acc: 0.4333 - val_f1_m: 0.4333 - val_precision_m: 0.4333 - val_recall_m: 0.4333 - val_auc_3: 0.5792 - val_false_negatives_3: 17.0000 - val_false_positives_3: 17.0000 - val_true_negatives_3: 43.0000 - val_true_positives_3: 13.0000 - val_mean_absolute_error: 0.3875 - val_mean_squared_error: 0.3574\n",
      "\n",
      "Epoch 00006: val_acc did not improve from 0.53333\n",
      "Epoch 7/100\n",
      "4/4 [==============================] - 0s 70ms/step - loss: 0.0471 - acc: 0.9877 - f1_m: 0.9869 - precision_m: 0.9883 - recall_m: 0.9854 - auc_3: 0.9995 - false_negatives_3: 1.8000 - false_positives_3: 1.4000 - true_negatives_3: 161.8000 - true_positives_3: 79.8000 - mean_absolute_error: 0.0196 - mean_squared_error: 0.0084 - val_loss: 6.2372 - val_acc: 0.4000 - val_f1_m: 0.4000 - val_precision_m: 0.4000 - val_recall_m: 0.4000 - val_auc_3: 0.5817 - val_false_negatives_3: 18.0000 - val_false_positives_3: 18.0000 - val_true_negatives_3: 42.0000 - val_true_positives_3: 12.0000 - val_mean_absolute_error: 0.4083 - val_mean_squared_error: 0.3974\n",
      "\n",
      "Epoch 00007: val_acc did not improve from 0.53333\n",
      "Epoch 8/100\n",
      "4/4 [==============================] - 0s 70ms/step - loss: 0.0369 - acc: 0.9794 - f1_m: 0.9785 - precision_m: 0.9785 - recall_m: 0.9785 - auc_3: 0.9997 - false_negatives_3: 1.6000 - false_positives_3: 1.6000 - true_negatives_3: 168.0000 - true_positives_3: 83.2000 - mean_absolute_error: 0.0149 - mean_squared_error: 0.0079 - val_loss: 5.2070 - val_acc: 0.3667 - val_f1_m: 0.3667 - val_precision_m: 0.3667 - val_recall_m: 0.3667 - val_auc_3: 0.5817 - val_false_negatives_3: 19.0000 - val_false_positives_3: 19.0000 - val_true_negatives_3: 41.0000 - val_true_positives_3: 11.0000 - val_mean_absolute_error: 0.4103 - val_mean_squared_error: 0.3972\n",
      "\n",
      "Epoch 00008: val_acc did not improve from 0.53333\n",
      "Epoch 9/100\n",
      "4/4 [==============================] - 0s 72ms/step - loss: 0.0139 - acc: 1.0000 - f1_m: 1.0000 - precision_m: 1.0000 - recall_m: 1.0000 - auc_3: 1.0000 - false_negatives_3: 0.0000e+00 - false_positives_3: 0.0000e+00 - true_negatives_3: 163.2000 - true_positives_3: 81.6000 - mean_absolute_error: 0.0085 - mean_squared_error: 0.0013 - val_loss: 3.3670 - val_acc: 0.4667 - val_f1_m: 0.4667 - val_precision_m: 0.4667 - val_recall_m: 0.4667 - val_auc_3: 0.6736 - val_false_negatives_3: 16.0000 - val_false_positives_3: 16.0000 - val_true_negatives_3: 44.0000 - val_true_positives_3: 14.0000 - val_mean_absolute_error: 0.3624 - val_mean_squared_error: 0.3364\n",
      "\n",
      "Epoch 00009: val_acc did not improve from 0.53333\n",
      "Epoch 10/100\n",
      "4/4 [==============================] - 0s 69ms/step - loss: 0.0194 - acc: 0.9913 - f1_m: 0.9917 - precision_m: 0.9917 - recall_m: 0.9917 - auc_3: 0.9999 - false_negatives_3: 0.8000 - false_positives_3: 0.8000 - true_negatives_3: 168.8000 - true_positives_3: 84.0000 - mean_absolute_error: 0.0105 - mean_squared_error: 0.0030 - val_loss: 1.8486 - val_acc: 0.6000 - val_f1_m: 0.6000 - val_precision_m: 0.6000 - val_recall_m: 0.6000 - val_auc_3: 0.7883 - val_false_negatives_3: 12.0000 - val_false_positives_3: 12.0000 - val_true_negatives_3: 48.0000 - val_true_positives_3: 18.0000 - val_mean_absolute_error: 0.2635 - val_mean_squared_error: 0.2276\n",
      "\n",
      "Epoch 00010: val_acc improved from 0.53333 to 0.60000, saving model to /mnt/sda1/image-results-iris-correlated/results/fold3-resnet50v2-saved-model-10-val_acc-0.60.hdf5\n",
      "Epoch 11/100\n",
      "4/4 [==============================] - 0s 69ms/step - loss: 0.0107 - acc: 1.0000 - f1_m: 1.0000 - precision_m: 1.0000 - recall_m: 1.0000 - auc_3: 1.0000 - false_negatives_3: 0.0000e+00 - false_positives_3: 0.0000e+00 - true_negatives_3: 172.8000 - true_positives_3: 86.4000 - mean_absolute_error: 0.0068 - mean_squared_error: 5.1673e-04 - val_loss: 1.2150 - val_acc: 0.7333 - val_f1_m: 0.7333 - val_precision_m: 0.7333 - val_recall_m: 0.7333 - val_auc_3: 0.8661 - val_false_negatives_3: 8.0000 - val_false_positives_3: 8.0000 - val_true_negatives_3: 52.0000 - val_true_positives_3: 22.0000 - val_mean_absolute_error: 0.2086 - val_mean_squared_error: 0.1780\n",
      "\n",
      "Epoch 00011: val_acc improved from 0.60000 to 0.73333, saving model to /mnt/sda1/image-results-iris-correlated/results/fold3-resnet50v2-saved-model-11-val_acc-0.73.hdf5\n",
      "Epoch 12/100\n",
      "4/4 [==============================] - 0s 71ms/step - loss: 0.0362 - acc: 0.9815 - f1_m: 0.9792 - precision_m: 0.9792 - recall_m: 0.9792 - auc_3: 0.9970 - false_negatives_3: 2.0000 - false_positives_3: 2.0000 - true_negatives_3: 170.8000 - true_positives_3: 84.4000 - mean_absolute_error: 0.0103 - mean_squared_error: 0.0054 - val_loss: 1.0550 - val_acc: 0.7000 - val_f1_m: 0.7000 - val_precision_m: 0.7000 - val_recall_m: 0.7000 - val_auc_3: 0.8847 - val_false_negatives_3: 9.0000 - val_false_positives_3: 9.0000 - val_true_negatives_3: 51.0000 - val_true_positives_3: 21.0000 - val_mean_absolute_error: 0.2022 - val_mean_squared_error: 0.1766\n",
      "\n",
      "Epoch 00012: val_acc did not improve from 0.73333\n",
      "Epoch 13/100\n",
      "4/4 [==============================] - 0s 71ms/step - loss: 0.0288 - acc: 0.9944 - f1_m: 0.9931 - precision_m: 0.9931 - recall_m: 0.9931 - auc_3: 0.9996 - false_negatives_3: 0.6000 - false_positives_3: 0.6000 - true_negatives_3: 169.0000 - true_positives_3: 84.2000 - mean_absolute_error: 0.0106 - mean_squared_error: 0.0044 - val_loss: 1.0135 - val_acc: 0.7333 - val_f1_m: 0.7333 - val_precision_m: 0.7333 - val_recall_m: 0.7333 - val_auc_3: 0.8817 - val_false_negatives_3: 8.0000 - val_false_positives_3: 8.0000 - val_true_negatives_3: 52.0000 - val_true_positives_3: 22.0000 - val_mean_absolute_error: 0.1955 - val_mean_squared_error: 0.1672\n",
      "\n",
      "Epoch 00013: val_acc did not improve from 0.73333\n",
      "Epoch 14/100\n",
      "4/4 [==============================] - 0s 73ms/step - loss: 0.0665 - acc: 0.9852 - f1_m: 0.9765 - precision_m: 0.9865 - recall_m: 0.9670 - auc_3: 0.9991 - false_negatives_3: 2.4000 - false_positives_3: 1.4000 - true_negatives_3: 161.8000 - true_positives_3: 79.2000 - mean_absolute_error: 0.0253 - mean_squared_error: 0.0118 - val_loss: 0.8412 - val_acc: 0.7000 - val_f1_m: 0.6780 - val_precision_m: 0.6897 - val_recall_m: 0.6667 - val_auc_3: 0.9181 - val_false_negatives_3: 10.0000 - val_false_positives_3: 9.0000 - val_true_negatives_3: 51.0000 - val_true_positives_3: 20.0000 - val_mean_absolute_error: 0.1961 - val_mean_squared_error: 0.1622\n",
      "\n",
      "Epoch 00014: val_acc did not improve from 0.73333\n",
      "Epoch 15/100\n",
      "4/4 [==============================] - 0s 72ms/step - loss: 0.0333 - acc: 0.9769 - f1_m: 0.9753 - precision_m: 0.9753 - recall_m: 0.9753 - auc_3: 0.9996 - false_negatives_3: 1.6000 - false_positives_3: 1.6000 - true_negatives_3: 161.6000 - true_positives_3: 80.0000 - mean_absolute_error: 0.0157 - mean_squared_error: 0.0067 - val_loss: 0.9424 - val_acc: 0.7000 - val_f1_m: 0.7000 - val_precision_m: 0.7000 - val_recall_m: 0.7000 - val_auc_3: 0.9103 - val_false_negatives_3: 9.0000 - val_false_positives_3: 9.0000 - val_true_negatives_3: 51.0000 - val_true_positives_3: 21.0000 - val_mean_absolute_error: 0.2034 - val_mean_squared_error: 0.1706\n",
      "\n",
      "Epoch 00015: val_acc did not improve from 0.73333\n",
      "Epoch 16/100\n",
      "4/4 [==============================] - 0s 71ms/step - loss: 0.0140 - acc: 1.0000 - f1_m: 1.0000 - precision_m: 1.0000 - recall_m: 1.0000 - auc_3: 1.0000 - false_negatives_3: 0.0000e+00 - false_positives_3: 0.0000e+00 - true_negatives_3: 163.2000 - true_positives_3: 81.6000 - mean_absolute_error: 0.0078 - mean_squared_error: 0.0019 - val_loss: 0.8601 - val_acc: 0.7000 - val_f1_m: 0.7000 - val_precision_m: 0.7000 - val_recall_m: 0.7000 - val_auc_3: 0.9131 - val_false_negatives_3: 9.0000 - val_false_positives_3: 9.0000 - val_true_negatives_3: 51.0000 - val_true_positives_3: 21.0000 - val_mean_absolute_error: 0.1986 - val_mean_squared_error: 0.1636\n",
      "\n",
      "Epoch 00016: val_acc did not improve from 0.73333\n",
      "Fold:  4\n",
      "Found 120 images belonging to 3 classes.\n",
      "Found 30 images belonging to 3 classes.\n"
     ]
    },
    {
     "name": "stderr",
     "output_type": "stream",
     "text": [
      "2023-03-05 16:27:30.383768: I tensorflow/core/profiler/lib/profiler_session.cc:136] Profiler session initializing.\n",
      "2023-03-05 16:27:30.383796: I tensorflow/core/profiler/lib/profiler_session.cc:155] Profiler session started.\n",
      "2023-03-05 16:27:30.383911: I tensorflow/core/profiler/lib/profiler_session.cc:172] Profiler session tear down.\n",
      "2023-03-05 16:27:30.383960: I tensorflow/core/profiler/internal/gpu/cupti_tracer.cc:1487] CUPTI activity buffer flushed\n"
     ]
    },
    {
     "name": "stdout",
     "output_type": "stream",
     "text": [
      "Epoch 1/100\n",
      "2/4 [==============>...............] - ETA: 0s - loss: 1.5973 - acc: 0.2902 - f1_m: 0.1905 - precision_m: 0.2323 - recall_m: 0.1615 - auc_4: 0.4742 - false_negatives_4: 37.0000 - false_positives_4: 24.0000 - true_negatives_4: 64.0000 - true_positives_4: 7.0000 - mean_absolute_error: 0.4541 - mean_squared_error: 0.2863 "
     ]
    },
    {
     "name": "stderr",
     "output_type": "stream",
     "text": [
      "2023-03-05 16:27:34.425196: I tensorflow/core/profiler/lib/profiler_session.cc:136] Profiler session initializing.\n",
      "2023-03-05 16:27:34.425221: I tensorflow/core/profiler/lib/profiler_session.cc:155] Profiler session started.\n"
     ]
    },
    {
     "name": "stdout",
     "output_type": "stream",
     "text": [
      "4/4 [==============================] - ETA: 0s - loss: 1.5021 - acc: 0.3226 - f1_m: 0.2342 - precision_m: 0.2769 - recall_m: 0.2036 - auc_4: 0.5212 - false_negatives_4: 56.7500 - false_positives_4: 37.2500 - true_negatives_4: 110.7500 - true_positives_4: 17.2500 - mean_absolute_error: 0.4347 - mean_squared_error: 0.2742"
     ]
    },
    {
     "name": "stderr",
     "output_type": "stream",
     "text": [
      "2023-03-05 16:27:34.823460: I tensorflow/core/profiler/lib/profiler_session.cc:71] Profiler session collecting data.\n",
      "2023-03-05 16:27:34.825877: I tensorflow/core/profiler/internal/gpu/cupti_tracer.cc:1487] CUPTI activity buffer flushed\n",
      "2023-03-05 16:27:34.842675: I tensorflow/core/profiler/internal/gpu/cupti_collector.cc:228]  GpuTracer has collected 1734 callback api events and 1682 activity events. \n",
      "2023-03-05 16:27:34.892216: I tensorflow/core/profiler/lib/profiler_session.cc:172] Profiler session tear down.\n",
      "2023-03-05 16:27:34.921510: I tensorflow/core/profiler/rpc/client/save_profile.cc:137] Creating directory: /mnt/sda1/image-results-iris-correlated/results/tb_logs/train/plugins/profile/2023_03_05_16_27_34\n",
      "2023-03-05 16:27:34.944367: I tensorflow/core/profiler/rpc/client/save_profile.cc:143] Dumped gzipped tool data for trace.json.gz to /mnt/sda1/image-results-iris-correlated/results/tb_logs/train/plugins/profile/2023_03_05_16_27_34/drake-pc.trace.json.gz\n",
      "2023-03-05 16:27:35.002565: I tensorflow/core/profiler/rpc/client/save_profile.cc:137] Creating directory: /mnt/sda1/image-results-iris-correlated/results/tb_logs/train/plugins/profile/2023_03_05_16_27_34\n",
      "2023-03-05 16:27:35.007734: I tensorflow/core/profiler/rpc/client/save_profile.cc:143] Dumped gzipped tool data for memory_profile.json.gz to /mnt/sda1/image-results-iris-correlated/results/tb_logs/train/plugins/profile/2023_03_05_16_27_34/drake-pc.memory_profile.json.gz\n",
      "2023-03-05 16:27:35.010300: I tensorflow/core/profiler/rpc/client/capture_profile.cc:251] Creating directory: /mnt/sda1/image-results-iris-correlated/results/tb_logs/train/plugins/profile/2023_03_05_16_27_34Dumped tool data for xplane.pb to /mnt/sda1/image-results-iris-correlated/results/tb_logs/train/plugins/profile/2023_03_05_16_27_34/drake-pc.xplane.pb\n",
      "Dumped tool data for overview_page.pb to /mnt/sda1/image-results-iris-correlated/results/tb_logs/train/plugins/profile/2023_03_05_16_27_34/drake-pc.overview_page.pb\n",
      "Dumped tool data for input_pipeline.pb to /mnt/sda1/image-results-iris-correlated/results/tb_logs/train/plugins/profile/2023_03_05_16_27_34/drake-pc.input_pipeline.pb\n",
      "Dumped tool data for tensorflow_stats.pb to /mnt/sda1/image-results-iris-correlated/results/tb_logs/train/plugins/profile/2023_03_05_16_27_34/drake-pc.tensorflow_stats.pb\n",
      "Dumped tool data for kernel_stats.pb to /mnt/sda1/image-results-iris-correlated/results/tb_logs/train/plugins/profile/2023_03_05_16_27_34/drake-pc.kernel_stats.pb\n",
      "\n"
     ]
    },
    {
     "name": "stdout",
     "output_type": "stream",
     "text": [
      "4/4 [==============================] - 6s 611ms/step - loss: 1.4694 - acc: 0.3364 - f1_m: 0.2512 - precision_m: 0.2940 - recall_m: 0.2201 - auc_4: 0.5395 - false_negatives_4: 62.2000 - false_positives_4: 41.0000 - true_negatives_4: 125.4000 - true_positives_4: 21.0000 - mean_absolute_error: 0.4267 - mean_squared_error: 0.2690 - val_loss: 19.9563 - val_acc: 0.3333 - val_f1_m: 0.3333 - val_precision_m: 0.3333 - val_recall_m: 0.3333 - val_auc_4: 0.4889 - val_false_negatives_4: 20.0000 - val_false_positives_4: 20.0000 - val_true_negatives_4: 40.0000 - val_true_positives_4: 10.0000 - val_mean_absolute_error: 0.4447 - val_mean_squared_error: 0.4444\n",
      "\n",
      "Epoch 00001: val_acc improved from -inf to 0.33333, saving model to /mnt/sda1/image-results-iris-correlated/results/fold4-resnet50v2-saved-model-01-val_acc-0.33.hdf5\n",
      "Epoch 2/100\n",
      "3/4 [=====================>........] - ETA: 0s - loss: 0.6305 - acc: 0.8073 - f1_m: 0.7994 - precision_m: 0.8109 - recall_m: 0.7882 - auc_4: 0.9189 - false_negatives_4: 14.0000 - false_positives_4: 12.3333 - true_negatives_4: 115.6667 - true_positives_4: 50.0000 - mean_absolute_error: 0.1762 - mean_squared_error: 0.1029WARNING:tensorflow:Callback method `on_train_batch_end` is slow compared to the batch time (batch time: 0.0508s vs `on_train_batch_end` time: 0.0973s). Check your callbacks.\n",
      "4/4 [==============================] - 0s 70ms/step - loss: 0.6661 - acc: 0.8010 - f1_m: 0.7967 - precision_m: 0.8062 - recall_m: 0.7875 - auc_4: 0.9162 - false_negatives_4: 18.8000 - false_positives_4: 17.0000 - true_negatives_4: 155.8000 - true_positives_4: 67.6000 - mean_absolute_error: 0.1754 - mean_squared_error: 0.1059 - val_loss: 16.4622 - val_acc: 0.3333 - val_f1_m: 0.3333 - val_precision_m: 0.3333 - val_recall_m: 0.3333 - val_auc_4: 0.4222 - val_false_negatives_4: 20.0000 - val_false_positives_4: 20.0000 - val_true_negatives_4: 40.0000 - val_true_positives_4: 10.0000 - val_mean_absolute_error: 0.4499 - val_mean_squared_error: 0.4447\n",
      "\n",
      "Epoch 00002: val_acc did not improve from 0.33333\n",
      "Epoch 3/100\n",
      "4/4 [==============================] - 0s 70ms/step - loss: 0.3502 - acc: 0.8960 - f1_m: 0.8910 - precision_m: 0.8910 - recall_m: 0.8910 - auc_4: 0.9769 - false_negatives_4: 7.4000 - false_positives_4: 7.4000 - true_negatives_4: 155.8000 - true_positives_4: 74.2000 - mean_absolute_error: 0.0715 - mean_squared_error: 0.0498 - val_loss: 6.6185 - val_acc: 0.2333 - val_f1_m: 0.2333 - val_precision_m: 0.2333 - val_recall_m: 0.2333 - val_auc_4: 0.4172 - val_false_negatives_4: 23.0000 - val_false_positives_4: 23.0000 - val_true_negatives_4: 37.0000 - val_true_positives_4: 7.0000 - val_mean_absolute_error: 0.5135 - val_mean_squared_error: 0.4681\n",
      "\n",
      "Epoch 00003: val_acc did not improve from 0.33333\n",
      "Epoch 4/100\n",
      "4/4 [==============================] - 0s 69ms/step - loss: 0.2915 - acc: 0.8931 - f1_m: 0.8908 - precision_m: 0.8931 - recall_m: 0.8885 - auc_4: 0.9785 - false_negatives_4: 10.0000 - false_positives_4: 9.4000 - true_negatives_4: 163.4000 - true_positives_4: 76.4000 - mean_absolute_error: 0.0792 - mean_squared_error: 0.0519 - val_loss: 4.2115 - val_acc: 0.2000 - val_f1_m: 0.2000 - val_precision_m: 0.2000 - val_recall_m: 0.2000 - val_auc_4: 0.4650 - val_false_negatives_4: 24.0000 - val_false_positives_4: 24.0000 - val_true_negatives_4: 36.0000 - val_true_positives_4: 6.0000 - val_mean_absolute_error: 0.5023 - val_mean_squared_error: 0.4359\n",
      "\n",
      "Epoch 00004: val_acc did not improve from 0.33333\n",
      "Epoch 5/100\n",
      "4/4 [==============================] - 0s 72ms/step - loss: 0.1222 - acc: 0.9729 - f1_m: 0.9733 - precision_m: 0.9748 - recall_m: 0.9719 - auc_4: 0.9954 - false_negatives_4: 3.2000 - false_positives_4: 2.8000 - true_negatives_4: 160.4000 - true_positives_4: 78.4000 - mean_absolute_error: 0.0505 - mean_squared_error: 0.0187 - val_loss: 5.6012 - val_acc: 0.2000 - val_f1_m: 0.2000 - val_precision_m: 0.2000 - val_recall_m: 0.2000 - val_auc_4: 0.3975 - val_false_negatives_4: 24.0000 - val_false_positives_4: 24.0000 - val_true_negatives_4: 36.0000 - val_true_positives_4: 6.0000 - val_mean_absolute_error: 0.5208 - val_mean_squared_error: 0.4723\n",
      "\n",
      "Epoch 00005: val_acc did not improve from 0.33333\n",
      "Epoch 6/100\n",
      "4/4 [==============================] - 0s 70ms/step - loss: 0.1256 - acc: 0.9477 - f1_m: 0.9455 - precision_m: 0.9481 - recall_m: 0.9431 - auc_4: 0.9967 - false_negatives_4: 4.8000 - false_positives_4: 4.2000 - true_negatives_4: 162.2000 - true_positives_4: 78.4000 - mean_absolute_error: 0.0400 - mean_squared_error: 0.0268 - val_loss: 3.5830 - val_acc: 0.3000 - val_f1_m: 0.3000 - val_precision_m: 0.3000 - val_recall_m: 0.3000 - val_auc_4: 0.4500 - val_false_negatives_4: 21.0000 - val_false_positives_4: 21.0000 - val_true_negatives_4: 39.0000 - val_true_positives_4: 9.0000 - val_mean_absolute_error: 0.4874 - val_mean_squared_error: 0.4331\n",
      "\n",
      "Epoch 00006: val_acc did not improve from 0.33333\n",
      "Epoch 7/100\n",
      "4/4 [==============================] - 0s 72ms/step - loss: 0.1529 - acc: 0.9333 - f1_m: 0.9319 - precision_m: 0.9319 - recall_m: 0.9319 - auc_4: 0.9951 - false_negatives_4: 5.2000 - false_positives_4: 5.2000 - true_negatives_4: 158.0000 - true_positives_4: 76.4000 - mean_absolute_error: 0.0474 - mean_squared_error: 0.0336 - val_loss: 7.1168 - val_acc: 0.2333 - val_f1_m: 0.2333 - val_precision_m: 0.2333 - val_recall_m: 0.2333 - val_auc_4: 0.4069 - val_false_negatives_4: 23.0000 - val_false_positives_4: 23.0000 - val_true_negatives_4: 37.0000 - val_true_positives_4: 7.0000 - val_mean_absolute_error: 0.5138 - val_mean_squared_error: 0.4901\n",
      "\n",
      "Epoch 00007: val_acc did not improve from 0.33333\n",
      "Epoch 8/100\n",
      "4/4 [==============================] - 0s 71ms/step - loss: 0.0968 - acc: 0.9575 - f1_m: 0.9591 - precision_m: 0.9607 - recall_m: 0.9576 - auc_4: 0.9972 - false_negatives_4: 3.4000 - false_positives_4: 3.0000 - true_negatives_4: 160.2000 - true_positives_4: 78.2000 - mean_absolute_error: 0.0362 - mean_squared_error: 0.0204 - val_loss: 5.3625 - val_acc: 0.3667 - val_f1_m: 0.3667 - val_precision_m: 0.3667 - val_recall_m: 0.3667 - val_auc_4: 0.4819 - val_false_negatives_4: 19.0000 - val_false_positives_4: 19.0000 - val_true_negatives_4: 41.0000 - val_true_positives_4: 11.0000 - val_mean_absolute_error: 0.4374 - val_mean_squared_error: 0.3916\n",
      "\n",
      "Epoch 00008: val_acc improved from 0.33333 to 0.36667, saving model to /mnt/sda1/image-results-iris-correlated/results/fold4-resnet50v2-saved-model-08-val_acc-0.37.hdf5\n",
      "Epoch 9/100\n",
      "4/4 [==============================] - 0s 70ms/step - loss: 0.0417 - acc: 0.9827 - f1_m: 0.9823 - precision_m: 0.9823 - recall_m: 0.9823 - auc_4: 0.9995 - false_negatives_4: 1.8000 - false_positives_4: 1.8000 - true_negatives_4: 171.0000 - true_positives_4: 84.6000 - mean_absolute_error: 0.0170 - mean_squared_error: 0.0074 - val_loss: 4.1365 - val_acc: 0.4667 - val_f1_m: 0.4407 - val_precision_m: 0.4483 - val_recall_m: 0.4333 - val_auc_4: 0.5978 - val_false_negatives_4: 17.0000 - val_false_positives_4: 16.0000 - val_true_negatives_4: 44.0000 - val_true_positives_4: 13.0000 - val_mean_absolute_error: 0.3707 - val_mean_squared_error: 0.3161\n",
      "\n",
      "Epoch 00009: val_acc improved from 0.36667 to 0.46667, saving model to /mnt/sda1/image-results-iris-correlated/results/fold4-resnet50v2-saved-model-09-val_acc-0.47.hdf5\n",
      "Epoch 10/100\n",
      "4/4 [==============================] - 0s 68ms/step - loss: 0.0433 - acc: 0.9798 - f1_m: 0.9802 - precision_m: 0.9802 - recall_m: 0.9802 - auc_4: 0.9997 - false_negatives_4: 1.6000 - false_positives_4: 1.6000 - true_negatives_4: 171.2000 - true_positives_4: 84.8000 - mean_absolute_error: 0.0177 - mean_squared_error: 0.0091 - val_loss: 4.3206 - val_acc: 0.5000 - val_f1_m: 0.4746 - val_precision_m: 0.4828 - val_recall_m: 0.4667 - val_auc_4: 0.6367 - val_false_negatives_4: 16.0000 - val_false_positives_4: 15.0000 - val_true_negatives_4: 45.0000 - val_true_positives_4: 14.0000 - val_mean_absolute_error: 0.3430 - val_mean_squared_error: 0.3012\n",
      "\n",
      "Epoch 00010: val_acc improved from 0.46667 to 0.50000, saving model to /mnt/sda1/image-results-iris-correlated/results/fold4-resnet50v2-saved-model-10-val_acc-0.50.hdf5\n",
      "Epoch 11/100\n",
      "4/4 [==============================] - 0s 71ms/step - loss: 0.0393 - acc: 0.9913 - f1_m: 0.9832 - precision_m: 0.9906 - recall_m: 0.9760 - auc_4: 0.9997 - false_negatives_4: 2.0000 - false_positives_4: 1.0000 - true_negatives_4: 171.8000 - true_positives_4: 84.4000 - mean_absolute_error: 0.0176 - mean_squared_error: 0.0074 - val_loss: 3.6885 - val_acc: 0.4667 - val_f1_m: 0.4667 - val_precision_m: 0.4667 - val_recall_m: 0.4667 - val_auc_4: 0.6800 - val_false_negatives_4: 16.0000 - val_false_positives_4: 16.0000 - val_true_negatives_4: 44.0000 - val_true_positives_4: 14.0000 - val_mean_absolute_error: 0.3506 - val_mean_squared_error: 0.3154\n",
      "\n",
      "Epoch 00011: val_acc did not improve from 0.50000\n",
      "Epoch 12/100\n",
      "4/4 [==============================] - 0s 70ms/step - loss: 0.0739 - acc: 0.9816 - f1_m: 0.9778 - precision_m: 0.9778 - recall_m: 0.9778 - auc_4: 0.9986 - false_negatives_4: 1.6000 - false_positives_4: 1.6000 - true_negatives_4: 164.8000 - true_positives_4: 81.6000 - mean_absolute_error: 0.0235 - mean_squared_error: 0.0137 - val_loss: 3.6401 - val_acc: 0.4333 - val_f1_m: 0.4068 - val_precision_m: 0.4138 - val_recall_m: 0.4000 - val_auc_4: 0.6950 - val_false_negatives_4: 18.0000 - val_false_positives_4: 17.0000 - val_true_negatives_4: 43.0000 - val_true_positives_4: 12.0000 - val_mean_absolute_error: 0.3524 - val_mean_squared_error: 0.3157\n",
      "\n",
      "Epoch 00012: val_acc did not improve from 0.50000\n",
      "Epoch 13/100\n",
      "4/4 [==============================] - 0s 69ms/step - loss: 0.0782 - acc: 0.9704 - f1_m: 0.9708 - precision_m: 0.9708 - recall_m: 0.9708 - auc_4: 0.9985 - false_negatives_4: 2.0000 - false_positives_4: 2.0000 - true_negatives_4: 170.8000 - true_positives_4: 84.4000 - mean_absolute_error: 0.0191 - mean_squared_error: 0.0129 - val_loss: 3.4604 - val_acc: 0.4000 - val_f1_m: 0.4000 - val_precision_m: 0.4000 - val_recall_m: 0.4000 - val_auc_4: 0.6942 - val_false_negatives_4: 18.0000 - val_false_positives_4: 18.0000 - val_true_negatives_4: 42.0000 - val_true_positives_4: 12.0000 - val_mean_absolute_error: 0.3520 - val_mean_squared_error: 0.3115\n",
      "\n",
      "Epoch 00013: val_acc did not improve from 0.50000\n",
      "Epoch 14/100\n",
      "4/4 [==============================] - 0s 69ms/step - loss: 0.0620 - acc: 0.9600 - f1_m: 0.9572 - precision_m: 0.9621 - recall_m: 0.9524 - auc_4: 0.9986 - false_negatives_4: 3.6000 - false_positives_4: 2.8000 - true_negatives_4: 163.6000 - true_positives_4: 79.6000 - mean_absolute_error: 0.0274 - mean_squared_error: 0.0136 - val_loss: 3.2843 - val_acc: 0.4333 - val_f1_m: 0.4333 - val_precision_m: 0.4333 - val_recall_m: 0.4333 - val_auc_4: 0.6911 - val_false_negatives_4: 17.0000 - val_false_positives_4: 17.0000 - val_true_negatives_4: 43.0000 - val_true_positives_4: 13.0000 - val_mean_absolute_error: 0.3423 - val_mean_squared_error: 0.2959\n",
      "\n",
      "Epoch 00014: val_acc did not improve from 0.50000\n",
      "Epoch 15/100\n",
      "4/4 [==============================] - 0s 72ms/step - loss: 0.0656 - acc: 0.9650 - f1_m: 0.9611 - precision_m: 0.9611 - recall_m: 0.9611 - auc_4: 0.9987 - false_negatives_4: 2.0000 - false_positives_4: 2.0000 - true_negatives_4: 161.2000 - true_positives_4: 79.6000 - mean_absolute_error: 0.0251 - mean_squared_error: 0.0154 - val_loss: 2.9871 - val_acc: 0.5000 - val_f1_m: 0.5172 - val_precision_m: 0.5357 - val_recall_m: 0.5000 - val_auc_4: 0.7000 - val_false_negatives_4: 15.0000 - val_false_positives_4: 13.0000 - val_true_negatives_4: 47.0000 - val_true_positives_4: 15.0000 - val_mean_absolute_error: 0.3254 - val_mean_squared_error: 0.2756\n",
      "\n",
      "Epoch 00015: val_acc did not improve from 0.50000\n",
      "Best model results: val_acc: 0.7333333492279053, val_loss: 1.0165047645568848\n"
     ]
    }
   ],
   "source": [
    "average_history, best_model = train_resnet_model_k_fold(num_classes, img_size, f\"{new_dir}/Train/\", number_of_epochs, f\"{image_directory}/results/\", num_folds, batch_size)"
   ]
  },
  {
   "cell_type": "code",
   "execution_count": 6,
   "metadata": {},
   "outputs": [
    {
     "name": "stdout",
     "output_type": "stream",
     "text": [
      "Average metrics over k folds\n",
      "{'loss': 0.03793000616133213, 'acc': 0.9883333444595337, 'f1_m': 0.9856398582458497, 'precision_m': 0.9864079236984253, 'recall_m': 0.9848958253860474, 'auc': 0.9980381727218628, 'false_negatives': 4.0, 'false_positives': 3.0, 'true_negatives': 237.0, 'true_positives': 116.0, 'mean_absolute_error': 0.01530453898012638, 'mean_squared_error': 0.0068885367829352616, 'val_loss': 1.6642150044441224, 'val_acc': 0.6666666746139527, 'val_f1_m': 0.6701148867607116, 'val_precision_m': 0.6738095283508301, 'val_recall_m': 0.6666666746139527, 'val_auc': 0.894444465637207, 'val_false_negatives': 8.0, 'val_false_positives': 8.0, 'val_true_negatives': 52.0, 'val_true_positives': 22.0, 'val_mean_absolute_error': 0.21277974247932435, 'val_mean_squared_error': 0.1800244390964508, 'lr': 0.00420499989631935}\n"
     ]
    }
   ],
   "source": [
    "print(\"Average metrics over k folds\")\n",
    "print(average_history)"
   ]
  },
  {
   "cell_type": "code",
   "execution_count": 7,
   "metadata": {},
   "outputs": [
    {
     "name": "stdout",
     "output_type": "stream",
     "text": [
      "Best model metrics\n",
      "{'loss': 0.08498195558786392, 'acc': 0.9750000238418579, 'f1_m': 0.9698660373687744, 'precision_m': 0.9737063050270081, 'recall_m': 0.9661458134651184, 'auc': 0.9980381727218628, 'false_negatives': 4.0, 'false_positives': 3.0, 'true_negatives': 237.0, 'true_positives': 116.0, 'mean_absolute_error': 0.026043513789772987, 'mean_squared_error': 0.015617975033819675, 'val_loss': 1.0165047645568848, 'val_acc': 0.7333333492279053, 'val_f1_m': 0.7333332896232605, 'val_precision_m': 0.7333333492279053, 'val_recall_m': 0.7333333492279053, 'val_auc': 0.894444465637207, 'val_false_negatives': 8.0, 'val_false_positives': 8.0, 'val_true_negatives': 52.0, 'val_true_positives': 22.0, 'val_mean_absolute_error': 0.18251998722553253, 'val_mean_squared_error': 0.16033700108528137, 'lr': 0.00049999997}\n"
     ]
    }
   ],
   "source": [
    "print(\"Best model metrics\")\n",
    "print({key: best_model.history[key][-1] for key in best_model.history.keys()})"
   ]
  },
  {
   "cell_type": "code",
   "execution_count": 8,
   "metadata": {},
   "outputs": [
    {
     "data": {
      "image/png": "[encoded data removed]",
      "text/plain": [
       "<Figure size 1200x400 with 3 Axes>"
      ]
     },
     "metadata": {},
     "output_type": "display_data"
    }
   ],
   "source": [
    "plot_metrics(best_model.history)"
   ]
  },
  {
   "cell_type": "code",
   "execution_count": null,
   "metadata": {},
   "outputs": [],
   "source": []
  }
 ],
 "metadata": {
  "kernelspec": {
   "display_name": "keras_gpu",
   "language": "python",
   "name": "python3"
  },
  "language_info": {
   "codemirror_mode": {
    "name": "ipython",
    "version": 3
   },
   "file_extension": ".py",
   "mimetype": "text/x-python",
   "name": "python",
   "nbconvert_exporter": "python",
   "pygments_lexer": "ipython3",
   "version": "3.9.13"
  },
  "orig_nbformat": 4,
  "vscode": {
   "interpreter": {
    "hash": "01b43af51fd77f9f473dc8138d7466027ddf88d382b9cdd9bb3068aee8377522"
   }
  }
 },
 "nbformat": 4,
 "nbformat_minor": 2
}
